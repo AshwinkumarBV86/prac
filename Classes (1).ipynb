{
 "cells": [
  {
   "cell_type": "code",
   "execution_count": 1,
   "id": "3224e427",
   "metadata": {},
   "outputs": [],
   "source": [
    "class VehicleClass:\n",
    "    pass"
   ]
  },
  {
   "cell_type": "code",
   "execution_count": 4,
   "id": "75958986",
   "metadata": {},
   "outputs": [],
   "source": [
    "#a class called Person is created by using the keyword class\n",
    "class Person:\n",
    "    pass\n",
    "#create an instance called p of that class with the following snipper\n",
    "\n",
    "p = Person()"
   ]
  },
  {
   "cell_type": "code",
   "execution_count": 40,
   "id": "f5486ff6",
   "metadata": {},
   "outputs": [
    {
     "data": {
      "text/plain": [
       "'James Bond'"
      ]
     },
     "execution_count": 40,
     "metadata": {},
     "output_type": "execute_result"
    }
   ],
   "source": [
    "#a class called Person is created by using the keyword class\n",
    "class Person:\n",
    "    #within the class Person, we created a method called __init_- using the keyword def\n",
    "    #the init method takes 2 input variables, self and name\n",
    "    #a Constructor is a special method within a class called while creating an instance of an object using\n",
    "    #definitions found within the class\n",
    "    def __init__(self, name):\n",
    "        self.nameOfStudent = name\n",
    "p = Person('James Bond')\n",
    "p.nameOfStudent"
   ]
  },
  {
   "cell_type": "code",
   "execution_count": 14,
   "id": "418b5c9d",
   "metadata": {},
   "outputs": [
    {
     "name": "stdout",
     "output_type": "stream",
     "text": [
      "Ashwin kumar\n",
      "Galeukwa\n"
     ]
    }
   ],
   "source": [
    "class Person:\n",
    "    def __init__(self, fname, lname):\n",
    "        self.first_name = fname\n",
    "        self.last_name = lname\n",
    "person1 = Person(\"Ashwin kumar\", \"Bangalore Vyramudi\")\n",
    "person2 = Person(\"Galeukwa\", \"Mackenzie\")\n",
    "print(person1.first_name)\n",
    "print(person2.first_name)\n"
   ]
  },
  {
   "cell_type": "code",
   "execution_count": 35,
   "id": "f1bbc932",
   "metadata": {},
   "outputs": [
    {
     "name": "stdout",
     "output_type": "stream",
     "text": [
      "Lewis\n",
      "Montes\n"
     ]
    }
   ],
   "source": [
    "class Person:\n",
    "    def __init__(self, fname, lname): \n",
    "        self.first_name = fname \n",
    "        self.last_name = lname\n",
    "person_1 = Person(\"Lewis\", \"Montes\") \n",
    "print(person_1.first_name) \n",
    "print(person_1.last_name)\n"
   ]
  },
  {
   "cell_type": "code",
   "execution_count": 17,
   "id": "5c6ebd7c",
   "metadata": {},
   "outputs": [
    {
     "name": "stdout",
     "output_type": "stream",
     "text": [
      "Player's First Name is Sachin\n",
      "Player's Last Name is Tendulkar\n",
      "Player's gender is Male\n",
      "None\n",
      "HomoSapiens\n"
     ]
    }
   ],
   "source": [
    "#adding a method to our Person class\n",
    "class Person:\n",
    "    species = \"HomoSapiens\"\n",
    "    def __init__ (self, fname, lname, gender):\n",
    "        self.first_name = fname\n",
    "        self.last_name = lname\n",
    "        self.gender = gender\n",
    "    def display_info(self):\n",
    "        print(\"Player's First Name is \" +self.first_name)\n",
    "        print(\"Player's Last Name is \" +self.last_name)\n",
    "        print(\"Player's gender is \" +self.gender)\n",
    "\n",
    "person1 = Person(\"Sachin\", \"Tendulkar\",\"Male\")\n",
    "#print(person1.first_name)\n",
    "#print(person1.last_name)\n",
    "print(person1.display_info())\n",
    "print(person1.species)"
   ]
  },
  {
   "cell_type": "code",
   "execution_count": 67,
   "id": "7f8619f0",
   "metadata": {},
   "outputs": [
    {
     "name": "stdout",
     "output_type": "stream",
     "text": [
      "Customers customer id is 100030\n",
      "Customer's first name is Kumar\n",
      "Customer's last name is Ranganathan\n",
      "<class 'str'>\n"
     ]
    }
   ],
   "source": [
    "#using methods in our banking app\n",
    "class BankCustomer:\n",
    "    def __init__(self, c_id, fname, lname):\n",
    "        self.customer_id = c_id\n",
    "        self.first_name = fname\n",
    "        self.last_name = lname\n",
    "    def display_info(self):\n",
    "        print(\"Customers customer id is \" +self.customer_id)\n",
    "        print(\"Customer's first name is \" +self.first_name)\n",
    "        print(\"Customer's last name is \" + str(self.last_name))\n",
    "        print(type(self.last_name))\n",
    "customer1 = BankCustomer(\"100030\", \"Kumar\" , \"Ranganathan\")\n",
    "customer1.display_info()"
   ]
  },
  {
   "cell_type": "code",
   "execution_count": 99,
   "id": "0d868263",
   "metadata": {},
   "outputs": [
    {
     "name": "stdout",
     "output_type": "stream",
     "text": [
      "Customers account id is 8383883\n",
      "Customer's account name is Ashwin kumar\n",
      "Customer's account type is Savings\n",
      "Customers account id is 8383884\n",
      "Customer's account name is Deepak kumar\n",
      "Customer's account type is Current\n",
      "Customers account id is 8383885\n",
      "Customer's account name is Radha kumar\n",
      "Customer's account type is Personal Loan\n",
      "Customers account id is 8383886\n",
      "Customer's account name is Vyramudi Kumar\n",
      "Customer's account type is Car Loan\n",
      "Customers account id is 8383887\n",
      "Customer's account name is Kiran kumar\n",
      "Customer's account type is Home loan\n"
     ]
    }
   ],
   "source": [
    "class BankAccount:\n",
    "    actypes = \"checking\"\n",
    "    def __init__(self, a_id, name, type):\n",
    "        self.account_id = a_id\n",
    "        self.account_name = name\n",
    "        self.account_type = type\n",
    "    def display_info(self):\n",
    "        print(\"Customers account id is \" +self.account_id)\n",
    "        print(\"Customer's account name is \" +self.account_name)\n",
    "        print(\"Customer's account type is \" + str(self.account_type))\n",
    "        \n",
    "account1 = BankAccount(\"8383883\", \"Ashwin kumar\", \"Savings\" )\n",
    "account2 = BankAccount(\"8383884\", \"Deepak kumar\", \"Current\")\n",
    "account3 = BankAccount(\"8383885\", \"Radha kumar\", \"Personal Loan\")\n",
    "account4 = BankAccount(\"8383886\", \"Vyramudi Kumar\", \"Car Loan\")\n",
    "account5 = BankAccount(\"8383887\", \"Kiran kumar\", \"Home loan\")\n",
    "\n",
    "account1.display_info()\n",
    "account1.actypes\n",
    "account2.display_info()\n",
    "account3.display_info()\n",
    "account4.display_info()\n",
    "account5.display_info()"
   ]
  },
  {
   "cell_type": "code",
   "execution_count": 84,
   "id": "67a08bdc",
   "metadata": {},
   "outputs": [
    {
     "name": "stdout",
     "output_type": "stream",
     "text": [
      "Manager's name id is Shane Dray\n",
      "Manager's id is 01\n",
      "Manager's team is Management\n",
      "Teller account id is Jayesh Bhai\n",
      "Teller's account name is 002\n",
      "Teller's account type is ANZ WENTWORTHVILLE\n",
      "Customer representative's  name is      Murali Kommi Ramesh     \n",
      "Customer representative's employee Id is 002\n",
      "Teller's account type is Melbourne\n"
     ]
    }
   ],
   "source": [
    "#classes to represent employees in our banking app\n",
    "class Manager():\n",
    "    def __init__(self, n, i, t):\n",
    "        self.name = n\n",
    "        self.id = i\n",
    "        self.team = t\n",
    "    def display(self):\n",
    "        print(\"Manager's name id is \" +self.name)\n",
    "        print(\"Manager's id is \" +self.id)\n",
    "        print(\"Manager's team is \" + self.team)\n",
    "m1 = Manager(\"Shane Dray\", \"01\", \"Management\")\n",
    "m1.display()\n",
    "\n",
    "class Teller:\n",
    "    def __init__(self, n, i, b):\n",
    "        self.name = n\n",
    "        self.id = i\n",
    "        self.bank_branch = b\n",
    "    def display(self):\n",
    "        print(\"Teller account id is \" +self.name)\n",
    "        print(\"Teller's account name is \" +self.id)\n",
    "        print(\"Teller's account type is \" + str(self.bank_branch))\n",
    "t1 = Teller(\"Jayesh Bhai\", \"002\", \"ANZ WENTWORTHVILLE\")\n",
    "t1.display()\n",
    "\n",
    "class CustomerServRep():\n",
    "    def __init__(self, n, i, b):\n",
    "        self.name = n\n",
    "        self.id = i\n",
    "        self.call_center = b\n",
    "    def display(self):\n",
    "        crname = self.name.strip()\n",
    "        print(\"Customer representative's  name is \" +crname)\n",
    "        print(\"Customer representative's employee Id is \" +self.id)\n",
    "        print(\"Teller's account type is \" + str(self.call_center))\n",
    "        \n",
    "cr1 = CustomerServRep(\"     Murali Kommi Ramesh     \", \"002\", \"Melbourne\")\n",
    "cr1.display()\n",
    "\n",
    "    "
   ]
  },
  {
   "cell_type": "code",
   "execution_count": 90,
   "id": "0cffefd3",
   "metadata": {},
   "outputs": [
    {
     "name": "stdout",
     "output_type": "stream",
     "text": [
      "Manager's name id is Shane Dray\n",
      "Manager's id is 01\n",
      "Manager's team is Management\n",
      "*******\n",
      "Manager's name id is Cassie Stenmark\n",
      "Manager's id is 02\n",
      "Manager's team is First Assistant\n",
      "*******\n",
      "Manager's name id is Chris Neville\n",
      "Manager's id is 03\n",
      "Manager's team is Stock Manager\n"
     ]
    },
    {
     "data": {
      "text/plain": [
       "'L1'"
      ]
     },
     "execution_count": 90,
     "metadata": {},
     "output_type": "execute_result"
    }
   ],
   "source": [
    "#manager class with a CLASS attribute\n",
    "class Manager():\n",
    "    level = \"L1\"\n",
    "    def __init__(self, n, i, t):\n",
    "        self.name = n\n",
    "        self.id = i\n",
    "        self.team = t\n",
    "    def display(self):\n",
    "        print(\"Manager's name id is \" +self.name)\n",
    "        print(\"Manager's id is \" +self.id)\n",
    "        print(\"Manager's team is \" + self.team)\n",
    "m1 = Manager(\"Shane Dray\", \"01\", \"Management\")\n",
    "m1.display()\n",
    "m1.level\n",
    "print(\"*******\")\n",
    "m2 = Manager(\"Cassie Stenmark\", \"02\", \"First Assistant\")\n",
    "m2.display()\n",
    "m2.level\n",
    "print(\"*******\")\n",
    "m3 = Manager(\"Chris Neville\", \"03\", \"Stock Manager\")\n",
    "m3.display()\n",
    "m3.level"
   ]
  },
  {
   "cell_type": "code",
   "execution_count": 114,
   "id": "bc40e378",
   "metadata": {},
   "outputs": [
    {
     "name": "stdout",
     "output_type": "stream",
     "text": [
      "25\n"
     ]
    }
   ],
   "source": [
    "#Static methods are methods within a class that can be executed through the class\n",
    "#instead of being executed after the class is instantiated. \n",
    "class MathFormula:\n",
    "    def pow(self, x, y):\n",
    "        return x ** y\n",
    "m = MathFormula()\n",
    "print(m.pow(5,2))\n"
   ]
  },
  {
   "cell_type": "code",
   "execution_count": 112,
   "id": "60de69da",
   "metadata": {},
   "outputs": [
    {
     "data": {
      "text/plain": [
       "100"
      ]
     },
     "execution_count": 112,
     "metadata": {},
     "output_type": "execute_result"
    }
   ],
   "source": [
    "#Once a method is created as static, you cannot use it to call the instance attributes/methods of the underlying class.\n",
    "class MathFormulas:\n",
    "    @staticmethod\n",
    "    def pow(x, y):\n",
    "        return x ** y\n",
    "MathFormulas.pow(10,2)\n"
   ]
  },
  {
   "cell_type": "code",
   "execution_count": 120,
   "id": "4e0c1051",
   "metadata": {},
   "outputs": [
    {
     "name": "stdout",
     "output_type": "stream",
     "text": [
      "Hello\n",
      "World\n",
      "9\n"
     ]
    },
    {
     "data": {
      "text/plain": [
       "9"
      ]
     },
     "execution_count": 120,
     "metadata": {},
     "output_type": "execute_result"
    }
   ],
   "source": [
    "class MathFormula:\n",
    "    @staticmethod\n",
    "    def display(message):\n",
    "        print(message)\n",
    "    @staticmethod\n",
    "    def pow(x, y):\n",
    "        return x ** y\n",
    "    @staticmethod\n",
    "    def isEven(x):\n",
    "        if x % 2 == 0:\n",
    "            return True\n",
    "MathFormula.display(\"Hello\")\n",
    "MathFormula.display(\"World\")\n",
    "MathFormula.display(MathFormula.pow(3,2))\n",
    "MathFormula.pow(3,2)"
   ]
  },
  {
   "cell_type": "code",
   "execution_count": 132,
   "id": "76600d9d",
   "metadata": {},
   "outputs": [
    {
     "data": {
      "text/plain": [
       "424.0"
      ]
     },
     "execution_count": 132,
     "metadata": {},
     "output_type": "execute_result"
    }
   ],
   "source": [
    "class Sales:\n",
    "    @staticmethod\n",
    "    def applySalesTax(amount):\n",
    "        sales_tax = 0.06\n",
    "        return amount * (1 + sales_tax)\n",
    "    \n",
    "    @staticmethod\n",
    "    def applySalesTaxMany(amounts):\n",
    "        out = list()\n",
    "        sales_tax = 0.06\n",
    "        out = [amount*(1+sales_tax) for amount in amounts]\n",
    "        return out\n",
    "    \n",
    "    \n",
    "#Sales.applySalesTax(100)\n",
    "Sales.applySalesTax(400)"
   ]
  },
  {
   "cell_type": "code",
   "execution_count": 26,
   "id": "7515b6c9",
   "metadata": {},
   "outputs": [
    {
     "data": {
      "text/plain": [
       "'I like to eat Gulab Jamun'"
      ]
     },
     "execution_count": 26,
     "metadata": {},
     "output_type": "execute_result"
    }
   ],
   "source": [
    "class Human:\n",
    "    species = \"HomoSapiens\"\n",
    "    def __init__(self, name, age, gender):\n",
    "        self.name = name\n",
    "        self.age = age\n",
    "        self.gender = gender\n",
    "    def speak(self):\n",
    "        return f\"Hello Everyone! I am {self.name}\"\n",
    "    def eat(self, favourite_dish):\n",
    "        return f\"I like to eat {favourite_dish}\"\n",
    "h1 = Human(\"Ashwin kumar\", \"25\", \"Male\")\n",
    "    \n",
    "h1.speak()\n",
    "h1.eat(\"Gulab Jamun\")\n"
   ]
  },
  {
   "cell_type": "code",
   "execution_count": 28,
   "id": "56d4928f",
   "metadata": {},
   "outputs": [],
   "source": [
    "#INHERITANCE\n",
    "class parent_class:\n",
    "    pass\n",
    "    \n",
    "class child_class(parent_class):\n",
    "    pass"
   ]
  },
  {
   "cell_type": "code",
   "execution_count": 48,
   "id": "281ebf0e",
   "metadata": {},
   "outputs": [
    {
     "name": "stdout",
     "output_type": "stream",
     "text": [
      "Hey! My name is Edcorner, I'm a male and I'm 32 years old. \n",
      "I study in MACQUARIE UNIVERSITY\n",
      "Hey! My name is Vani, I'm a Female and I'm 16 years old. \n",
      "I study in St anns\n",
      "Hey! My name is Vyramudi, I'm a Male and I'm 55 years old. \n"
     ]
    }
   ],
   "source": [
    "class Human:\n",
    "    def __init__(self, name, age, gender):\n",
    "        self.name = name\n",
    "        self.age = age\n",
    "        self.gender = gender\n",
    "    def description(self):\n",
    "        print(f\"Hey! My name is {self.name}, I'm a {self.gender} and I'm {self.age} years old. \")\n",
    "class Boy(Human):\n",
    "    def schoolName(self, schoolname):\n",
    "        print(f\"I study in {schoolname}\")\n",
    "class Girl(Human):\n",
    "    def schoolName(self, schoolname):\n",
    "        print(f\"I study in {schoolname}\")\n",
    "    \n",
    "b = Boy('Edcorner', 32, 'male') \n",
    "b.description()\n",
    "b.schoolName(\"MACQUARIE UNIVERSITY\")\n",
    "\n",
    "g = Girl(\"Vani\",16, \"Female\")\n",
    "g.description()\n",
    "g.schoolName(\"St anns\")\n",
    "\n",
    "h = Human(\"Vyramudi\", 55, \"Male\")\n",
    "h.description()\n",
    "#h.schoolName(\"Avidhya\")"
   ]
  },
  {
   "cell_type": "code",
   "execution_count": 53,
   "id": "dba51cd7",
   "metadata": {},
   "outputs": [
    {
     "name": "stdout",
     "output_type": "stream",
     "text": [
      "Hey! My name is Sundari, I'm a Female and I'm 22 years old. \n",
      "I can code\n",
      "I can teach\n"
     ]
    }
   ],
   "source": [
    "#SUPER\n",
    "\n",
    "\n",
    "class Human:\n",
    "    def __init__(self, name, age, gender):\n",
    "        self.name = name\n",
    "        self.age = age\n",
    "        self.gender = gender\n",
    "    def description(self):\n",
    "        print(f\"Hey! My name is {self.name}, I'm a {self.gender} and I'm {self.age} years old. \")\n",
    "    \n",
    "    def code(self):\n",
    "        print(\"I can code\")\n",
    "class Boy(Human):\n",
    "    def schoolName(self, schoolname):\n",
    "        print(f\"I study in {schoolname}\")\n",
    "class Girl(Human):\n",
    "    def codecode(self):\n",
    "        print(\"I can teach\")\n",
    "    def activity(self):\n",
    "        super().code()\n",
    "    def schoolName(self, schoolname):\n",
    "        print(f\"I study in {schoolname}\")\n",
    "        \n",
    "g = Girl(\"Sundari\", 22, \"Female\")\n",
    "g.description()\n",
    "g.activity()\n",
    "g.codecode()"
   ]
  },
  {
   "cell_type": "code",
   "execution_count": 55,
   "id": "bfb9d6f7",
   "metadata": {},
   "outputs": [
    {
     "name": "stdout",
     "output_type": "stream",
     "text": [
      "The lion is yellow coloured.\n",
      "The lion eats meat.\n",
      "The deer is white coloured.\n",
      "The deer eats grass and leaves.\n"
     ]
    }
   ],
   "source": [
    "#polymorphism\n",
    "class lion:\n",
    "    def color(self):\n",
    "        print(\"The lion is yellow coloured.\")\n",
    "    def eats(self):\n",
    "        print(\"The lion eats meat.\")\n",
    "class deer:\n",
    "    def color(self):\n",
    "        print(\"The deer is white coloured.\")\n",
    "    def eats(self):\n",
    "        print(\"The deer eats grass and leaves.\")\n",
    "lion = lion()\n",
    "deer = deer()\n",
    "\n",
    "for animal in (lion, deer):\n",
    "    animal.color()\n",
    "    animal.eats()"
   ]
  },
  {
   "cell_type": "code",
   "execution_count": 65,
   "id": "d4166437",
   "metadata": {},
   "outputs": [
    {
     "name": "stdout",
     "output_type": "stream",
     "text": [
      "I have 4 sides I am from Rectagle class\n",
      "I am 3D from shape class\n",
      "I have 3 sides. I am from Polygon class\n",
      "I am 3D from shape class\n"
     ]
    }
   ],
   "source": [
    "#polymorphism and inheritance\n",
    "class Shape:\n",
    "    def no_of_sides(self):\n",
    "        pass\n",
    "    def three_dimensional(self):\n",
    "        print(\"I am 3D from shape class\")\n",
    "class Rectangle(Shape):\n",
    "    def no_of_sides(self):\n",
    "        print(\"I have 4 sides I am from Rectagle class\")\n",
    "class Polygon(Shape):\n",
    "    def no_of_sides(self):\n",
    "        print(\"I have 3 sides. I am from Polygon class\")\n",
    "\n",
    "re = Rectangle()\n",
    "re.no_of_sides()\n",
    "re.three_dimensional()\n",
    "\n",
    "\n",
    "po = Polygon()\n",
    "po.no_of_sides()\n",
    "po.three_dimensional()"
   ]
  },
  {
   "cell_type": "code",
   "execution_count": 82,
   "id": "34469870",
   "metadata": {},
   "outputs": [
    {
     "name": "stdout",
     "output_type": "stream",
     "text": [
      "The name of the book is Game of Thrones\n",
      "The name of the book is Crack your python Django Interview like a pro.\n"
     ]
    }
   ],
   "source": [
    "#ENCAPSULATION\n",
    "class Library:\n",
    "    def __init__(self, id, name):\n",
    "        self.bookId = id\n",
    "        self.bookName = name\n",
    "        \n",
    "    def setBookName(self, newBookName):\n",
    "        self.bookName = newBookName\n",
    "    \n",
    "    def getBookName(self):\n",
    "        print(f\"The name of the book is {self.bookName}\")\n",
    "        \n",
    "        \n",
    "        \n",
    "book = Library(\"102030\",\"Game of Thrones\")\n",
    "book.getBookName()\n",
    "book.setBookName(\"Crack your python Django Interview like a pro.\")\n",
    "book.getBookName()"
   ]
  },
  {
   "cell_type": "code",
   "execution_count": 142,
   "id": "64ff01a3",
   "metadata": {},
   "outputs": [
    {
     "name": "stdout",
     "output_type": "stream",
     "text": [
      "Edcorner\n",
      "234343\n"
     ]
    },
    {
     "ename": "AttributeError",
     "evalue": "'Employee' object has no attribute '__salary'",
     "output_type": "error",
     "traceback": [
      "\u001b[0;31m---------------------------------------------------------------------------\u001b[0m",
      "\u001b[0;31mAttributeError\u001b[0m                            Traceback (most recent call last)",
      "\u001b[0;32m/var/folders/q6/g7092d4n0qd1jz1vdnn2st200000gn/T/ipykernel_735/2628382573.py\u001b[0m in \u001b[0;36m<module>\u001b[0;34m\u001b[0m\n\u001b[1;32m      8\u001b[0m \u001b[0mprint\u001b[0m\u001b[0;34m(\u001b[0m\u001b[0memp1\u001b[0m\u001b[0;34m.\u001b[0m\u001b[0mname\u001b[0m\u001b[0;34m)\u001b[0m\u001b[0;34m\u001b[0m\u001b[0;34m\u001b[0m\u001b[0m\n\u001b[1;32m      9\u001b[0m \u001b[0mprint\u001b[0m\u001b[0;34m(\u001b[0m\u001b[0memp1\u001b[0m\u001b[0;34m.\u001b[0m\u001b[0m_employeeId\u001b[0m\u001b[0;34m)\u001b[0m\u001b[0;34m\u001b[0m\u001b[0;34m\u001b[0m\u001b[0m\n\u001b[0;32m---> 10\u001b[0;31m \u001b[0memp1\u001b[0m\u001b[0;34m.\u001b[0m\u001b[0m__salary\u001b[0m\u001b[0;34m\u001b[0m\u001b[0;34m\u001b[0m\u001b[0m\n\u001b[0m",
      "\u001b[0;31mAttributeError\u001b[0m: 'Employee' object has no attribute '__salary'"
     ]
    }
   ],
   "source": [
    "class Employee:\n",
    "    def __init__ (self, name, employeeId, salary):\n",
    "        self.name = name\n",
    "        self._employeeId = employeeId\n",
    "        self.__salary = salary\n",
    "\n",
    "emp1 = Employee(\"Edcorner\", '234343',\"$150000\")\n",
    "print(emp1.name)\n",
    "print(emp1._employeeId)\n",
    "emp1.__salary"
   ]
  },
  {
   "cell_type": "code",
   "execution_count": 16,
   "id": "c46a2e94",
   "metadata": {},
   "outputs": [
    {
     "name": "stdout",
     "output_type": "stream",
     "text": [
      "Ashwin\n",
      "01001\n",
      "$120000\n",
      "Ashwin\n",
      "01001\n"
     ]
    }
   ],
   "source": [
    "class Employee:\n",
    "    def __init__ (self, name, employeeId, salary):\n",
    "        self.name = name\n",
    "        self._employeeId = employeeId\n",
    "        self.__salary = salary\n",
    "        \n",
    "    def display(self):\n",
    "        print(self.name)\n",
    "        print(self._employeeId)\n",
    "        print(self.__salary)\n",
    "employee1 = Employee(\"Ashwin\",\"01001\",\"$120000\")\n",
    "employee1.display()\n",
    "print(employee1.name)\n",
    "print(employee1._employeeId)\n",
    "#print(employee1.salary)"
   ]
  },
  {
   "cell_type": "code",
   "execution_count": 18,
   "id": "38211fb7",
   "metadata": {},
   "outputs": [],
   "source": [
    "#abstract class syntax\n",
    "from abc import ABC\n",
    "class ClassName(ABC):\n",
    "    pass"
   ]
  },
  {
   "cell_type": "code",
   "execution_count": 22,
   "id": "5be47e0d",
   "metadata": {},
   "outputs": [
    {
     "name": "stdout",
     "output_type": "stream",
     "text": [
      "Cycle has 2 wheels.\n",
      "---\n",
      "Car has 4 wheels.\n",
      "---\n",
      "Heavy Truck have 8 wheels.\n"
     ]
    }
   ],
   "source": [
    "class Vehicle(ABC):\n",
    "    def no_of_wheels(self):\n",
    "        pass\n",
    "class Cycle(Vehicle):\n",
    "    def no_of_wheels(self):\n",
    "        print(\"Cycle has 2 wheels.\")  \n",
    "    \n",
    "class Car(Vehicle):\n",
    "    def no_of_wheels(self):\n",
    "        print(\"Car has 4 wheels.\")\n",
    "    \n",
    "class HeavyTruck(Vehicle):\n",
    "    def no_of_wheels(self):\n",
    "        print(\"Heavy Truck have 8 wheels.\")\n",
    "\n",
    "Cycle = Cycle()\n",
    "Cycle.no_of_wheels()\n",
    "print(\"---\")\n",
    "Car = Car()\n",
    "Car.no_of_wheels()\n",
    "print(\"---\")\n",
    "HeavyTruck = HeavyTruck()\n",
    "HeavyTruck.no_of_wheels()"
   ]
  },
  {
   "cell_type": "code",
   "execution_count": 20,
   "id": "9819ea10",
   "metadata": {},
   "outputs": [
    {
     "name": "stdout",
     "output_type": "stream",
     "text": [
      "Cycle has 2 wheels.\n",
      "Car has 4 wheels.\n",
      "Heavy Truck have 8 wheels.\n",
      "**\n"
     ]
    }
   ],
   "source": [
    "class Vehicle(ABC):\n",
    "    def no_of_wheels(self):\n",
    "        pass\n",
    "class Cycle(Vehicle):\n",
    "    print(\"Cycle has 2 wheels.\")  \n",
    "    \n",
    "class Car(Vehicle):\n",
    "    print(\"Car has 4 wheels.\")\n",
    "    \n",
    "class HeavyTruck(Vehicle):\n",
    "    print(\"Heavy Truck have 8 wheels.\")\n",
    "print(\"**\")"
   ]
  },
  {
   "cell_type": "code",
   "execution_count": 42,
   "id": "71b84fa6",
   "metadata": {},
   "outputs": [
    {
     "name": "stdout",
     "output_type": "stream",
     "text": [
      "Manik\n",
      "Basha\n",
      "1994\n"
     ]
    }
   ],
   "source": [
    "class Employee:\n",
    "    num_of_emps = 0\n",
    "    raise_amt = 1.04\n",
    "    \n",
    "    def __init__(self, first, last, pay ):\n",
    "        self.first = first\n",
    "        self.last = last\n",
    "        self.pay = pay\n",
    "        \n",
    "        Employee.num_of_emps += 1\n",
    "    def fullname(self):\n",
    "        return '{}{}.format(self.first, self.last)'\n",
    "    \n",
    "    def apply_raise(self):\n",
    "        self.pay = int(self.pay * self.raise_amt)\n",
    "    \n",
    "    @classmethod\n",
    "    def set_raise_amt(cls, amount):\n",
    "        cls.raise_amt = amount\n",
    "        \n",
    "    \n",
    "    \n",
    "emp1 = Employee('Manik','Basha', 1994)\n",
    "print(emp1.first)\n",
    "print(emp1.last)\n",
    "print(emp1.pay)\n",
    "Employee.set_raise_amt(50)"
   ]
  },
  {
   "cell_type": "code",
   "execution_count": 50,
   "id": "ebedfa41",
   "metadata": {},
   "outputs": [
    {
     "name": "stdout",
     "output_type": "stream",
     "text": [
      "Running from Person class.\n"
     ]
    }
   ],
   "source": [
    "class Person:\n",
    "    def show_details(cls):\n",
    "        print(f'Running from {cls.__name__} class.')\n",
    "        \n",
    "    s_details = classmethod(show_details)\n",
    "Person.s_details()"
   ]
  },
  {
   "cell_type": "code",
   "execution_count": 51,
   "id": "80233995",
   "metadata": {},
   "outputs": [
    {
     "name": "stdout",
     "output_type": "stream",
     "text": [
      "Running from Container class.\n"
     ]
    }
   ],
   "source": [
    "class Container:\n",
    "    @classmethod\n",
    "    def show_details(cls):\n",
    "        print(f'Running from {cls.__name__} class.')\n",
    "Container.show_details()"
   ]
  },
  {
   "cell_type": "code",
   "execution_count": 56,
   "id": "91351d5b",
   "metadata": {},
   "outputs": [
    {
     "name": "stdout",
     "output_type": "stream",
     "text": [
      "Running from Container class\n"
     ]
    }
   ],
   "source": [
    "class Container:\n",
    "    @classmethod\n",
    "    def show_details(cls):\n",
    "        print(f'Running from {cls.__name__} class')\n",
    "        \n",
    "container = Container()\n",
    "container.show_details()"
   ]
  },
  {
   "cell_type": "code",
   "execution_count": 80,
   "id": "c3c157f7",
   "metadata": {},
   "outputs": [],
   "source": [
    "class Person:\n",
    "    instances = ['ashwin', 'deepak', 'saravana']\n",
    "    @classmethod\n",
    "    def count_instances(cls):\n",
    "        return len(Person.instances)\n",
    "    \n",
    "\n",
    "#Person.count_instances()    \n",
    "#print(Person.instances)"
   ]
  },
  {
   "cell_type": "code",
   "execution_count": 83,
   "id": "a8f047c9",
   "metadata": {},
   "outputs": [
    {
     "name": "stdout",
     "output_type": "stream",
     "text": [
      "3\n"
     ]
    }
   ],
   "source": [
    "class Person:\n",
    "    instances = []\n",
    "    \n",
    "    def __init__(self):\n",
    "        Person.instances.append(self)\n",
    "    @classmethod\n",
    "    def count_instances(cls):\n",
    "        return len(Person.instances)\n",
    "    \n",
    "p1 = Person()\n",
    "p2 = Person()\n",
    "p3 = Person()\n",
    "print(Person.count_instances())"
   ]
  },
  {
   "cell_type": "code",
   "execution_count": 89,
   "id": "27057296",
   "metadata": {},
   "outputs": [
    {
     "name": "stdout",
     "output_type": "stream",
     "text": [
      "2\n",
      "2\n"
     ]
    }
   ],
   "source": [
    "class Person:\n",
    "    instances = []\n",
    "    def __init__(self, firstname, lastname):\n",
    "        self.firstname = firstname\n",
    "        self.lastname = lastname\n",
    "        Person.instances.append(self)\n",
    "    @classmethod\n",
    "    def count_instances(cls):\n",
    "        return len(Person.instances)\n",
    "    \n",
    "    \n",
    "person1 = Person(\"Akhileswara\",'suveiiias')\n",
    "person2 = Person(\"kandawhw\", 'dreefeee')\n",
    "print(person1.count_instances())\n",
    "print(person2.count_instances())"
   ]
  },
  {
   "cell_type": "code",
   "execution_count": 4,
   "id": "92c61d1f",
   "metadata": {},
   "outputs": [],
   "source": [
    "#food item class\n",
    "class food_item:\n",
    "    def __init__(self, name, price):\n",
    "        self.name = name\n",
    "        self.price = price\n",
    "    def __str__(self):\n",
    "        return \"Item: \" +self.name + \"\\n\" + \"Price: $\" +str(self.price)+ \"\\n\"\n",
    "    def get_price(self):\n",
    "        return self.price\n",
    "    def get_name(self):\n",
    "        return self.name\n",
    "\n",
    "        "
   ]
  },
  {
   "cell_type": "code",
   "execution_count": 9,
   "id": "8864f5dd",
   "metadata": {},
   "outputs": [],
   "source": [
    "class burger(food_item):\n",
    "    def __init__(self, name, price):\n",
    "        super(burger,self).__init__(name, price)\n",
    "        self.condiments = []\n",
    "    def add_condiments(self):\n",
    "        if condiment not in self.condiments:\n",
    "            self.condiments.append(condiment)\n",
    "    def __str__(self):\n",
    "        s = super(burger, self).__str__()\n",
    "        s = s+ \"Condiments: \" + \",\".join(self.condiments)\n",
    "        return s\n",
    "\n",
    "        "
   ]
  },
  {
   "cell_type": "code",
   "execution_count": 10,
   "id": "511036b3",
   "metadata": {},
   "outputs": [],
   "source": [
    "class drink(food_item):\n",
    "    def __init__(self, name, size, price):\n",
    "        super(drink, self).__init__(name, price)\n",
    "        self.size = size\n",
    "    def __str__(self):\n",
    "        s = super(burger, self).__str__()\n",
    "        s = s + \"Size: \" +str(self.size) + \"oz\"\n",
    "        return s"
   ]
  },
  {
   "cell_type": "code",
   "execution_count": 11,
   "id": "03b845af",
   "metadata": {},
   "outputs": [],
   "source": [
    "class side(food_item):\n",
    "    def __init__(self, name, price):\n",
    "        super(side, self).__init__(name, price)\n",
    "        "
   ]
  },
  {
   "cell_type": "code",
   "execution_count": 15,
   "id": "79b6a74e",
   "metadata": {},
   "outputs": [],
   "source": [
    "class combo(food_item):\n",
    "    def __init__(self, name, b,d,s,discount):\n",
    "        self.name = name\n",
    "        self.burger = b\n",
    "        self.drink = d\n",
    "        self.side = s\n",
    "        self.discount = discount\n",
    "        self.price = self.burger.get_price() + self.drink.get_price() + self.side.get_price() - self.discount\n",
    "        \n",
    "    def __str__(self):\n",
    "        s = \"\"\n",
    "        s = s + \"Combo: \" +self.name + \"\\n\"\n",
    "        s = s + str(self.burger) + \"\\n\" +str(self.drink)+ \"\\n\" + str(self.side)+\"\\n\"\n",
    "        s = s + \"Combo Price Before Discount: $ \"+str(self.burger.get_price() +self.drink.get_price()) +\"\\n\"\n",
    "        s = s + \"Discount: $\" + str(self.discount)+ \"\\n\"\n",
    "        s = s + \"Combo Price After Discount: $\" + str(self.price)+ \"\\n\"\n",
    "        return s"
   ]
  },
  {
   "cell_type": "code",
   "execution_count": null,
   "id": "19b1a275",
   "metadata": {},
   "outputs": [],
   "source": []
  }
 ],
 "metadata": {
  "kernelspec": {
   "display_name": "Python 3 (ipykernel)",
   "language": "python",
   "name": "python3"
  },
  "language_info": {
   "codemirror_mode": {
    "name": "ipython",
    "version": 3
   },
   "file_extension": ".py",
   "mimetype": "text/x-python",
   "name": "python",
   "nbconvert_exporter": "python",
   "pygments_lexer": "ipython3",
   "version": "3.9.13"
  }
 },
 "nbformat": 4,
 "nbformat_minor": 5
}
