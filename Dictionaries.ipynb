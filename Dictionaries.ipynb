{
 "cells": [
  {
   "cell_type": "code",
   "execution_count": 1,
   "id": "038e477b",
   "metadata": {},
   "outputs": [],
   "source": [
    "##A dictionary is a collection of items using defined keys\n",
    "#key is the index\n",
    "#each item in dictionary is a pair of a key and a value\n",
    "#dictionaries are not sorted and are written with curly braces\n"
   ]
  },
  {
   "cell_type": "code",
   "execution_count": 3,
   "id": "ca71091c",
   "metadata": {},
   "outputs": [
    {
     "name": "stdout",
     "output_type": "stream",
     "text": [
      "{}\n",
      "<class 'dict'>\n"
     ]
    }
   ],
   "source": [
    "accounts_dict = dict()\n",
    "print(accounts_dict)\n",
    "print(type(accounts_dict))"
   ]
  },
  {
   "cell_type": "code",
   "execution_count": 6,
   "id": "23590b60",
   "metadata": {},
   "outputs": [
    {
     "name": "stdout",
     "output_type": "stream",
     "text": [
      "{'x0001': 'Anita', 'x0002': 'Sunitha', 'x0003': 'Kavitha', 'x0004': 'Savitha', 'x0005': 'Surekha'}\n"
     ]
    }
   ],
   "source": [
    "accounts_dict[\"x0001\"] = 'Anita'\n",
    "accounts_dict[\"x0002\"] = 'Sunitha'\n",
    "accounts_dict[\"x0003\"] = 'Kavitha'\n",
    "accounts_dict[\"x0004\"] = 'Savitha'\n",
    "accounts_dict[\"x0005\"] = 'Surekha'\n",
    "print(accounts_dict)"
   ]
  },
  {
   "cell_type": "code",
   "execution_count": 9,
   "id": "e020a6f3",
   "metadata": {},
   "outputs": [
    {
     "data": {
      "text/plain": [
       "'Anita'"
      ]
     },
     "execution_count": 9,
     "metadata": {},
     "output_type": "execute_result"
    }
   ],
   "source": [
    "accounts_dict[\"x0001\"]"
   ]
  },
  {
   "cell_type": "code",
   "execution_count": 10,
   "id": "94201f4a",
   "metadata": {},
   "outputs": [
    {
     "name": "stdout",
     "output_type": "stream",
     "text": [
      "{'brand': 'Mercedes', 'model': 'GLE', 'year': 2021}\n"
     ]
    }
   ],
   "source": [
    "myFirstDict = {\n",
    "    \"brand\" : \"Mercedes\",\n",
    "    \"model\" : \"GLE\",\n",
    "    \"year\" : 2021\n",
    "}\n",
    "print(myFirstDict)"
   ]
  },
  {
   "cell_type": "code",
   "execution_count": 11,
   "id": "53213c7d",
   "metadata": {},
   "outputs": [],
   "source": [
    "states_abbrev = [\"AL\", \"AK\", \"AZ\", \"AR\", \"CA\", \"CO\", \"CT\", \"DE\", \"FL\", \"GA\", \"HI\", \"ID\", \"IL\", \"IN\", \"IA\", \"KS\", \"KY\", \"LA\",\n",
    "\"ME\", \"MD\", \"MA\", \"MI\", \"MN\", \"MS\", \"MO\", \"MT\", \"NE\", \"NV\",\n",
    "\"NH\", \"NJ\", \"NM\", \"NY\", \"NC\", \"ND\", \"OH\", \"OK\", \"OR\", \"PA\", \"RI\", \"SC\",\"SD\", \"TN\",\"TX\",\"UT\",\"VT\",\"VA\",\"WA\",\"WV\",\"WI\",\"WY\"]\n",
    "states_full = [\"Alabama\", \"Alaska\", \"Arizona\", \"Arkansas\", \"California\", \"Colorado\",\"Connecticut\", \"Delaware\", \"Florida\", \"Georgia\", \"Hawaii\", \"Idaho\", \"Illinois\", \"Indiana\", \"Iowa\", \"Kansas\", \"Kentucky\", \"Louisiana\", \"Maine\", \"Maryland\", \"Massachusetts\", \"Michigan\", \"Minnesota\", \"Mississippi\", \"Missouri\", \"Montana\", \"Nebraska\", \"Nevada\", \"New Hampshire\", \"New Jersey\", \"New Mexico\", \"New York\", \"North Carolina\", \"North Dakota\", \"Ohio\", \"Oklahoma\", \"Oregon\", \"Pennsylvania\", \"Rhode Island\", \"South Carolina\", \"South Dakota\", \"Tennessee\", \"Texas\", \"Utah\", \"Vermont\", \"Virginia\", \"Washington\", \"West Virginia\", \"Wisconsin\", \"Wyoming\"]\n"
   ]
  },
  {
   "cell_type": "code",
   "execution_count": 35,
   "id": "a8162192",
   "metadata": {},
   "outputs": [
    {
     "name": "stdout",
     "output_type": "stream",
     "text": [
      "{'AL': 'Alabama', 'AK': 'Alaska', 'AZ': 'Arizona', 'AR': 'Arkansas', 'CA': 'California', 'CO': 'Colorado', 'CT': 'Connecticut', 'DE': 'Delaware', 'FL': 'Florida', 'GA': 'Georgia', 'HI': 'Hawaii', 'ID': 'Idaho', 'IL': 'Illinois', 'IN': 'Indiana', 'IA': 'Iowa', 'KS': 'Kansas', 'KY': 'Kentucky', 'LA': 'Louisiana', 'ME': 'Maine', 'MD': 'Maryland', 'MA': 'Massachusetts', 'MI': 'Michigan', 'MN': 'Minnesota', 'MS': 'Mississippi', 'MO': 'Missouri', 'MT': 'Montana', 'NE': 'Nebraska', 'NV': 'Nevada', 'NH': 'New Hampshire', 'NJ': 'New Jersey', 'NM': 'New Mexico', 'NY': 'New York', 'NC': 'North Carolina', 'ND': 'North Dakota', 'OH': 'Ohio', 'OK': 'Oklahoma', 'OR': 'Oregon', 'PA': 'Pennsylvania', 'RI': 'Rhode Island', 'SC': 'South Carolina', 'SD': 'South Dakota', 'TN': 'Tennessee', 'TX': 'Texas', 'UT': 'Utah', 'VT': 'Vermont', 'VA': 'Virginia', 'WA': 'Washington', 'WV': 'West Virginia', 'WI': 'Wisconsin', 'WY': 'Wyoming'}\n",
      "----------\n",
      "----------\n",
      "----------\n",
      "Pennsylvania\n",
      "Ohio\n",
      "South Dakota\n",
      "South Carolina\n",
      "The 3 states that has a population of over 10 million are Pennsylvania, Ohio and South Dakota\n"
     ]
    }
   ],
   "source": [
    "states = {\n",
    "\"AL\": \"Alabama\", \"AK\": \"Alaska\", \"AZ\": \"Arizona\", \"AR\": \"Arkansas\", \"CA\": \"California\", \"CO\": \"Colorado\", \"CT\": \"Connecticut\", \"DE\": \"Delaware\", \"FL\": \"Florida\", \"GA\": \"Georgia\", \"HI\": \"Hawaii\", \"ID\": \"Idaho\",\n",
    "\"IL\": \"Illinois\", \"IN\": \"Indiana\", \"IA\": \"Iowa\",\n",
    "\"KS\": \"Kansas\", \"KY\": \"Kentucky\", \"LA\": \"Louisiana\", \"ME\": \"Maine\",\n",
    "\"MD\": \"Maryland\",\n",
    "\"MA\": \"Massachusetts\", \"MI\": \"Michigan\", \"MN\": \"Minnesota\", \"MS\": \"Mississippi\", \"MO\": \"Missouri\", \"MT\": \"Montana\",\n",
    "\"NE\": \"Nebraska\", \"NV\": \"Nevada\",\n",
    "\"NH\": \"New Hampshire\", \"NJ\": \"New Jersey\", \"NM\": \"New Mexico\", \"NY\": \"New York\",\n",
    "\"NC\": \"North Carolina\",\n",
    "\"ND\": \"North Dakota\",\n",
    "\"OH\": \"Ohio\",\n",
    "\"OK\": \"Oklahoma\", \"OR\": \"Oregon\",\n",
    "\"PA\": \"Pennsylvania\", \"RI\": \"Rhode Island\",\n",
    "\"SC\": \"South Carolina\",\n",
    "\"SD\": \"South Dakota\",\n",
    "\"TN\": \"Tennessee\", \"TX\": \"Texas\",\n",
    "\"UT\": \"Utah\",\n",
    "\"VT\": \"Vermont\",\n",
    "\"VA\": \"Virginia\", \"WA\": \"Washington\", \"WV\": \"West Virginia\", \"WI\": \"Wisconsin\", \"WY\": \"Wyoming\"\n",
    "}\n",
    "print(states)\n",
    "print(\"----------\")\n",
    "\n",
    "print(\"----------\")\n",
    "\n",
    "print(\"----------\")\n",
    "print(states[\"PA\"])\n",
    "print(states[\"OH\"])\n",
    "print(states[\"SD\"])\n",
    "print(states[\"SC\"])\n",
    "print(\"The 3 states that has a population of over 10 million are \" +states[\"PA\"] + \", \" +states[\"OH\"]+ \" and \" +states[\"SD\"]   )\n",
    "      \n",
    "      \n",
    "      \n",
    "      #,+states[\"OH]\"+\", and\" +states[\"SD\"])\n",
    "                                                                                                 "
   ]
  },
  {
   "cell_type": "code",
   "execution_count": 17,
   "id": "7f7f232d",
   "metadata": {},
   "outputs": [
    {
     "name": "stdout",
     "output_type": "stream",
     "text": [
      "Robert\n"
     ]
    }
   ],
   "source": [
    "info = {\n",
    "\"name\": \"Robert\",\n",
    "\"age\": 34,\n",
    "\"address\": \"123 Main Street, Louisville, KY\"\n",
    "}\n",
    "print(info[\"name\"])"
   ]
  },
  {
   "cell_type": "code",
   "execution_count": 48,
   "id": "981a3898",
   "metadata": {},
   "outputs": [
    {
     "name": "stdout",
     "output_type": "stream",
     "text": [
      "1000000\n",
      "5850000\n",
      "5\n",
      "1170000.0\n"
     ]
    }
   ],
   "source": [
    "yearly_revenue = { \"2017\" : 1000000, \"2018\" : 1200000, \"2019\" : 1250000, \"2020\" : 1100000, \"2021\" : 1300000,\n",
    "}\n",
    "print(yearly_revenue[\"2017\"])\n",
    "total_income = yearly_revenue[\"2017\"] + yearly_revenue[\"2018\"] + yearly_revenue[\"2019\"] + yearly_revenue[\"2020\"]  + yearly_revenue[\"2021\"] \n",
    "print(total_income)\n",
    "average_income = total_income/len(yearly_revenue)\n",
    "print(len(yearly_revenue))\n",
    "print(average_income)\n"
   ]
  },
  {
   "cell_type": "code",
   "execution_count": 51,
   "id": "79e62619",
   "metadata": {},
   "outputs": [
    {
     "name": "stdout",
     "output_type": "stream",
     "text": [
      "2017\n",
      "2018\n",
      "2019\n",
      "2020\n",
      "2021\n"
     ]
    }
   ],
   "source": [
    "#for i in dictionary.keys()\n",
    "for year in yearly_revenue.keys():\n",
    "    print(year)"
   ]
  },
  {
   "cell_type": "code",
   "execution_count": 52,
   "id": "6f7e3528",
   "metadata": {},
   "outputs": [
    {
     "name": "stdout",
     "output_type": "stream",
     "text": [
      "1000000\n",
      "1200000\n",
      "1250000\n",
      "1100000\n",
      "1300000\n"
     ]
    }
   ],
   "source": [
    "for profit in yearly_revenue.values():\n",
    "    print(profit)"
   ]
  },
  {
   "cell_type": "code",
   "execution_count": 54,
   "id": "fb362ed0",
   "metadata": {},
   "outputs": [
    {
     "name": "stdout",
     "output_type": "stream",
     "text": [
      "{'X10000': 'Michael', 'X10002': 'Nia', 'X10001': 'Anita'}\n"
     ]
    }
   ],
   "source": [
    "students_dict = dict() \n",
    "students_dict['X10000'] = 'Michael' \n",
    "students_dict['X10002'] = 'Nia' \n",
    "students_dict['X10001'] = 'Anita'\n",
    "print(students_dict)"
   ]
  },
  {
   "cell_type": "code",
   "execution_count": 56,
   "id": "331ab25b",
   "metadata": {},
   "outputs": [
    {
     "name": "stdout",
     "output_type": "stream",
     "text": [
      "Michael\n",
      "Nia\n",
      "Anita\n"
     ]
    }
   ],
   "source": [
    "for student_id in students_dict.keys():\n",
    "    print(students_dict[student_id])"
   ]
  },
  {
   "cell_type": "code",
   "execution_count": 63,
   "id": "4306c44f",
   "metadata": {},
   "outputs": [
    {
     "name": "stdout",
     "output_type": "stream",
     "text": [
      "X10000 : Michael\n",
      "X10002 : Nia\n",
      "X10001 : Anita\n"
     ]
    }
   ],
   "source": [
    "for i in students_dict.keys():\n",
    "    print(i, \":\", students_dict[i])"
   ]
  },
  {
   "cell_type": "code",
   "execution_count": 73,
   "id": "e7673351",
   "metadata": {},
   "outputs": [
    {
     "name": "stdout",
     "output_type": "stream",
     "text": [
      "2017 1000000\n",
      "2018 1200000\n",
      "2019 1250000\n",
      "2020 1100000\n",
      "2021 1300000\n",
      "5850000\n",
      "1170000.0\n",
      "<class 'int'>\n"
     ]
    }
   ],
   "source": [
    "yearly_revenue = { \"2017\" : 1000000, \"2018\" : 1200000, \"2019\" : 1250000, \"2020\" : 1100000, \"2021\" : 1300000,\n",
    "}\n",
    "total_income = 0\n",
    "for year_id in yearly_revenue.keys():\n",
    "    total_income += yearly_revenue[year_id]\n",
    "    print(year_id, yearly_revenue[year_id])\n",
    "print(total_income)\n",
    "print(total_income/len(yearly_revenue))\n",
    "print(type(total_income))"
   ]
  },
  {
   "cell_type": "code",
   "execution_count": 76,
   "id": "ad7c436a",
   "metadata": {},
   "outputs": [
    {
     "name": "stdout",
     "output_type": "stream",
     "text": [
      "2017 : 1000000\n",
      "2018 : 1200000\n",
      "2019 : 1250000\n",
      "2020 : 1100000\n",
      "2021 : 1300000\n"
     ]
    }
   ],
   "source": [
    "yearly_revenue = { \"2017\" : 1000000, \"2018\" : 1200000, \"2019\" : 1250000, \"2020\" : 1100000, \"2021\" : 1300000,\n",
    "}\n",
    "for key, value in yearly_revenue.items():\n",
    "    print(key, \":\", value)"
   ]
  },
  {
   "cell_type": "code",
   "execution_count": 82,
   "id": "47b09281",
   "metadata": {},
   "outputs": [
    {
     "name": "stdout",
     "output_type": "stream",
     "text": [
      "Please enter the loan ID for loan 1: 111\n",
      "Please enter the loan amount for loan 1: 879798\n",
      "Please enter the loan ID for loan 2: 123\n",
      "Please enter the loan amount for loan 2: 773737\n",
      "Please enter the loan ID for loan 3: 234\n",
      "Please enter the loan amount for loan 3: 8383894\n",
      "Please enter the loan ID for loan 4: 232\n",
      "Please enter the loan amount for loan 4: 080988\n",
      "111 879798\n",
      "123 773737\n",
      "234 8383894\n",
      "232 080988\n"
     ]
    }
   ],
   "source": [
    "loans = dict()\n",
    "ctr = 1\n",
    "while ctr < 5:\n",
    "    loan_id = input(\"Please enter the loan ID for loan \"+str(ctr)+\": \")\n",
    "    loan_amt = input(\"Please enter the loan amount for loan \"+str(ctr)+ \": \")\n",
    "    loans[loan_id] = loan_amt\n",
    "    ctr+=1\n",
    "\n",
    "for key, value in loans.items():\n",
    "    print(key,\": \", value)"
   ]
  },
  {
   "cell_type": "markdown",
   "id": "91570033",
   "metadata": {},
   "source": [
    "#### "
   ]
  },
  {
   "cell_type": "code",
   "execution_count": 88,
   "id": "dc446e7b",
   "metadata": {},
   "outputs": [
    {
     "name": "stdout",
     "output_type": "stream",
     "text": [
      "dict_keys([0, 1, 2, 3, 4, 5])\n",
      "dict_values(['king', 'queen', 'elephant', 'doctor', 'horse', 'soldiers'])\n",
      "dict_items([(0, 'king'), (1, 'queen'), (2, 'elephant'), (3, 'doctor'), (4, 'horse'), (5, 'soldiers')])\n"
     ]
    }
   ],
   "source": [
    "students_dict = dict()\n",
    "students_dict[0] = \"king\"\n",
    "students_dict[1] = \"queen\"\n",
    "students_dict[2] = \"elephant\"\n",
    "students_dict[3] = \"doctor\"\n",
    "students_dict[4] = \"horse\"\n",
    "students_dict[5] = \"soldiers\"\n",
    "print(students_dict.keys())\n",
    "print(students_dict.values())\n",
    "print(students_dict.items())"
   ]
  },
  {
   "cell_type": "code",
   "execution_count": 89,
   "id": "7cdfefdc",
   "metadata": {},
   "outputs": [
    {
     "name": "stdout",
     "output_type": "stream",
     "text": [
      "{'100001': 'Federica, Yolane', '100002': 'Celestine, Kirbee', '100003': 'Paton, Riannon', '100004': 'Abbot, Gilligan', '100005': 'Dorine, Chandra', '100006': 'Natica, Ginnie', '100007': 'Sperling, Lucille', '100008': 'Kermit, Iseabal', '100009': 'Kat, Tori', '100010': 'Estella, Cristine', '100011': 'Pauly, Genovera', '100012': 'Idelia, Beverley', '100013': 'Nickola, Nessie', '100014': 'Baudin, Jasmina', '100015': 'Bates, Lily', '100016': 'Martguerita, Keelia', '100017': 'Kirbee, Katharina', '100018': 'Camden, Eadie', '100019': 'Iphlgenia, Roberta', '100020': 'Saint, Joelly', '100021': 'Lowry, Eadie', '100022': 'Keelia, Tani', '100023': 'Philoo, Darlleen', '100024': 'Artie, Ginnie', '100025': 'Ajay, Roseline', '100026': 'Frodi, Brandise', '100027': 'Daveta, Dorene', '100028': 'Liebermann, Paulita', '100029': 'Zola, Wynne', '100030': 'Heisel, Sue', '100031': 'Sigfrid, Jsandye', '100032': 'Kimmie, Jean', '100033': 'Muriel, Merle', '100034': 'Viddah, Nelle', '100035': 'Lewes, Selia', '100036': 'Lemuela, Marita', '100037': 'Kalinda, Tatiania', '100038': 'Firmin, Desirae', '100039': 'Casimir, Nita', '100040': 'Pillsbury, Stevana', '100041': 'Willie, Ira', '100042': 'Connelly, Etta', '100043': 'Cookie, Joleen', '100044': 'Himelman, Belva', '100045': 'Annabella, Ketti', '100046': 'Wandie, Brynna', '100047': 'Gaynor, Emelina', '100048': 'Christal, Tonia', '100049': 'Lowry, Wilma', '100050': 'Sholley, Corene'}\n"
     ]
    }
   ],
   "source": [
    "acct_list = {\n",
    "\"100001\" : \"Federica, Yolane\", \"100002\" : \"Celestine, Kirbee\", \"100003\" : \"Paton, Riannon\", \"100004\" : \"Abbot, Gilligan\",\"100005\" : \"Dorine, Chandra\", \"100006\" : \"Natica, Ginnie\", \"100007\" : \"Sperling, Lucille\", \"100008\" : \"Kermit, Iseabal\", \"100009\" : \"Kat, Tori\",\n",
    "\"100010\" : \"Estella, Cristine\", \"100011\" : \"Pauly, Genovera\", \"100012\" : \"Idelia, Beverley\", \"100013\" : \"Nickola, Nessie\", \"100014\" : \"Baudin, Jasmina\", \"100015\" : \"Bates, Lily\", \"100016\" : \"Martguerita, Keelia\", \"100017\" : \"Kirbee, Katharina\", \"100018\" : \"Camden, Eadie\", \"100019\" : \"Iphlgenia, Roberta\", \"100020\" : \"Saint, Joelly\", \"100021\" : \"Lowry, Eadie\", \"100022\" : \"Keelia, Tani\", \"100023\" : \"Philoo, Darlleen\", \"100024\" : \"Artie, Ginnie\", \"100025\" : \"Ajay, Roseline\", \"100026\" : \"Frodi, Brandise\", \"100027\" : \"Daveta, Dorene\", \"100028\" : \"Liebermann, Paulita\", \"100029\" : \"Zola, Wynne\", \"100030\" : \"Heisel, Sue\", \"100031\" : \"Sigfrid, Jsandye\", \"100032\" : \"Kimmie, Jean\", \"100033\" : \"Muriel, Merle\", \"100034\" : \"Viddah, Nelle\", \"100035\" : \"Lewes, Selia\", \"100036\" : \"Lemuela, Marita\", \"100037\" : \"Kalinda, Tatiania\", \"100038\" : \"Firmin, Desirae\", \"100039\" : \"Casimir, Nita\", \"100040\" : \"Pillsbury, Stevana\", \"100041\" : \"Willie, Ira\", \"100042\" : \"Connelly, Etta\", \"100043\" : \"Cookie, Joleen\", \"100044\" : \"Himelman, Belva\", \"100045\" : \"Annabella, Ketti\", \"100046\" : \"Wandie, Brynna\", \"100047\" : \"Gaynor, Emelina\", \"100048\" : \"Christal, Tonia\", \"100049\" : \"Lowry, Wilma\", \"100050\" : \"Sholley, Corene\"\n",
    "}\n",
    "print(acct_list)"
   ]
  },
  {
   "cell_type": "code",
   "execution_count": 91,
   "id": "ad726b67",
   "metadata": {},
   "outputs": [
    {
     "name": "stdout",
     "output_type": "stream",
     "text": [
      "dict_keys(['100001', '100002', '100003', '100004', '100005', '100006', '100007', '100008', '100009', '100010', '100011', '100012', '100013', '100014', '100015', '100016', '100017', '100018', '100019', '100020', '100021', '100022', '100023', '100024', '100025', '100026', '100027', '100028', '100029', '100030', '100031', '100032', '100033', '100034', '100035', '100036', '100037', '100038', '100039', '100040', '100041', '100042', '100043', '100044', '100045', '100046', '100047', '100048', '100049', '100050'])\n"
     ]
    }
   ],
   "source": [
    "account_ids = acct_list.keys()\n",
    "print(account_ids)"
   ]
  },
  {
   "cell_type": "code",
   "execution_count": 92,
   "id": "a997074d",
   "metadata": {},
   "outputs": [
    {
     "name": "stdout",
     "output_type": "stream",
     "text": [
      "dict_values(['Federica, Yolane', 'Celestine, Kirbee', 'Paton, Riannon', 'Abbot, Gilligan', 'Dorine, Chandra', 'Natica, Ginnie', 'Sperling, Lucille', 'Kermit, Iseabal', 'Kat, Tori', 'Estella, Cristine', 'Pauly, Genovera', 'Idelia, Beverley', 'Nickola, Nessie', 'Baudin, Jasmina', 'Bates, Lily', 'Martguerita, Keelia', 'Kirbee, Katharina', 'Camden, Eadie', 'Iphlgenia, Roberta', 'Saint, Joelly', 'Lowry, Eadie', 'Keelia, Tani', 'Philoo, Darlleen', 'Artie, Ginnie', 'Ajay, Roseline', 'Frodi, Brandise', 'Daveta, Dorene', 'Liebermann, Paulita', 'Zola, Wynne', 'Heisel, Sue', 'Sigfrid, Jsandye', 'Kimmie, Jean', 'Muriel, Merle', 'Viddah, Nelle', 'Lewes, Selia', 'Lemuela, Marita', 'Kalinda, Tatiania', 'Firmin, Desirae', 'Casimir, Nita', 'Pillsbury, Stevana', 'Willie, Ira', 'Connelly, Etta', 'Cookie, Joleen', 'Himelman, Belva', 'Annabella, Ketti', 'Wandie, Brynna', 'Gaynor, Emelina', 'Christal, Tonia', 'Lowry, Wilma', 'Sholley, Corene'])\n"
     ]
    }
   ],
   "source": [
    "account_values = acct_list.values()\n",
    "print(account_values)"
   ]
  },
  {
   "cell_type": "code",
   "execution_count": 100,
   "id": "40f4913e",
   "metadata": {},
   "outputs": [
    {
     "name": "stdout",
     "output_type": "stream",
     "text": [
      "Federica, Yolane\n",
      "Abbot, Gilligan\n",
      "Casimir, Nita\n"
     ]
    }
   ],
   "source": [
    "id100001 = acct_list.get(\"100001\")\n",
    "print(id100001)\n",
    "id100004 = acct_list.get(\"100004\")\n",
    "print(id100004)\n",
    "id100039 = acct_list.get(\"100039\")\n",
    "print(id100039)"
   ]
  },
  {
   "cell_type": "code",
   "execution_count": 113,
   "id": "04843588",
   "metadata": {},
   "outputs": [
    {
     "ename": "KeyboardInterrupt",
     "evalue": "Interrupted by user",
     "output_type": "error",
     "traceback": [
      "\u001b[0;31m---------------------------------------------------------------------------\u001b[0m",
      "\u001b[0;31mKeyboardInterrupt\u001b[0m                         Traceback (most recent call last)",
      "\u001b[0;32m/var/folders/q6/g7092d4n0qd1jz1vdnn2st200000gn/T/ipykernel_3206/2573183549.py\u001b[0m in \u001b[0;36m<module>\u001b[0;34m\u001b[0m\n\u001b[1;32m      4\u001b[0m }\n\u001b[1;32m      5\u001b[0m \u001b[0;34m\u001b[0m\u001b[0m\n\u001b[0;32m----> 6\u001b[0;31m \u001b[0maccount\u001b[0m \u001b[0;34m=\u001b[0m \u001b[0maccounts\u001b[0m\u001b[0;34m.\u001b[0m\u001b[0mget\u001b[0m\u001b[0;34m(\u001b[0m\u001b[0minput\u001b[0m\u001b[0;34m(\u001b[0m\u001b[0;34m\"Please enter an account number: \"\u001b[0m\u001b[0;34m)\u001b[0m\u001b[0;34m)\u001b[0m\u001b[0;34m\u001b[0m\u001b[0;34m\u001b[0m\u001b[0m\n\u001b[0m\u001b[1;32m      7\u001b[0m \u001b[0;32mif\u001b[0m \u001b[0maccount\u001b[0m \u001b[0;34m==\u001b[0m \u001b[0;32mNone\u001b[0m\u001b[0;34m:\u001b[0m\u001b[0;34m\u001b[0m\u001b[0;34m\u001b[0m\u001b[0m\n\u001b[1;32m      8\u001b[0m     \u001b[0mprint\u001b[0m\u001b[0;34m(\u001b[0m\u001b[0;34m\"Account not found\"\u001b[0m\u001b[0;34m)\u001b[0m\u001b[0;34m\u001b[0m\u001b[0;34m\u001b[0m\u001b[0m\n",
      "\u001b[0;32m~/opt/anaconda3/lib/python3.9/site-packages/ipykernel/kernelbase.py\u001b[0m in \u001b[0;36mraw_input\u001b[0;34m(self, prompt)\u001b[0m\n\u001b[1;32m   1175\u001b[0m                 \u001b[0;34m\"raw_input was called, but this frontend does not support input requests.\"\u001b[0m\u001b[0;34m\u001b[0m\u001b[0;34m\u001b[0m\u001b[0m\n\u001b[1;32m   1176\u001b[0m             )\n\u001b[0;32m-> 1177\u001b[0;31m         return self._input_request(\n\u001b[0m\u001b[1;32m   1178\u001b[0m             \u001b[0mstr\u001b[0m\u001b[0;34m(\u001b[0m\u001b[0mprompt\u001b[0m\u001b[0;34m)\u001b[0m\u001b[0;34m,\u001b[0m\u001b[0;34m\u001b[0m\u001b[0;34m\u001b[0m\u001b[0m\n\u001b[1;32m   1179\u001b[0m             \u001b[0mself\u001b[0m\u001b[0;34m.\u001b[0m\u001b[0m_parent_ident\u001b[0m\u001b[0;34m[\u001b[0m\u001b[0;34m\"shell\"\u001b[0m\u001b[0;34m]\u001b[0m\u001b[0;34m,\u001b[0m\u001b[0;34m\u001b[0m\u001b[0;34m\u001b[0m\u001b[0m\n",
      "\u001b[0;32m~/opt/anaconda3/lib/python3.9/site-packages/ipykernel/kernelbase.py\u001b[0m in \u001b[0;36m_input_request\u001b[0;34m(self, prompt, ident, parent, password)\u001b[0m\n\u001b[1;32m   1217\u001b[0m             \u001b[0;32mexcept\u001b[0m \u001b[0mKeyboardInterrupt\u001b[0m\u001b[0;34m:\u001b[0m\u001b[0;34m\u001b[0m\u001b[0;34m\u001b[0m\u001b[0m\n\u001b[1;32m   1218\u001b[0m                 \u001b[0;31m# re-raise KeyboardInterrupt, to truncate traceback\u001b[0m\u001b[0;34m\u001b[0m\u001b[0;34m\u001b[0m\u001b[0m\n\u001b[0;32m-> 1219\u001b[0;31m                 \u001b[0;32mraise\u001b[0m \u001b[0mKeyboardInterrupt\u001b[0m\u001b[0;34m(\u001b[0m\u001b[0;34m\"Interrupted by user\"\u001b[0m\u001b[0;34m)\u001b[0m \u001b[0;32mfrom\u001b[0m \u001b[0;32mNone\u001b[0m\u001b[0;34m\u001b[0m\u001b[0;34m\u001b[0m\u001b[0m\n\u001b[0m\u001b[1;32m   1220\u001b[0m             \u001b[0;32mexcept\u001b[0m \u001b[0mException\u001b[0m\u001b[0;34m:\u001b[0m\u001b[0;34m\u001b[0m\u001b[0;34m\u001b[0m\u001b[0m\n\u001b[1;32m   1221\u001b[0m                 \u001b[0mself\u001b[0m\u001b[0;34m.\u001b[0m\u001b[0mlog\u001b[0m\u001b[0;34m.\u001b[0m\u001b[0mwarning\u001b[0m\u001b[0;34m(\u001b[0m\u001b[0;34m\"Invalid Message:\"\u001b[0m\u001b[0;34m,\u001b[0m \u001b[0mexc_info\u001b[0m\u001b[0;34m=\u001b[0m\u001b[0;32mTrue\u001b[0m\u001b[0;34m)\u001b[0m\u001b[0;34m\u001b[0m\u001b[0;34m\u001b[0m\u001b[0m\n",
      "\u001b[0;31mKeyboardInterrupt\u001b[0m: Interrupted by user"
     ]
    }
   ],
   "source": [
    "accounts = {\n",
    "'001': 'Daniel Atkins',\n",
    "'002': 'Rachael Ingram', '003': 'Caiden McKee', '004': 'Tiara Johns', '005': 'Dawson Drake', '006': 'Lisa Short', '007': 'Karlee Richard', '008': 'Kaden Knox', '009': 'Kendrick Galvan', '010': 'Aidyn Herrera'\n",
    "}\n",
    "\n",
    "account = accounts.get(input(\"Please enter an account number: \"))\n",
    "if account == None:\n",
    "    print(\"Account not found\")\n",
    "else:\n",
    "    print(account)\n"
   ]
  },
  {
   "cell_type": "code",
   "execution_count": 108,
   "id": "c62c705f",
   "metadata": {},
   "outputs": [
    {
     "name": "stdout",
     "output_type": "stream",
     "text": [
      "{'001': 'Daniel Atkins', '002': 'Rachael Ingram', '004': 'Tiara Johns', '005': 'Dawson Drake', '006': 'Lisa Short', '007': 'Karlee Richard', '008': 'Kaden Knox', '009': 'Kendrick Galvan', '010': 'Aidyn Herrera'}\n"
     ]
    }
   ],
   "source": [
    "accounts.pop(\"003\")\n",
    "print(accounts)"
   ]
  },
  {
   "cell_type": "code",
   "execution_count": 114,
   "id": "730d2c20",
   "metadata": {},
   "outputs": [
    {
     "name": "stdout",
     "output_type": "stream",
     "text": [
      "Lisa Short\n"
     ]
    }
   ],
   "source": [
    "popped = accounts.pop(\"006\")\n",
    "print(popped)"
   ]
  },
  {
   "cell_type": "code",
   "execution_count": 117,
   "id": "dc45a301",
   "metadata": {},
   "outputs": [
    {
     "name": "stdout",
     "output_type": "stream",
     "text": [
      "List after 100025 {'100026': 'Frodi, Brandise', '100027': 'Daveta, Dorene', '100028': 'Liebermann, Paulita', '100029': 'Zola, Wynne', '100030': 'Heisel, Sue', '100031': 'Sigfrid, Jsandye', '100032': 'Kimmie, Jean', '100033': 'Muriel, Merle', '100034': 'Viddah, Nelle', '100035': 'Lewes, Selia', '100036': 'Lemuela, Marita', '100037': 'Kalinda, Tatiania', '100038': 'Firmin, Desirae', '100039': 'Casimir, Nita', '100040': 'Pillsbury, Stevana', '100041': 'Willie, Ira', '100042': 'Connelly, Etta', '100043': 'Cookie, Joleen', '100044': 'Himelman, Belva', '100045': 'Annabella, Ketti', '100046': 'Wandie, Brynna', '100047': 'Gaynor, Emelina', '100048': 'Christal, Tonia', '100049': 'Lowry, Wilma', '100050': 'Sholley, Corene'}\n",
      "=======================\n",
      "List before 100025 {'100001': 'Federica, Yolane', '100002': 'Celestine, Kirbee', '100003': 'Paton, Riannon', '100004': 'Abbot, Gilligan', '100005': 'Dorine, Chandra', '100006': 'Natica, Ginnie', '100007': 'Sperling, Lucille', '100008': 'Kermit, Iseabal', '100009': 'Kat, Tori', '100010': 'Estella, Cristine', '100011': 'Pauly, Genovera', '100012': 'Idelia, Beverley', '100013': 'Nickola, Nessie', '100014': 'Baudin, Jasmina', '100015': 'Bates, Lily', '100016': 'Martguerita, Keelia', '100017': 'Kirbee, Katharina', '100018': 'Camden, Eadie', '100019': 'Iphlgenia, Roberta', '100020': 'Saint, Joelly', '100021': 'Lowry, Eadie', '100022': 'Keelia, Tani', '100023': 'Philoo, Darlleen', '100024': 'Artie, Ginnie', '100025': 'Ajay, Roseline'}\n"
     ]
    }
   ],
   "source": [
    "newlist = dict()\n",
    "for key,value in list(acct_list.items()):\n",
    "    if int(key) > 100025:\n",
    "        newlist[key] = value \n",
    "        acct_list.pop(key)\n",
    "print(\"List after 100025\", newlist) \n",
    "print(\"=======================\") \n",
    "print(\"List before 100025\", acct_list)\n",
    "\n",
    "#acct_IDs = acct_list.keys() \n",
    "#acct_names = acct_list.values() \n",
    "#print(acct_IDs) \n",
    "#print(acct_names)\n"
   ]
  },
  {
   "cell_type": "code",
   "execution_count": 120,
   "id": "0cb53884",
   "metadata": {},
   "outputs": [
    {
     "name": "stdout",
     "output_type": "stream",
     "text": [
      "{'X10000': 'Michael', 'X10001': 'Nia', 'X10002': 'Anita'}\n",
      "{'X10000': 'Michael', 'X10001': 'Anil', 'X10002': 'Anita'}\n"
     ]
    }
   ],
   "source": [
    "#updating a dictionary\n",
    "\n",
    "students_dict = dict() \n",
    "students_dict['X10000'] = 'Michael' \n",
    "students_dict['X10001'] = 'Nia' \n",
    "students_dict['X10002'] = 'Anita'\n",
    "print(students_dict)\n",
    "students_dict[\"X10001\"] = \"Anil\"\n",
    "print(students_dict)"
   ]
  },
  {
   "cell_type": "code",
   "execution_count": 121,
   "id": "8c5e0df4",
   "metadata": {},
   "outputs": [
    {
     "name": "stdout",
     "output_type": "stream",
     "text": [
      "{'X10000': 'Michael', 'X10001': 'Anil', 'X10002': 'Anita', 'S10004': 'Karunanidhi'}\n"
     ]
    }
   ],
   "source": [
    "new_person = {'S10004': \"Karunanidhi\"}\n",
    "students_dict.update(new_person)\n",
    "print(students_dict)"
   ]
  },
  {
   "cell_type": "code",
   "execution_count": 123,
   "id": "2c5ac076",
   "metadata": {},
   "outputs": [
    {
     "data": {
      "text/plain": [
       "{'X10000': 'Michael',\n",
       " 'X10001': 'Anil',\n",
       " 'X10002': 'Anita',\n",
       " 'S10004': 'Karunanidhi',\n",
       " 'S10005': 'Surendra'}"
      ]
     },
     "execution_count": 123,
     "metadata": {},
     "output_type": "execute_result"
    }
   ],
   "source": [
    "new_person1 = {'S10005': \"Surendra\"}\n",
    "students_dict.update(new_person1)\n",
    "students_dict"
   ]
  },
  {
   "cell_type": "code",
   "execution_count": 125,
   "id": "a668570b",
   "metadata": {},
   "outputs": [
    {
     "data": {
      "text/plain": [
       "{'X10000': 'Michael',\n",
       " 'X10001': 'Anil',\n",
       " 'X10002': 'Anita',\n",
       " 'S10004': 'Karunanidhi',\n",
       " 'S10005': 'Surendra',\n",
       " 'S10006': 'Narendra'}"
      ]
     },
     "execution_count": 125,
     "metadata": {},
     "output_type": "execute_result"
    }
   ],
   "source": [
    "new_person2 = {'S10006': \"Narendra\"}\n",
    "students_dict.update(new_person2)\n",
    "students_dict\n"
   ]
  },
  {
   "cell_type": "code",
   "execution_count": 127,
   "id": "2cd07ab2",
   "metadata": {},
   "outputs": [
    {
     "name": "stdout",
     "output_type": "stream",
     "text": [
      "{'X10000': 'Michael', 'X10001': 'Anil', 'X10002': 'Anita', 'S10004': 'Karunanidhi', 'S10005': 'Surendra', 'S10006': 'Narendra', 'S10007': 'Anusha karpi'}\n"
     ]
    }
   ],
   "source": [
    "new_staff = {\"S10007\": \"Anusha karpi\"}\n",
    "students_dict.update(new_staff)\n",
    "print(students_dict)"
   ]
  },
  {
   "cell_type": "code",
   "execution_count": 128,
   "id": "bac6e017",
   "metadata": {},
   "outputs": [
    {
     "name": "stdout",
     "output_type": "stream",
     "text": [
      "{'X10000': 'Michael', 'X10001': 'Anil', 'X10002': 'Anita', 'S10004': 'Karunanidhi', 'S10005': 'Surendra', 'S10006': 'Narendra', 'S10007': 'Anusha karpi', 'S10008': 'Ramchandran Fraud'}\n"
     ]
    }
   ],
   "source": [
    "new_staff = {\"S10008\": \"Ramchandran Fraud\"}\n",
    "students_dict.update(new_staff)\n",
    "print(students_dict)"
   ]
  },
  {
   "cell_type": "code",
   "execution_count": 129,
   "id": "8b83d9f9",
   "metadata": {},
   "outputs": [
    {
     "data": {
      "text/plain": [
       "{'name': 'Enzo Stephens',\n",
       " 'accounts': ['Checking', 'Savings', 'Auto Loan'],\n",
       " 'address': '321 Smithfield Lane, New Town, PA, 11876'}"
      ]
     },
     "execution_count": 129,
     "metadata": {},
     "output_type": "execute_result"
    }
   ],
   "source": [
    "info = {\n",
    "\"name\": \"Enzo\",\n",
    "\"accounts\":\"\",\n",
    "\"address\":\"\", }\n",
    "\n",
    "new_info = {'name' : \"Enzo Stephens\", 'accounts': ['Checking', 'Savings','Auto Loan'], 'address':'321 Smithfield Lane, New Town, PA, 11876' }\n",
    "info.update(new_info)\n",
    "info"
   ]
  },
  {
   "cell_type": "code",
   "execution_count": 138,
   "id": "f5f320d6",
   "metadata": {},
   "outputs": [
    {
     "name": "stdout",
     "output_type": "stream",
     "text": [
      "{100000: 48213, 100001: 51734, 100002: 57182, 100003: 80223, 100004: 126407, 100006: 31751, 100007: 103604, 100008: 56302, 100009: 102858, 100010: 62231, 100011: 74452, 100012: 114445, 100013: 116356, 100014: 93835, 100015: 117400, 100016: 86871, 100017: 110701, 100018: 140843, 100019: 70847, 100020: 121284, 100021: 65575, 100022: 58480, 100023: 91149, 100024: 16864, 100025: 95236, 100026: 112596, 100027: 13542, 100028: 149743, 100029: 64281, 100030: 112104, 100031: 148971, 100032: 22793, 100033: 111465, 100034: 16781, 100035: 36179, 100036: 108157, 100037: 40644, 100038: 20916, 100040: 20919, 100041: 147567, 100042: 111814, 100043: 54442, 100045: 90014, 100046: 18668, 100047: 125017, 100049: 109160}\n"
     ]
    }
   ],
   "source": [
    "acct_bals = { 100000 : 48213,\n",
    "100001 : 51734, 100002 : 57182, 100003 : 80223, 100004 : 126407, 100005 : 6906, 100006 : 31751, 100007 : 103604, 100008 : 56302, 100009 : 102858, 100010 : 62231, 100011 : 74452, 100012 : 114445,\n",
    "             100013 : 116356, 100014 : 93835, 100015 : 117400, 100016 : 86871, 100017 : 110701, 100018 : 140843, 100019 : 70847, 100020 : 121284, 100021 : 65575, 100022 : 58480, 100023 : 91149, 100024 : 16864, 100025 : 95236, 100026 : 112596, 100027 : 13542, 100028 : 149743, 100029 : 64281, 100030 : 112104, 100031 : 148971, 100032 : 22793, 100033 : 111465, 100034 : 16781, 100035 : 36179, 100036 : 108157, 100037 : 40644, 100038 : 20916, 100039 : 9413, 100040 : 20919, 100041 : 147567, 100042 : 111814, 100043 : 54442, 100044 : 7364, 100045 : 90014, 100046 : 18668, 100047 : 125017, 100048 : 8983, 100049 : 109160\n",
    "}\n",
    "\n",
    "highwealth_list = acct_bals.copy()\n",
    "#print(highwealth_list)\n",
    "for key, value in list(highwealth_list.items()):\n",
    "    if value < 10000:\n",
    "        highwealth_list.pop(key)\n",
    "print(highwealth_list)\n",
    "        "
   ]
  },
  {
   "cell_type": "code",
   "execution_count": null,
   "id": "9f4922fd",
   "metadata": {},
   "outputs": [],
   "source": []
  }
 ],
 "metadata": {
  "kernelspec": {
   "display_name": "Python 3 (ipykernel)",
   "language": "python",
   "name": "python3"
  },
  "language_info": {
   "codemirror_mode": {
    "name": "ipython",
    "version": 3
   },
   "file_extension": ".py",
   "mimetype": "text/x-python",
   "name": "python",
   "nbconvert_exporter": "python",
   "pygments_lexer": "ipython3",
   "version": "3.9.13"
  }
 },
 "nbformat": 4,
 "nbformat_minor": 5
}
