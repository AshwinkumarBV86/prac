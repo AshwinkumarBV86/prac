{
 "cells": [
  {
   "cell_type": "code",
   "execution_count": 1,
   "id": "a9eb02b8",
   "metadata": {},
   "outputs": [],
   "source": [
    "import pandas as pd\n",
    "import numpy as np\n",
    "import datetime\n",
    "import matplotlib.pyplot as plt\n",
    "\n",
    "%matplotlib inline\n",
    "pd.set_option('display.notebook_repr_html', False)\n",
    "pd.set_option('display.max_columns', 15)\n",
    "pd.set_option('display.max_rows', 8)\n",
    "#pd.set_option('precision', 3)"
   ]
  },
  {
   "cell_type": "code",
   "execution_count": 2,
   "id": "e1ed26e0",
   "metadata": {},
   "outputs": [],
   "source": [
    "msft = pd.read_csv('msft.csv', index_col = 0, parse_dates = True)\n",
    "aapl = pd.read_csv('aapl.csv', index_col = 0, parse_dates = True)"
   ]
  },
  {
   "cell_type": "code",
   "execution_count": 3,
   "id": "1ce512d2",
   "metadata": {},
   "outputs": [
    {
     "data": {
      "text/plain": [
       "             Open   High    Low  Close    Volume  Adj Close\n",
       "Date                                                       \n",
       "2012-01-03  26.55  26.96  26.39  26.77  64731500   24.42183\n",
       "2012-01-04  26.82  27.47  26.78  27.40  80516100   24.99657\n",
       "2012-01-05  27.38  27.73  27.29  27.68  56081400   25.25201"
      ]
     },
     "execution_count": 3,
     "metadata": {},
     "output_type": "execute_result"
    }
   ],
   "source": [
    "msft[:3]"
   ]
  },
  {
   "cell_type": "code",
   "execution_count": 4,
   "id": "cf1077f4",
   "metadata": {},
   "outputs": [
    {
     "data": {
      "text/plain": [
       "                 Open       High        Low      Close    Volume  Adj Close\n",
       "Date                                                                       \n",
       "2012-01-03  409.39996  412.50000  409.00000  411.22998  75555200   55.41362\n",
       "2012-01-04  410.00000  414.68002  409.28000  413.44000  65005500   55.71143\n",
       "2012-01-05  414.94998  418.55002  412.67004  418.03000  67817400   56.32993"
      ]
     },
     "execution_count": 4,
     "metadata": {},
     "output_type": "execute_result"
    }
   ],
   "source": [
    "aapl[0:3]"
   ]
  },
  {
   "cell_type": "code",
   "execution_count": 5,
   "id": "ecf99bd2",
   "metadata": {},
   "outputs": [
    {
     "name": "stderr",
     "output_type": "stream",
     "text": [
      "/var/folders/q6/g7092d4n0qd1jz1vdnn2st200000gn/T/ipykernel_803/1871248625.py:1: FutureWarning: Indexing a DataFrame with a datetimelike index using a single string to slice the rows, like `frame[string]`, is deprecated and will be removed in a future version. Use `frame.loc[string]` instead.\n",
      "  msftA01 = msft['2012-01'][\"Adj Close\"] #contains 20 rows\n",
      "/var/folders/q6/g7092d4n0qd1jz1vdnn2st200000gn/T/ipykernel_803/1871248625.py:2: FutureWarning: Indexing a DataFrame with a datetimelike index using a single string to slice the rows, like `frame[string]`, is deprecated and will be removed in a future version. Use `frame.loc[string]` instead.\n",
      "  msftA02 = msft['2012-02']['Adj Close']#contains 20 rows\n"
     ]
    }
   ],
   "source": [
    "msftA01 = msft['2012-01'][\"Adj Close\"] #contains 20 rows\n",
    "msftA02 = msft['2012-02']['Adj Close']#contains 20 rows"
   ]
  },
  {
   "cell_type": "code",
   "execution_count": 6,
   "id": "33aa2349",
   "metadata": {},
   "outputs": [
    {
     "data": {
      "text/plain": [
       "Date\n",
       "2012-01-03    24.42183\n",
       "2012-01-04    24.99657\n",
       "2012-01-05    25.25201\n",
       "Name: Adj Close, dtype: float64"
      ]
     },
     "execution_count": 6,
     "metadata": {},
     "output_type": "execute_result"
    }
   ],
   "source": [
    "msftA01[0:3]"
   ]
  },
  {
   "cell_type": "code",
   "execution_count": 7,
   "id": "9aaae859",
   "metadata": {},
   "outputs": [
    {
     "data": {
      "text/plain": [
       "Date\n",
       "2012-02-01    27.26815\n",
       "2012-02-02    27.32289\n",
       "2012-02-03    27.58745\n",
       "Name: Adj Close, dtype: float64"
      ]
     },
     "execution_count": 7,
     "metadata": {},
     "output_type": "execute_result"
    }
   ],
   "source": [
    "msftA02[0:3]\n"
   ]
  },
  {
   "cell_type": "code",
   "execution_count": 10,
   "id": "0284466f",
   "metadata": {},
   "outputs": [
    {
     "data": {
      "text/plain": [
       "Date\n",
       "2012-01-03    24.42183\n",
       "2012-01-04    24.99657\n",
       "2012-01-05    25.25201\n",
       "2012-02-01    27.26815\n",
       "2012-02-02    27.32289\n",
       "2012-02-03    27.58745\n",
       "Name: Adj Close, dtype: float64"
      ]
     },
     "execution_count": 10,
     "metadata": {},
     "output_type": "execute_result"
    }
   ],
   "source": [
    "pd.concat([msftA01.head(3),msftA02.head(3)], ignore_index = False, sort = False)\n"
   ]
  },
  {
   "cell_type": "code",
   "execution_count": 11,
   "id": "cb56b0ad",
   "metadata": {},
   "outputs": [
    {
     "name": "stderr",
     "output_type": "stream",
     "text": [
      "/var/folders/q6/g7092d4n0qd1jz1vdnn2st200000gn/T/ipykernel_803/2511024928.py:1: FutureWarning: Indexing a DataFrame with a datetimelike index using a single string to slice the rows, like `frame[string]`, is deprecated and will be removed in a future version. Use `frame.loc[string]` instead.\n",
      "  aaplA01 = aapl['2012-01']['Adj Close']\n"
     ]
    }
   ],
   "source": [
    "aaplA01 = aapl['2012-01']['Adj Close']"
   ]
  },
  {
   "cell_type": "code",
   "execution_count": 13,
   "id": "005a22bd",
   "metadata": {},
   "outputs": [
    {
     "data": {
      "text/plain": [
       "Date\n",
       "2012-01-03    55.41362\n",
       "2012-01-04    55.71143\n",
       "2012-01-05    56.32993\n",
       "Name: Adj Close, dtype: float64"
      ]
     },
     "execution_count": 13,
     "metadata": {},
     "output_type": "execute_result"
    }
   ],
   "source": [
    "aaplA01.head(3)"
   ]
  },
  {
   "cell_type": "code",
   "execution_count": 14,
   "id": "1c4b97fa",
   "metadata": {},
   "outputs": [
    {
     "data": {
      "text/plain": [
       "Date\n",
       "2012-01-03    24.42183\n",
       "2012-01-04    24.99657\n",
       "2012-01-05    25.25201\n",
       "2012-01-03    55.41362\n",
       "2012-01-04    55.71143\n",
       "2012-01-05    56.32993\n",
       "Name: Adj Close, dtype: float64"
      ]
     },
     "execution_count": 14,
     "metadata": {},
     "output_type": "execute_result"
    }
   ],
   "source": [
    "withDups = pd.concat([msftA01[0:3], aaplA01[0:3]])\n",
    "withDups"
   ]
  },
  {
   "cell_type": "code",
   "execution_count": 15,
   "id": "3e2a2405",
   "metadata": {},
   "outputs": [
    {
     "data": {
      "text/plain": [
       "Date\n",
       "2012-01-03    24.42183\n",
       "2012-01-03    55.41362\n",
       "Name: Adj Close, dtype: float64"
      ]
     },
     "execution_count": 15,
     "metadata": {},
     "output_type": "execute_result"
    }
   ],
   "source": [
    "withDups.loc['2012-01-03']"
   ]
  },
  {
   "cell_type": "code",
   "execution_count": 16,
   "id": "7d67e863",
   "metadata": {},
   "outputs": [
    {
     "data": {
      "text/plain": [
       "      Date      \n",
       "MSFT  2012-01-03    24.42183\n",
       "      2012-01-04    24.99657\n",
       "      2012-01-05    25.25201\n",
       "AAPL  2012-01-03    55.41362\n",
       "      2012-01-04    55.71143\n",
       "      2012-01-05    56.32993\n",
       "Name: Adj Close, dtype: float64"
      ]
     },
     "execution_count": 16,
     "metadata": {},
     "output_type": "execute_result"
    }
   ],
   "source": [
    "closes = pd.concat([msftA01[0:3], aaplA01[0:3]], keys=['MSFT','AAPL'])\n",
    "closes"
   ]
  },
  {
   "cell_type": "code",
   "execution_count": 17,
   "id": "57cc2fe0",
   "metadata": {},
   "outputs": [
    {
     "data": {
      "text/plain": [
       "MultiIndex([('MSFT', '2012-01-03'),\n",
       "            ('MSFT', '2012-01-04'),\n",
       "            ('MSFT', '2012-01-05'),\n",
       "            ('AAPL', '2012-01-03'),\n",
       "            ('AAPL', '2012-01-04'),\n",
       "            ('AAPL', '2012-01-05')],\n",
       "           names=[None, 'Date'])"
      ]
     },
     "execution_count": 17,
     "metadata": {},
     "output_type": "execute_result"
    }
   ],
   "source": [
    "closes.index"
   ]
  },
  {
   "cell_type": "code",
   "execution_count": 18,
   "id": "b353ec28",
   "metadata": {},
   "outputs": [
    {
     "data": {
      "text/plain": [
       "Date\n",
       "2012-01-03    24.42183\n",
       "2012-01-04    24.99657\n",
       "2012-01-05    25.25201\n",
       "Name: Adj Close, dtype: float64"
      ]
     },
     "execution_count": 18,
     "metadata": {},
     "output_type": "execute_result"
    }
   ],
   "source": [
    "closes.loc['MSFT'][0:3]"
   ]
  },
  {
   "cell_type": "code",
   "execution_count": 19,
   "id": "ab55ae18",
   "metadata": {},
   "outputs": [],
   "source": [
    "msftAV = msft[[\"Adj Close\",\"Volume\"]]\n",
    "aaplAV = aapl[[\"Adj Close\",\"Volume\"]]"
   ]
  },
  {
   "cell_type": "code",
   "execution_count": 20,
   "id": "ce0250bc",
   "metadata": {},
   "outputs": [
    {
     "data": {
      "text/plain": [
       "            Adj Close    Volume\n",
       "Date                           \n",
       "2012-01-03   24.42183  64731500\n",
       "2012-01-04   24.99657  80516100\n",
       "2012-01-05   25.25201  56081400"
      ]
     },
     "execution_count": 20,
     "metadata": {},
     "output_type": "execute_result"
    }
   ],
   "source": [
    "msftAV[0:3]"
   ]
  },
  {
   "cell_type": "code",
   "execution_count": 21,
   "id": "97c1b282",
   "metadata": {},
   "outputs": [
    {
     "data": {
      "text/plain": [
       "            Adj Close    Volume\n",
       "Date                           \n",
       "2012-01-03   55.41362  75555200\n",
       "2012-01-04   55.71143  65005500\n",
       "2012-01-05   56.32993  67817400"
      ]
     },
     "execution_count": 21,
     "metadata": {},
     "output_type": "execute_result"
    }
   ],
   "source": [
    "aaplAV[0:3]"
   ]
  },
  {
   "cell_type": "code",
   "execution_count": 22,
   "id": "a96d4be6",
   "metadata": {},
   "outputs": [
    {
     "data": {
      "text/plain": [
       "                 Adj Close    Volume\n",
       "     Date                           \n",
       "MSFT 2012-01-03   24.42183  64731500\n",
       "     2012-01-04   24.99657  80516100\n",
       "     2012-01-05   25.25201  56081400\n",
       "AAPL 2012-01-03   55.41362  75555200\n",
       "     2012-01-04   55.71143  65005500\n",
       "     2012-01-05   56.32993  67817400"
      ]
     },
     "execution_count": 22,
     "metadata": {},
     "output_type": "execute_result"
    }
   ],
   "source": [
    "pd.concat([msftAV[0:3],aaplAV[0:3] ], keys = [\"MSFT\", \"AAPL\"])"
   ]
  },
  {
   "cell_type": "code",
   "execution_count": 31,
   "id": "f1a01d17",
   "metadata": {},
   "outputs": [
    {
     "data": {
      "text/plain": [
       "            Adj Close      Volume\n",
       "Date                             \n",
       "2012-01-03   24.42183  64731500.0\n",
       "2012-01-04   24.99657  80516100.0\n",
       "2012-01-05   25.25201  56081400.0\n",
       "2012-01-06   25.64429  99455500.0\n",
       "...               ...         ...\n",
       "2012-12-24   70.71585         NaN\n",
       "2012-12-26   69.74111         NaN\n",
       "2012-12-27   70.02116         NaN\n",
       "2012-12-28   69.27753         NaN\n",
       "\n",
       "[498 rows x 2 columns]"
      ]
     },
     "execution_count": 31,
     "metadata": {},
     "output_type": "execute_result"
    }
   ],
   "source": [
    "aaplA = aapl[['Adj Close']]\n",
    "pd.concat([msftAV, aaplA])\n"
   ]
  },
  {
   "cell_type": "code",
   "execution_count": 36,
   "id": "1e2dfe15",
   "metadata": {},
   "outputs": [
    {
     "data": {
      "text/plain": [
       "            Adj Close  Adj Close\n",
       "Date                            \n",
       "2012-01-03   24.42183   55.41362\n",
       "2012-01-04   24.99657   55.71143\n",
       "2012-01-05   25.25201   56.32993"
      ]
     },
     "execution_count": 36,
     "metadata": {},
     "output_type": "execute_result"
    }
   ],
   "source": [
    "msftA = msft[['Adj Close']]\n",
    "closes = pd.concat([msftA, aaplA], axis=1)\n",
    "closes[0:3]"
   ]
  },
  {
   "cell_type": "code",
   "execution_count": 40,
   "id": "9265b9da",
   "metadata": {},
   "outputs": [
    {
     "data": {
      "text/plain": [
       "              MSFTAV              AAPLAV            \n",
       "           Adj Close    Volume Adj Close      Volume\n",
       "Date                                                \n",
       "2012-01-03  24.42183  64731500  55.41362  75555200.0\n",
       "2012-01-04  24.99657  80516100  55.71143  65005500.0\n",
       "2012-01-05  25.25201  56081400  56.32993  67817400.0\n",
       "2012-01-06  25.64429  99455500       NaN         NaN\n",
       "2012-01-09  25.30675  59706800       NaN         NaN"
      ]
     },
     "execution_count": 40,
     "metadata": {},
     "output_type": "execute_result"
    }
   ],
   "source": [
    "pd.concat([msftAV[0:5], aaplAV[0:3]], axis=1, keys = [\"MSFTAV\", 'AAPLAV'])"
   ]
  },
  {
   "cell_type": "code",
   "execution_count": 51,
   "id": "bcf394ee",
   "metadata": {},
   "outputs": [
    {
     "data": {
      "text/plain": [
       "                   0         1         2         3\n",
       "Date                                              \n",
       "2012-01-03  24.42183  64731500  55.41362  75555200\n",
       "2012-01-04  24.99657  80516100  55.71143  65005500\n",
       "2012-01-05  25.25201  56081400  56.32993  67817400"
      ]
     },
     "execution_count": 51,
     "metadata": {},
     "output_type": "execute_result"
    }
   ],
   "source": [
    "pd.concat([msftAV[:5], aaplAV[:3]], axis = 1, join=\"inner\", keys=[\"msftAV\",'aaplAV'])"
   ]
  },
  {
   "cell_type": "code",
   "execution_count": 58,
   "id": "57009eac",
   "metadata": {},
   "outputs": [
    {
     "data": {
      "text/plain": [
       "   Adj Close\n",
       "0   24.42183\n",
       "1   24.99657\n",
       "2   25.25201\n",
       "3   25.64429\n",
       "4   25.30675\n",
       "5   55.41362\n",
       "6   55.71143\n",
       "7   56.32993"
      ]
     },
     "execution_count": 58,
     "metadata": {},
     "output_type": "execute_result"
    }
   ],
   "source": [
    "pd.concat([msftA[:5], aaplA[:3]], ignore_index=True)"
   ]
  },
  {
   "cell_type": "code",
   "execution_count": 65,
   "id": "a91f96cb",
   "metadata": {},
   "outputs": [
    {
     "data": {
      "text/plain": [
       "        Date  Adj Close\n",
       "0 2012-01-03   24.42183\n",
       "1 2012-01-04   24.99657\n",
       "2 2012-01-05   25.25201"
      ]
     },
     "execution_count": 65,
     "metadata": {},
     "output_type": "execute_result"
    }
   ],
   "source": [
    "msftAR = msftA.reset_index()\n",
    "msftVR = msft[['Volume']].reset_index()\n",
    "msftAR[:3]"
   ]
  },
  {
   "cell_type": "code",
   "execution_count": 66,
   "id": "7aff8b4e",
   "metadata": {},
   "outputs": [
    {
     "data": {
      "text/plain": [
       "        Date    Volume\n",
       "0 2012-01-03  64731500\n",
       "1 2012-01-04  80516100\n",
       "2 2012-01-05  56081400"
      ]
     },
     "execution_count": 66,
     "metadata": {},
     "output_type": "execute_result"
    }
   ],
   "source": [
    "msftVR[:3]"
   ]
  },
  {
   "cell_type": "code",
   "execution_count": 68,
   "id": "eacfe0dc",
   "metadata": {},
   "outputs": [
    {
     "data": {
      "text/plain": [
       "        Date  Adj Close    Volume\n",
       "0 2012-01-03   24.42183  64731500\n",
       "1 2012-01-04   24.99657  80516100\n",
       "2 2012-01-05   25.25201  56081400\n",
       "3 2012-01-06   25.64429  99455500\n",
       "4 2012-01-09   25.30675  59706800"
      ]
     },
     "execution_count": 68,
     "metadata": {},
     "output_type": "execute_result"
    }
   ],
   "source": [
    "msftCVR = pd.merge(msftAR,msftVR)\n",
    "msftCVR[:5]"
   ]
  },
  {
   "cell_type": "code",
   "execution_count": 74,
   "id": "ba74d07c",
   "metadata": {},
   "outputs": [
    {
     "data": {
      "text/plain": [
       "        Date  Adj Close\n",
       "0 2012-01-03   24.42183\n",
       "1 2012-01-04   24.99657\n",
       "2 2012-01-05   25.25201\n",
       "3 2012-01-06   25.64429\n",
       "4 2012-01-09   25.30675"
      ]
     },
     "execution_count": 74,
     "metadata": {},
     "output_type": "execute_result"
    }
   ],
   "source": [
    "msftAR0_5 = msftAR[0:5]\n",
    "msftAR0_5"
   ]
  },
  {
   "cell_type": "code",
   "execution_count": 73,
   "id": "7ac4bd31",
   "metadata": {},
   "outputs": [
    {
     "data": {
      "text/plain": [
       "        Date    Volume\n",
       "2 2012-01-05  56081400\n",
       "3 2012-01-06  99455500"
      ]
     },
     "execution_count": 73,
     "metadata": {},
     "output_type": "execute_result"
    }
   ],
   "source": [
    "msftVR2_4 = msftVR[2:4]\n",
    "msftVR2_4"
   ]
  },
  {
   "cell_type": "code",
   "execution_count": 75,
   "id": "164409c9",
   "metadata": {},
   "outputs": [
    {
     "data": {
      "text/plain": [
       "        Date  Adj Close    Volume\n",
       "0 2012-01-05   25.25201  56081400\n",
       "1 2012-01-06   25.64429  99455500"
      ]
     },
     "execution_count": 75,
     "metadata": {},
     "output_type": "execute_result"
    }
   ],
   "source": [
    "pd.merge(msftAR0_5,msftVR2_4)"
   ]
  },
  {
   "cell_type": "code",
   "execution_count": 78,
   "id": "e0bbe4f9",
   "metadata": {},
   "outputs": [
    {
     "data": {
      "text/plain": [
       "        Date  Adj Close      Volume\n",
       "0 2012-01-03   24.42183         NaN\n",
       "1 2012-01-04   24.99657         NaN\n",
       "2 2012-01-05   25.25201  56081400.0\n",
       "3 2012-01-06   25.64429  99455500.0\n",
       "4 2012-01-09   25.30675         NaN"
      ]
     },
     "execution_count": 78,
     "metadata": {},
     "output_type": "execute_result"
    }
   ],
   "source": [
    "pd.merge(msftAR0_5,msftVR2_4, how=\"outer\")"
   ]
  },
  {
   "cell_type": "code",
   "execution_count": 85,
   "id": "54281c1a",
   "metadata": {},
   "outputs": [
    {
     "name": "stdout",
     "output_type": "stream",
     "text": [
      "           Symbol   Open   High    Low  Close    Volume  Adj Close\n",
      "Date                                                              \n",
      "2012-01-03   MSFT  26.55  26.96  26.39  26.77  64731500   24.42183\n",
      "2012-01-04   MSFT  26.82  27.47  26.78  27.40  80516100   24.99657\n",
      "2012-01-05   MSFT  27.38  27.73  27.29  27.68  56081400   25.25201\n",
      "           Symbol       Open       High        Low      Close    Volume  \\\n",
      "Date                                                                      \n",
      "2012-01-03   AAPL  409.39996  412.50000  409.00000  411.22998  75555200   \n",
      "2012-01-04   AAPL  410.00000  414.68002  409.28000  413.44000  65005500   \n",
      "2012-01-05   AAPL  414.94998  418.55002  412.67004  418.03000  67817400   \n",
      "\n",
      "            Adj Close  \n",
      "Date                   \n",
      "2012-01-03   55.41362  \n",
      "2012-01-04   55.71143  \n",
      "2012-01-05   56.32993  \n"
     ]
    }
   ],
   "source": [
    "print(msft[:3])\n",
    "print(aapl[:3])"
   ]
  },
  {
   "cell_type": "code",
   "execution_count": 82,
   "id": "d3997d96",
   "metadata": {},
   "outputs": [],
   "source": [
    "msft.insert(0, 'Symbol', 'MSFT')\n",
    "aapl.insert(0, 'Symbol', 'AAPL')"
   ]
  },
  {
   "cell_type": "code",
   "execution_count": 89,
   "id": "032f0e22",
   "metadata": {},
   "outputs": [
    {
     "data": {
      "text/plain": [
       "           Symbol       Open       High        Low      Close     Volume  \\\n",
       "Date                                                                       \n",
       "2012-01-03   MSFT   26.55000   26.96000   26.39000   26.77000   64731500   \n",
       "2012-01-03   AAPL  409.39996  412.50000  409.00000  411.22998   75555200   \n",
       "2012-01-04   MSFT   26.82000   27.47000   26.78000   27.40000   80516100   \n",
       "2012-01-04   AAPL  410.00000  414.68002  409.28000  413.44000   65005500   \n",
       "...           ...        ...        ...        ...        ...        ...   \n",
       "2012-12-27   AAPL  513.54004  516.25000  504.66003  515.06000  113780100   \n",
       "2012-12-27   MSFT   26.89000   27.09000   26.57000   26.96000   39394000   \n",
       "2012-12-28   MSFT   26.71000   26.90000   26.55000   26.55000   28239900   \n",
       "2012-12-28   AAPL  510.28998  514.47998  508.12000  509.58997   88569600   \n",
       "\n",
       "            Adj Close  \n",
       "Date                   \n",
       "2012-01-03   24.42183  \n",
       "2012-01-03   55.41362  \n",
       "2012-01-04   24.99657  \n",
       "2012-01-04   55.71143  \n",
       "...               ...  \n",
       "2012-12-27   70.02116  \n",
       "2012-12-27   25.29074  \n",
       "2012-12-28   24.90612  \n",
       "2012-12-28   69.27753  \n",
       "\n",
       "[498 rows x 7 columns]"
      ]
     },
     "execution_count": 89,
     "metadata": {},
     "output_type": "execute_result"
    }
   ],
   "source": [
    "combined = pd.concat([msft, aapl]).sort_index()\n",
    "combined"
   ]
  },
  {
   "cell_type": "code",
   "execution_count": 90,
   "id": "ab96f08e",
   "metadata": {},
   "outputs": [
    {
     "data": {
      "text/plain": [
       "          Date Symbol       Open       High        Low      Close     Volume  \\\n",
       "0   2012-01-03   MSFT   26.55000   26.96000   26.39000   26.77000   64731500   \n",
       "1   2012-01-03   AAPL  409.39996  412.50000  409.00000  411.22998   75555200   \n",
       "2   2012-01-04   MSFT   26.82000   27.47000   26.78000   27.40000   80516100   \n",
       "3   2012-01-04   AAPL  410.00000  414.68002  409.28000  413.44000   65005500   \n",
       "..         ...    ...        ...        ...        ...        ...        ...   \n",
       "494 2012-12-27   AAPL  513.54004  516.25000  504.66003  515.06000  113780100   \n",
       "495 2012-12-27   MSFT   26.89000   27.09000   26.57000   26.96000   39394000   \n",
       "496 2012-12-28   MSFT   26.71000   26.90000   26.55000   26.55000   28239900   \n",
       "497 2012-12-28   AAPL  510.28998  514.47998  508.12000  509.58997   88569600   \n",
       "\n",
       "     Adj Close  \n",
       "0     24.42183  \n",
       "1     55.41362  \n",
       "2     24.99657  \n",
       "3     55.71143  \n",
       "..         ...  \n",
       "494   70.02116  \n",
       "495   25.29074  \n",
       "496   24.90612  \n",
       "497   69.27753  \n",
       "\n",
       "[498 rows x 8 columns]"
      ]
     },
     "execution_count": 90,
     "metadata": {},
     "output_type": "execute_result"
    }
   ],
   "source": [
    "s4p = combined.reset_index()\n",
    "s4p"
   ]
  },
  {
   "cell_type": "code",
   "execution_count": 95,
   "id": "6501d7c6",
   "metadata": {},
   "outputs": [
    {
     "data": {
      "text/plain": [
       "Symbol           AAPL   MSFT\n",
       "Date                        \n",
       "2012-01-03  409.39996  26.55\n",
       "2012-01-04  410.00000  26.82\n",
       "2012-01-05  414.94998  27.38\n",
       "2012-01-06  419.76999  27.53\n",
       "...               ...    ...\n",
       "2012-12-24  520.34998  27.20\n",
       "2012-12-26  519.00000  27.03\n",
       "2012-12-27  513.54004  26.89\n",
       "2012-12-28  510.28998  26.71\n",
       "\n",
       "[249 rows x 2 columns]"
      ]
     },
     "execution_count": 95,
     "metadata": {},
     "output_type": "execute_result"
    }
   ],
   "source": [
    "closes = s4p.pivot(index='Date', columns='Symbol', values='Open')\n",
    "closes"
   ]
  },
  {
   "cell_type": "code",
   "execution_count": null,
   "id": "c2b9f76a",
   "metadata": {},
   "outputs": [],
   "source": []
  },
  {
   "cell_type": "code",
   "execution_count": 98,
   "id": "f24a2bef",
   "metadata": {},
   "outputs": [
    {
     "data": {
      "text/plain": [
       "Date        Symbol\n",
       "2012-01-03  AAPL      409.39996\n",
       "            MSFT       26.55000\n",
       "2012-01-04  AAPL      410.00000\n",
       "            MSFT       26.82000\n",
       "                        ...    \n",
       "2012-12-27  AAPL      513.54004\n",
       "            MSFT       26.89000\n",
       "2012-12-28  AAPL      510.28998\n",
       "            MSFT       26.71000\n",
       "Length: 498, dtype: float64"
      ]
     },
     "execution_count": 98,
     "metadata": {},
     "output_type": "execute_result"
    }
   ],
   "source": [
    "stackedCloses = closes.stack()\n",
    "stackedCloses"
   ]
  },
  {
   "cell_type": "code",
   "execution_count": 99,
   "id": "a6f89a13",
   "metadata": {},
   "outputs": [
    {
     "data": {
      "text/plain": [
       "409.39996"
      ]
     },
     "execution_count": 99,
     "metadata": {},
     "output_type": "execute_result"
    }
   ],
   "source": [
    "stackedCloses.loc['2012-01-03','AAPL']"
   ]
  },
  {
   "cell_type": "code",
   "execution_count": 100,
   "id": "8be3b693",
   "metadata": {},
   "outputs": [
    {
     "data": {
      "text/plain": [
       "26.55"
      ]
     },
     "execution_count": 100,
     "metadata": {},
     "output_type": "execute_result"
    }
   ],
   "source": [
    "stackedCloses.loc['2012-01-03','MSFT']"
   ]
  },
  {
   "cell_type": "code",
   "execution_count": 101,
   "id": "50abd39e",
   "metadata": {},
   "outputs": [
    {
     "data": {
      "text/plain": [
       "Date\n",
       "2012-01-03    26.55\n",
       "2012-01-04    26.82\n",
       "2012-01-05    27.38\n",
       "2012-01-06    27.53\n",
       "              ...  \n",
       "2012-12-24    27.20\n",
       "2012-12-26    27.03\n",
       "2012-12-27    26.89\n",
       "2012-12-28    26.71\n",
       "Length: 249, dtype: float64"
      ]
     },
     "execution_count": 101,
     "metadata": {},
     "output_type": "execute_result"
    }
   ],
   "source": [
    "stackedCloses.loc[:, 'MSFT']"
   ]
  },
  {
   "cell_type": "code",
   "execution_count": 102,
   "id": "b9399d37",
   "metadata": {},
   "outputs": [
    {
     "data": {
      "text/plain": [
       "Symbol\n",
       "AAPL    409.39996\n",
       "MSFT     26.55000\n",
       "dtype: float64"
      ]
     },
     "execution_count": 102,
     "metadata": {},
     "output_type": "execute_result"
    }
   ],
   "source": [
    "stackedCloses['2012-01-03']"
   ]
  },
  {
   "cell_type": "code",
   "execution_count": 103,
   "id": "7af76b6c",
   "metadata": {},
   "outputs": [],
   "source": [
    "unstackedCloses = stackedCloses.unstack()"
   ]
  },
  {
   "cell_type": "code",
   "execution_count": 108,
   "id": "1255aba5",
   "metadata": {},
   "outputs": [
    {
     "data": {
      "text/plain": [
       "        Date Symbol       Open       High     Low      Close    Volume  \\\n",
       "0 2012-01-03   MSFT   26.55000   26.96000   26.39   26.77000  64731500   \n",
       "1 2012-01-03   AAPL  409.39996  412.50000  409.00  411.22998  75555200   \n",
       "2 2012-01-04   MSFT   26.82000   27.47000   26.78   27.40000  80516100   \n",
       "3 2012-01-04   AAPL  410.00000  414.68002  409.28  413.44000  65005500   \n",
       "4 2012-01-05   MSFT   27.38000   27.73000   27.29   27.68000  56081400   \n",
       "\n",
       "   Adj Close  \n",
       "0   24.42183  \n",
       "1   55.41362  \n",
       "2   24.99657  \n",
       "3   55.71143  \n",
       "4   25.25201  "
      ]
     },
     "execution_count": 108,
     "metadata": {},
     "output_type": "execute_result"
    }
   ],
   "source": [
    "s4p[:5]"
   ]
  },
  {
   "cell_type": "code",
   "execution_count": 106,
   "id": "23bab185",
   "metadata": {},
   "outputs": [
    {
     "data": {
      "text/plain": [
       "        Date Symbol variable      value\n",
       "0 2012-01-03   MSFT     Open   26.55000\n",
       "1 2012-01-03   AAPL     Open  409.39996\n",
       "2 2012-01-04   MSFT     Open   26.82000\n",
       "3 2012-01-04   AAPL     Open  410.00000\n",
       "4 2012-01-05   MSFT     Open   27.38000"
      ]
     },
     "execution_count": 106,
     "metadata": {},
     "output_type": "execute_result"
    }
   ],
   "source": [
    "melted = pd.melt(s4p, id_vars = ['Date', 'Symbol'])\n",
    "melted[:5]"
   ]
  },
  {
   "cell_type": "code",
   "execution_count": 145,
   "id": "c83bc65f",
   "metadata": {},
   "outputs": [
    {
     "data": {
      "text/plain": [
       "          Date Symbol  Adj Close\n",
       "0   2012-01-03   MSFT   24.42183\n",
       "1   2012-01-03   AAPL   55.41362\n",
       "2   2012-01-04   MSFT   24.99657\n",
       "3   2012-01-04   AAPL   55.71143\n",
       "..         ...    ...        ...\n",
       "494 2012-12-27   AAPL   70.02116\n",
       "495 2012-12-27   MSFT   25.29074\n",
       "496 2012-12-28   MSFT   24.90612\n",
       "497 2012-12-28   AAPL   69.27753\n",
       "\n",
       "[498 rows x 3 columns]"
      ]
     },
     "execution_count": 145,
     "metadata": {},
     "output_type": "execute_result"
    }
   ],
   "source": [
    "s4g = combined[['Symbol','Adj Close']].reset_index()\n",
    "s4g"
   ]
  },
  {
   "cell_type": "code",
   "execution_count": 146,
   "id": "a1d7e8a8",
   "metadata": {},
   "outputs": [],
   "source": [
    "s4g.insert(1, 'Year', pd.DatetimeIndex(s4g['Date']).year)"
   ]
  },
  {
   "cell_type": "code",
   "execution_count": 147,
   "id": "a5c4aaf0",
   "metadata": {},
   "outputs": [],
   "source": [
    "s4g.insert(2, 'Month', pd.DatetimeIndex(s4g['Date']).month)"
   ]
  },
  {
   "cell_type": "code",
   "execution_count": 148,
   "id": "d8a77739",
   "metadata": {},
   "outputs": [
    {
     "data": {
      "text/plain": [
       "         Date  Year  Month Symbol  Adj Close\n",
       "0  2012-01-03  2012      1   MSFT   24.42183\n",
       "1  2012-01-03  2012      1   AAPL   55.41362\n",
       "2  2012-01-04  2012      1   MSFT   24.99657\n",
       "3  2012-01-04  2012      1   AAPL   55.71143\n",
       "..        ...   ...    ...    ...        ...\n",
       "6  2012-01-06  2012      1   MSFT   25.64429\n",
       "7  2012-01-06  2012      1   AAPL   56.91880\n",
       "8  2012-01-09  2012      1   MSFT   25.30675\n",
       "9  2012-01-09  2012      1   AAPL   56.82851\n",
       "\n",
       "[10 rows x 5 columns]"
      ]
     },
     "execution_count": 148,
     "metadata": {},
     "output_type": "execute_result"
    }
   ],
   "source": [
    "s4g[:10]"
   ]
  },
  {
   "cell_type": "code",
   "execution_count": 149,
   "id": "ab6cdc4f",
   "metadata": {},
   "outputs": [
    {
     "data": {
      "text/plain": [
       "<pandas.core.groupby.generic.DataFrameGroupBy object at 0x7fa531028d00>"
      ]
     },
     "execution_count": 149,
     "metadata": {},
     "output_type": "execute_result"
    }
   ],
   "source": [
    "s4g.groupby('Symbol')"
   ]
  },
  {
   "cell_type": "code",
   "execution_count": 150,
   "id": "3d0d3e0b",
   "metadata": {},
   "outputs": [
    {
     "data": {
      "text/plain": [
       "pandas.io.formats.printing.PrettyDict"
      ]
     },
     "execution_count": 150,
     "metadata": {},
     "output_type": "execute_result"
    }
   ],
   "source": [
    "grouped = s4g.groupby('Symbol')\n",
    "type(grouped.groups)"
   ]
  },
  {
   "cell_type": "code",
   "execution_count": 151,
   "id": "f85fc843",
   "metadata": {},
   "outputs": [
    {
     "data": {
      "text/plain": [
       "{'AAPL': [1, 3, 5, 7, 9, 11, 13, 14, 16, 18, 20, 23, 25, 27, 29, 30, 33, 34, 37, 38, 41, 43, 44, 46, 49, 51, 52, 54, 57, 59, 61, 62, 64, 67, 68, 71, 72, 75, 77, 79, 81, 82, 84, 86, 89, 90, 93, 95, 96, 99, 100, 103, 105, 107, 109, 111, 112, 114, 117, 119, 121, 122, 124, 126, 128, 130, 132, 134, 137, 139, 140, 142, 145, 147, 149, 151, 153, 154, 156, 158, 160, 163, 164, 166, 168, 170, 173, 175, 176, 178, 180, 183, 184, 186, 189, 190, 193, 194, 196, 198, ...], 'MSFT': [0, 2, 4, 6, 8, 10, 12, 15, 17, 19, 21, 22, 24, 26, 28, 31, 32, 35, 36, 39, 40, 42, 45, 47, 48, 50, 53, 55, 56, 58, 60, 63, 65, 66, 69, 70, 73, 74, 76, 78, 80, 83, 85, 87, 88, 91, 92, 94, 97, 98, 101, 102, 104, 106, 108, 110, 113, 115, 116, 118, 120, 123, 125, 127, 129, 131, 133, 135, 136, 138, 141, 143, 144, 146, 148, 150, 152, 155, 157, 159, 161, 162, 165, 167, 169, 171, 172, 174, 177, 179, 181, 182, 185, 187, 188, 191, 192, 195, 197, 199, ...]}"
      ]
     },
     "execution_count": 151,
     "metadata": {},
     "output_type": "execute_result"
    }
   ],
   "source": [
    "grouped.groups"
   ]
  },
  {
   "cell_type": "code",
   "execution_count": 152,
   "id": "d19ce41c",
   "metadata": {},
   "outputs": [
    {
     "data": {
      "text/plain": [
       "(2, 2)"
      ]
     },
     "execution_count": 152,
     "metadata": {},
     "output_type": "execute_result"
    }
   ],
   "source": [
    "len(grouped), grouped.ngroups"
   ]
  },
  {
   "cell_type": "code",
   "execution_count": 153,
   "id": "a5748794",
   "metadata": {
    "scrolled": true
   },
   "outputs": [
    {
     "name": "stdout",
     "output_type": "stream",
     "text": [
      "AAPL\n",
      "          Date  Year  Month Symbol  Adj Close\n",
      "1   2012-01-03  2012      1   AAPL   55.41362\n",
      "3   2012-01-04  2012      1   AAPL   55.71143\n",
      "5   2012-01-05  2012      1   AAPL   56.32993\n",
      "7   2012-01-06  2012      1   AAPL   56.91880\n",
      "..         ...   ...    ...    ...        ...\n",
      "490 2012-12-24  2012     12   AAPL   70.71585\n",
      "492 2012-12-26  2012     12   AAPL   69.74111\n",
      "494 2012-12-27  2012     12   AAPL   70.02116\n",
      "497 2012-12-28  2012     12   AAPL   69.27753\n",
      "\n",
      "[249 rows x 5 columns]\n",
      "MSFT\n",
      "          Date  Year  Month Symbol  Adj Close\n",
      "0   2012-01-03  2012      1   MSFT   24.42183\n",
      "2   2012-01-04  2012      1   MSFT   24.99657\n",
      "4   2012-01-05  2012      1   MSFT   25.25201\n",
      "6   2012-01-06  2012      1   MSFT   25.64429\n",
      "..         ...   ...    ...    ...        ...\n",
      "491 2012-12-24  2012     12   MSFT   25.38455\n",
      "493 2012-12-26  2012     12   MSFT   25.19693\n",
      "495 2012-12-27  2012     12   MSFT   25.29074\n",
      "496 2012-12-28  2012     12   MSFT   24.90612\n",
      "\n",
      "[249 rows x 5 columns]\n"
     ]
    }
   ],
   "source": [
    "def print_groups(groupobject):\n",
    "    for name, group in groupobject:\n",
    "        print(name)\n",
    "        print(group)\n",
    "print_groups(grouped)"
   ]
  },
  {
   "cell_type": "code",
   "execution_count": 154,
   "id": "d3604dfe",
   "metadata": {},
   "outputs": [
    {
     "data": {
      "text/plain": [
       "Symbol\n",
       "AAPL    249\n",
       "MSFT    249\n",
       "dtype: int64"
      ]
     },
     "execution_count": 154,
     "metadata": {},
     "output_type": "execute_result"
    }
   ],
   "source": [
    "grouped.size()"
   ]
  },
  {
   "cell_type": "code",
   "execution_count": 155,
   "id": "6b277e4c",
   "metadata": {},
   "outputs": [
    {
     "data": {
      "text/plain": [
       "          Date  Year  Month Symbol  Adj Close\n",
       "0   2012-01-03  2012      1   MSFT   24.42183\n",
       "2   2012-01-04  2012      1   MSFT   24.99657\n",
       "4   2012-01-05  2012      1   MSFT   25.25201\n",
       "6   2012-01-06  2012      1   MSFT   25.64429\n",
       "..         ...   ...    ...    ...        ...\n",
       "491 2012-12-24  2012     12   MSFT   25.38455\n",
       "493 2012-12-26  2012     12   MSFT   25.19693\n",
       "495 2012-12-27  2012     12   MSFT   25.29074\n",
       "496 2012-12-28  2012     12   MSFT   24.90612\n",
       "\n",
       "[249 rows x 5 columns]"
      ]
     },
     "execution_count": 155,
     "metadata": {},
     "output_type": "execute_result"
    }
   ],
   "source": [
    "grouped.get_group('MSFT')"
   ]
  },
  {
   "cell_type": "code",
   "execution_count": 158,
   "id": "25c19428",
   "metadata": {},
   "outputs": [
    {
     "data": {
      "text/plain": [
       "Symbol  Year  Month\n",
       "AAPL    2012  1        20\n",
       "              2        20\n",
       "              3        22\n",
       "              4        20\n",
       "                       ..\n",
       "MSFT    2012  9        19\n",
       "              10       21\n",
       "              11       21\n",
       "              12       19\n",
       "Length: 24, dtype: int64"
      ]
     },
     "execution_count": 158,
     "metadata": {},
     "output_type": "execute_result"
    }
   ],
   "source": [
    "#multiple column group\n",
    "mcg = s4g.groupby(['Symbol','Year','Month'])\n",
    "mcg.size()"
   ]
  },
  {
   "cell_type": "code",
   "execution_count": 162,
   "id": "ff5def4a",
   "metadata": {},
   "outputs": [
    {
     "name": "stdout",
     "output_type": "stream",
     "text": [
      "('AAPL', 2012, 1)\n",
      "         Date  Year  Month Symbol  Adj Close\n",
      "1  2012-01-03  2012      1   AAPL   55.41362\n",
      "3  2012-01-04  2012      1   AAPL   55.71143\n",
      "5  2012-01-05  2012      1   AAPL   56.32993\n",
      "7  2012-01-06  2012      1   AAPL   56.91880\n",
      "..        ...   ...    ...    ...        ...\n",
      "33 2012-01-26  2012      1   AAPL   59.91430\n",
      "34 2012-01-27  2012      1   AAPL   60.27139\n",
      "37 2012-01-30  2012      1   AAPL   61.04352\n",
      "38 2012-01-31  2012      1   AAPL   61.51111\n",
      "\n",
      "[20 rows x 5 columns]\n",
      "('AAPL', 2012, 2)\n",
      "         Date  Year  Month Symbol  Adj Close\n",
      "41 2012-02-01  2012      2   AAPL   61.47202\n",
      "43 2012-02-02  2012      2   AAPL   61.32784\n",
      "44 2012-02-03  2012      2   AAPL   61.94231\n",
      "46 2012-02-06  2012      2   AAPL   62.52039\n",
      "..        ...   ...    ...    ...        ...\n",
      "72 2012-02-24  2012      2   AAPL   70.39523\n",
      "75 2012-02-27  2012      2   AAPL   70.84664\n",
      "77 2012-02-28  2012      2   AAPL   72.14699\n",
      "79 2012-02-29  2012      2   AAPL   73.09430\n",
      "\n",
      "[20 rows x 5 columns]\n",
      "('AAPL', 2012, 3)\n",
      "          Date  Year  Month Symbol  Adj Close\n",
      "81  2012-03-01  2012      3   AAPL   73.36784\n",
      "82  2012-03-02  2012      3   AAPL   73.46351\n",
      "84  2012-03-05  2012      3   AAPL   71.84380\n",
      "86  2012-03-06  2012      3   AAPL   71.45303\n",
      "..         ...   ...    ...    ...        ...\n",
      "117 2012-03-27  2012      3   AAPL   82.80175\n",
      "119 2012-03-28  2012      3   AAPL   83.22487\n",
      "121 2012-03-29  2012      3   AAPL   82.17921\n",
      "122 2012-03-30  2012      3   AAPL   80.78992\n",
      "\n",
      "[22 rows x 5 columns]\n",
      "('AAPL', 2012, 4)\n",
      "          Date  Year  Month Symbol  Adj Close\n",
      "124 2012-04-02  2012      4   AAPL   83.36096\n",
      "126 2012-04-03  2012      4   AAPL   84.80146\n",
      "128 2012-04-04  2012      4   AAPL   84.12635\n",
      "130 2012-04-05  2012      4   AAPL   85.38896\n",
      "..         ...   ...    ...    ...        ...\n",
      "156 2012-04-25  2012      4   AAPL   82.19807\n",
      "158 2012-04-26  2012      4   AAPL   81.88815\n",
      "160 2012-04-27  2012      4   AAPL   81.25481\n",
      "163 2012-04-30  2012      4   AAPL   78.69185\n",
      "\n",
      "[20 rows x 5 columns]\n",
      "('AAPL', 2012, 5)\n",
      "          Date  Year  Month Symbol  Adj Close\n",
      "164 2012-05-01  2012      5   AAPL   78.44256\n",
      "166 2012-05-02  2012      5   AAPL   78.96136\n",
      "168 2012-05-03  2012      5   AAPL   78.40079\n",
      "170 2012-05-04  2012      5   AAPL   76.16796\n",
      "..         ...   ...    ...    ...        ...\n",
      "200 2012-05-25  2012      5   AAPL   75.76910\n",
      "202 2012-05-29  2012      5   AAPL   77.11391\n",
      "205 2012-05-30  2012      5   AAPL   78.04369\n",
      "207 2012-05-31  2012      5   AAPL   77.84966\n",
      "\n",
      "[22 rows x 5 columns]\n",
      "('AAPL', 2012, 6)\n",
      "          Date  Year  Month Symbol  Adj Close\n",
      "208 2012-06-01  2012      6   AAPL   75.59393\n",
      "211 2012-06-04  2012      6   AAPL   76.03860\n",
      "213 2012-06-05  2012      6   AAPL   75.84187\n",
      "215 2012-06-06  2012      6   AAPL   77.00476\n",
      "..         ...   ...    ...    ...        ...\n",
      "242 2012-06-26  2012      6   AAPL   77.08157\n",
      "244 2012-06-27  2012      6   AAPL   77.41441\n",
      "247 2012-06-28  2012      6   AAPL   76.68002\n",
      "248 2012-06-29  2012      6   AAPL   78.69454\n",
      "\n",
      "[21 rows x 5 columns]\n",
      "('AAPL', 2012, 7)\n",
      "          Date  Year  Month Symbol  Adj Close\n",
      "250 2012-07-02  2012      7   AAPL   79.84262\n",
      "252 2012-07-03  2012      7   AAPL   80.77105\n",
      "254 2012-07-05  2012      7   AAPL   82.18999\n",
      "257 2012-07-06  2012      7   AAPL   81.64290\n",
      "..         ...   ...    ...    ...        ...\n",
      "284 2012-07-26  2012      7   AAPL   77.46561\n",
      "286 2012-07-27  2012      7   AAPL   78.85086\n",
      "288 2012-07-30  2012      7   AAPL   80.18085\n",
      "291 2012-07-31  2012      7   AAPL   82.30048\n",
      "\n",
      "[21 rows x 5 columns]\n",
      "('AAPL', 2012, 8)\n",
      "          Date  Year  Month Symbol  Adj Close\n",
      "293 2012-08-01  2012      8   AAPL   81.76821\n",
      "295 2012-08-02  2012      8   AAPL   81.90026\n",
      "296 2012-08-03  2012      8   AAPL   82.96614\n",
      "298 2012-08-06  2012      8   AAPL   83.88918\n",
      "..         ...   ...    ...    ...        ...\n",
      "331 2012-08-28  2012      8   AAPL   91.32034\n",
      "333 2012-08-29  2012      8   AAPL   91.14035\n",
      "335 2012-08-30  2012      8   AAPL   89.84119\n",
      "337 2012-08-31  2012      8   AAPL   90.02659\n",
      "\n",
      "[23 rows x 5 columns]\n",
      "('AAPL', 2012, 9)\n",
      "          Date  Year  Month Symbol  Adj Close\n",
      "338 2012-09-04  2012      9   AAPL   91.34335\n",
      "340 2012-09-05  2012      9   AAPL   90.70187\n",
      "343 2012-09-06  2012      9   AAPL   91.51927\n",
      "344 2012-09-07  2012      9   AAPL   92.08360\n",
      "..         ...   ...    ...    ...        ...\n",
      "368 2012-09-25  2012      9   AAPL   91.14983\n",
      "370 2012-09-26  2012      9   AAPL   90.01846\n",
      "372 2012-09-27  2012      9   AAPL   92.20268\n",
      "375 2012-09-28  2012      9   AAPL   90.27831\n",
      "\n",
      "[19 rows x 5 columns]\n",
      "('AAPL', 2012, 10)\n",
      "          Date  Year  Month Symbol  Adj Close\n",
      "377 2012-10-01  2012     10   AAPL   89.23491\n",
      "379 2012-10-02  2012     10   AAPL   89.49474\n",
      "380 2012-10-03  2012     10   AAPL   90.86699\n",
      "382 2012-10-04  2012     10   AAPL   90.23770\n",
      "..         ...   ...    ...    ...        ...\n",
      "410 2012-10-24  2012     10   AAPL   83.47528\n",
      "412 2012-10-25  2012     10   AAPL   82.48873\n",
      "414 2012-10-26  2012     10   AAPL   81.73901\n",
      "417 2012-10-31  2012     10   AAPL   80.56435\n",
      "\n",
      "[21 rows x 5 columns]\n",
      "('AAPL', 2012, 11)\n",
      "          Date  Year  Month Symbol  Adj Close\n",
      "419 2012-11-01  2012     11   AAPL   80.72945\n",
      "420 2012-11-02  2012     11   AAPL   78.05805\n",
      "423 2012-11-05  2012     11   AAPL   79.11633\n",
      "425 2012-11-06  2012     11   AAPL   78.87679\n",
      "..         ...   ...    ...    ...        ...\n",
      "452 2012-11-27  2012     11   AAPL   79.49943\n",
      "455 2012-11-28  2012     11   AAPL   79.24928\n",
      "456 2012-11-29  2012     11   AAPL   80.12207\n",
      "458 2012-11-30  2012     11   AAPL   79.56740\n",
      "\n",
      "[21 rows x 5 columns]\n",
      "('AAPL', 2012, 12)\n",
      "          Date  Year  Month Symbol  Adj Close\n",
      "460 2012-12-03  2012     12   AAPL   79.69112\n",
      "463 2012-12-04  2012     12   AAPL   78.28542\n",
      "464 2012-12-05  2012     12   AAPL   73.24720\n",
      "466 2012-12-06  2012     12   AAPL   74.39595\n",
      "..         ...   ...    ...    ...        ...\n",
      "490 2012-12-24  2012     12   AAPL   70.71585\n",
      "492 2012-12-26  2012     12   AAPL   69.74111\n",
      "494 2012-12-27  2012     12   AAPL   70.02116\n",
      "497 2012-12-28  2012     12   AAPL   69.27753\n",
      "\n",
      "[19 rows x 5 columns]\n",
      "('MSFT', 2012, 1)\n",
      "         Date  Year  Month Symbol  Adj Close\n",
      "0  2012-01-03  2012      1   MSFT   24.42183\n",
      "2  2012-01-04  2012      1   MSFT   24.99657\n",
      "4  2012-01-05  2012      1   MSFT   25.25201\n",
      "6  2012-01-06  2012      1   MSFT   25.64429\n",
      "..        ...   ...    ...    ...        ...\n",
      "32 2012-01-26  2012      1   MSFT   26.91236\n",
      "35 2012-01-27  2012      1   MSFT   26.66605\n",
      "36 2012-01-30  2012      1   MSFT   27.01272\n",
      "39 2012-01-31  2012      1   MSFT   26.93973\n",
      "\n",
      "[20 rows x 5 columns]\n",
      "('MSFT', 2012, 2)\n",
      "         Date  Year  Month Symbol  Adj Close\n",
      "40 2012-02-01  2012      2   MSFT   27.26815\n",
      "42 2012-02-02  2012      2   MSFT   27.32289\n",
      "45 2012-02-03  2012      2   MSFT   27.58745\n",
      "47 2012-02-06  2012      2   MSFT   27.55096\n",
      "..        ...   ...    ...    ...        ...\n",
      "73 2012-02-24  2012      2   MSFT   28.90775\n",
      "74 2012-02-27  2012      2   MSFT   28.78837\n",
      "76 2012-02-28  2012      2   MSFT   29.26588\n",
      "78 2012-02-29  2012      2   MSFT   29.14650\n",
      "\n",
      "[20 rows x 5 columns]\n",
      "('MSFT', 2012, 3)\n",
      "          Date  Year  Month Symbol  Adj Close\n",
      "80  2012-03-01  2012      3   MSFT   29.65156\n",
      "83  2012-03-02  2012      3   MSFT   29.45872\n",
      "85  2012-03-05  2012      3   MSFT   29.20160\n",
      "87  2012-03-06  2012      3   MSFT   28.98121\n",
      "..         ...   ...    ...    ...        ...\n",
      "116 2012-03-27  2012      3   MSFT   29.86277\n",
      "118 2012-03-28  2012      3   MSFT   29.55973\n",
      "120 2012-03-29  2012      3   MSFT   29.49545\n",
      "123 2012-03-30  2012      3   MSFT   29.62401\n",
      "\n",
      "[22 rows x 5 columns]\n",
      "('MSFT', 2012, 4)\n",
      "          Date  Year  Month Symbol  Adj Close\n",
      "125 2012-04-02  2012      4   MSFT   29.65156\n",
      "127 2012-04-03  2012      4   MSFT   29.33016\n",
      "129 2012-04-04  2012      4   MSFT   28.65981\n",
      "131 2012-04-05  2012      4   MSFT   28.94448\n",
      "..         ...   ...    ...    ...        ...\n",
      "157 2012-04-25  2012      4   MSFT   29.56892\n",
      "159 2012-04-26  2012      4   MSFT   29.48627\n",
      "161 2012-04-27  2012      4   MSFT   29.36689\n",
      "162 2012-04-30  2012      4   MSFT   29.40363\n",
      "\n",
      "[20 rows x 5 columns]\n",
      "('MSFT', 2012, 5)\n",
      "          Date  Year  Month Symbol  Adj Close\n",
      "165 2012-05-01  2012      5   MSFT   29.39444\n",
      "167 2012-05-02  2012      5   MSFT   29.20160\n",
      "169 2012-05-03  2012      5   MSFT   29.16487\n",
      "171 2012-05-04  2012      5   MSFT   28.44860\n",
      "..         ...   ...    ...    ...        ...\n",
      "201 2012-05-25  2012      5   MSFT   26.86059\n",
      "203 2012-05-29  2012      5   MSFT   27.32275\n",
      "204 2012-05-30  2012      5   MSFT   27.11940\n",
      "206 2012-05-31  2012      5   MSFT   26.98075\n",
      "\n",
      "[22 rows x 5 columns]\n",
      "('MSFT', 2012, 6)\n",
      "          Date  Year  Month Symbol  Adj Close\n",
      "209 2012-06-01  2012      6   MSFT   26.29676\n",
      "210 2012-06-04  2012      6   MSFT   26.38919\n",
      "212 2012-06-05  2012      6   MSFT   26.35222\n",
      "214 2012-06-06  2012      6   MSFT   27.12864\n",
      "..         ...   ...    ...    ...        ...\n",
      "243 2012-06-26  2012      6   MSFT   27.74793\n",
      "245 2012-06-27  2012      6   MSFT   27.88658\n",
      "246 2012-06-28  2012      6   MSFT   27.64626\n",
      "249 2012-06-29  2012      6   MSFT   28.27479\n",
      "\n",
      "[21 rows x 5 columns]\n",
      "('MSFT', 2012, 7)\n",
      "          Date  Year  Month Symbol  Adj Close\n",
      "251 2012-07-02  2012      7   MSFT   28.24706\n",
      "253 2012-07-03  2012      7   MSFT   28.43192\n",
      "255 2012-07-05  2012      7   MSFT   28.37647\n",
      "256 2012-07-06  2012      7   MSFT   27.90507\n",
      "..         ...   ...    ...    ...        ...\n",
      "285 2012-07-26  2012      7   MSFT   26.95302\n",
      "287 2012-07-27  2012      7   MSFT   27.50761\n",
      "289 2012-07-30  2012      7   MSFT   27.39669\n",
      "290 2012-07-31  2012      7   MSFT   27.23956\n",
      "\n",
      "[21 rows x 5 columns]\n",
      "('MSFT', 2012, 8)\n",
      "          Date  Year  Month Symbol  Adj Close\n",
      "292 2012-08-01  2012      8   MSFT   27.18410\n",
      "294 2012-08-02  2012      8   MSFT   26.98075\n",
      "297 2012-08-03  2012      8   MSFT   27.49837\n",
      "299 2012-08-06  2012      8   MSFT   27.68323\n",
      "..         ...   ...    ...    ...        ...\n",
      "330 2012-08-28  2012      8   MSFT   28.49932\n",
      "332 2012-08-29  2012      8   MSFT   28.51793\n",
      "334 2012-08-30  2012      8   MSFT   28.21088\n",
      "336 2012-08-31  2012      8   MSFT   28.67610\n",
      "\n",
      "[23 rows x 5 columns]\n",
      "('MSFT', 2012, 9)\n",
      "          Date  Year  Month Symbol  Adj Close\n",
      "339 2012-09-04  2012      9   MSFT   28.27601\n",
      "341 2012-09-05  2012      9   MSFT   28.27601\n",
      "342 2012-09-06  2012      9   MSFT   29.16924\n",
      "345 2012-09-07  2012      9   MSFT   28.79706\n",
      "..         ...   ...    ...    ...        ...\n",
      "369 2012-09-25  2012      9   MSFT   28.27601\n",
      "371 2012-09-26  2012      9   MSFT   28.07132\n",
      "373 2012-09-27  2012      9   MSFT   28.06202\n",
      "374 2012-09-28  2012      9   MSFT   27.68984\n",
      "\n",
      "[19 rows x 5 columns]\n",
      "('MSFT', 2012, 10)\n",
      "          Date  Year  Month Symbol  Adj Close\n",
      "376 2012-10-01  2012     10   MSFT   27.43862\n",
      "378 2012-10-02  2012     10   MSFT   27.59680\n",
      "381 2012-10-03  2012     10   MSFT   27.78288\n",
      "383 2012-10-04  2012     10   MSFT   27.94106\n",
      "..         ...   ...    ...    ...        ...\n",
      "411 2012-10-24  2012     10   MSFT   25.95922\n",
      "413 2012-10-25  2012     10   MSFT   25.94061\n",
      "415 2012-10-26  2012     10   MSFT   26.24766\n",
      "416 2012-10-31  2012     10   MSFT   26.55471\n",
      "\n",
      "[21 rows x 5 columns]\n",
      "('MSFT', 2012, 11)\n",
      "          Date  Year  Month Symbol  Adj Close\n",
      "418 2012-11-01  2012     11   MSFT   27.46654\n",
      "421 2012-11-02  2012     11   MSFT   27.44793\n",
      "422 2012-11-05  2012     11   MSFT   27.56888\n",
      "424 2012-11-06  2012     11   MSFT   27.78288\n",
      "..         ...   ...    ...    ...        ...\n",
      "453 2012-11-27  2012     11   MSFT   25.40331\n",
      "454 2012-11-28  2012     11   MSFT   25.66597\n",
      "457 2012-11-29  2012     11   MSFT   25.28136\n",
      "459 2012-11-30  2012     11   MSFT   24.97179\n",
      "\n",
      "[21 rows x 5 columns]\n",
      "('MSFT', 2012, 12)\n",
      "          Date  Year  Month Symbol  Adj Close\n",
      "461 2012-12-03  2012     12   MSFT   24.79355\n",
      "462 2012-12-04  2012     12   MSFT   24.73727\n",
      "465 2012-12-05  2012     12   MSFT   25.01869\n",
      "467 2012-12-06  2012     12   MSFT   25.07498\n",
      "..         ...   ...    ...    ...        ...\n",
      "491 2012-12-24  2012     12   MSFT   25.38455\n",
      "493 2012-12-26  2012     12   MSFT   25.19693\n",
      "495 2012-12-27  2012     12   MSFT   25.29074\n",
      "496 2012-12-28  2012     12   MSFT   24.90612\n",
      "\n",
      "[19 rows x 5 columns]\n"
     ]
    }
   ],
   "source": [
    "print_groups(mcg)"
   ]
  },
  {
   "cell_type": "code",
   "execution_count": 166,
   "id": "ee022977",
   "metadata": {},
   "outputs": [
    {
     "data": {
      "text/plain": [
       "                        Date  Adj Close\n",
       "Symbol Year Month                      \n",
       "MSFT   2012 1     2012-01-03   24.42183\n",
       "AAPL   2012 1     2012-01-03   55.41362\n",
       "MSFT   2012 1     2012-01-04   24.99657\n",
       "AAPL   2012 1     2012-01-04   55.71143\n",
       "...                      ...        ...\n",
       "            12    2012-12-27   70.02116\n",
       "MSFT   2012 12    2012-12-27   25.29074\n",
       "            12    2012-12-28   24.90612\n",
       "AAPL   2012 12    2012-12-28   69.27753\n",
       "\n",
       "[498 rows x 2 columns]"
      ]
     },
     "execution_count": 166,
     "metadata": {},
     "output_type": "execute_result"
    }
   ],
   "source": [
    "mi = s4g.set_index(['Symbol','Year','Month'])\n",
    "mi"
   ]
  },
  {
   "cell_type": "code",
   "execution_count": 168,
   "id": "92126838",
   "metadata": {},
   "outputs": [
    {
     "name": "stdout",
     "output_type": "stream",
     "text": [
      "AAPL\n",
      "                        Date  Adj Close\n",
      "Symbol Year Month                      \n",
      "AAPL   2012 1     2012-01-03   55.41362\n",
      "            1     2012-01-04   55.71143\n",
      "            1     2012-01-05   56.32993\n",
      "            1     2012-01-06   56.91880\n",
      "...                      ...        ...\n",
      "            12    2012-12-24   70.71585\n",
      "            12    2012-12-26   69.74111\n",
      "            12    2012-12-27   70.02116\n",
      "            12    2012-12-28   69.27753\n",
      "\n",
      "[249 rows x 2 columns]\n",
      "MSFT\n",
      "                        Date  Adj Close\n",
      "Symbol Year Month                      \n",
      "MSFT   2012 1     2012-01-03   24.42183\n",
      "            1     2012-01-04   24.99657\n",
      "            1     2012-01-05   25.25201\n",
      "            1     2012-01-06   25.64429\n",
      "...                      ...        ...\n",
      "            12    2012-12-24   25.38455\n",
      "            12    2012-12-26   25.19693\n",
      "            12    2012-12-27   25.29074\n",
      "            12    2012-12-28   24.90612\n",
      "\n",
      "[249 rows x 2 columns]\n"
     ]
    }
   ],
   "source": [
    "mig_11 = mi.groupby(level=0)\n",
    "print_groups(mig_11)"
   ]
  },
  {
   "cell_type": "code",
   "execution_count": 169,
   "id": "c3887d0a",
   "metadata": {},
   "outputs": [
    {
     "name": "stdout",
     "output_type": "stream",
     "text": [
      "('AAPL', 2012, 1)\n",
      "                        Date  Adj Close\n",
      "Symbol Year Month                      \n",
      "AAPL   2012 1     2012-01-03   55.41362\n",
      "            1     2012-01-04   55.71143\n",
      "            1     2012-01-05   56.32993\n",
      "            1     2012-01-06   56.91880\n",
      "...                      ...        ...\n",
      "            1     2012-01-26   59.91430\n",
      "            1     2012-01-27   60.27139\n",
      "            1     2012-01-30   61.04352\n",
      "            1     2012-01-31   61.51111\n",
      "\n",
      "[20 rows x 2 columns]\n",
      "('AAPL', 2012, 2)\n",
      "                        Date  Adj Close\n",
      "Symbol Year Month                      \n",
      "AAPL   2012 2     2012-02-01   61.47202\n",
      "            2     2012-02-02   61.32784\n",
      "            2     2012-02-03   61.94231\n",
      "            2     2012-02-06   62.52039\n",
      "...                      ...        ...\n",
      "            2     2012-02-24   70.39523\n",
      "            2     2012-02-27   70.84664\n",
      "            2     2012-02-28   72.14699\n",
      "            2     2012-02-29   73.09430\n",
      "\n",
      "[20 rows x 2 columns]\n",
      "('AAPL', 2012, 3)\n",
      "                        Date  Adj Close\n",
      "Symbol Year Month                      \n",
      "AAPL   2012 3     2012-03-01   73.36784\n",
      "            3     2012-03-02   73.46351\n",
      "            3     2012-03-05   71.84380\n",
      "            3     2012-03-06   71.45303\n",
      "...                      ...        ...\n",
      "            3     2012-03-27   82.80175\n",
      "            3     2012-03-28   83.22487\n",
      "            3     2012-03-29   82.17921\n",
      "            3     2012-03-30   80.78992\n",
      "\n",
      "[22 rows x 2 columns]\n",
      "('AAPL', 2012, 4)\n",
      "                        Date  Adj Close\n",
      "Symbol Year Month                      \n",
      "AAPL   2012 4     2012-04-02   83.36096\n",
      "            4     2012-04-03   84.80146\n",
      "            4     2012-04-04   84.12635\n",
      "            4     2012-04-05   85.38896\n",
      "...                      ...        ...\n",
      "            4     2012-04-25   82.19807\n",
      "            4     2012-04-26   81.88815\n",
      "            4     2012-04-27   81.25481\n",
      "            4     2012-04-30   78.69185\n",
      "\n",
      "[20 rows x 2 columns]\n",
      "('AAPL', 2012, 5)\n",
      "                        Date  Adj Close\n",
      "Symbol Year Month                      \n",
      "AAPL   2012 5     2012-05-01   78.44256\n",
      "            5     2012-05-02   78.96136\n",
      "            5     2012-05-03   78.40079\n",
      "            5     2012-05-04   76.16796\n",
      "...                      ...        ...\n",
      "            5     2012-05-25   75.76910\n",
      "            5     2012-05-29   77.11391\n",
      "            5     2012-05-30   78.04369\n",
      "            5     2012-05-31   77.84966\n",
      "\n",
      "[22 rows x 2 columns]\n",
      "('AAPL', 2012, 6)\n",
      "                        Date  Adj Close\n",
      "Symbol Year Month                      \n",
      "AAPL   2012 6     2012-06-01   75.59393\n",
      "            6     2012-06-04   76.03860\n",
      "            6     2012-06-05   75.84187\n",
      "            6     2012-06-06   77.00476\n",
      "...                      ...        ...\n",
      "            6     2012-06-26   77.08157\n",
      "            6     2012-06-27   77.41441\n",
      "            6     2012-06-28   76.68002\n",
      "            6     2012-06-29   78.69454\n",
      "\n",
      "[21 rows x 2 columns]\n",
      "('AAPL', 2012, 7)\n",
      "                        Date  Adj Close\n",
      "Symbol Year Month                      \n",
      "AAPL   2012 7     2012-07-02   79.84262\n",
      "            7     2012-07-03   80.77105\n",
      "            7     2012-07-05   82.18999\n",
      "            7     2012-07-06   81.64290\n",
      "...                      ...        ...\n",
      "            7     2012-07-26   77.46561\n",
      "            7     2012-07-27   78.85086\n",
      "            7     2012-07-30   80.18085\n",
      "            7     2012-07-31   82.30048\n",
      "\n",
      "[21 rows x 2 columns]\n",
      "('AAPL', 2012, 8)\n",
      "                        Date  Adj Close\n",
      "Symbol Year Month                      \n",
      "AAPL   2012 8     2012-08-01   81.76821\n",
      "            8     2012-08-02   81.90026\n",
      "            8     2012-08-03   82.96614\n",
      "            8     2012-08-06   83.88918\n",
      "...                      ...        ...\n",
      "            8     2012-08-28   91.32034\n",
      "            8     2012-08-29   91.14035\n",
      "            8     2012-08-30   89.84119\n",
      "            8     2012-08-31   90.02659\n",
      "\n",
      "[23 rows x 2 columns]\n",
      "('AAPL', 2012, 9)\n",
      "                        Date  Adj Close\n",
      "Symbol Year Month                      \n",
      "AAPL   2012 9     2012-09-04   91.34335\n",
      "            9     2012-09-05   90.70187\n",
      "            9     2012-09-06   91.51927\n",
      "            9     2012-09-07   92.08360\n",
      "...                      ...        ...\n",
      "            9     2012-09-25   91.14983\n",
      "            9     2012-09-26   90.01846\n",
      "            9     2012-09-27   92.20268\n",
      "            9     2012-09-28   90.27831\n",
      "\n",
      "[19 rows x 2 columns]\n",
      "('AAPL', 2012, 10)\n",
      "                        Date  Adj Close\n",
      "Symbol Year Month                      \n",
      "AAPL   2012 10    2012-10-01   89.23491\n",
      "            10    2012-10-02   89.49474\n",
      "            10    2012-10-03   90.86699\n",
      "            10    2012-10-04   90.23770\n",
      "...                      ...        ...\n",
      "            10    2012-10-24   83.47528\n",
      "            10    2012-10-25   82.48873\n",
      "            10    2012-10-26   81.73901\n",
      "            10    2012-10-31   80.56435\n",
      "\n",
      "[21 rows x 2 columns]\n",
      "('AAPL', 2012, 11)\n",
      "                        Date  Adj Close\n",
      "Symbol Year Month                      \n",
      "AAPL   2012 11    2012-11-01   80.72945\n",
      "            11    2012-11-02   78.05805\n",
      "            11    2012-11-05   79.11633\n",
      "            11    2012-11-06   78.87679\n",
      "...                      ...        ...\n",
      "            11    2012-11-27   79.49943\n",
      "            11    2012-11-28   79.24928\n",
      "            11    2012-11-29   80.12207\n",
      "            11    2012-11-30   79.56740\n",
      "\n",
      "[21 rows x 2 columns]\n",
      "('AAPL', 2012, 12)\n",
      "                        Date  Adj Close\n",
      "Symbol Year Month                      \n",
      "AAPL   2012 12    2012-12-03   79.69112\n",
      "            12    2012-12-04   78.28542\n",
      "            12    2012-12-05   73.24720\n",
      "            12    2012-12-06   74.39595\n",
      "...                      ...        ...\n",
      "            12    2012-12-24   70.71585\n",
      "            12    2012-12-26   69.74111\n",
      "            12    2012-12-27   70.02116\n",
      "            12    2012-12-28   69.27753\n",
      "\n",
      "[19 rows x 2 columns]\n",
      "('MSFT', 2012, 1)\n",
      "                        Date  Adj Close\n",
      "Symbol Year Month                      \n",
      "MSFT   2012 1     2012-01-03   24.42183\n",
      "            1     2012-01-04   24.99657\n",
      "            1     2012-01-05   25.25201\n",
      "            1     2012-01-06   25.64429\n",
      "...                      ...        ...\n",
      "            1     2012-01-26   26.91236\n",
      "            1     2012-01-27   26.66605\n",
      "            1     2012-01-30   27.01272\n",
      "            1     2012-01-31   26.93973\n",
      "\n",
      "[20 rows x 2 columns]\n",
      "('MSFT', 2012, 2)\n",
      "                        Date  Adj Close\n",
      "Symbol Year Month                      \n",
      "MSFT   2012 2     2012-02-01   27.26815\n",
      "            2     2012-02-02   27.32289\n",
      "            2     2012-02-03   27.58745\n",
      "            2     2012-02-06   27.55096\n",
      "...                      ...        ...\n",
      "            2     2012-02-24   28.90775\n",
      "            2     2012-02-27   28.78837\n",
      "            2     2012-02-28   29.26588\n",
      "            2     2012-02-29   29.14650\n",
      "\n",
      "[20 rows x 2 columns]\n",
      "('MSFT', 2012, 3)\n",
      "                        Date  Adj Close\n",
      "Symbol Year Month                      \n",
      "MSFT   2012 3     2012-03-01   29.65156\n",
      "            3     2012-03-02   29.45872\n",
      "            3     2012-03-05   29.20160\n",
      "            3     2012-03-06   28.98121\n",
      "...                      ...        ...\n",
      "            3     2012-03-27   29.86277\n",
      "            3     2012-03-28   29.55973\n",
      "            3     2012-03-29   29.49545\n",
      "            3     2012-03-30   29.62401\n",
      "\n",
      "[22 rows x 2 columns]\n",
      "('MSFT', 2012, 4)\n",
      "                        Date  Adj Close\n",
      "Symbol Year Month                      \n",
      "MSFT   2012 4     2012-04-02   29.65156\n",
      "            4     2012-04-03   29.33016\n",
      "            4     2012-04-04   28.65981\n",
      "            4     2012-04-05   28.94448\n",
      "...                      ...        ...\n",
      "            4     2012-04-25   29.56892\n",
      "            4     2012-04-26   29.48627\n",
      "            4     2012-04-27   29.36689\n",
      "            4     2012-04-30   29.40363\n",
      "\n",
      "[20 rows x 2 columns]\n",
      "('MSFT', 2012, 5)\n",
      "                        Date  Adj Close\n",
      "Symbol Year Month                      \n",
      "MSFT   2012 5     2012-05-01   29.39444\n",
      "            5     2012-05-02   29.20160\n",
      "            5     2012-05-03   29.16487\n",
      "            5     2012-05-04   28.44860\n",
      "...                      ...        ...\n",
      "            5     2012-05-25   26.86059\n",
      "            5     2012-05-29   27.32275\n",
      "            5     2012-05-30   27.11940\n",
      "            5     2012-05-31   26.98075\n",
      "\n",
      "[22 rows x 2 columns]\n",
      "('MSFT', 2012, 6)\n",
      "                        Date  Adj Close\n",
      "Symbol Year Month                      \n",
      "MSFT   2012 6     2012-06-01   26.29676\n",
      "            6     2012-06-04   26.38919\n",
      "            6     2012-06-05   26.35222\n",
      "            6     2012-06-06   27.12864\n",
      "...                      ...        ...\n",
      "            6     2012-06-26   27.74793\n",
      "            6     2012-06-27   27.88658\n",
      "            6     2012-06-28   27.64626\n",
      "            6     2012-06-29   28.27479\n",
      "\n",
      "[21 rows x 2 columns]\n",
      "('MSFT', 2012, 7)\n",
      "                        Date  Adj Close\n",
      "Symbol Year Month                      \n",
      "MSFT   2012 7     2012-07-02   28.24706\n",
      "            7     2012-07-03   28.43192\n",
      "            7     2012-07-05   28.37647\n",
      "            7     2012-07-06   27.90507\n",
      "...                      ...        ...\n",
      "            7     2012-07-26   26.95302\n",
      "            7     2012-07-27   27.50761\n",
      "            7     2012-07-30   27.39669\n",
      "            7     2012-07-31   27.23956\n",
      "\n",
      "[21 rows x 2 columns]\n",
      "('MSFT', 2012, 8)\n",
      "                        Date  Adj Close\n",
      "Symbol Year Month                      \n",
      "MSFT   2012 8     2012-08-01   27.18410\n",
      "            8     2012-08-02   26.98075\n",
      "            8     2012-08-03   27.49837\n",
      "            8     2012-08-06   27.68323\n",
      "...                      ...        ...\n",
      "            8     2012-08-28   28.49932\n",
      "            8     2012-08-29   28.51793\n",
      "            8     2012-08-30   28.21088\n",
      "            8     2012-08-31   28.67610\n",
      "\n",
      "[23 rows x 2 columns]\n",
      "('MSFT', 2012, 9)\n",
      "                        Date  Adj Close\n",
      "Symbol Year Month                      \n",
      "MSFT   2012 9     2012-09-04   28.27601\n",
      "            9     2012-09-05   28.27601\n",
      "            9     2012-09-06   29.16924\n",
      "            9     2012-09-07   28.79706\n",
      "...                      ...        ...\n",
      "            9     2012-09-25   28.27601\n",
      "            9     2012-09-26   28.07132\n",
      "            9     2012-09-27   28.06202\n",
      "            9     2012-09-28   27.68984\n",
      "\n",
      "[19 rows x 2 columns]\n",
      "('MSFT', 2012, 10)\n",
      "                        Date  Adj Close\n",
      "Symbol Year Month                      \n",
      "MSFT   2012 10    2012-10-01   27.43862\n",
      "            10    2012-10-02   27.59680\n",
      "            10    2012-10-03   27.78288\n",
      "            10    2012-10-04   27.94106\n",
      "...                      ...        ...\n",
      "            10    2012-10-24   25.95922\n",
      "            10    2012-10-25   25.94061\n",
      "            10    2012-10-26   26.24766\n",
      "            10    2012-10-31   26.55471\n",
      "\n",
      "[21 rows x 2 columns]\n",
      "('MSFT', 2012, 11)\n",
      "                        Date  Adj Close\n",
      "Symbol Year Month                      \n",
      "MSFT   2012 11    2012-11-01   27.46654\n",
      "            11    2012-11-02   27.44793\n",
      "            11    2012-11-05   27.56888\n",
      "            11    2012-11-06   27.78288\n",
      "...                      ...        ...\n",
      "            11    2012-11-27   25.40331\n",
      "            11    2012-11-28   25.66597\n",
      "            11    2012-11-29   25.28136\n",
      "            11    2012-11-30   24.97179\n",
      "\n",
      "[21 rows x 2 columns]\n",
      "('MSFT', 2012, 12)\n",
      "                        Date  Adj Close\n",
      "Symbol Year Month                      \n",
      "MSFT   2012 12    2012-12-03   24.79355\n",
      "            12    2012-12-04   24.73727\n",
      "            12    2012-12-05   25.01869\n",
      "            12    2012-12-06   25.07498\n",
      "...                      ...        ...\n",
      "            12    2012-12-24   25.38455\n",
      "            12    2012-12-26   25.19693\n",
      "            12    2012-12-27   25.29074\n",
      "            12    2012-12-28   24.90612\n",
      "\n",
      "[19 rows x 2 columns]\n"
     ]
    }
   ],
   "source": [
    "mig_112 = mi.groupby(level = ['Symbol', 'Year', 'Month'])\n",
    "print_groups(mig_112)"
   ]
  },
  {
   "cell_type": "code",
   "execution_count": 170,
   "id": "3731d2c1",
   "metadata": {},
   "outputs": [
    {
     "data": {
      "text/plain": [
       "                   Adj Close\n",
       "Symbol Year Month           \n",
       "AAPL   2012 1      57.751284\n",
       "            2      67.048153\n",
       "            3      77.819703\n",
       "            4      81.659466\n",
       "...                      ...\n",
       "MSFT   2012 9      28.640845\n",
       "            10     27.044293\n",
       "            11     26.004902\n",
       "            12     25.309006\n",
       "\n",
       "[24 rows x 1 columns]"
      ]
     },
     "execution_count": 170,
     "metadata": {},
     "output_type": "execute_result"
    }
   ],
   "source": [
    "mig_112.agg(np.mean)"
   ]
  },
  {
   "cell_type": "code",
   "execution_count": 172,
   "id": "aa690d1f",
   "metadata": {},
   "outputs": [
    {
     "data": {
      "text/plain": [
       "  Symbol  Year  Month  Adj Close\n",
       "0   AAPL  2012      1  57.751284\n",
       "1   AAPL  2012      2  67.048153\n",
       "2   AAPL  2012      3  77.819703\n",
       "3   AAPL  2012      4  81.659466\n",
       "4   AAPL  2012      5  76.090236"
      ]
     },
     "execution_count": 172,
     "metadata": {},
     "output_type": "execute_result"
    }
   ],
   "source": [
    "#or\n",
    "s4g.groupby(['Symbol', 'Year', 'Month'], as_index=False).agg(np.mean)[:5]"
   ]
  },
  {
   "cell_type": "code",
   "execution_count": 173,
   "id": "6f402923",
   "metadata": {},
   "outputs": [
    {
     "name": "stderr",
     "output_type": "stream",
     "text": [
      "/var/folders/q6/g7092d4n0qd1jz1vdnn2st200000gn/T/ipykernel_803/3693226673.py:1: FutureWarning: ['Date'] did not aggregate successfully. If any error is raised this will raise in a future version of pandas. Drop these columns/ops to avoid this warning.\n",
      "  mig_112.agg([np.mean, np.std])\n"
     ]
    },
    {
     "data": {
      "text/plain": [
       "                   Adj Close          \n",
       "                        mean       std\n",
       "Symbol Year Month                     \n",
       "AAPL   2012 1      57.751284  1.797870\n",
       "            2      67.048153  3.569969\n",
       "            3      77.819703  4.162433\n",
       "            4      81.659466  3.062644\n",
       "...                      ...       ...\n",
       "MSFT   2012 9      28.640845  0.430641\n",
       "            10     27.044293  0.666642\n",
       "            11     26.004902  1.001457\n",
       "            12     25.309006  0.364051\n",
       "\n",
       "[24 rows x 2 columns]"
      ]
     },
     "execution_count": 173,
     "metadata": {},
     "output_type": "execute_result"
    }
   ],
   "source": [
    "mig_112.agg([np.mean, np.std])"
   ]
  },
  {
   "cell_type": "code",
   "execution_count": null,
   "id": "4e0f7603",
   "metadata": {},
   "outputs": [],
   "source": []
  }
 ],
 "metadata": {
  "kernelspec": {
   "display_name": "Python 3 (ipykernel)",
   "language": "python",
   "name": "python3"
  },
  "language_info": {
   "codemirror_mode": {
    "name": "ipython",
    "version": 3
   },
   "file_extension": ".py",
   "mimetype": "text/x-python",
   "name": "python",
   "nbconvert_exporter": "python",
   "pygments_lexer": "ipython3",
   "version": "3.9.13"
  }
 },
 "nbformat": 4,
 "nbformat_minor": 5
}
