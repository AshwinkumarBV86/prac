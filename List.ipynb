{
 "cells": [
  {
   "cell_type": "code",
   "execution_count": 12,
   "id": "9b9680b3",
   "metadata": {},
   "outputs": [
    {
     "name": "stdout",
     "output_type": "stream",
     "text": [
      "['Ashwin', 'Hetal', 'Deepesh', 'Hetal', 'Saravana']\n",
      "<class 'list'>\n",
      "5\n"
     ]
    }
   ],
   "source": [
    "#List is a sequence of data values called items or elements\n",
    "#List of items are ordered, but it can also be changed\n",
    "#length of list is the number of items within the list\n",
    "\n",
    "ListOfFriends = ['Ashwin', 'Hetal', 'Deepesh', 'Hetal', 'Saravana']\n",
    "print(ListOfFriends)\n",
    "print(type(ListOfFriends))\n",
    "print(len(ListOfFriends))"
   ]
  },
  {
   "cell_type": "code",
   "execution_count": 61,
   "id": "ab19d220",
   "metadata": {},
   "outputs": [
    {
     "name": "stdout",
     "output_type": "stream",
     "text": [
      "[1, 5, 3, 7, 5, 8, 44, 34, 67, 55, 9]\n",
      "<class 'list'>\n",
      "11\n",
      "[44, 34, 67, 55]\n"
     ]
    }
   ],
   "source": [
    "listOfNumbers = [1,5,3,7,5,8,44,34,67,55,9]\n",
    "listover10 = []\n",
    "print(listOfNumbers)\n",
    "print(type(listOfNumbers))\n",
    "print(len(listOfNumbers))\n",
    "listComp = [i for i in listOfNumbers if i > 10]\n",
    "print(listComp)"
   ]
  },
  {
   "cell_type": "code",
   "execution_count": 74,
   "id": "10189ebe",
   "metadata": {},
   "outputs": [
    {
     "name": "stdout",
     "output_type": "stream",
     "text": [
      "Enter an integer (0 to quit): 993\n",
      "Enter an integer (0 to quit): 243\n",
      "Enter an integer (0 to quit): 123\n",
      "Enter an integer (0 to quit): 675\n",
      "Enter an integer (0 to quit): 243\n",
      "Enter an integer (0 to quit): 967\n",
      "Enter an integer (0 to quit): 123\n",
      "Enter an integer (0 to quit): 5\n",
      "Enter an integer (0 to quit): 0\n",
      "[5, 123, 123, 243, 243, 675, 967, 993]\n"
     ]
    }
   ],
   "source": [
    "#sort list\n",
    "data = []\n",
    "num = int(input(\"Enter an integer (0 to quit): \"))\n",
    "while num != 0:\n",
    "    data.append(num)\n",
    "    data.sort()\n",
    "    num = int(input(\"Enter an integer (0 to quit): \"))\n",
    "for "
   ]
  },
  {
   "cell_type": "code",
   "execution_count": 79,
   "id": "4aab699a",
   "metadata": {},
   "outputs": [
    {
     "data": {
      "text/plain": [
       "[23, 35, 100, 100, 123, 123, 243, 243, 456, 675, 967, 993]"
      ]
     },
     "execution_count": 79,
     "metadata": {},
     "output_type": "execute_result"
    }
   ],
   "source": [
    "num = [100, 23, 35, 456, 123, 123, 243, 100,243, 675, 967, 993]\n",
    "datasort = [number for number in num]\n",
    "datasort.sort()\n",
    "datasort"
   ]
  },
  {
   "cell_type": "markdown",
   "id": "b3bc02fc",
   "metadata": {},
   "source": [
    "# listOfStrings = ['Kate','Jennifer','Ananya','Robert']\n",
    "print(len(listOfStrings))\n",
    "print(listOfStrings)\n",
    "listOfStrings.append('Ashoka')\n",
    "print(type(listOfStrings))\n",
    "print(len(listOfStrings))\n",
    "print(listOfStrings)\n",
    "print(type(listOfStrings))\n",
    "countOfList = len(listOfStrings)\n",
    "print(countOfList)"
   ]
  },
  {
   "cell_type": "code",
   "execution_count": 15,
   "id": "b6e6777a",
   "metadata": {},
   "outputs": [
    {
     "name": "stdout",
     "output_type": "stream",
     "text": [
      "[24, 'basaveshwaranager', 44, 54, 'Rajajinagar', '123 Malleshanna']\n",
      "<class 'list'>\n",
      "6\n"
     ]
    }
   ],
   "source": [
    "listOfCombinedItems = [24, 'basaveshwaranager', 44, 54, \"Rajajinagar\", \"123 Malleshanna\"]\n",
    "print(listOfCombinedItems)\n",
    "print(type(listOfCombinedItems))\n",
    "print(len(listOfCombinedItems))"
   ]
  },
  {
   "cell_type": "code",
   "execution_count": 20,
   "id": "8288d372",
   "metadata": {},
   "outputs": [
    {
     "name": "stdout",
     "output_type": "stream",
     "text": [
      "('kum', 23, '344')\n",
      "<class 'tuple'>\n",
      "3\n",
      "['kum', 23, '344']\n",
      "<class 'list'>\n"
     ]
    },
    {
     "data": {
      "text/plain": [
       "3"
      ]
     },
     "execution_count": 20,
     "metadata": {},
     "output_type": "execute_result"
    }
   ],
   "source": [
    "newTuple = ('kum', 23, '344')\n",
    "print(newTuple)\n",
    "print(type(newTuple))\n",
    "print(len(newTuple))\n",
    "\n",
    "#convert tuple into list\n",
    "newList = list(newTuple)\n",
    "print(newList)\n",
    "print(type(newList))\n",
    "len(newList)"
   ]
  },
  {
   "cell_type": "code",
   "execution_count": 16,
   "id": "3d47db35",
   "metadata": {},
   "outputs": [
    {
     "name": "stdout",
     "output_type": "stream",
     "text": [
      "The type of the empty list is  <class 'list'>\n",
      "<class 'list'>\n",
      "[]\n",
      "0\n"
     ]
    }
   ],
   "source": [
    "#creating an emply list\n",
    "list1 = []\n",
    "print(\"The type of the empty list is \" , type(list1))\n",
    "print(type(list1))\n",
    "print(list1)\n",
    "print(len(list1))"
   ]
  },
  {
   "cell_type": "code",
   "execution_count": 17,
   "id": "4a00a0b4",
   "metadata": {},
   "outputs": [
    {
     "ename": "KeyboardInterrupt",
     "evalue": "Interrupted by user",
     "output_type": "error",
     "traceback": [
      "\u001b[0;31m---------------------------------------------------------------------------\u001b[0m",
      "\u001b[0;31mKeyboardInterrupt\u001b[0m                         Traceback (most recent call last)",
      "\u001b[0;32m/var/folders/q6/g7092d4n0qd1jz1vdnn2st200000gn/T/ipykernel_792/3194928541.py\u001b[0m in \u001b[0;36m<module>\u001b[0;34m\u001b[0m\n\u001b[1;32m      1\u001b[0m \u001b[0mlist1\u001b[0m \u001b[0;34m=\u001b[0m \u001b[0;34m[\u001b[0m\u001b[0;34m]\u001b[0m\u001b[0;34m\u001b[0m\u001b[0;34m\u001b[0m\u001b[0m\n\u001b[0;32m----> 2\u001b[0;31m \u001b[0mnum\u001b[0m \u001b[0;34m=\u001b[0m \u001b[0minput\u001b[0m\u001b[0;34m(\u001b[0m\u001b[0;34m\"Enter number: \"\u001b[0m\u001b[0;34m)\u001b[0m\u001b[0;34m\u001b[0m\u001b[0;34m\u001b[0m\u001b[0m\n\u001b[0m\u001b[1;32m      3\u001b[0m \u001b[0mprint\u001b[0m\u001b[0;34m(\u001b[0m\u001b[0mnum\u001b[0m\u001b[0;34m)\u001b[0m\u001b[0;34m\u001b[0m\u001b[0;34m\u001b[0m\u001b[0m\n\u001b[1;32m      4\u001b[0m \u001b[0mlist1\u001b[0m\u001b[0;34m.\u001b[0m\u001b[0mappend\u001b[0m\u001b[0;34m(\u001b[0m\u001b[0mnum\u001b[0m\u001b[0;34m)\u001b[0m\u001b[0;34m\u001b[0m\u001b[0;34m\u001b[0m\u001b[0m\n\u001b[1;32m      5\u001b[0m \u001b[0mprint\u001b[0m\u001b[0;34m(\u001b[0m\u001b[0mlist1\u001b[0m\u001b[0;34m)\u001b[0m\u001b[0;34m\u001b[0m\u001b[0;34m\u001b[0m\u001b[0m\n",
      "\u001b[0;32m~/opt/anaconda3/lib/python3.9/site-packages/ipykernel/kernelbase.py\u001b[0m in \u001b[0;36mraw_input\u001b[0;34m(self, prompt)\u001b[0m\n\u001b[1;32m   1175\u001b[0m                 \u001b[0;34m\"raw_input was called, but this frontend does not support input requests.\"\u001b[0m\u001b[0;34m\u001b[0m\u001b[0;34m\u001b[0m\u001b[0m\n\u001b[1;32m   1176\u001b[0m             )\n\u001b[0;32m-> 1177\u001b[0;31m         return self._input_request(\n\u001b[0m\u001b[1;32m   1178\u001b[0m             \u001b[0mstr\u001b[0m\u001b[0;34m(\u001b[0m\u001b[0mprompt\u001b[0m\u001b[0;34m)\u001b[0m\u001b[0;34m,\u001b[0m\u001b[0;34m\u001b[0m\u001b[0;34m\u001b[0m\u001b[0m\n\u001b[1;32m   1179\u001b[0m             \u001b[0mself\u001b[0m\u001b[0;34m.\u001b[0m\u001b[0m_parent_ident\u001b[0m\u001b[0;34m[\u001b[0m\u001b[0;34m\"shell\"\u001b[0m\u001b[0;34m]\u001b[0m\u001b[0;34m,\u001b[0m\u001b[0;34m\u001b[0m\u001b[0;34m\u001b[0m\u001b[0m\n",
      "\u001b[0;32m~/opt/anaconda3/lib/python3.9/site-packages/ipykernel/kernelbase.py\u001b[0m in \u001b[0;36m_input_request\u001b[0;34m(self, prompt, ident, parent, password)\u001b[0m\n\u001b[1;32m   1217\u001b[0m             \u001b[0;32mexcept\u001b[0m \u001b[0mKeyboardInterrupt\u001b[0m\u001b[0;34m:\u001b[0m\u001b[0;34m\u001b[0m\u001b[0;34m\u001b[0m\u001b[0m\n\u001b[1;32m   1218\u001b[0m                 \u001b[0;31m# re-raise KeyboardInterrupt, to truncate traceback\u001b[0m\u001b[0;34m\u001b[0m\u001b[0;34m\u001b[0m\u001b[0m\n\u001b[0;32m-> 1219\u001b[0;31m                 \u001b[0;32mraise\u001b[0m \u001b[0mKeyboardInterrupt\u001b[0m\u001b[0;34m(\u001b[0m\u001b[0;34m\"Interrupted by user\"\u001b[0m\u001b[0;34m)\u001b[0m \u001b[0;32mfrom\u001b[0m \u001b[0;32mNone\u001b[0m\u001b[0;34m\u001b[0m\u001b[0;34m\u001b[0m\u001b[0m\n\u001b[0m\u001b[1;32m   1220\u001b[0m             \u001b[0;32mexcept\u001b[0m \u001b[0mException\u001b[0m\u001b[0;34m:\u001b[0m\u001b[0;34m\u001b[0m\u001b[0;34m\u001b[0m\u001b[0m\n\u001b[1;32m   1221\u001b[0m                 \u001b[0mself\u001b[0m\u001b[0;34m.\u001b[0m\u001b[0mlog\u001b[0m\u001b[0;34m.\u001b[0m\u001b[0mwarning\u001b[0m\u001b[0;34m(\u001b[0m\u001b[0;34m\"Invalid Message:\"\u001b[0m\u001b[0;34m,\u001b[0m \u001b[0mexc_info\u001b[0m\u001b[0;34m=\u001b[0m\u001b[0;32mTrue\u001b[0m\u001b[0;34m)\u001b[0m\u001b[0;34m\u001b[0m\u001b[0;34m\u001b[0m\u001b[0m\n",
      "\u001b[0;31mKeyboardInterrupt\u001b[0m: Interrupted by user"
     ]
    }
   ],
   "source": [
    "list1 = []\n",
    "num = input(\"Enter number: \")\n",
    "print(num)\n",
    "list1.append(num)\n",
    "print(list1)"
   ]
  },
  {
   "cell_type": "code",
   "execution_count": 21,
   "id": "5c56ef73",
   "metadata": {},
   "outputs": [
    {
     "name": "stdout",
     "output_type": "stream",
     "text": [
      "Enter number: 1\n",
      "1\n",
      "Enter the first name: asd\n",
      "Enter the last name: qwe\n",
      "Enter position: ewq\n",
      "Enter employee number: 12\n",
      "[['asd', 'qwe', 'ewq', '12']]\n",
      "<class 'list'>\n",
      "1\n",
      "['asd', 'qwe', 'ewq', '12']\n"
     ]
    }
   ],
   "source": [
    "list1 = []\n",
    "num = input(\"Enter number: \")\n",
    "print(num)\n",
    "for num in range(0, int(num)):\n",
    "    firstname = input(\"Enter the first name: \")\n",
    "    lastname = input(\"Enter the last name: \")\n",
    "    position = input(\"Enter position: \")\n",
    "    empnum = input(\"Enter employee number: \")\n",
    "    list_of_items = [firstname, lastname, position, empnum]\n",
    "    list1.append(list_of_items)\n",
    "    print(list1)\n",
    "    print(type(list1))\n",
    "    print(len(list1))\n",
    "for ctr in list1:\n",
    "    print(ctr)\n",
    "    "
   ]
  },
  {
   "cell_type": "code",
   "execution_count": 8,
   "id": "56369155",
   "metadata": {},
   "outputs": [
    {
     "name": "stdout",
     "output_type": "stream",
     "text": [
      "Enter number: 1\n",
      "Input your first digit: 65\n",
      "Input your second digit: 44\n",
      "Input your third digit: 34\n",
      "Input your fourth digit: 76\n",
      "Input your fifth digit: 65\n",
      "Input your sixth digit: 34\n",
      "Input your seventh digit: 3\n",
      "Input your eighth digit: 67\n",
      "[['65', '44', '34', '76', '65', '34', '3', '67']]\n",
      "Dont worry\n"
     ]
    }
   ],
   "source": [
    "listpassword = []\n",
    "num = input(\"Enter number: \")\n",
    "\n",
    "\n",
    "for num in range(0, int(num)):\n",
    "    firstDigit = input(\"Input your first digit: \")\n",
    "    secondDigit = input(\"Input your second digit: \")\n",
    "    thirdDigit = input(\"Input your third digit: \")\n",
    "    fourthDigit = input(\"Input your fourth digit: \")\n",
    "    fifthDigit = input(\"Input your fifth digit: \")\n",
    "    sixthDigit = input(\"Input your sixth digit: \")\n",
    "    seventhDigit = input(\"Input your seventh digit: \")\n",
    "    eightDigit = input(\"Input your eighth digit: \")\n",
    "    allEightDigits = [firstDigit, secondDigit, thirdDigit, fourthDigit, fifthDigit,  sixthDigit, seventhDigit, eightDigit]\n",
    "    listpassword.append(allEightDigits)\n",
    "    print(listpassword)\n",
    "    if len(listpassword) >= 8:\n",
    "        print(\"Password meets the requirements\")\n",
    "    else:\n",
    "        print(\"Dont worry\")\n"
   ]
  },
  {
   "cell_type": "code",
   "execution_count": null,
   "id": "cae2bfe4",
   "metadata": {},
   "outputs": [],
   "source": [
    "password = ('p','a','s','s','w','o','r','d')\n",
    "print(len(password))\n",
    "if len(password) >= 8:\n",
    "    print(\"Your password meets the requirements and the length is \", len(password))\n",
    "else:\n",
    "    print(\"Your password length does not meet the requirements.\")"
   ]
  },
  {
   "cell_type": "code",
   "execution_count": 27,
   "id": "57ad43b4",
   "metadata": {},
   "outputs": [
    {
     "name": "stdout",
     "output_type": "stream",
     "text": [
      "1 asf 44 34 2asdf ['asd', 34, 44, 'kumar']\n",
      "6\n"
     ]
    }
   ],
   "source": [
    "listOfStrings = [1, 'asf', 44,34, '2asdf']\n",
    "secondSet = ['asd',34,44,'kumar']\n",
    "listOfStrings.append(secondSet)\n",
    "print(*listOfStrings)\n",
    "countOfStrings = len(listOfStrings)\n",
    "\n",
    "print(countOfStrings)"
   ]
  },
  {
   "cell_type": "code",
   "execution_count": 31,
   "id": "bc4c2748",
   "metadata": {},
   "outputs": [
    {
     "name": "stdout",
     "output_type": "stream",
     "text": [
      "The customer name is  Ava McDougle\n",
      "The customer email address is  ava@email.com\n",
      "The customer phone is  123-456-7890\n"
     ]
    }
   ],
   "source": [
    "customer_details = [\"Ava McDougle\", \"ava@email.com\", \"123-456-7890\"]\n",
    "customer_name = customer_details[0]\n",
    "print(\"The customer name is \", customer_name)\n",
    "customer_email = customer_details[1]\n",
    "print(\"The customer email address is \", customer_email)\n",
    "customer_phone = customer_details[2]\n",
    "print(\"The customer phone is \", customer_phone)"
   ]
  },
  {
   "cell_type": "code",
   "execution_count": 34,
   "id": "707d934f",
   "metadata": {},
   "outputs": [
    {
     "name": "stdout",
     "output_type": "stream",
     "text": [
      "Mike\n",
      "Jennifer\n",
      "Kate\n"
     ]
    }
   ],
   "source": [
    "list_of_strings = [\"Kate\", \"Jennifer\", \"Mike\"]\n",
    "person_1 = list_of_strings[-1]\n",
    "print(person_1)\n",
    "list_of_strings = [\"Kate\", \"Jennifer\", \"Mike\"]\n",
    "person_2 = list_of_strings[-2]\n",
    "print(person_2)\n",
    "list_of_strings = [\"Kate\", \"Jennifer\", \"Mike\"]\n",
    "person_3 = list_of_strings[-3]\n",
    "print(person_3)"
   ]
  },
  {
   "cell_type": "code",
   "execution_count": 33,
   "id": "9126e63e",
   "metadata": {},
   "outputs": [
    {
     "name": "stdout",
     "output_type": "stream",
     "text": [
      "Jennifer\n"
     ]
    }
   ],
   "source": [
    "list_of_strings = [\"Kate\", \"Jennifer\", \"Mike\"]\n",
    "person_2 = list_of_strings[-2]\n",
    "print(person_2)"
   ]
  },
  {
   "cell_type": "code",
   "execution_count": 41,
   "id": "13f249a6",
   "metadata": {},
   "outputs": [
    {
     "name": "stdout",
     "output_type": "stream",
     "text": [
      "1AB23456C3485125D,-$8.76\n",
      "1AB23456C0145125D,-$5.55\n",
      "1AB23456C3542215D,+$544.23\n"
     ]
    }
   ],
   "source": [
    "transactions = [ \"1AB23456C0011523D,+$25.00\", \"1AB23456C5541225D,-$56.00\", \"1AB23456C8613005D,-$393.00\", \"1AB23456C3542215D,+$544.23\", \"1AB23456C0145125D,-$5.55\", \"1AB23456C3485125D,-$8.76\"]\n",
    "latest_transactions = transactions[-1]\n",
    "second_latest_transactions = transactions[-2]\n",
    "third_latest_transactions = transactions[-3]\n",
    "print(latest_transactions)\n",
    "print(second_latest_transactions)\n",
    "print(third_latest_transactions)\n",
    "\n",
    "\n"
   ]
  },
  {
   "cell_type": "code",
   "execution_count": 38,
   "id": "7fe95d07",
   "metadata": {},
   "outputs": [
    {
     "name": "stdout",
     "output_type": "stream",
     "text": [
      "[]\n"
     ]
    }
   ],
   "source": [
    "last_3_tansaction = transactions[-1:-4]\n",
    "print(last_3_tansaction)"
   ]
  },
  {
   "cell_type": "code",
   "execution_count": 45,
   "id": "f5cc9569",
   "metadata": {},
   "outputs": [
    {
     "name": "stdout",
     "output_type": "stream",
     "text": [
      "[1, 2, 3, 4, 5, 6, 7, 8, 9, 10]\n",
      "[1, 2, 3, 4]\n"
     ]
    }
   ],
   "source": [
    "mylist = list(range(1, 11))\n",
    "print(mylist)\n",
    "slicedlist = mylist[0:4]\n",
    "print(slicedlist)"
   ]
  },
  {
   "cell_type": "code",
   "execution_count": 53,
   "id": "ab99e2f7",
   "metadata": {},
   "outputs": [
    {
     "name": "stdout",
     "output_type": "stream",
     "text": [
      "['2021-04-03', '2021-12-03', '2021-13-03', '2021-15-03', '2021-22-03', '2021-25-03', '21-30-03', '2021-03-04']\n",
      "What end date would you like to see all the transaction amounts from? (format: YYYY-DD-MM): 2021-22-03\n",
      "4\n",
      "['2021-04-03', '2021-12-03', '2021-13-03', '2021-15-03', '2021-22-03']\n",
      "[2.45, 4.5, 5.75, 10.0, 12.3]\n"
     ]
    }
   ],
   "source": [
    "trans_date=['2021-04-03','2021-12-03', '2021-13-03','2021-15-03','2021-22-03',\n",
    "'2021-25-03','21-30-03','2021-03-04'] \n",
    "trans_amt=[2.45,4.50,5.75,10.00,12.30,4.25,15.25,16.20] \n",
    "print(trans_date)\n",
    "\n",
    "input_to_date = input(\"What end date would you like to see all the transaction amounts from? (format: YYYY-DD-MM): \")\n",
    "\n",
    "trans_date_to = trans_date.index(input_to_date)\n",
    "print(trans_date_to)\n",
    "print(trans_date[0:int(trans_date_to)+1])\n",
    "print(trans_amt[0:int(trans_date_to)+1])"
   ]
  },
  {
   "cell_type": "code",
   "execution_count": 63,
   "id": "389a79f1",
   "metadata": {},
   "outputs": [
    {
     "name": "stdout",
     "output_type": "stream",
     "text": [
      "['2021-04-03', '2021-12-03', '2021-13-03', '2021-15-03', '2021-22-03', '2021-25-03', '2021-30-03', '2021-03-04']\n",
      "What end date would you like to see all the transaction \\ amounts from? (format: YYYY-DD-MM): 2021-25-03\n",
      "5\n",
      "[2.45, 4.5, 5.75, 10.0, 12.3, 4.25]\n"
     ]
    }
   ],
   "source": [
    "trans_date=['2021-04-03', '2021-12-03', '2021-13-03', '2021-15-03', '2021-22-03', '2021-25-03', '2021-30-03', '2021-03-04']\n",
    "trans_amt=[2.45,4.50,5.75,10.00,12.30,4.25,15.25,16.20]\n",
    "print(trans_date)\n",
    "input_to_date = input(\"What end date would you like to see all the transaction \\ amounts from? (format: YYYY-DD-MM): \")\n",
    "\n",
    "trans_date_to = trans_date.index(input_to_date)\n",
    "print(trans_date_to)\n",
    "\n",
    "\n",
    "slicenum = slice(0,int(trans_date_to)+1)\n",
    "slicelist = trans_amt[slicenum]\n",
    "print(slicelist)\n",
    "\n"
   ]
  },
  {
   "cell_type": "code",
   "execution_count": 68,
   "id": "8e5a3c47",
   "metadata": {},
   "outputs": [
    {
     "name": "stdout",
     "output_type": "stream",
     "text": [
      "[]\n",
      "<class 'list'>\n",
      "['Darshan']\n",
      "['Darshan', 'Yash']\n",
      "['Darshan', 'Yash', 'Ganesh']\n"
     ]
    }
   ],
   "source": [
    "list_of_names = []\n",
    "print(list_of_names)\n",
    "print(type(list_of_names))\n",
    "list_of_names.append('Darshan')\n",
    "print(list_of_names)\n",
    "list_of_names.append('Yash')\n",
    "print(list_of_names)\n",
    "list_of_names.append('Ganesh')\n",
    "print(list_of_names)"
   ]
  },
  {
   "cell_type": "code",
   "execution_count": 71,
   "id": "17b04433",
   "metadata": {},
   "outputs": [
    {
     "name": "stdout",
     "output_type": "stream",
     "text": [
      "[]\n",
      "<class 'list'>\n",
      "Please enter the customer's first nameAshwin\n",
      "Please enter the customer's last nameKumar\n",
      "Please enter the customers date of birth09051986\n",
      "Please enter the customer's account balance254\n",
      "Please enter the customer's account number41304258\n",
      "['Ashwin', 'Kumar', '09051986', '254', '41304258']\n"
     ]
    }
   ],
   "source": [
    "info = []\n",
    "print(info)\n",
    "print(type(info))\n",
    "info.append(input(\"Please enter the customer's first name: \"))\n",
    "info.append(input(\"Please enter the customer's last name: \"))\n",
    "info.append(input(\"Please enter the customers date of birth: \"))\n",
    "info.append(input(\"Please enter the customer's account balance: \"))\n",
    "info.append(input(\"Please enter the customer's account number: \"))\n",
    "print(info)"
   ]
  },
  {
   "cell_type": "code",
   "execution_count": 77,
   "id": "d29a5889",
   "metadata": {},
   "outputs": [
    {
     "name": "stdout",
     "output_type": "stream",
     "text": [
      "['John', 'Mike']\n",
      "['Ashwin', 'John', 'Mike']\n",
      "['Amy', 'Ashwin', 'John', 'Third rate', 'Mike']\n"
     ]
    }
   ],
   "source": [
    "list_of_names = [\"John\", \"Mike\"] \n",
    "print(list_of_names)\n",
    "list_of_names.insert(0,\"Ashwin\")\n",
    "print(list_of_names)\n",
    "list_of_names.insert(0, \"Amy\")\n",
    "list_of_names\n",
    "list_of_names.insert(3, \"Third rate\")\n",
    "print(list_of_names)"
   ]
  },
  {
   "cell_type": "code",
   "execution_count": 80,
   "id": "5c6025c0",
   "metadata": {},
   "outputs": [
    {
     "name": "stdout",
     "output_type": "stream",
     "text": [
      "Please enter an addressCarlingford\n",
      "Please enter a phone number213302\n",
      "First name: John\n",
      "Last name: Smith\n",
      "Address: Carlingford\n",
      "Phone number: 213302\n",
      "City: Boston\n",
      "Position: Junior Software Developer\n"
     ]
    }
   ],
   "source": [
    "info = [\"John\", \"Smith\", \"Boston\", \"Junior Software Developer\"]\n",
    "info.insert(2, input(\"Please enter an address\"))\n",
    "info.insert(3, input(\"Please enter a phone number\"))\n",
    "\n",
    "\n",
    "print(\"First name: \" +info[0])\n",
    "print(\"Last name: \" +info[1])\n",
    "print(\"Address: \" +info[2])\n",
    "print(\"Phone number: \" +info[3] )\n",
    "print(\"City: \" +info[4])\n",
    "print(\"Position: \" +info[5])\n"
   ]
  },
  {
   "cell_type": "code",
   "execution_count": 81,
   "id": "cb466830",
   "metadata": {},
   "outputs": [
    {
     "name": "stdout",
     "output_type": "stream",
     "text": [
      "['John Smith', 'Layla David', 'Maria Smith', 'Layla David']\n",
      "['John Smith', 'Maria Smith', 'Layla David']\n"
     ]
    }
   ],
   "source": [
    "list_of_names = [\"John Smith\", \"Layla David\", \"Maria Smith\", \"Layla David\"] \n",
    "print(list_of_names)\n",
    "list_of_names.remove(\"Layla David\")\n",
    "print(list_of_names)\n"
   ]
  },
  {
   "cell_type": "code",
   "execution_count": 82,
   "id": "80fa3886",
   "metadata": {},
   "outputs": [
    {
     "data": {
      "text/plain": [
       "['Livia', 'Layla', 1, 2, 3, 'Mike', 'Jesse', 'Haythem']"
      ]
     },
     "execution_count": 82,
     "metadata": {},
     "output_type": "execute_result"
    }
   ],
   "source": [
    "input_list = [\"Haythem\", \"Mike\", 1, \"Layla\", \"Livia\", \"Layla\", 2, 1, 2, 3, \"Mike\", \"Jesse\", \"Haythem\"]\n",
    "input_list.remove(1)\n",
    "input_list.remove(2)\n",
    "input_list.remove(\"Layla\")\n",
    "input_list.remove(\"Mike\")\n",
    "input_list.remove(\"Haythem\")\n",
    "input_list"
   ]
  },
  {
   "cell_type": "code",
   "execution_count": 83,
   "id": "38824d76",
   "metadata": {},
   "outputs": [
    {
     "data": {
      "text/plain": [
       "['Apple', 'Cherry', 'Date', 'Eggplant', 'Fig', 'Apple', 'Grape ']"
      ]
     },
     "execution_count": 83,
     "metadata": {},
     "output_type": "execute_result"
    }
   ],
   "source": [
    "produce_list = [\"Apple\", \"Banana\", \"Cherry\", \"Date\", \"Eggplant\", \"Fig\", \"Apple\", \"Grape \"]\n",
    "del produce_list[1]\n",
    "produce_list"
   ]
  },
  {
   "cell_type": "code",
   "execution_count": 87,
   "id": "f1872019",
   "metadata": {},
   "outputs": [
    {
     "name": "stdout",
     "output_type": "stream",
     "text": [
      "['Apple', 'Banana', 'Cherry', 'Date', 'Eggplant', 'Fig', 'Apple', 'Grape ']\n"
     ]
    },
    {
     "data": {
      "text/plain": [
       "'Apple'"
      ]
     },
     "execution_count": 87,
     "metadata": {},
     "output_type": "execute_result"
    }
   ],
   "source": [
    "\n",
    "produce_list = [\"Apple\", \"Banana\", \"Cherry\", \"Date\", \"Eggplant\", \"Fig\", \"Apple\", \"Grape \"]\n",
    "print(produce_list)\n",
    "popped_product = produce_list.pop(6)\n",
    "produce_list\n",
    "popped_product"
   ]
  },
  {
   "cell_type": "code",
   "execution_count": 89,
   "id": "0b8b1b16",
   "metadata": {},
   "outputs": [
    {
     "name": "stdout",
     "output_type": "stream",
     "text": [
      "['Haythem', 'Mike']\n",
      "['Jesse', 'Layla']\n",
      "['Haythem', 'Mike', 'Jesse', 'Layla']\n"
     ]
    }
   ],
   "source": [
    "list_of_names_1 = [\"Haythem\", \"Mike\"] \n",
    "print(list_of_names_1)\n",
    "list_of_names_2 = [\"Jesse\", \"Layla\"] \n",
    "print(list_of_names_2)\n",
    "\n",
    "list_of_names = list_of_names_1 + list_of_names_2\n",
    "print(list_of_names)"
   ]
  },
  {
   "cell_type": "code",
   "execution_count": 95,
   "id": "5ac03e56",
   "metadata": {},
   "outputs": [
    {
     "name": "stdout",
     "output_type": "stream",
     "text": [
      "<class 'list'>\n",
      "[0, 1, 2, 3, 4, 5, 6, 7, 8, 9, 10]\n"
     ]
    }
   ],
   "source": [
    "numbers = list()\n",
    "numbers\n",
    "print(type(numbers))\n",
    "\n",
    "for i in range(0,11):\n",
    "    numbers.append(i)\n",
    "print(numbers)\n",
    "    "
   ]
  },
  {
   "cell_type": "code",
   "execution_count": 97,
   "id": "533fc98a",
   "metadata": {},
   "outputs": [
    {
     "name": "stdout",
     "output_type": "stream",
     "text": [
      "[0, 1, 2, 3, 4, 5, 6, 7, 8, 9, 10]\n"
     ]
    }
   ],
   "source": [
    "numbers = [i for i in range(0,11)] \n",
    "print(numbers)"
   ]
  },
  {
   "cell_type": "code",
   "execution_count": 98,
   "id": "9367fafa",
   "metadata": {},
   "outputs": [
    {
     "name": "stdout",
     "output_type": "stream",
     "text": [
      "[0, 1, 2, 3, 4, 5, 6, 7, 8, 9, 10, 11, 12, 13, 14, 15, 16, 17, 18, 19, 20, 21, 22, 23, 24, 25, 26, 27, 28, 29, 30, 31, 32, 33, 34, 35, 36, 37, 38, 39, 40, 41, 42, 43, 44, 45, 46, 47, 48, 49, 50, 51, 52, 53, 54]\n"
     ]
    }
   ],
   "source": [
    "numbers = [i for i in range(0,55)]\n",
    "print(numbers)"
   ]
  },
  {
   "cell_type": "code",
   "execution_count": 100,
   "id": "7fb2d6eb",
   "metadata": {},
   "outputs": [
    {
     "name": "stdout",
     "output_type": "stream",
     "text": [
      "['Miriam', 'Mary', 'Dave', 'Nick']\n",
      "['Dave', 'Mary', 'Miriam', 'Nick']\n"
     ]
    }
   ],
   "source": [
    "names = [\"Miriam\",\"Mary\",\"Dave\",\"Nick\"] \n",
    "print(names)\n",
    "names.sort()\n",
    "print(names)"
   ]
  },
  {
   "cell_type": "code",
   "execution_count": 103,
   "id": "391acf94",
   "metadata": {},
   "outputs": [
    {
     "name": "stdout",
     "output_type": "stream",
     "text": [
      "['Miriam', 'Mary', 'Dave', 'Nick']\n",
      "['Miriam', 'Mary', 'Dave', 'Nick']\n"
     ]
    }
   ],
   "source": [
    "names = [\"Miriam\",\"Mary\",\"Dave\",\"Nick\"] \n",
    "britishNames = names\n",
    "print(names)\n",
    "print(britishNames)"
   ]
  },
  {
   "cell_type": "markdown",
   "id": "1d3d3ef1",
   "metadata": {},
   "source": []
  },
  {
   "cell_type": "code",
   "execution_count": 104,
   "id": "a28fb75e",
   "metadata": {},
   "outputs": [
    {
     "name": "stdout",
     "output_type": "stream",
     "text": [
      "['Miriam', 'Mary', 'Dave', 'Nick', 'ravish']\n",
      "['Miriam', 'Mary', 'Dave', 'Nick', 'ravish']\n"
     ]
    }
   ],
   "source": [
    "names.append(\"ravish\")\n",
    "print(names)\n",
    "print(britishNames)"
   ]
  },
  {
   "cell_type": "code",
   "execution_count": 111,
   "id": "f71f48e5",
   "metadata": {},
   "outputs": [
    {
     "name": "stdout",
     "output_type": "stream",
     "text": [
      "[1, 2, 3]\n",
      "[1, 2, 3]\n",
      "[0, 2, 3]\n",
      "[1, 2, 3]\n"
     ]
    }
   ],
   "source": [
    "a = [1,2,3]\n",
    "b = []\n",
    "for i in a:\n",
    "    b.append(i)\n",
    "\n",
    "print(a)\n",
    "print(b)\n",
    "\n",
    "a[0] = 0\n",
    "\n",
    "print(a)\n",
    "print(b)"
   ]
  },
  {
   "cell_type": "code",
   "execution_count": 8,
   "id": "f0d890de",
   "metadata": {},
   "outputs": [
    {
     "name": "stdout",
     "output_type": "stream",
     "text": [
      "[0, 1, 2, 3, 4, 5, 6, 7, 8, 9]\n"
     ]
    },
    {
     "data": {
      "text/plain": [
       "[0, 1, 2, 3, 4, 5, 6, 7, 8, 9]"
      ]
     },
     "execution_count": 8,
     "metadata": {},
     "output_type": "execute_result"
    }
   ],
   "source": [
    "#list comprehension\n",
    "numbers =list()\n",
    "type(numbers)\n",
    "for i in range(0,10):\n",
    "    numbers.append(i)\n",
    "print(numbers)\n",
    "listComp = [i for i in range(0,10)]\n",
    "listComp"
   ]
  },
  {
   "cell_type": "code",
   "execution_count": 9,
   "id": "4b3ac584",
   "metadata": {},
   "outputs": [
    {
     "data": {
      "text/plain": [
       "<generator object <genexpr> at 0x7f91f90a1510>"
      ]
     },
     "execution_count": 9,
     "metadata": {},
     "output_type": "execute_result"
    }
   ],
   "source": [
    "tupleComp = (i for i in range(0,10))\n",
    "tupleComp"
   ]
  },
  {
   "cell_type": "code",
   "execution_count": 12,
   "id": "bf3b5f1a",
   "metadata": {},
   "outputs": [
    {
     "data": {
      "text/plain": [
       "['KING', 'QUEEN', 'PRINCE', 'PRINCESS']"
      ]
     },
     "execution_count": 12,
     "metadata": {},
     "output_type": "execute_result"
    }
   ],
   "source": [
    "names = ['king','queen','prince','princess']\n",
    "names_upper = [name.upper() for name in names]\n",
    "names_upper"
   ]
  },
  {
   "cell_type": "code",
   "execution_count": 46,
   "id": "be6608e9",
   "metadata": {},
   "outputs": [
    {
     "name": "stdout",
     "output_type": "stream",
     "text": [
      "['KING', 'PRINCE', 'PRINCESS', 'QUEEN']\n"
     ]
    }
   ],
   "source": [
    "names_upper = []\n",
    "names = ['king','queen','prince','princess']\n",
    "for i in names:\n",
    "    names_upper.append(i.upper())\n",
    "    names_upper.sort()\n",
    "print(names_upper)"
   ]
  },
  {
   "cell_type": "code",
   "execution_count": 36,
   "id": "d01607f8",
   "metadata": {},
   "outputs": [
    {
     "name": "stdout",
     "output_type": "stream",
     "text": [
      "[2, 3, 4, 5, 6, 7]\n",
      "[-2, -3, -4, -5, -6, -7]\n"
     ]
    }
   ],
   "source": [
    "positive = []\n",
    "negative = []\n",
    "numbers = [2,-2,3,-3,4,-4,5,-5,6,-6,7,-7]\n",
    "positive = [number for number in numbers if number >= 0]\n",
    "print(positive)\n",
    "negative = [number for number in numbers if number < 0]\n",
    "print(negative)"
   ]
  },
  {
   "cell_type": "code",
   "execution_count": 35,
   "id": "8773d75d",
   "metadata": {},
   "outputs": [
    {
     "name": "stdout",
     "output_type": "stream",
     "text": [
      "Positive numbers are :  [2, 3, 4, 5, 6, 7]\n",
      "Negative numbers are :  [-2, -3, -4, -5, -6, -7]\n"
     ]
    }
   ],
   "source": [
    "for number in numbers:\n",
    "    if number >= 0:\n",
    "        positive.append(number)\n",
    "    elif number < 0:\n",
    "        negative.append(number)\n",
    "print(\"Positive numbers are : \" ,positive)\n",
    "print(\"Negative numbers are : \" ,negative)"
   ]
  },
  {
   "cell_type": "code",
   "execution_count": 38,
   "id": "7b30ae0c",
   "metadata": {},
   "outputs": [
    {
     "data": {
      "text/plain": [
       "['True', 'True', 'False', 'True', 'False', 'False']"
      ]
     },
     "execution_count": 38,
     "metadata": {},
     "output_type": "execute_result"
    }
   ],
   "source": [
    "numbers = [1,2,-1,6,-5,-2]\n",
    "label = ['True' if number >= 0 else 'False' for number in numbers]\n",
    "label"
   ]
  },
  {
   "cell_type": "code",
   "execution_count": 52,
   "id": "95effedd",
   "metadata": {},
   "outputs": [
    {
     "name": "stdout",
     "output_type": "stream",
     "text": [
      "['Dave', 'Mary', 'Miriam', 'Nick']\n"
     ]
    }
   ],
   "source": [
    "names = [\"Miriam\",\"Mary\",\"Dave\",\"Nick\"] \n",
    "sorted_name = []\n",
    "for name in names:\n",
    "    sorted_name.append(name)\n",
    "    sorted_name.sort()\n",
    "print(sorted_name)"
   ]
  },
  {
   "cell_type": "code",
   "execution_count": 56,
   "id": "1b708a48",
   "metadata": {},
   "outputs": [
    {
     "name": "stdout",
     "output_type": "stream",
     "text": [
      "['Dave', 'Mary', 'Miriam', 'Nick']\n"
     ]
    }
   ],
   "source": [
    "names = [\"Miriam\",\"Mary\",\"Dave\",\"Nick\"] \n",
    "sorted_name = [name for name in names]\n",
    "sorted_name.sort()\n",
    "print(sorted_name)"
   ]
  },
  {
   "cell_type": "code",
   "execution_count": 80,
   "id": "c873d313",
   "metadata": {},
   "outputs": [
    {
     "name": "stdout",
     "output_type": "stream",
     "text": [
      "1,2,4,5,5,7,4,"
     ]
    }
   ],
   "source": [
    "for i in [1,2,4,5,5,7,4]:\n",
    "    print(i, end=',')"
   ]
  },
  {
   "cell_type": "code",
   "execution_count": 82,
   "id": "01b3459f",
   "metadata": {},
   "outputs": [
    {
     "name": "stdout",
     "output_type": "stream",
     "text": [
      "1\n",
      "1\n",
      "1\n",
      "1\n",
      "1\n",
      "1\n",
      "1\n"
     ]
    }
   ],
   "source": [
    "for i in [1,2,4,5,5,7,4]:\n",
    "    x = i**2 - (i-1)*(i+1)\n",
    "    print(x)"
   ]
  },
  {
   "cell_type": "code",
   "execution_count": null,
   "id": "3532dfe5",
   "metadata": {},
   "outputs": [],
   "source": []
  }
 ],
 "metadata": {
  "kernelspec": {
   "display_name": "Python 3 (ipykernel)",
   "language": "python",
   "name": "python3"
  },
  "language_info": {
   "codemirror_mode": {
    "name": "ipython",
    "version": 3
   },
   "file_extension": ".py",
   "mimetype": "text/x-python",
   "name": "python",
   "nbconvert_exporter": "python",
   "pygments_lexer": "ipython3",
   "version": "3.9.13"
  }
 },
 "nbformat": 4,
 "nbformat_minor": 5
}
