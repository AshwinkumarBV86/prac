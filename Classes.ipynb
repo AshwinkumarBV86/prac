{
 "cells": [
  {
   "cell_type": "code",
   "execution_count": 4,
   "id": "2e35f5ec",
   "metadata": {},
   "outputs": [],
   "source": [
    "#classes are blueprint or prototype from which the objects are created.\n",
    "#classes are collection of object\n",
    "#objects are the instance of class\n",
    "#objects are entity that has state of behaviour\n",
    "#class contains attributes and behaviour\n",
    "#ATTRIBUTES are variables\n",
    "#behaviour are function and methods\n",
    "#predefined classes are int, str, list, tuple"
   ]
  },
  {
   "cell_type": "code",
   "execution_count": 1,
   "id": "8f5b35b7",
   "metadata": {},
   "outputs": [],
   "source": [
    "#to create a own class, we need to create a class block"
   ]
  },
  {
   "cell_type": "code",
   "execution_count": 25,
   "id": "3224e427",
   "metadata": {},
   "outputs": [],
   "source": [
    "#defining class with a keyword class\n",
    "class Computer:\n",
    "    def __init__(self, cpu, ram): #it is a constructor to initialize the value of cpu and ram from object\n",
    "        self.cpu = cpu\n",
    "        self.ram = ram\n",
    "    def config(self): #config is an instance method as self takes the value from object. it is object specific\n",
    "        print('CPU & RAM is ', self.cpu, ' and ', self.ram)\n",
    "        "
   ]
  },
  {
   "cell_type": "code",
   "execution_count": 24,
   "id": "75958986",
   "metadata": {},
   "outputs": [],
   "source": [
    "#class keyword\n",
    "class Computer:  \n",
    "    def __init__(self): #constructor for initializing the value from the object\n",
    "        self.name = 'HP'#default name for all object name\n",
    "        self.color = 'Black' #default color for all object color\n",
    "\n"
   ]
  },
  {
   "cell_type": "code",
   "execution_count": null,
   "id": "47d06bbf",
   "metadata": {},
   "outputs": [],
   "source": []
  },
  {
   "cell_type": "code",
   "execution_count": 23,
   "id": "c570c221",
   "metadata": {},
   "outputs": [],
   "source": [
    "#defining class with a keyword class\n",
    "class Computer:\n",
    "    def __init__(self, model, cpu): #initializing the value for the object, model and cpu are instance objects\n",
    "        self.model = model\n",
    "        self.cpu = cpu\n",
    "    def config(self): #config is an instance method as it takes the value from object as it is object specific\n",
    "        print('Model & CPU is ', self.model, ' and ', self.cpu)\n",
    "        \n",
    "    def compare(self, other): #it is an instance method as it takes the value from object\n",
    "        if self.model == other.model or self.cpu == other.cpu:\n",
    "            return True\n",
    "        else:\n",
    "            return False\n",
    "\n",
    "        \n",
    "    "
   ]
  },
  {
   "cell_type": "code",
   "execution_count": 31,
   "id": "f5486ff6",
   "metadata": {},
   "outputs": [
    {
     "name": "stdout",
     "output_type": "stream",
     "text": [
      "Its Equal\n"
     ]
    }
   ],
   "source": [
    "class Student:\n",
    "    def __init__(self, m1, m2):\n",
    "        self.m1 = m1\n",
    "        self.m2 = m2\n",
    "        \n",
    "    def __add__(self,other): #instance method that takes the value from the object definition\n",
    "        m1 = self.m1 + other.m1\n",
    "        m2 = self.m2 + other.m2\n",
    "        s3 = Student(m1,m2)\n",
    "        return s3\n",
    "    def __gt__(self, other): #instance method that takes the value from the object definition\n",
    "        r1 = self.m1 + self.m2\n",
    "        r2 = other.m1 + other.m2\n",
    "        if r1 > r2:\n",
    "            return True\n",
    "        else:\n",
    "            return False\n",
    "        \n",
    "s1 = Student(45,43)\n",
    "s2 = Student(54, 56)\n",
    "#s3 = s1 + s2\n",
    "#print(s3.m1)\n",
    "#print(s3.m2\n",
    "      \n",
    "      \n",
    "if s1>s2:\n",
    "      print(\"s1 high\")\n",
    "elif s2 < s1:\n",
    "      print(\"s2 low\")\n",
    "else:\n",
    "    print(\"Its Equal\")"
   ]
  },
  {
   "cell_type": "code",
   "execution_count": 22,
   "id": "418b5c9d",
   "metadata": {},
   "outputs": [],
   "source": [
    "class Person:\n",
    "    def __init__(self, fname, lname): #constructor method to define the values of variables\n",
    "        self.first_name = fname\n",
    "        self.last_name = lname\n"
   ]
  },
  {
   "cell_type": "code",
   "execution_count": 21,
   "id": "f1bbc932",
   "metadata": {},
   "outputs": [],
   "source": [
    "class StudentMarks :\n",
    "    institute = \"Besant Technologies\" #class variable\n",
    "    group = \"AVM Group\"\n",
    "    courses = [\"SQL\", \"PYTHON\",\"TABLEAU\",\"JAVE\",\"R\"]\n",
    "    trainers = [\"Kumaranna\",\"HariPrasad\",\"Zeba Gadkari\",\"Vaishali\", \"Parth Garg\"]\n",
    "    def __init__(self,name, m1, m2,m3): #constructor to pass values to the arguments\n",
    "        self.name = name\n",
    "        self.m1 = m1\n",
    "        self.m2 = m2\n",
    "        self.m3 = m3\n",
    "    def avg(self): #avg is an instance method as it takes the value from object instantiated.\n",
    "                    #calculating average by accessing the values of m1, m2, m3 from constructor\n",
    "        return (self.m1 + self.m2 + self.m3)/3\n",
    "    \n",
    "    @classmethod #class method decorator for accessiing the class variable when all object have common value\n",
    "    def getInstitute(cls): #cls keyword to communicate the method to access class variable\n",
    "        return cls.institute\n",
    "\n",
    "    \n",
    "    @staticmethod #decorator , when there is generalised information for all objects. no arguments required\n",
    "    def info():\n",
    "        print(\"Welcome to Python class\")\n",
    "        \n",
    "    @classmethod\n",
    "    def getGroup(cls): #getGroup is a class method which derives its value from class\n",
    "        return cls.group\n",
    "    \n",
    "    @classmethod\n",
    "    def getCourses(cls):\n",
    "        return cls.courses\n",
    "    \n",
    "    @classmethod\n",
    "    def getTrainers(cls):\n",
    "        return cls.trainers\n",
    "    \n",
    "    @staticmethod\n",
    "    def info():\n",
    "        print(\"Software Training & 100% placements\")\n",
    "        print(\"Get a job - Guaranteed\")\n",
    "        print(\"Enrol now for Trending Courses with Job Assurance\")\n",
    "        print(\"15 + years in Software Training & Placements\")\n",
    "        print(\"Avail Both Class room & Online Courses\")\n"
   ]
  },
  {
   "cell_type": "code",
   "execution_count": 26,
   "id": "5c6ebd7c",
   "metadata": {},
   "outputs": [],
   "source": [
    "#adding a method to our Person class\n",
    "class Person:\n",
    "    species = \"HomoSapiens\"\n",
    "    def __init__ (self, fname, lname, gender):\n",
    "        self.first_name = fname\n",
    "        self.last_name = lname\n",
    "        self.gender = gender\n",
    "    def display_info(self): #display_info is an instance method as it takes the value of self from objects\n",
    "        print(\"Player's First Name is \" +self.first_name)\n",
    "        print(\"Player's Last Name is \" +self.last_name)\n",
    "        print(\"Player's gender is \" +self.gender)\n",
    "\n"
   ]
  },
  {
   "cell_type": "code",
   "execution_count": 27,
   "id": "7f8619f0",
   "metadata": {},
   "outputs": [],
   "source": [
    "#using methods in our banking app\n",
    "class BankCustomer:\n",
    "    def __init__(self, c_id, fname, lname): #c_id, f_name, lname are instance variables\n",
    "        self.customer_id = c_id\n",
    "        self.first_name = fname\n",
    "        self.last_name = lname\n",
    "    def display_info(self): #display_info is an instance object as it takes the value of self from object\n",
    "        print(\"Customers customer id is \" +self.customer_id)\n",
    "        print(\"Customer's first name is \" +self.first_name)\n",
    "        print(\"Customer's last name is \" + str(self.last_name))\n",
    "        print(type(self.last_name))\n"
   ]
  },
  {
   "cell_type": "code",
   "execution_count": 4,
   "id": "0d868263",
   "metadata": {},
   "outputs": [
    {
     "data": {
      "text/plain": [
       "'Savings'"
      ]
     },
     "execution_count": 4,
     "metadata": {},
     "output_type": "execute_result"
    }
   ],
   "source": [
    "class BankAccount:\n",
    "    actypes = \"checking\" #actypes is a class variable\n",
    "    def __init__(self, a_id, name, type):\n",
    "        self.account_id = a_id\n",
    "        self.account_name = name\n",
    "        self.account_type = type\n",
    "    def display_info(self): #display info is an instance method as it takes the value from object\n",
    "        print(\"Customers account id is \" +self.account_id)\n",
    "        print(\"Customer's account name is \" +self.account_name)\n",
    "        print(\"Customer's account type is \" + str(self.account_type))\n",
    "        \n",
    "BankAccount.actypes = \"Savings\"\n",
    "b = BankAccount(\"11002\",'Ashwin','Stock')\n",
    "b.actypes"
   ]
  },
  {
   "cell_type": "code",
   "execution_count": 18,
   "id": "67a08bdc",
   "metadata": {},
   "outputs": [
    {
     "name": "stdout",
     "output_type": "stream",
     "text": [
      "Manager's name id is Shane Dray\n",
      "Manager's id is 01\n",
      "Manager's team is Management\n",
      "Teller account id is Jayesh Bhai\n",
      "Teller's account name is 002\n",
      "Teller's account type is ANZ WENTWORTHVILLE\n",
      "***\n",
      "Customer representative's  name is Orioneia\n",
      "Customer representative's employee Id is 1223454\n",
      "Teller's account type is     branchC   \n"
     ]
    }
   ],
   "source": [
    "#classes to represent employees in our banking app\n",
    "class Manager():\n",
    "    def __init__(self, n, i, t): #n, i t are instance variable, there are no class variable here\n",
    "        self.name = n \n",
    "        self.id = i\n",
    "        self.team = t\n",
    "    def display(self): #display is an instance method as it takes the value from the object\n",
    "        print(\"Manager's name id is \" +self.name)\n",
    "        print(\"Manager's id is \" +self.id)\n",
    "        print(\"Manager's team is \" + self.team)\n",
    "m1 = Manager(\"Shane Dray\", \"01\", \"Management\")\n",
    "m1.display()\n",
    "\n",
    "class Teller:\n",
    "    def __init__(self, n, i, b):\n",
    "        self.name = n\n",
    "        self.id = i\n",
    "        self.bank_branch = b\n",
    "    def display(self): #display is an instance method as it derives its value from object\n",
    "        print(\"Teller account id is \" +self.name)\n",
    "        print(\"Teller's account name is \" +self.id)\n",
    "        print(\"Teller's account type is \" + str(self.bank_branch))\n",
    "t1 = Teller(\"Jayesh Bhai\", \"002\", \"ANZ WENTWORTHVILLE\")\n",
    "t1.display()\n",
    "print(\"***\")\n",
    "class CustomerServRep():\n",
    "    def __init__(self, n, i, b): #n i b are instance variable\n",
    "        self.name = n\n",
    "        self.id = i\n",
    "        self.call_center = b\n",
    "    def display(self): #display is an instance method as it derives its value from object\n",
    "        crname = self.name.strip()\n",
    "        crid = self.id.strip()\n",
    "        crbranch = self.call_center.strip()\n",
    "        print(\"Customer representative's  name is \" +crname)\n",
    "        print(\"Customer representative's employee Id is \" +crid)\n",
    "        print(\"Teller's account type is \" + str(self.call_center))\n",
    "\n",
    "cs = CustomerServRep(\"           Orioneia\", \"         1223454\", \"    branchC   \")\n",
    "#print(cs.name, cs.id, cs.call_center)\n",
    "cs.display()"
   ]
  },
  {
   "cell_type": "code",
   "execution_count": 30,
   "id": "0cffefd3",
   "metadata": {},
   "outputs": [],
   "source": [
    "#manager class with a CLASS attribute\n",
    "class Manager():\n",
    "    level = \"L1\" #level is a class variable\n",
    "    def __init__(self, n, i, t):  #n, i t are instance variable\n",
    "        self.name = n\n",
    "        self.id = i\n",
    "        self.team = t\n",
    "    def display(self):\n",
    "        print(\"Manager's name id is \" +self.name)\n",
    "        print(\"Manager's id is \" +self.id)\n",
    "        print(\"Manager's team is \" + self.team)\n"
   ]
  },
  {
   "cell_type": "code",
   "execution_count": 31,
   "id": "bc40e378",
   "metadata": {},
   "outputs": [],
   "source": [
    "#Static methods are methods within a class that can be executed through the class\n",
    "#instead of being executed after the class is instantiated. \n",
    "class MathFormula:\n",
    "    def pow(self, x, y): \n",
    "        return x ** y\n",
    "m = MathFormula()\n"
   ]
  },
  {
   "cell_type": "code",
   "execution_count": 32,
   "id": "60de69da",
   "metadata": {},
   "outputs": [],
   "source": [
    "#Once a method is created as static, you cannot use it to call the instance attributes/methods of the underlying class.\n",
    "class MathFormulas:\n",
    "    @staticmethod\n",
    "    def pow(x, y):\n",
    "        return x ** y\n",
    "\n"
   ]
  },
  {
   "cell_type": "code",
   "execution_count": 33,
   "id": "4e0c1051",
   "metadata": {},
   "outputs": [],
   "source": [
    "class MathFormula:\n",
    "    @staticmethod\n",
    "    def display(message):\n",
    "        print(message)\n",
    "    @staticmethod\n",
    "    def pow(x, y):\n",
    "        return x ** y\n",
    "    @staticmethod\n",
    "    def isEven(x):\n",
    "        if x % 2 == 0:\n",
    "            return True\n"
   ]
  },
  {
   "cell_type": "code",
   "execution_count": 132,
   "id": "76600d9d",
   "metadata": {},
   "outputs": [
    {
     "data": {
      "text/plain": [
       "424.0"
      ]
     },
     "execution_count": 132,
     "metadata": {},
     "output_type": "execute_result"
    }
   ],
   "source": [
    "class Sales:\n",
    "    @staticmethod\n",
    "    def applySalesTax(amount):\n",
    "        sales_tax = 0.06\n",
    "        return amount * (1 + sales_tax)\n",
    "    \n",
    "    @staticmethod\n",
    "    def applySalesTaxMany(amounts):\n",
    "        out = list()\n",
    "        sales_tax = 0.06\n",
    "        out = [amount*(1+sales_tax) for amount in amounts]\n",
    "        return out\n",
    "    \n",
    "    \n",
    "#Sales.applySalesTax(100)\n",
    "Sales.applySalesTax(400)"
   ]
  },
  {
   "cell_type": "code",
   "execution_count": 73,
   "id": "d0a4a8f8",
   "metadata": {},
   "outputs": [
    {
     "name": "stdout",
     "output_type": "stream",
     "text": [
      "Feature1 is working\n",
      "Feature2 is working\n",
      "Feature3 is working\n",
      "Feature4 is working\n",
      "Feature1 is working\n",
      "Feature2 is working\n",
      "Feature1 is working\n",
      "Feature2 is working\n",
      "Feature3 is working\n",
      "Feature4 is working\n"
     ]
    }
   ],
   "source": [
    "class A:\n",
    "    def feature1(self):\n",
    "        print(\"Feature1 is working\")\n",
    "    def feature2(self):\n",
    "        print(\"Feature2 is working\")\n",
    "        \n",
    "class B(A):\n",
    "    def feature3(self):\n",
    "        print(\"Feature3 is working\")\n",
    "    def feature4(self):\n",
    "        print(\"Feature4 is working\")\n",
    "        \n",
    "class C(B):\n",
    "    def feature5(self):\n",
    "        print(\"Feature5 is working\")\n",
    "    def feature6(self):\n",
    "        print(\"Feature6 is working\")\n",
    "a = A()\n",
    "a.feature1()\n",
    "a.feature2()\n",
    "\n",
    "\n",
    "b = B()\n",
    "b.feature3()\n",
    "b.feature4()\n",
    "b.feature1()\n",
    "b.feature2()\n",
    "\n",
    "c = C()\n",
    "c.feature1()\n",
    "c.feature2()\n",
    "c.feature3()\n",
    "c.feature4()"
   ]
  },
  {
   "cell_type": "code",
   "execution_count": 96,
   "id": "a5916b30",
   "metadata": {},
   "outputs": [
    {
     "name": "stdout",
     "output_type": "stream",
     "text": [
      "In A class\n",
      "Feature2 is working\n",
      "In B class\n",
      "Feature3 is working\n",
      "Feature4 is working\n",
      "In A class\n",
      "In C class\n",
      "Feature1 is working\n",
      "Feature3 is working\n"
     ]
    }
   ],
   "source": [
    "class A:\n",
    "    def __init__(self):\n",
    "        print(\"In A class\")\n",
    "    def feature1(self):\n",
    "        print(\"Feature1 is working\")\n",
    "    def feature2(self):\n",
    "        print(\"Feature2 is working\")\n",
    "        \n",
    "class B:\n",
    "    def __init__(self):\n",
    "        print(\"In B class\")\n",
    "    def feature3(self):\n",
    "        print(\"Feature3 is working\")\n",
    "    def feature4(self):\n",
    "        print(\"Feature4 is working\")\n",
    "class C(A,B):\n",
    "    def __init__(self):\n",
    "        super().__init__()\n",
    "        print(\"In C class\")\n",
    "    def feature5(self):\n",
    "        print(\"Feature5 is working\")\n",
    "    def feature6(self):\n",
    "        print(\"Feature6 is working\")\n",
    "\n",
    "a1 = A()\n",
    "a1.feature2()\n",
    "b1 = B()\n",
    "#b1.feature1()\n",
    "#b1.feature2()\n",
    "b1.feature3()\n",
    "b1.feature4()\n",
    "\n",
    "c1 = C()\n",
    "c1.feature1()\n",
    "c1.feature3()"
   ]
  },
  {
   "cell_type": "code",
   "execution_count": 26,
   "id": "7515b6c9",
   "metadata": {},
   "outputs": [
    {
     "data": {
      "text/plain": [
       "'I like to eat Gulab Jamun'"
      ]
     },
     "execution_count": 26,
     "metadata": {},
     "output_type": "execute_result"
    }
   ],
   "source": [
    "class Human:\n",
    "    species = \"HomoSapiens\"  #species are class variable. the value will be same for all the objects in Human class\n",
    "    def __init__(self, name, age, gender):#name, age, gender are instance variable. this is going to be different for each object instantiated\n",
    "        self.name = name\n",
    "        self.age = age\n",
    "        self.gender = gender\n",
    "    def speak(self):\n",
    "        return f\"Hello Everyone! I am {self.name}\"\n",
    "    def eat(self, favourite_dish):\n",
    "        return f\"I like to eat {favourite_dish}\"\n",
    "h1 = Human(\"Ashwin kumar\", \"25\", \"Male\")\n",
    "    \n",
    "h1.speak()\n",
    "h1.eat(\"Gulab Jamun\")\n"
   ]
  },
  {
   "cell_type": "code",
   "execution_count": null,
   "id": "e6c13df1",
   "metadata": {},
   "outputs": [],
   "source": []
  },
  {
   "cell_type": "code",
   "execution_count": 28,
   "id": "56d4928f",
   "metadata": {},
   "outputs": [],
   "source": [
    "#INHERITANCE\n",
    "class parent_class:\n",
    "    pass\n",
    "    \n",
    "class child_class(parent_class):\n",
    "    pass"
   ]
  },
  {
   "cell_type": "code",
   "execution_count": 48,
   "id": "281ebf0e",
   "metadata": {},
   "outputs": [
    {
     "name": "stdout",
     "output_type": "stream",
     "text": [
      "Hey! My name is Edcorner, I'm a male and I'm 32 years old. \n",
      "I study in MACQUARIE UNIVERSITY\n",
      "Hey! My name is Vani, I'm a Female and I'm 16 years old. \n",
      "I study in St anns\n",
      "Hey! My name is Vyramudi, I'm a Male and I'm 55 years old. \n"
     ]
    }
   ],
   "source": [
    "class Human:\n",
    "    def __init__(self, name, age, gender): #name,age, gender are instance variable\n",
    "        self.name = name\n",
    "        self.age = age\n",
    "        self.gender = gender\n",
    "    def description(self):\n",
    "        print(f\"Hey! My name is {self.name}, I'm a {self.gender} and I'm {self.age} years old. \")\n",
    "class Boy(Human):\n",
    "    def schoolName(self, schoolname):\n",
    "        print(f\"I study in {schoolname}\")\n",
    "class Girl(Human):\n",
    "    def schoolName(self, schoolname):\n",
    "        print(f\"I study in {schoolname}\")\n",
    "    \n",
    "b = Boy('Edcorner', 32, 'male') \n",
    "b.description()\n",
    "b.schoolName(\"MACQUARIE UNIVERSITY\")\n",
    "\n",
    "g = Girl(\"Vani\",16, \"Female\")\n",
    "g.description()\n",
    "g.schoolName(\"St anns\")\n",
    "\n",
    "h = Human(\"Vyramudi\", 55, \"Male\")\n",
    "h.description()\n",
    "#h.schoolName(\"Avidhya\")"
   ]
  },
  {
   "cell_type": "code",
   "execution_count": 53,
   "id": "dba51cd7",
   "metadata": {},
   "outputs": [
    {
     "name": "stdout",
     "output_type": "stream",
     "text": [
      "Hey! My name is Sundari, I'm a Female and I'm 22 years old. \n",
      "I can code\n",
      "I can teach\n"
     ]
    }
   ],
   "source": [
    "#SUPER\n",
    "\n",
    "\n",
    "class Human:\n",
    "    def __init__(self, name, age, gender):\n",
    "        self.name = name\n",
    "        self.age = age\n",
    "        self.gender = gender\n",
    "    def description(self):\n",
    "        print(f\"Hey! My name is {self.name}, I'm a {self.gender} and I'm {self.age} years old. \")\n",
    "    \n",
    "    def code(self):\n",
    "        print(\"I can code\")\n",
    "class Boy(Human):\n",
    "    def schoolName(self, schoolname):\n",
    "        print(f\"I study in {schoolname}\")\n",
    "class Girl(Human):\n",
    "    def codecode(self):\n",
    "        print(\"I can teach\")\n",
    "    def activity(self):\n",
    "        super().code()\n",
    "    def schoolName(self, schoolname):\n",
    "        print(f\"I study in {schoolname}\")\n",
    "        \n",
    "g = Girl(\"Sundari\", 22, \"Female\")\n",
    "g.description()\n",
    "g.activity()\n",
    "g.codecode()"
   ]
  },
  {
   "cell_type": "code",
   "execution_count": 36,
   "id": "ad48ef27",
   "metadata": {},
   "outputs": [
    {
     "name": "stdout",
     "output_type": "stream",
     "text": [
      "LightGreen\n",
      "024awc\n"
     ]
    }
   ],
   "source": [
    "#INNER CLASS\n",
    "class Color:\n",
    "    def __init__(self):\n",
    "        self.name = \"Green\"\n",
    "        self.lg = self.LightGreen()\n",
    "    \n",
    "    \n",
    "    def show(self):\n",
    "        print(\"Outer Group \",self.name)\n",
    "                \n",
    "    class LightGreen:\n",
    "        def __init__(self):\n",
    "            self.name = \"LightGreen\"\n",
    "            self.code = \"024awc\"\n",
    "        \n",
    "        def display(self):\n",
    "            print(self.name)\n",
    "            print(self.code)\n",
    "\n",
    "outer = Color()\n",
    "outer.lg.display()"
   ]
  },
  {
   "cell_type": "code",
   "execution_count": 55,
   "id": "bfb9d6f7",
   "metadata": {},
   "outputs": [
    {
     "name": "stdout",
     "output_type": "stream",
     "text": [
      "The lion is yellow coloured.\n",
      "The lion eats meat.\n",
      "The deer is white coloured.\n",
      "The deer eats grass and leaves.\n"
     ]
    }
   ],
   "source": [
    "#polymorphism\n",
    "class lion:\n",
    "    def color(self):\n",
    "        print(\"The lion is yellow coloured.\")\n",
    "    def eats(self):\n",
    "        print(\"The lion eats meat.\")\n",
    "class deer:\n",
    "    def color(self):\n",
    "        print(\"The deer is white coloured.\")\n",
    "    def eats(self):\n",
    "        print(\"The deer eats grass and leaves.\")\n",
    "lion = lion()\n",
    "deer = deer()\n",
    "\n",
    "for animal in (lion, deer):\n",
    "    animal.color()\n",
    "    animal.eats()"
   ]
  },
  {
   "cell_type": "code",
   "execution_count": 12,
   "id": "a0b1371b",
   "metadata": {},
   "outputs": [
    {
     "name": "stdout",
     "output_type": "stream",
     "text": [
      "Feature 1 working\n",
      "Feature 2 working\n",
      "Feature 1 working\n",
      "Feature 2 working\n",
      "Feature 3 working\n",
      "Feature 4 working\n"
     ]
    }
   ],
   "source": [
    "#Inheritance\n",
    "class A:\n",
    "    def feature1(self):\n",
    "        print(\"Feature 1 working\")\n",
    "    def feature2(self):\n",
    "        print(\"Feature 2 working\")\n",
    "class B(A):\n",
    "    def feature3(self3):\n",
    "        print(\"Feature 3 working\")\n",
    "    def feature4(self):\n",
    "        print(\"Feature 4 working\")\n",
    "a1 = A()\n",
    "a1.feature1()\n",
    "a1.feature2()\n",
    "    \n",
    "b1 = B()\n",
    "b1.feature1()\n",
    "b1.feature2()\n",
    "b1.feature3()\n",
    "b1.feature4()"
   ]
  },
  {
   "cell_type": "code",
   "execution_count": 14,
   "id": "68cdff04",
   "metadata": {},
   "outputs": [
    {
     "name": "stdout",
     "output_type": "stream",
     "text": [
      "Feature 1 working\n",
      "Feature 2 working\n",
      "Feature 3 working\n",
      "Feature 4 working\n"
     ]
    }
   ],
   "source": [
    "#Inheritance\n",
    "class A:\n",
    "    def feature1(self):\n",
    "        print(\"Feature 1 working\")\n",
    "    def feature2(self):\n",
    "        print(\"Feature 2 working\")\n",
    "class B(A):\n",
    "    def feature1(self3):\n",
    "        print(\"Feature 3 working\")\n",
    "    def feature2(self):\n",
    "        print(\"Feature 4 working\")\n",
    "a1 = A()\n",
    "b1 = B()\n",
    "for i in (a1,b1):\n",
    "    i.feature1()\n",
    "    i.feature2()\n",
    "    "
   ]
  },
  {
   "cell_type": "code",
   "execution_count": 65,
   "id": "d4166437",
   "metadata": {},
   "outputs": [
    {
     "name": "stdout",
     "output_type": "stream",
     "text": [
      "I have 4 sides I am from Rectagle class\n",
      "I am 3D from shape class\n",
      "I have 3 sides. I am from Polygon class\n",
      "I am 3D from shape class\n"
     ]
    }
   ],
   "source": [
    "#polymorphism and inheritance\n",
    "class Shape:\n",
    "    def no_of_sides(self):\n",
    "        pass\n",
    "    def three_dimensional(self):\n",
    "        print(\"I am 3D from shape class\")\n",
    "class Rectangle(Shape):\n",
    "    def no_of_sides(self):\n",
    "        print(\"I have 4 sides I am from Rectagle class\")\n",
    "class Polygon(Shape):\n",
    "    def no_of_sides(self):\n",
    "        print(\"I have 3 sides. I am from Polygon class\")\n",
    "\n",
    "re = Rectangle()\n",
    "re.no_of_sides()\n",
    "re.three_dimensional()\n",
    "\n",
    "\n",
    "po = Polygon()\n",
    "po.no_of_sides()\n",
    "po.three_dimensional()"
   ]
  },
  {
   "cell_type": "code",
   "execution_count": 82,
   "id": "34469870",
   "metadata": {},
   "outputs": [
    {
     "name": "stdout",
     "output_type": "stream",
     "text": [
      "The name of the book is Game of Thrones\n",
      "The name of the book is Crack your python Django Interview like a pro.\n"
     ]
    }
   ],
   "source": [
    "#ENCAPSULATION\n",
    "class Library:\n",
    "    def __init__(self, id, name):\n",
    "        self.bookId = id\n",
    "        self.bookName = name\n",
    "        \n",
    "    def setBookName(self, newBookName):\n",
    "        self.bookName = newBookName\n",
    "    \n",
    "    def getBookName(self):\n",
    "        print(f\"The name of the book is {self.bookName}\")\n",
    "        \n",
    "        \n",
    "        \n",
    "book = Library(\"102030\",\"Game of Thrones\")\n",
    "book.getBookName()\n",
    "book.setBookName(\"Crack your python Django Interview like a pro.\")\n",
    "book.getBookName()"
   ]
  },
  {
   "cell_type": "code",
   "execution_count": 22,
   "id": "64ff01a3",
   "metadata": {},
   "outputs": [
    {
     "name": "stdout",
     "output_type": "stream",
     "text": [
      "The salary of the employee is $150000\n"
     ]
    }
   ],
   "source": [
    "class Employee:\n",
    "    def __init__ (self, name, employeeId, salary):\n",
    "        self.name = name\n",
    "        self._employeeId = employeeId\n",
    "        self.__salary = salary\n",
    "    def getSalary(self):\n",
    "        print(f\"The salary of the employee is {self.__salary}\")\n",
    "        \n",
    "\n",
    "emp1 = Employee(\"Edcorner\", '234343',\"$150000\")\n",
    "emp1.getSalary()\n",
    "\n",
    "\n",
    "\n",
    "\n"
   ]
  },
  {
   "cell_type": "code",
   "execution_count": 16,
   "id": "c46a2e94",
   "metadata": {},
   "outputs": [
    {
     "name": "stdout",
     "output_type": "stream",
     "text": [
      "Ashwin\n",
      "01001\n",
      "$120000\n",
      "Ashwin\n",
      "01001\n"
     ]
    }
   ],
   "source": [
    "class Employee:\n",
    "    def __init__ (self, name, employeeId, salary):\n",
    "        self.name = name\n",
    "        self._employeeId = employeeId\n",
    "        self.__salary = salary\n",
    "        \n",
    "    def display(self):\n",
    "        print(self.name)\n",
    "        print(self._employeeId)\n",
    "        print(self.__salary)\n",
    "employee1 = Employee(\"Ashwin\",\"01001\",\"$120000\")\n",
    "employee1.display()\n",
    "print(employee1.name)\n",
    "print(employee1._employeeId)\n",
    "#print(employee1.salary)"
   ]
  },
  {
   "cell_type": "code",
   "execution_count": 18,
   "id": "38211fb7",
   "metadata": {},
   "outputs": [],
   "source": [
    "#abstract class syntax\n",
    "from abc import ABC\n",
    "class ClassName(ABC):\n",
    "    pass"
   ]
  },
  {
   "cell_type": "code",
   "execution_count": 22,
   "id": "5be47e0d",
   "metadata": {},
   "outputs": [
    {
     "name": "stdout",
     "output_type": "stream",
     "text": [
      "Cycle has 2 wheels.\n",
      "---\n",
      "Car has 4 wheels.\n",
      "---\n",
      "Heavy Truck have 8 wheels.\n"
     ]
    }
   ],
   "source": [
    "class Vehicle(ABC):\n",
    "    def no_of_wheels(self):\n",
    "        pass\n",
    "class Cycle(Vehicle):\n",
    "    def no_of_wheels(self):\n",
    "        print(\"Cycle has 2 wheels.\")  \n",
    "    \n",
    "class Car(Vehicle):\n",
    "    def no_of_wheels(self):\n",
    "        print(\"Car has 4 wheels.\")\n",
    "    \n",
    "class HeavyTruck(Vehicle):\n",
    "    def no_of_wheels(self):\n",
    "        print(\"Heavy Truck have 8 wheels.\")\n",
    "\n",
    "Cycle = Cycle()\n",
    "Cycle.no_of_wheels()\n",
    "print(\"---\")\n",
    "Car = Car()\n",
    "Car.no_of_wheels()\n",
    "print(\"---\")\n",
    "HeavyTruck = HeavyTruck()\n",
    "HeavyTruck.no_of_wheels()"
   ]
  },
  {
   "cell_type": "code",
   "execution_count": 32,
   "id": "9819ea10",
   "metadata": {},
   "outputs": [
    {
     "name": "stdout",
     "output_type": "stream",
     "text": [
      "Cycle has 2 wheels hmm.\n",
      "Car has 4 wheels.\n",
      "Heavy Truck have 8 wheels.\n"
     ]
    }
   ],
   "source": [
    "from abc import ABC\n",
    "class Vehicle(ABC):\n",
    "    def no_of_wheels(self):\n",
    "        pass\n",
    "class Cycle(Vehicle):\n",
    "    def no_of_wheels(self):\n",
    "        print(\"Cycle has 2 wheels hmm.\")  \n",
    "    \n",
    "class Car(Vehicle):\n",
    "    def no_of_wheels(self):\n",
    "        print(\"Car has 4 wheels.\")\n",
    "    \n",
    "class HeavyTruck(Vehicle):\n",
    "    def no_of_wheels(self):\n",
    "        print(\"Heavy Truck have 8 wheels.\")\n",
    "cycle = Cycle()\n",
    "cycle.no_of_wheels()\n",
    "\n",
    "car = Car()\n",
    "car.no_of_wheels()\n",
    "\n",
    "Ht = HeavyTruck()\n",
    "Ht.no_of_wheels()\n",
    "\n",
    "\n",
    "\n",
    "\n",
    "\n",
    "\n",
    "\n",
    "\n"
   ]
  },
  {
   "cell_type": "code",
   "execution_count": 42,
   "id": "71b84fa6",
   "metadata": {},
   "outputs": [
    {
     "name": "stdout",
     "output_type": "stream",
     "text": [
      "Manik\n",
      "Basha\n",
      "1994\n"
     ]
    }
   ],
   "source": [
    "class Employee:\n",
    "    num_of_emps = 0\n",
    "    raise_amt = 1.04\n",
    "    \n",
    "    def __init__(self, first, last, pay ):\n",
    "        self.first = first\n",
    "        self.last = last\n",
    "        self.pay = pay\n",
    "        \n",
    "        Employee.num_of_emps += 1\n",
    "    def fullname(self):\n",
    "        return '{}{}.format(self.first, self.last)'\n",
    "    \n",
    "    def apply_raise(self):\n",
    "        self.pay = int(self.pay * self.raise_amt)\n",
    "    \n",
    "    @classmethod\n",
    "    def set_raise_amt(cls, amount):\n",
    "        cls.raise_amt = amount\n",
    "        \n",
    "    \n",
    "    \n",
    "emp1 = Employee('Manik','Basha', 1994)\n",
    "print(emp1.first)\n",
    "print(emp1.last)\n",
    "print(emp1.pay)\n",
    "Employee.set_raise_amt(50)"
   ]
  },
  {
   "cell_type": "code",
   "execution_count": 50,
   "id": "ebedfa41",
   "metadata": {},
   "outputs": [
    {
     "name": "stdout",
     "output_type": "stream",
     "text": [
      "Running from Person class.\n"
     ]
    }
   ],
   "source": [
    "class Person:\n",
    "    def show_details(cls):\n",
    "        print(f'Running from {cls.__name__} class.')\n",
    "        \n",
    "    s_details = classmethod(show_details)\n",
    "Person.s_details()"
   ]
  },
  {
   "cell_type": "code",
   "execution_count": 59,
   "id": "80233995",
   "metadata": {},
   "outputs": [
    {
     "data": {
      "text/plain": [
       "'19:12:16'"
      ]
     },
     "execution_count": 59,
     "metadata": {},
     "output_type": "execute_result"
    }
   ],
   "source": [
    "import time\n",
    "class Container:\n",
    "    @staticmethod\n",
    "    def get_current_time():\n",
    "        return time.strftime('%H:%M:%S', time.localtime())\n",
    "        \n",
    "        \n",
    "c = Container()  \n",
    "c.get_current_time()\n",
    "        "
   ]
  },
  {
   "cell_type": "code",
   "execution_count": 33,
   "id": "91351d5b",
   "metadata": {},
   "outputs": [
    {
     "name": "stdout",
     "output_type": "stream",
     "text": [
      "Running from Container class\n"
     ]
    }
   ],
   "source": [
    "class Container:\n",
    "    @classmethod\n",
    "    def show_details(cls):\n",
    "        print(f'Running from {cls.__name__} class')\n",
    "        \n",
    "container = Container()\n",
    "container.show_details()\n"
   ]
  },
  {
   "cell_type": "code",
   "execution_count": 38,
   "id": "c3c157f7",
   "metadata": {},
   "outputs": [
    {
     "data": {
      "text/plain": [
       "0"
      ]
     },
     "execution_count": 38,
     "metadata": {},
     "output_type": "execute_result"
    }
   ],
   "source": [
    "class Person:\n",
    "    instances = []\n",
    "    @classmethod\n",
    "    def count_instances(cls):\n",
    "        return len(Person.instances)\n",
    "    \n",
    "Person()\n",
    "    \n",
    "Person.count_instances()    \n",
    "\n",
    "\n",
    "\n",
    "\n"
   ]
  },
  {
   "cell_type": "code",
   "execution_count": 39,
   "id": "a8f047c9",
   "metadata": {},
   "outputs": [
    {
     "name": "stdout",
     "output_type": "stream",
     "text": [
      "3\n"
     ]
    }
   ],
   "source": [
    "class Person:\n",
    "    instances = []\n",
    "    \n",
    "    def __init__(self):\n",
    "        Person.instances.append(self)\n",
    "    @classmethod\n",
    "    def count_instances(cls):\n",
    "        return len(Person.instances)\n",
    "    \n",
    "p1 = Person()\n",
    "p2 = Person()\n",
    "p3 = Person()\n",
    "print(Person.count_instances())"
   ]
  },
  {
   "cell_type": "code",
   "execution_count": 45,
   "id": "27057296",
   "metadata": {},
   "outputs": [
    {
     "data": {
      "text/plain": [
       "2"
      ]
     },
     "execution_count": 45,
     "metadata": {},
     "output_type": "execute_result"
    }
   ],
   "source": [
    "class Person:\n",
    "    instances = []\n",
    "    def __init__(self):\n",
    "        Person.instances.append(self)\n",
    "    @classmethod\n",
    "    def count_instances(cls):\n",
    "        return len(Person.instances)\n",
    "    \n",
    "    \n",
    "person1 = Person()\n",
    "person2 = Person()\n",
    "\n",
    "Person.count_instances()"
   ]
  },
  {
   "cell_type": "code",
   "execution_count": 47,
   "id": "7902189b",
   "metadata": {},
   "outputs": [
    {
     "data": {
      "text/plain": [
       "2"
      ]
     },
     "execution_count": 47,
     "metadata": {},
     "output_type": "execute_result"
    }
   ],
   "source": [
    "class Person:\n",
    "    instances = []\n",
    "    def __init__(self, firstname, lastname):\n",
    "        Person.instances.append(self)\n",
    "    @classmethod\n",
    "    def count_instances(cls):\n",
    "        return len(Person.instances)\n",
    "    \n",
    "    \n",
    "person1 = Person(\"Kumar\",\"Bangarappa\")\n",
    "person2 = Person(\"Kiran\",\"Bangareappa\")\n",
    "\n",
    "\n",
    "Person.count_instances()"
   ]
  },
  {
   "cell_type": "code",
   "execution_count": 84,
   "id": "78546039",
   "metadata": {},
   "outputs": [
    {
     "data": {
      "text/plain": [
       "dict_keys(['title', 'author', 'book_id'])"
      ]
     },
     "execution_count": 84,
     "metadata": {},
     "output_type": "execute_result"
    }
   ],
   "source": [
    "import uuid\n",
    "class Book:\n",
    "    \n",
    "    def __init__(self, title, author):\n",
    "        self.title = title\n",
    "        self.author = author\n",
    "        self.book_id = self.get_id\n",
    "\n",
    "    @staticmethod\n",
    "    def get_id():\n",
    "        str(uuid.uuid4().fields[-1])[: 6]\n",
    "        \n",
    "\n",
    "\n",
    "\n",
    "\n",
    "\n",
    "book1 = Book(\"Game of Thrones\", \"George RR Martin\")\n",
    "book1.__dict__.keys()"
   ]
  },
  {
   "cell_type": "code",
   "execution_count": 108,
   "id": "a041caa4",
   "metadata": {},
   "outputs": [
    {
     "data": {
      "text/plain": [
       "Book(title = ' Python Object Oriented Programming Exercises Volume 2', author= 'Edcorner Learning'))"
      ]
     },
     "execution_count": 108,
     "metadata": {},
     "output_type": "execute_result"
    }
   ],
   "source": [
    "import uuid\n",
    "class Book:\n",
    "    \n",
    "    def __init__(self, title, author):\n",
    "        self.title = title\n",
    "        self.author = author\n",
    "        self.book_id = self.get_id\n",
    "        \n",
    "    #def __repr__(self):\n",
    "        #return f\"Book(title = '{self.title}', author= '{self.author}'))\"\n",
    "             \n",
    "    @staticmethod\n",
    "    def get_id():\n",
    "        str(uuid.uuid4().fields[-1])[: 6]\n",
    "    \n",
    "                    \"\n",
    "    \n",
    "        \n",
    "\n",
    "book1 = Book(' Python Object Oriented Programming Exercises Volume 2','Edcorner Learning')\n",
    "book1"
   ]
  },
  {
   "cell_type": "code",
   "execution_count": 137,
   "id": "628ed1e0",
   "metadata": {},
   "outputs": [
    {
     "name": "stdout",
     "output_type": "stream",
     "text": [
      "First name = Mike \n",
      "Last Name = Smith\n"
     ]
    }
   ],
   "source": [
    "class Person:\n",
    "    def __init__(self, fname, lname): \n",
    "        self.fname = fname\n",
    "        self.lname = lname\n",
    "        \n",
    "    def __repr__(self):\n",
    "        return f\"Person(fname='{self.fname}', lname='{self.lname}')\"\n",
    "    \n",
    "    def __str__(self):\n",
    "        return f\"First name = {self.fname} \\nLast Name = {self.lname}\"\n",
    "            \n",
    "\n",
    "person = Person(\"Mike\",\"Smith\")\n",
    "print(person)"
   ]
  },
  {
   "cell_type": "code",
   "execution_count": 144,
   "id": "77d39268",
   "metadata": {},
   "outputs": [
    {
     "name": "stdout",
     "output_type": "stream",
     "text": [
      "Vector(1, 4, 6, 4, 6, 4)\n"
     ]
    }
   ],
   "source": [
    "class Vector:\n",
    "    def __init__(self, *components):\n",
    "        self.components = components\n",
    "\n",
    "    def __repr__(self):\n",
    "        return f'Vector{self.components}'\n",
    "        \n",
    "v7 = Vector(1,4,6,4,6,4)\n",
    "print(v7)"
   ]
  },
  {
   "cell_type": "code",
   "execution_count": 152,
   "id": "8866df77",
   "metadata": {},
   "outputs": [
    {
     "name": "stdout",
     "output_type": "stream",
     "text": [
      "(-3, 4, 2)\n"
     ]
    }
   ],
   "source": [
    "class Vector:\n",
    "    def __init__(self, *components):\n",
    "        self.components = components\n",
    "    def __str__(self):\n",
    "        return f'{self.components}'    \n",
    "    \n",
    "    def __repr__(self):\n",
    "        return f'Vector{self.components}'\n",
    "\n",
    "        \n",
    "v1 = Vector(-3,4,2)\n",
    "print(v1)"
   ]
  },
  {
   "cell_type": "code",
   "execution_count": 235,
   "id": "97d963d9",
   "metadata": {},
   "outputs": [
    {
     "name": "stdout",
     "output_type": "stream",
     "text": [
      "Vector(1, 2, 3, 4, 5, 6, 7, 8, 9, 10)\n"
     ]
    }
   ],
   "source": [
    "class Vector:\n",
    "    def __init__(self, *components):\n",
    "        self.components = components\n",
    "    #def __str__(self):\n",
    "       # return f'{self.components}'    \n",
    "    \n",
    "    def __repr__(self):\n",
    "        return f'Vector{self.components}'\n",
    "    def __len__(self):\n",
    "        return len(self.components)\n",
    "\n",
    "    \n",
    "v = Vector(1,2,3,4,5,6,7,8,9,10)\n",
    "#len(v)\n",
    "print(v)"
   ]
  },
  {
   "cell_type": "code",
   "execution_count": 207,
   "id": "7398ccd6",
   "metadata": {},
   "outputs": [
    {
     "name": "stdout",
     "output_type": "stream",
     "text": [
      "True\n",
      "True\n",
      "False\n",
      "True\n"
     ]
    }
   ],
   "source": [
    "class Vector:\n",
    "    def __init__(self, *components):\n",
    "        self.components = components\n",
    "    def __str__(self):\n",
    "        return f'{self.components}'    \n",
    "    \n",
    "    def __repr__(self):\n",
    "        return f'Vector{self.components}'\n",
    "    def __len__(self):\n",
    "        return len(self.components)\n",
    "    def __bool__(self):\n",
    "        x=None\n",
    "        if self.components is None or self.components[0] == 0:\n",
    "            return False\n",
    "        \n",
    "        else:\n",
    "            return True\n",
    "            \n",
    "        \n",
    "vl = Vector()\n",
    "v2 = Vector(3, 2)\n",
    "v3 = Vector(0, -3, 2)\n",
    "v4 = Vector(5, 0, -1)\n",
    "print(bool(v1))\n",
    "print(bool(v2))\n",
    "print(bool(v3))\n",
    "print(bool(v4))\n",
    "# ****** couldnt get the result i needed\n"
   ]
  },
  {
   "cell_type": "code",
   "execution_count": 211,
   "id": "894716ec",
   "metadata": {},
   "outputs": [
    {
     "ename": "TypeError",
     "evalue": "unsupported operand type(s) for +: 'Vector' and 'Vector'",
     "output_type": "error",
     "traceback": [
      "\u001b[0;31m---------------------------------------------------------------------------\u001b[0m",
      "\u001b[0;31mTypeError\u001b[0m                                 Traceback (most recent call last)",
      "\u001b[0;32m/var/folders/q6/g7092d4n0qd1jz1vdnn2st200000gn/T/ipykernel_5558/3535737730.py\u001b[0m in \u001b[0;36m<module>\u001b[0;34m\u001b[0m\n\u001b[1;32m     11\u001b[0m \u001b[0mvl\u001b[0m \u001b[0;34m=\u001b[0m \u001b[0mVector\u001b[0m\u001b[0;34m(\u001b[0m\u001b[0;36m4\u001b[0m\u001b[0;34m,\u001b[0m \u001b[0;36m2\u001b[0m\u001b[0;34m)\u001b[0m\u001b[0;34m\u001b[0m\u001b[0;34m\u001b[0m\u001b[0m\n\u001b[1;32m     12\u001b[0m \u001b[0mv2\u001b[0m \u001b[0;34m=\u001b[0m \u001b[0mVector\u001b[0m\u001b[0;34m(\u001b[0m\u001b[0;34m-\u001b[0m\u001b[0;36m1\u001b[0m\u001b[0;34m,\u001b[0m \u001b[0;36m3\u001b[0m\u001b[0;34m)\u001b[0m\u001b[0;34m\u001b[0m\u001b[0;34m\u001b[0m\u001b[0m\n\u001b[0;32m---> 13\u001b[0;31m \u001b[0mv1\u001b[0m \u001b[0;34m+\u001b[0m \u001b[0mv2\u001b[0m\u001b[0;34m\u001b[0m\u001b[0;34m\u001b[0m\u001b[0m\n\u001b[0m\u001b[1;32m     14\u001b[0m \u001b[0;34m\u001b[0m\u001b[0m\n",
      "\u001b[0;31mTypeError\u001b[0m: unsupported operand type(s) for +: 'Vector' and 'Vector'"
     ]
    }
   ],
   "source": [
    "class Vector:\n",
    "    def __init__(self, *components):\n",
    "        self.components = components\n",
    "    def __str__(self):\n",
    "        return f'{self.components}'    \n",
    "    \n",
    "    def __repr__(self):\n",
    "        return f'Vector{self.components}'\n",
    "    def __len__(self):\n",
    "        return len(self.components)\n",
    "vl = Vector(4, 2)\n",
    "v2 = Vector(-1, 3)\n",
    "v1 + v2\n",
    "    "
   ]
  },
  {
   "cell_type": "code",
   "execution_count": 227,
   "id": "89468c37",
   "metadata": {},
   "outputs": [
    {
     "ename": "TypeError",
     "evalue": "unsupported operand type(s) for /: 'Vector' and 'Vector'",
     "output_type": "error",
     "traceback": [
      "\u001b[0;31m---------------------------------------------------------------------------\u001b[0m",
      "\u001b[0;31mTypeError\u001b[0m                                 Traceback (most recent call last)",
      "\u001b[0;32m/var/folders/q6/g7092d4n0qd1jz1vdnn2st200000gn/T/ipykernel_5558/709948528.py\u001b[0m in \u001b[0;36m<module>\u001b[0;34m\u001b[0m\n\u001b[1;32m     29\u001b[0m \u001b[0;31m#v1-v2\u001b[0m\u001b[0;34m\u001b[0m\u001b[0;34m\u001b[0m\u001b[0m\n\u001b[1;32m     30\u001b[0m \u001b[0;31m#v1*v2\u001b[0m\u001b[0;34m\u001b[0m\u001b[0;34m\u001b[0m\u001b[0m\n\u001b[0;32m---> 31\u001b[0;31m \u001b[0mprint\u001b[0m\u001b[0;34m(\u001b[0m\u001b[0mv1\u001b[0m\u001b[0;34m/\u001b[0m\u001b[0mv2\u001b[0m\u001b[0;34m)\u001b[0m\u001b[0;34m\u001b[0m\u001b[0;34m\u001b[0m\u001b[0m\n\u001b[0m",
      "\u001b[0;31mTypeError\u001b[0m: unsupported operand type(s) for /: 'Vector' and 'Vector'"
     ]
    }
   ],
   "source": [
    "class Vector:\n",
    "    def __init__(self, *components):\n",
    "        self.components = components\n",
    "    def __str__(self):\n",
    "        return f'{self.components}'    \n",
    "    \n",
    "    def __repr__(self):\n",
    "        return f'Vector{self.components}'\n",
    "    def __len__(self):\n",
    "        return len(self.components)\n",
    "    def __add__(self, other):\n",
    "        components = tuple(x + y for x, y in zip(self.components, other.components))\n",
    "        return Vector(*components)\n",
    "    def __sub__(self, other):\n",
    "        components = tuple(x - y for x, y in zip(self.components, other.components))\n",
    "        return Vector(*components)\n",
    "    def __mul__(self,other):\n",
    "        components = typle(x*y for x, y in zip(self.components, other.components))\n",
    "        return Vector(*components)\n",
    "    def __truediv__(self,other):\n",
    "        components = tuple(x/y for x,y in zip(self.components, other.components))\n",
    "        return Vector(*components)\n",
    "    def __floordiv__(self, other):\n",
    "        components = tuple(x // y for x, y in zip(self.components, other.components))\n",
    "        return Vector(*components)\n",
    "        \n",
    "        \n",
    "vl = Vector(4, 2)\n",
    "v2 = Vector(-1, 3)\n",
    "#print(v1 + v2)\n",
    "#v1-v2\n",
    "#v1*v2\n",
    "#print(v1/v2)"
   ]
  },
  {
   "cell_type": "code",
   "execution_count": 237,
   "id": "5e2448cf",
   "metadata": {},
   "outputs": [
    {
     "name": "stdout",
     "output_type": "stream",
     "text": [
      "Python 3.8\n"
     ]
    }
   ],
   "source": [
    "class Doc:\n",
    "    def __init__(self, string):\n",
    "        self.string = string\n",
    "    def ___repr__(self):\n",
    "        return f\"Doc(string='{self.string}')\"\n",
    "    def __str__(self):\n",
    "        return f\"{self.string}\"\n",
    "    def __add__(self, other):\n",
    "        return Doc(self.string + ' ' + other.string)\n",
    "doc1 = Doc(\"Python\")\n",
    "doc2 = Doc(\"3.8\")\n",
    "print(doc1 + doc2)"
   ]
  },
  {
   "cell_type": "code",
   "execution_count": 246,
   "id": "d1c938fe",
   "metadata": {},
   "outputs": [
    {
     "name": "stdout",
     "output_type": "stream",
     "text": [
      "#python #developer #OOP\n"
     ]
    }
   ],
   "source": [
    "#hashtag\n",
    "class Hashtag:\n",
    "    def __init__(self,string):\n",
    "        self.string = '#' +string\n",
    "    def __rep__(self):\n",
    "        return f\"Hashtag(string='{self.string}')\"\n",
    "    def __str__(self):\n",
    "        return f'{self.string}'\n",
    "    def __add__(self, other):\n",
    "        return Hashtag(self.string[1:] + ' ' +other.string)\n",
    "        \n",
    "hashtag1 = Hashtag('python')\n",
    "hashtag2 = Hashtag('developer')\n",
    "hashtag3 = Hashtag('OOP')\n",
    "print(hashtag1 + hashtag2 + hashtag3)"
   ]
  },
  {
   "cell_type": "code",
   "execution_count": 258,
   "id": "8540e207",
   "metadata": {},
   "outputs": [
    {
     "data": {
      "text/plain": [
       "True"
      ]
     },
     "execution_count": 258,
     "metadata": {},
     "output_type": "execute_result"
    }
   ],
   "source": [
    "class Doc:\n",
    "    def __init__(self, string):\n",
    "        self.string = string\n",
    "    def __repr__(self):\n",
    "        return f\"Doc(string='{self.string}')\"\n",
    "    def __str__(self):\n",
    "        return f\"{self.string}\"\n",
    "    def __add__(self, other):\n",
    "        return Doc(self.string + ' ' +other.string)\n",
    "    def __eq__(self, other):\n",
    "        return self.string == other.string\n",
    "doc1 = Doc(\"Killadi\")\n",
    "doc2 = Doc(\"Killadi\")\n",
    "doc1 == doc2\n",
    "#print(doc1)"
   ]
  },
  {
   "cell_type": "code",
   "execution_count": 273,
   "id": "e4b9074e",
   "metadata": {},
   "outputs": [
    {
     "name": "stdout",
     "output_type": "stream",
     "text": [
      "Rama Ravana\n",
      "Rama\n",
      "True\n",
      "Rama & Ravana\n"
     ]
    }
   ],
   "source": [
    "class Doc:\n",
    "    def __init__(self, string):\n",
    "        self.string = string\n",
    "    def __repr__(self):\n",
    "        return f\"Doc(string='{self.string}')\"\n",
    "    def __str__(self):\n",
    "        return f\"{self.string}\"\n",
    "    def __add__(self, other):\n",
    "        return Doc(self.string + \" \" + other.string)\n",
    "    def __lt__(self, other):\n",
    "        return len(self.string) < len(other.string)\n",
    "    def __iadd__(self, other):\n",
    "        return Doc(self.string + ' & ' +other.string)\n",
    "    \n",
    "doc1 = Doc(\"Rama\")\n",
    "doc2 = Doc(\"Ravana\")\n",
    "print(doc1 + doc2)\n",
    "print(doc1)    \n",
    "print(doc1 < doc2)\n",
    "doc1 += doc2\n",
    "print(doc1)"
   ]
  },
  {
   "cell_type": "code",
   "execution_count": 284,
   "id": "6d281a7a",
   "metadata": {},
   "outputs": [
    {
     "name": "stdout",
     "output_type": "stream",
     "text": [
      "Book ID: <function Book.get_id at 0x7fa340c9e280>| Title: Harry Putter | Author: Jllla\n"
     ]
    },
    {
     "data": {
      "text/plain": [
       "<__main__.Book at 0x7fa3729a7c10>"
      ]
     },
     "execution_count": 284,
     "metadata": {},
     "output_type": "execute_result"
    }
   ],
   "source": [
    "import uuid\n",
    "class Book:\n",
    "    def __init__(self, title, author):\n",
    "        self.book_id = self.get_id\n",
    "        self.title = title\n",
    "        self.author = author\n",
    "    #def __repr__(self):\n",
    "        #return f\"Book(title='{self.title}', author='{self.author}')\"\n",
    "    def __str__(self):\n",
    "        return f\"Book ID: {self.book_id}| Title: {self.title} | Author: {self.author}\"\n",
    "    @staticmethod    \n",
    "    def get_id(self):\n",
    "        return str(uuid.uuid4().fields[-1])[:6]\n",
    "    \n",
    "book1 = Book(\"Harry Putter\", \"Jllla\")\n",
    "print(book1)\n",
    "book1"
   ]
  },
  {
   "cell_type": "code",
   "execution_count": 8,
   "id": "4d1ca93a",
   "metadata": {},
   "outputs": [
    {
     "name": "stdout",
     "output_type": "stream",
     "text": [
      "True True True\n"
     ]
    }
   ],
   "source": [
    "class Container:\n",
    "    pass\n",
    "\n",
    "\n",
    "class PlasticContainer(Container):\n",
    "    pass\n",
    "\n",
    "class MetalContainer(Container):\n",
    "    pass\n",
    "\n",
    "class CustomContainer(Container):\n",
    "    pass\n",
    "\n",
    "x = issubclass(PlasticContainer,Container)\n",
    "y = issubclass(MetalContainer,Container)\n",
    "z = issubclass(CustomContainer,Container)\n",
    "print(x, y, z)"
   ]
  },
  {
   "cell_type": "code",
   "execution_count": 54,
   "id": "54959344",
   "metadata": {},
   "outputs": [
    {
     "name": "stdout",
     "output_type": "stream",
     "text": [
      "Class Name: 'Vehicle' , Categories = 'land vehicle'\n",
      "Class Name: 'LandVehicle' , Categories = 'land vehicle'\n",
      "Class Name: 'AirVehicle' , Categories = 'air Vehicle'\n"
     ]
    }
   ],
   "source": [
    "class Vehicle:\n",
    "    def __init__(self, category=None):\n",
    "        self.category = category if category else 'land vehicle'\n",
    "    \n",
    "    def __repr__(self):\n",
    "        return f\"{self.__class__.__name__} (category='{self.category}')\"\n",
    "    \n",
    "    def display_info(self):\n",
    "        return f\"Class Name: '{self.__class__.__name__}' , Categories = '{self.category}'\"\n",
    "        \n",
    "class LandVehicle(Vehicle):\n",
    "    pass\n",
    "        \n",
    "class AirVehicle(Vehicle):\n",
    "    def __init__(self, category=None):\n",
    "        self.category = category if category else 'air Vehicle'\n",
    "        \n",
    "#print(issubclass(LandVehicle, Vehicle))\n",
    "#print(issubclass(AirVehicle, Vehicle))\n",
    "#vehicle1 = Vehicle(\"Boxers\")\n",
    "#vehicle1\n",
    "#landVehicle = LandVehicle(\"Biggest land vehicles\")\n",
    "#landVehicle\n",
    "#airVehicle = AirVehicle(\"Air Vehicle\")\n",
    "#airVehicle\n",
    "\n",
    "#instances = [Vehicle(), LandVehicle(), AirVehicle(\"Airing Vehicle\")]\n",
    "#for instance in instances:\n",
    "#    print(instance)\n",
    "vehicles = [Vehicle(), LandVehicle(), AirVehicle()]\n",
    "for vehicle in vehicles:\n",
    "    print(vehicle.display_info())"
   ]
  },
  {
   "cell_type": "code",
   "execution_count": 77,
   "id": "939bcc44",
   "metadata": {},
   "outputs": [
    {
     "name": "stdout",
     "output_type": "stream",
     "text": [
      "{'brand': 'BMW', 'color': 'red', 'year': 2020}\n",
      "{'brand': 'BMW', 'color': 'red', 'year': 2020, 'horsepower': 300}\n"
     ]
    }
   ],
   "source": [
    "class Vehicle:\n",
    "    def __init__(self, brand, color, year):\n",
    "        self.brand = brand\n",
    "        self.color = color\n",
    "        self.year = year\n",
    "    \n",
    "class Car(Vehicle):\n",
    "    def __init__(self, brand, color, year, horsepower):\n",
    "        self.brand = brand\n",
    "        self.color = color\n",
    "        self.year = year\n",
    "        self.horsepower = horsepower\n",
    "\n",
    "\n",
    "\n",
    "vehicle = Vehicle('BMW', 'red', 2020)\n",
    "car = Car('BMW', 'red', 2020, 300)\n",
    "print(vehicle.__dict__)\n",
    "print(car.__dict__)"
   ]
  },
  {
   "cell_type": "code",
   "execution_count": 96,
   "id": "70a52280",
   "metadata": {},
   "outputs": [
    {
     "name": "stdout",
     "output_type": "stream",
     "text": [
      " brand -> Opel \n",
      " color -> black \n",
      " year ->2018 \n",
      " horsepower -> 200\n"
     ]
    }
   ],
   "source": [
    "class Vehicle:\n",
    "    def __init__(self, brand, color, year):\n",
    "        self.brand = brand\n",
    "        self.color = color\n",
    "        self.year = year\n",
    "    def display_attrs(self):\n",
    "        return f\" brand -> {self.brand} \\n color -> {self.color} \\n year ->{self.year}\"\n",
    "    \n",
    "class Car(Vehicle):\n",
    "    def __init__(self, brand, color, year, horsepower):\n",
    "        super().__init__(brand, color, year)\n",
    "        self.horsepower = horsepower\n",
    "\n",
    "    def display_attrs(self):\n",
    "        return f\" brand -> {self.brand} \\n color -> {self.color} \\n year ->{self.year} \\n horsepower -> {self.horsepower}\"\n",
    "\n",
    "#vehicle = Vehicle('BMW', 'red', 2020)\n",
    "car = Car('BMW', 'red', 2022, 300)\n",
    "car2 = Car('Opel', 'black', 2018, 200)\n",
    "#print(vehicle.__dict__)\n",
    "#print(car.__dict__)\n",
    "#print(vehicle.display_attrs())\n",
    "print(car2.display_attrs())"
   ]
  },
  {
   "cell_type": "code",
   "execution_count": 105,
   "id": "e4550ab8",
   "metadata": {},
   "outputs": [
    {
     "name": "stdout",
     "output_type": "stream",
     "text": [
      "brand->BMW\n",
      "color->red\n",
      "year->2022\n",
      "horsepower->300\n",
      "None\n"
     ]
    }
   ],
   "source": [
    "class Vehicle:\n",
    "    def __init__(self, brand, color, year):\n",
    "        self.brand = brand\n",
    "        self.color = color\n",
    "        self.year = year\n",
    "    def display_attrs(self):\n",
    "        return f\" brand -> {self.brand} \\n color -> {self.color} \\n year ->{self.year}\"\n",
    "    \n",
    "class Car(Vehicle):\n",
    "    def __init__(self, brand, color, year, horsepower):\n",
    "        super().__init__(brand, color, year)\n",
    "        self.horsepower = horsepower\n",
    "\n",
    "    def display_attrs(self):\n",
    "        for attr, value in self.__dict__.items():\n",
    "            print(f\"{attr}->{value}\")\n",
    "        \n",
    "        \n",
    "        \n",
    "        \n",
    "car = Car('BMW', 'red', 2022, 300)\n",
    "#print(car.__dict__)\n",
    "print(car.display_attrs())"
   ]
  },
  {
   "cell_type": "code",
   "execution_count": 129,
   "id": "2810a7fe",
   "metadata": {},
   "outputs": [
    {
     "name": "stdout",
     "output_type": "stream",
     "text": [
      "Calling from class: Car\n",
      "brand->Mercedez\n",
      "color->white\n",
      "year->1999\n",
      "horsepower->4000\n"
     ]
    }
   ],
   "source": [
    "class Vehicle:\n",
    "    def __init__(self, brand, color, year):\n",
    "        self.brand = brand\n",
    "        self.color = color\n",
    "        self.year = year\n",
    "    def display_attrs(self):\n",
    "        for attr, value in self.__dict__.items():\n",
    "            print(f'{attr}->{value}')\n",
    "        \n",
    "    \n",
    "class Car(Vehicle):\n",
    "    def __init__(self, brand, color, year, horsepower):\n",
    "        super().__init__(brand, color, year)\n",
    "        self.horsepower = horsepower\n",
    "    def display_attrs(self):\n",
    "        print(f'Calling from class: {self.__class__.__name__}')\n",
    "        super().display_attrs()\n",
    "        \n",
    "car = Car(\"Mercedez\", 'white', '1999', 4000)        \n",
    "car.display_attrs()       "
   ]
  },
  {
   "cell_type": "code",
   "execution_count": 125,
   "id": "6df0a06e",
   "metadata": {},
   "outputs": [
    {
     "name": "stdout",
     "output_type": "stream",
     "text": [
      "3\n"
     ]
    }
   ],
   "source": [
    "class A:\n",
    "    def __init__(self, value=0):\n",
    "        self.value = value\n",
    "\n",
    "    def __add__(self, b):\n",
    "        return A(self.value + b)\n",
    "\n",
    "    def __str__(self):\n",
    "        return str(self.value)\n",
    "\n",
    "a = A()\n",
    "print(a + 1 + 2)"
   ]
  },
  {
   "cell_type": "code",
   "execution_count": 128,
   "id": "92c61d1f",
   "metadata": {},
   "outputs": [],
   "source": [
    "#food item class\n",
    "class food_item:\n",
    "    def __init__(self, name, price):\n",
    "        self.name = name\n",
    "        self.price = price\n",
    "    def __str__(self):\n",
    "        return \"Item: \" +self.name + \"\\n\" + \"Price: $\" +str(self.price)+ \"\\n\"\n",
    "    def get_price(self): #instance method that takes the value of the self from object \n",
    "        return \"The price of the item is \" +self.price +\"\"\n",
    "    def get_name(self):\n",
    "        return self.name\n"
   ]
  },
  {
   "cell_type": "code",
   "execution_count": 9,
   "id": "8864f5dd",
   "metadata": {},
   "outputs": [],
   "source": [
    "class burger(food_item):\n",
    "    def __init__(self, name, price):\n",
    "        super(burger,self).__init__(name, price)\n",
    "        self.condiments = []\n",
    "    def add_condiments(self): #instance method- takes the value of self when the object is initiated\n",
    "        if condiment not in self.condiments:\n",
    "            self.condiments.append(condiment)\n",
    "    def __str__(self):\n",
    "        s = super(burger, self).__str__()\n",
    "        s = s+ \"Condiments: \" + \",\".join(self.condiments)\n",
    "        return s\n",
    "\n",
    "        "
   ]
  },
  {
   "cell_type": "code",
   "execution_count": 10,
   "id": "511036b3",
   "metadata": {},
   "outputs": [],
   "source": [
    "class drink(food_item):\n",
    "    def __init__(self, name, size, price):\n",
    "        super(drink, self).__init__(name, price)\n",
    "        self.size = size\n",
    "    def __str__(self):\n",
    "        s = super(burger, self).__str__()\n",
    "        s = s + \"Size: \" +str(self.size) + \"oz\"\n",
    "        return s"
   ]
  },
  {
   "cell_type": "code",
   "execution_count": 11,
   "id": "03b845af",
   "metadata": {},
   "outputs": [],
   "source": [
    "class side(food_item):\n",
    "    def __init__(self, name, price): #constructor method to store the value of variables when the object it instantiated\n",
    "        super(side, self).__init__(name, price)\n",
    "        "
   ]
  },
  {
   "cell_type": "code",
   "execution_count": 15,
   "id": "79b6a74e",
   "metadata": {},
   "outputs": [],
   "source": [
    "class combo(food_item):\n",
    "    def __init__(self, name, b,d,s,discount):\n",
    "        self.name = name\n",
    "        self.burger = b\n",
    "        self.drink = d\n",
    "        self.side = s\n",
    "        self.discount = discount\n",
    "        self.price = self.burger.get_price() + self.drink.get_price() + self.side.get_price() - self.discount\n",
    "        \n",
    "    def __str__(self):\n",
    "        s = \"\"\n",
    "        s = s + \"Combo: \" +self.name + \"\\n\"\n",
    "        s = s + str(self.burger) + \"\\n\" +str(self.drink)+ \"\\n\" + str(self.side)+\"\\n\"\n",
    "        s = s + \"Combo Price Before Discount: $ \"+str(self.burger.get_price() +self.drink.get_price()) +\"\\n\"\n",
    "        s = s + \"Discount: $\" + str(self.discount)+ \"\\n\"\n",
    "        s = s + \"Combo Price After Discount: $\" + str(self.price)+ \"\\n\"\n",
    "        return s"
   ]
  },
  {
   "cell_type": "code",
   "execution_count": 137,
   "id": "19b1a275",
   "metadata": {},
   "outputs": [
    {
     "name": "stdout",
     "output_type": "stream",
     "text": [
      "True\n",
      "True\n",
      "True\n"
     ]
    }
   ],
   "source": [
    "class Container:\n",
    "    pass\n",
    "class TemperatureControlledContainer(Container):\n",
    "    pass\n",
    "class RefrigeratedContainer(TemperatureControlledContainer):\n",
    "    pass\n",
    "print(issubclass(TemperatureControlledContainer,Container))\n",
    "print(issubclass(RefrigeratedContainer, TemperatureControlledContainer))\n",
    "print(issubclass(RefrigeratedContainer,Container))"
   ]
  },
  {
   "cell_type": "code",
   "execution_count": 142,
   "id": "8afd8c2d",
   "metadata": {},
   "outputs": [
    {
     "name": "stdout",
     "output_type": "stream",
     "text": [
      "(-25.0, 5.0)\n",
      "(-25.0, 5.0)\n"
     ]
    }
   ],
   "source": [
    "class Container:\n",
    "    category = 'general purpose'\n",
    "class TemperatureControlledContainer(Container):\n",
    "     temp_range = (-25.0, 25.0)\n",
    "class RefrigeratedContainer(TemperatureControlledContainer):\n",
    "    temp_range = (-25.0, 5.0)\n",
    "\n",
    "print(getattr(RefrigeratedContainer, 'temp_range'))\n",
    "print(RefrigeratedContainer.temp_range)"
   ]
  },
  {
   "cell_type": "code",
   "execution_count": 154,
   "id": "a25203ad",
   "metadata": {},
   "outputs": [
    {
     "name": "stdout",
     "output_type": "stream",
     "text": [
      "{'deptname': 'Accounting', 'short_dept_name': 'AC'}\n"
     ]
    }
   ],
   "source": [
    "class Person:\n",
    "    def __init__(self, firstname, lastname, age):\n",
    "        self.firstname = firstname\n",
    "        self.lastname = lastname\n",
    "        self.age = age\n",
    "class Department:\n",
    "    def __init__(self, deptname, short_dept_name):\n",
    "        self.deptname = deptname\n",
    "        self.short_dept_name = short_dept_name\n",
    "\n",
    "class Worker(Person, Department):\n",
    "    pass\n",
    "worker = Worker(\"John\",\"Doe\", 35)\n",
    "department = Department(\"Accounting\",\"AC\")\n",
    "print(department.__dict__)"
   ]
  },
  {
   "cell_type": "code",
   "execution_count": 168,
   "id": "472a5bff",
   "metadata": {},
   "outputs": [
    {
     "name": "stdout",
     "output_type": "stream",
     "text": [
      "{'firstname': 'John', 'lastname': 'Doe', 'age': 30, 'deptname': 'Information Technology', 'short_dept_name': 'IT'}\n",
      "[<class '__main__.Worker'>, <class '__main__.Person'>, <class '__main__.Department'>, <class 'object'>]\n"
     ]
    }
   ],
   "source": [
    "class Person:\n",
    "    def __init__(self, firstname, lastname, age):\n",
    "        self.firstname = firstname\n",
    "        self.lastname = lastname\n",
    "        self.age = age\n",
    "class Department:\n",
    "    def __init__(self, deptname, short_dept_name):\n",
    "        self.deptname = deptname\n",
    "        self.short_dept_name = short_dept_name\n",
    "\n",
    "class Worker(Person, Department):\n",
    "    def __init__(self, firstname, lastname, age, deptname, short_dept_name):\n",
    "        Person.__init__(self,firstname, lastname, age)\n",
    "        Department.__init__(self,deptname, short_dept_name)\n",
    "        \n",
    "worker = Worker(\"John\",\"Doe\", 30, 'Information Technology', 'IT')\n",
    "print(worker.__dict__)\n",
    "print(Worker.mro())\n"
   ]
  },
  {
   "cell_type": "code",
   "execution_count": 170,
   "id": "c4cfae36",
   "metadata": {},
   "outputs": [
    {
     "name": "stdout",
     "output_type": "stream",
     "text": [
      "Can't instantiate abstract class Figure with abstract method area\n"
     ]
    }
   ],
   "source": [
    "from abc import ABC, abstractmethod\n",
    "class Figure(ABC):\n",
    "    @abstractmethod\n",
    "    def area(self):\n",
    "        pass\n",
    "class Square(Figure):\n",
    "    def __init__(self, a):\n",
    "        self.a = a\n",
    "    def area(self):\n",
    "        return self.a * self.a\n",
    "try:\n",
    "    Figure()\n",
    "except TypeError as error:\n",
    "    print(error)"
   ]
  },
  {
   "cell_type": "code",
   "execution_count": 181,
   "id": "ed96af6c",
   "metadata": {},
   "outputs": [
    {
     "name": "stdout",
     "output_type": "stream",
     "text": [
      "I have 3 sides\n",
      "I have 5 sides\n",
      "I have 6 sides\n",
      "I have 4 sides\n"
     ]
    }
   ],
   "source": [
    "from abc import ABC, abstractmethod\n",
    "class Polygon(ABC):\n",
    "    @abstractmethod\n",
    "    def noofsides(self):\n",
    "        print(\"I am a polygon\")\n",
    "class Triangle(Polygon):\n",
    "    #overriding abstract method\n",
    "    def noofsides(self):\n",
    "        print(\"I have 3 sides\")\n",
    "class Pentagon(Polygon):\n",
    "    def noofsides(self):\n",
    "        print(\"I have 5 sides\")\n",
    "class Hexagon(Polygon):\n",
    "    def noofsides(self):\n",
    "        print(\"I have 6 sides\")\n",
    "class Quadrilateral(Polygon):\n",
    "    def noofsides(self):\n",
    "        print(\"I have 4 sides\")\n",
    "\n",
    " \n",
    "R = Triangle()\n",
    "R.noofsides()\n",
    "\n",
    "P = Pentagon()\n",
    "P.noofsides()\n",
    "\n",
    "H = Hexagon()\n",
    "H.noofsides()\n",
    "\n",
    "Q = Quadrilateral()\n",
    "Q.noofsides()"
   ]
  },
  {
   "cell_type": "code",
   "execution_count": 10,
   "id": "1d9b480a",
   "metadata": {},
   "outputs": [
    {
     "name": "stdout",
     "output_type": "stream",
     "text": [
      "100\n",
      "40\n"
     ]
    }
   ],
   "source": [
    "from abc import ABC, abstractmethod\n",
    "class Figure(ABC):\n",
    "    @abstractmethod\n",
    "    def area(self):\n",
    "        pass\n",
    "        \n",
    "\n",
    "\n",
    "class Square(Figure):\n",
    "    def __init__(self, a):\n",
    "        self.a = a\n",
    "        \n",
    "    def area(self):\n",
    "        return self.a * self.a\n",
    "    def perimeter(self):\n",
    "        return 4 * self.a\n",
    "square = Square(10)\n",
    "print(square.area())\n",
    "print(square.perimeter())\n"
   ]
  },
  {
   "cell_type": "code",
   "execution_count": 18,
   "id": "7405f6cd",
   "metadata": {},
   "outputs": [
    {
     "data": {
      "text/plain": [
       "6000.0"
      ]
     },
     "execution_count": 18,
     "metadata": {},
     "output_type": "execute_result"
    }
   ],
   "source": [
    "from abc import ABC, abstractmethod\n",
    "class Taxpayer:\n",
    "    def __init__(self, salary):\n",
    "        self.salary = salary\n",
    "    @abstractmethod\n",
    "    def calculate_tax(self):\n",
    "        pass\n",
    "class StudentTaxPayer(Taxpayer):\n",
    "    def calculate_tax(self):\n",
    "        return self.salary * 15/100\n",
    "student = StudentTaxPayer(40000)\n",
    "student.calculate_tax()\n",
    "        \n",
    "    "
   ]
  },
  {
   "cell_type": "code",
   "execution_count": 4,
   "id": "24496e63",
   "metadata": {},
   "outputs": [
    {
     "data": {
      "text/plain": [
       "5000.0"
      ]
     },
     "execution_count": 4,
     "metadata": {},
     "output_type": "execute_result"
    }
   ],
   "source": [
    "from abc import ABC, abstractmethod\n",
    "class TaxPayer:\n",
    "    def __init__(self, salary):\n",
    "        self.salary = salary\n",
    "    @abstractmethod\n",
    "    def calculate_tax(self):\n",
    "        pass\n",
    "class StudentTaxPayer(TaxPayer):\n",
    "    def calculate_tax(self):\n",
    "        return self.salary * 15/100\n",
    "class DisabledTaxPayer(TaxPayer):\n",
    "    def calculate_tax(self):\n",
    "        return min(self.salary * 0.12, 5000.00)\n",
    "disabled = DisabledTaxPayer(50000)\n",
    "disabled.calculate_tax()\n",
    "        "
   ]
  },
  {
   "cell_type": "code",
   "execution_count": 30,
   "id": "0714529b",
   "metadata": {},
   "outputs": [
    {
     "name": "stdout",
     "output_type": "stream",
     "text": [
      "11900.0\n",
      "18400.0\n"
     ]
    }
   ],
   "source": [
    "from abc import ABC, abstractmethod\n",
    "class TaxPayer:\n",
    "    def __init__(self, salary):\n",
    "        self.salary = salary\n",
    "    @abstractmethod\n",
    "    def calculate_tax(self):\n",
    "        pass\n",
    "    \n",
    "class StudentTaxPayer(TaxPayer):\n",
    "    def calculate_tax(self):\n",
    "        return self.salary * 15/100\n",
    "class DisabledTaxPayer(TaxPayer):\n",
    "    def calculate_tax(self): \n",
    "        return self.salary * 0.12\n",
    "\n",
    "class WorkerTaxPayer(TaxPayer):\n",
    "    def calculate_tax(self):\n",
    "        if self.salary < 80000:\n",
    "            return self.salary * 0.17\n",
    "        else:\n",
    "            return 80000 * 0.17  + (self.salary - 80000) * 0.32\n",
    "    \n",
    "        \n",
    "workerl = WorkerTaxPayer(70000)\n",
    "worker2 = WorkerTaxPayer(95000)\n",
    "print(workerl.calculate_tax())\n",
    "print(worker2.calculate_tax())"
   ]
  },
  {
   "cell_type": "code",
   "execution_count": 44,
   "id": "d97345af",
   "metadata": {},
   "outputs": [
    {
     "name": "stdout",
     "output_type": "stream",
     "text": [
      "7500.0\n",
      "8400.0\n",
      "11560.0\n",
      "26400.0\n"
     ]
    }
   ],
   "source": [
    "from abc import ABC, abstractmethod\n",
    "class TaxPayer:\n",
    "    def __init__(self, salary):\n",
    "        self.salary = salary\n",
    "    \n",
    "    @abstractmethod\n",
    "    def calculate_tax(self):\n",
    "        pass\n",
    "    \n",
    "class StudentTaxPayer(TaxPayer):\n",
    "    def calculate_tax(self):\n",
    "        return self.salary * 15/100\n",
    "\n",
    "class DisabledTaxPayer(TaxPayer):\n",
    "    def calculate_tax(self):\n",
    "        return self.salary * 0.12\n",
    "\n",
    "\n",
    "class WorkerTaxPayer(TaxPayer):\n",
    "    def calculate_tax(self):\n",
    "        if self.salary < 80000:\n",
    "            return self.salary * 0.17\n",
    "        else:\n",
    "            return 80000 * 0.17  + (self.salary - 80000) * 0.32\n",
    "\n",
    "\n",
    "\n",
    "taxpayers = [StudentTaxPayer(50000), DisabledTaxPayer(70000), WorkerTaxPayer(68000), WorkerTaxPayer(120000)]\n",
    "for i in taxpayers:\n",
    "    print(i.calculate_tax())"
   ]
  },
  {
   "cell_type": "code",
   "execution_count": 50,
   "id": "4c131dc0",
   "metadata": {},
   "outputs": [
    {
     "name": "stdout",
     "output_type": "stream",
     "text": [
      "Alice->19\n",
      "Tom->25\n",
      "Mike->27\n",
      "John->29\n"
     ]
    }
   ],
   "source": [
    "class Person:\n",
    "    def __init__(self, name, age):\n",
    "        self.name = name\n",
    "        self.age = age\n",
    "people = [Person('Tom', 25), Person('John', 29), Person('Mike', 27), Person('Alice', 19)]\n",
    "people.sort(key= lambda person:person.age)\n",
    "for person in people:\n",
    "    print(f'{person.name}->{person.age}')"
   ]
  },
  {
   "cell_type": "code",
   "execution_count": 68,
   "id": "bcd3de82",
   "metadata": {},
   "outputs": [
    {
     "name": "stdout",
     "output_type": "stream",
     "text": [
      "Point(x=4, y=2)\n",
      "Point(x=0, y=0)\n"
     ]
    }
   ],
   "source": [
    "class Point:\n",
    "    def __init__(self, x, y):\n",
    "        self.x = x\n",
    "        self.y = y\n",
    "    def __repr__(self):\n",
    "        return f\"Point(x={self.x}, y={self.y})\"\n",
    "    def reset(self):\n",
    "        self.x = 0\n",
    "        self.y = 0\n",
    "\n",
    "p = Point(4,2)\n",
    "print(p)\n",
    "p.reset()\n",
    "print(p)"
   ]
  },
  {
   "cell_type": "code",
   "execution_count": 75,
   "id": "cf51c86d",
   "metadata": {},
   "outputs": [
    {
     "name": "stdout",
     "output_type": "stream",
     "text": [
      "5.0\n"
     ]
    }
   ],
   "source": [
    "import math\n",
    "class Point:\n",
    "    def __init__(self, x, y):\n",
    "        self.x = x\n",
    "        self.y = y\n",
    "    def __repr__(self):\n",
    "        return f\"Point(x={self.x}, y={self.y})\"\n",
    "    def reset(self):\n",
    "        self.x = 0\n",
    "        self.y = 0\n",
    "    def calc_dist(self, other):\n",
    "        return math.sqrt((self.x - other.x) **2 + (self.y - other.y)**2)\n",
    "\n",
    "        \n",
    "p1 = Point(0,3)\n",
    "p2 = Point(4,0)\n",
    "print(p1.calc_dist(p2))"
   ]
  },
  {
   "cell_type": "code",
   "execution_count": 78,
   "id": "6b27226c",
   "metadata": {},
   "outputs": [
    {
     "name": "stdout",
     "output_type": "stream",
     "text": [
      "<__main__.Note object at 0x7fa0a8056e20>\n"
     ]
    }
   ],
   "source": [
    "import datetime\n",
    "class Note:\n",
    "    def __init__(self, content):\n",
    "        self.content = content\n",
    "        self.creation_time = datetime.datetime.now().strftime('%m-%d-%Y%H:%M:%S')\n",
    "note1 = Note('My first note')\n",
    "note2 = Note('My second note')\n",
    "print(note1)\n",
    "print(note2)"
   ]
  },
  {
   "cell_type": "code",
   "execution_count": 89,
   "id": "c04af755",
   "metadata": {},
   "outputs": [
    {
     "name": "stdout",
     "output_type": "stream",
     "text": [
      "False\n",
      "True\n"
     ]
    }
   ],
   "source": [
    "import datetime\n",
    "class Note:\n",
    "    def __init__(self, content):\n",
    "        self.content = content\n",
    "        self.creation_time = datetime.datetime.now().strftime('%m-%d-%Y%H:%M:%S')\n",
    "    def find(self, word):\n",
    "        return word in self.content\n",
    "        \n",
    "    \n",
    "note1 = Note(\"Object Oriented Programming in Python.\")\n",
    "print(note1.find(\"python\"))\n",
    "print(note1.find('Python'))"
   ]
  },
  {
   "cell_type": "code",
   "execution_count": 91,
   "id": "28b9071b",
   "metadata": {},
   "outputs": [
    {
     "name": "stdout",
     "output_type": "stream",
     "text": [
      "True\n",
      "True\n"
     ]
    }
   ],
   "source": [
    "import datetime\n",
    "class Note:\n",
    "    def __init__(self, content):\n",
    "        self.content = content\n",
    "        self.creation_time = datetime.datetime.now().strftime('%m-%d-%Y%H:%M:%S')\n",
    "    def find(self, word):\n",
    "        return word.lower() in self.content.lower()\n",
    "    \n",
    "note1 = Note(\"Object Oriented Programming in Python.\")\n",
    "print(note1.find(\"python\"))\n",
    "print(note1.find('Python'))"
   ]
  },
  {
   "cell_type": "code",
   "execution_count": 95,
   "id": "f4014317",
   "metadata": {},
   "outputs": [
    {
     "name": "stdout",
     "output_type": "stream",
     "text": [
      "[Note(content = 'My first note'), Note(content = 'My second note')]\n"
     ]
    }
   ],
   "source": [
    "import datetime\n",
    "class Note:\n",
    "    def __init__(self, content):\n",
    "        self.content = content\n",
    "        self.creation_time = datetime.datetime.now().strftime('%m-%d-%Y%H:%M:%S')\n",
    "    def __repr__(self):\n",
    "        return f\"Note(content = '{self.content}')\"\n",
    "    def find(self, word):\n",
    "        return word.lower() in self.content.lower()\n",
    "class Notebook:\n",
    "    def __init__(self):\n",
    "        self.notes = []\n",
    "    def new_note(self,content):\n",
    "        self.notes.append(Note(content))\n",
    "\n",
    "notebook = Notebook()\n",
    "notebook.new_note(\"My first note\")\n",
    "notebook.new_note(\"My second note\")\n",
    "print(notebook.notes)"
   ]
  },
  {
   "cell_type": "code",
   "execution_count": 103,
   "id": "060020b1",
   "metadata": {},
   "outputs": [
    {
     "name": "stdout",
     "output_type": "stream",
     "text": [
      "My first note\n",
      "My second note\n"
     ]
    }
   ],
   "source": [
    "class Note:\n",
    "    def __init__(self, content):\n",
    "        self.content = content\n",
    "        self.creation_time = datetime.datetime.now().strftime('%m-%d-%Y%H:%M:%S')\n",
    "\n",
    "    def __repr__(self):\n",
    "        return f\"Note(content='{self.content}')\"\n",
    "    def find(self, word):\n",
    "        return word.lower() in self.content.lower()\n",
    "\n",
    "\n",
    "class Notebook:\n",
    "    def __init__(self):\n",
    "        self.notes = []\n",
    "    def new_note(self, content):\n",
    "        self.notes.append(Note(content))\n",
    "    def display_notes(self):\n",
    "        for note in self.notes:\n",
    "            print(note.content)\n",
    "notebook = Notebook()\n",
    "notebook.new_note('My first note')\n",
    "notebook.new_note(\"My second note\")\n",
    "notebook.display_notes()\n",
    "\n"
   ]
  },
  {
   "cell_type": "code",
   "execution_count": null,
   "id": "4382722a",
   "metadata": {},
   "outputs": [],
   "source": [
    "\n",
    "    "
   ]
  },
  {
   "cell_type": "code",
   "execution_count": null,
   "id": "e6e9981f",
   "metadata": {},
   "outputs": [],
   "source": []
  }
 ],
 "metadata": {
  "kernelspec": {
   "display_name": "Python 3 (ipykernel)",
   "language": "python",
   "name": "python3"
  },
  "language_info": {
   "codemirror_mode": {
    "name": "ipython",
    "version": 3
   },
   "file_extension": ".py",
   "mimetype": "text/x-python",
   "name": "python",
   "nbconvert_exporter": "python",
   "pygments_lexer": "ipython3",
   "version": "3.9.13"
  }
 },
 "nbformat": 4,
 "nbformat_minor": 5
}
