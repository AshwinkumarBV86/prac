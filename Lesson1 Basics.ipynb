{
 "cells": [
  {
   "cell_type": "code",
   "execution_count": 1,
   "id": "7a9ac8b3",
   "metadata": {},
   "outputs": [
    {
     "name": "stdout",
     "output_type": "stream",
     "text": [
      "Hello World\n"
     ]
    }
   ],
   "source": [
    "print(\"Hello World\")\n",
    "    "
   ]
  },
  {
   "cell_type": "markdown",
   "id": "60b3dc2e",
   "metadata": {},
   "source": [
    "x = 22\n",
    "while x < 1000:\n",
    "    print(x)\n",
    "    x = x + 22"
   ]
  },
  {
   "cell_type": "code",
   "execution_count": 2,
   "id": "b85f5a94",
   "metadata": {},
   "outputs": [],
   "source": [
    "#variables and constants\n",
    "#Texts are made up of letters,punctuation, symbols and even numbers and is termed as string\n",
    "#Texts is composed of a string of individual characters\n",
    "    "
   ]
  },
  {
   "cell_type": "code",
   "execution_count": 3,
   "id": "ac303441",
   "metadata": {},
   "outputs": [],
   "source": [
    "#Numbers\n",
    "#Integer is a whole number with no digits to the right of the decimal place like 4 or 3424\n",
    "#integers are used to count things or perform a mathematical operations\n",
    "#Decimal also called doubles or floats allow values to the right of the decimal place even if a given real value does not have any\n",
    "#we use decimals for anything related to money, wages"
   ]
  },
  {
   "cell_type": "code",
   "execution_count": 4,
   "id": "08e25e28",
   "metadata": {},
   "outputs": [],
   "source": [
    "#True/False Boolean\n",
    "#There are only 2 options we refer to these as binary values"
   ]
  },
  {
   "cell_type": "code",
   "execution_count": 5,
   "id": "9a9fc3b9",
   "metadata": {},
   "outputs": [],
   "source": [
    "#Data Collections\n",
    "#lists, sets and arrays\n",
    "\n"
   ]
  },
  {
   "cell_type": "code",
   "execution_count": 6,
   "id": "89c95716",
   "metadata": {},
   "outputs": [],
   "source": [
    "#Understand the variables need to perform any calculation and list them out\n",
    "#variables represent value we need for our program and the exact value can differ which is why it is called variable\n",
    "#it is reusable and their values can change between the start and the end of a program\n"
   ]
  },
  {
   "cell_type": "code",
   "execution_count": 7,
   "id": "4e6c5c06",
   "metadata": {
    "scrolled": true
   },
   "outputs": [
    {
     "data": {
      "text/plain": [
       "'Hello, world'"
      ]
     },
     "execution_count": 7,
     "metadata": {},
     "output_type": "execute_result"
    }
   ],
   "source": [
    "x = 7 #data type integer\n",
    "x = 6.458 #data type float\n",
    "x = \"Hello, world\" #data type string\n",
    "x"
   ]
  },
  {
   "cell_type": "code",
   "execution_count": 8,
   "id": "ad95a13c",
   "metadata": {},
   "outputs": [
    {
     "ename": "KeyboardInterrupt",
     "evalue": "Interrupted by user",
     "output_type": "error",
     "traceback": [
      "\u001b[0;31m---------------------------------------------------------------------------\u001b[0m",
      "\u001b[0;31mKeyboardInterrupt\u001b[0m                         Traceback (most recent call last)",
      "\u001b[0;32m/var/folders/q6/g7092d4n0qd1jz1vdnn2st200000gn/T/ipykernel_3253/2306374870.py\u001b[0m in \u001b[0;36m<module>\u001b[0;34m\u001b[0m\n\u001b[0;32m----> 1\u001b[0;31m \u001b[0muser_input_length\u001b[0m \u001b[0;34m=\u001b[0m \u001b[0minput\u001b[0m\u001b[0;34m(\u001b[0m\u001b[0;34m\"Enter a length (whole number): \"\u001b[0m\u001b[0;34m)\u001b[0m\u001b[0;34m\u001b[0m\u001b[0;34m\u001b[0m\u001b[0m\n\u001b[0m\u001b[1;32m      2\u001b[0m \u001b[0muser_input_width\u001b[0m \u001b[0;34m=\u001b[0m \u001b[0minput\u001b[0m\u001b[0;34m(\u001b[0m\u001b[0;34m\"Enter a width (whole number): \"\u001b[0m \u001b[0;34m)\u001b[0m\u001b[0;34m\u001b[0m\u001b[0;34m\u001b[0m\u001b[0m\n\u001b[1;32m      3\u001b[0m \u001b[0muser_input_price\u001b[0m \u001b[0;34m=\u001b[0m \u001b[0minput\u001b[0m\u001b[0;34m(\u001b[0m\u001b[0;34m\"Enter a price (numbers and decimal only): \"\u001b[0m\u001b[0;34m)\u001b[0m\u001b[0;34m\u001b[0m\u001b[0;34m\u001b[0m\u001b[0m\n\u001b[1;32m      4\u001b[0m \u001b[0;34m\u001b[0m\u001b[0m\n\u001b[1;32m      5\u001b[0m \u001b[0mlength\u001b[0m \u001b[0;34m=\u001b[0m \u001b[0mint\u001b[0m\u001b[0;34m(\u001b[0m\u001b[0muser_input_length\u001b[0m\u001b[0;34m)\u001b[0m\u001b[0;34m\u001b[0m\u001b[0;34m\u001b[0m\u001b[0m\n",
      "\u001b[0;32m~/opt/anaconda3/lib/python3.9/site-packages/ipykernel/kernelbase.py\u001b[0m in \u001b[0;36mraw_input\u001b[0;34m(self, prompt)\u001b[0m\n\u001b[1;32m   1175\u001b[0m                 \u001b[0;34m\"raw_input was called, but this frontend does not support input requests.\"\u001b[0m\u001b[0;34m\u001b[0m\u001b[0;34m\u001b[0m\u001b[0m\n\u001b[1;32m   1176\u001b[0m             )\n\u001b[0;32m-> 1177\u001b[0;31m         return self._input_request(\n\u001b[0m\u001b[1;32m   1178\u001b[0m             \u001b[0mstr\u001b[0m\u001b[0;34m(\u001b[0m\u001b[0mprompt\u001b[0m\u001b[0;34m)\u001b[0m\u001b[0;34m,\u001b[0m\u001b[0;34m\u001b[0m\u001b[0;34m\u001b[0m\u001b[0m\n\u001b[1;32m   1179\u001b[0m             \u001b[0mself\u001b[0m\u001b[0;34m.\u001b[0m\u001b[0m_parent_ident\u001b[0m\u001b[0;34m[\u001b[0m\u001b[0;34m\"shell\"\u001b[0m\u001b[0;34m]\u001b[0m\u001b[0;34m,\u001b[0m\u001b[0;34m\u001b[0m\u001b[0;34m\u001b[0m\u001b[0m\n",
      "\u001b[0;32m~/opt/anaconda3/lib/python3.9/site-packages/ipykernel/kernelbase.py\u001b[0m in \u001b[0;36m_input_request\u001b[0;34m(self, prompt, ident, parent, password)\u001b[0m\n\u001b[1;32m   1217\u001b[0m             \u001b[0;32mexcept\u001b[0m \u001b[0mKeyboardInterrupt\u001b[0m\u001b[0;34m:\u001b[0m\u001b[0;34m\u001b[0m\u001b[0;34m\u001b[0m\u001b[0m\n\u001b[1;32m   1218\u001b[0m                 \u001b[0;31m# re-raise KeyboardInterrupt, to truncate traceback\u001b[0m\u001b[0;34m\u001b[0m\u001b[0;34m\u001b[0m\u001b[0m\n\u001b[0;32m-> 1219\u001b[0;31m                 \u001b[0;32mraise\u001b[0m \u001b[0mKeyboardInterrupt\u001b[0m\u001b[0;34m(\u001b[0m\u001b[0;34m\"Interrupted by user\"\u001b[0m\u001b[0;34m)\u001b[0m \u001b[0;32mfrom\u001b[0m \u001b[0;32mNone\u001b[0m\u001b[0;34m\u001b[0m\u001b[0;34m\u001b[0m\u001b[0m\n\u001b[0m\u001b[1;32m   1220\u001b[0m             \u001b[0;32mexcept\u001b[0m \u001b[0mException\u001b[0m\u001b[0;34m:\u001b[0m\u001b[0;34m\u001b[0m\u001b[0;34m\u001b[0m\u001b[0m\n\u001b[1;32m   1221\u001b[0m                 \u001b[0mself\u001b[0m\u001b[0;34m.\u001b[0m\u001b[0mlog\u001b[0m\u001b[0;34m.\u001b[0m\u001b[0mwarning\u001b[0m\u001b[0;34m(\u001b[0m\u001b[0;34m\"Invalid Message:\"\u001b[0m\u001b[0;34m,\u001b[0m \u001b[0mexc_info\u001b[0m\u001b[0;34m=\u001b[0m\u001b[0;32mTrue\u001b[0m\u001b[0;34m)\u001b[0m\u001b[0;34m\u001b[0m\u001b[0;34m\u001b[0m\u001b[0m\n",
      "\u001b[0;31mKeyboardInterrupt\u001b[0m: Interrupted by user"
     ]
    }
   ],
   "source": [
    "user_input_length = input(\"Enter a length (whole number): \")\n",
    "user_input_width = input(\"Enter a width (whole number): \" )\n",
    "user_input_price = input(\"Enter a price (numbers and decimal only): \")\n",
    "\n",
    "length = int(user_input_length)\n",
    "width = int(user_input_width)\n",
    "price = float(user_input_price)\n",
    "\n",
    "total_footage = length * width\n",
    "total_price = total_footage * price\n",
    "\n",
    "print(\"length: \" ,length)\n",
    "print(\"width: \", width)\n",
    "print(\"total footage: \",total_footage)\n",
    "print(\"total price: \",total_price)"
   ]
  },
  {
   "cell_type": "code",
   "execution_count": null,
   "id": "8bf66610",
   "metadata": {},
   "outputs": [],
   "source": [
    "name = input(\"Enter a name: \")\n",
    "print(\"Hello \", name,\", welcome to the banking portal.\")\n",
    "print(\"In this portal, you can handle all your banking needs.\")"
   ]
  },
  {
   "cell_type": "code",
   "execution_count": null,
   "id": "9189f56d",
   "metadata": {},
   "outputs": [],
   "source": [
    "print(\"Hello, \\\n",
    "welcome to the banking portal.\");\n",
    "print(\"In this portal, \\\n",
    "you can handle all your banking needs.\"); \n",
    "print(\"Please enter a selection \\\n",
    "from the following menu\"); \n",
    "print(\"Type Login to log in\");\n",
    "print(\"Type Quit to quit\");"
   ]
  },
  {
   "cell_type": "code",
   "execution_count": null,
   "id": "555f670c",
   "metadata": {},
   "outputs": [],
   "source": [
    "input(\"How are you? \")"
   ]
  },
  {
   "cell_type": "code",
   "execution_count": null,
   "id": "a99ae600",
   "metadata": {},
   "outputs": [],
   "source": [
    "print(\"Hello, welcome to the banking portal.\")\n",
    "print(\"In this portal, you can handle all your banking needs.\") \n",
    "print(\"Please enter a selection from the following menu.\")\n",
    "print(\"Type Login to login\")\n",
    "print(\"Type Quit to quit\")\n",
    "input(\"Enter Login or Quit\")"
   ]
  },
  {
   "cell_type": "code",
   "execution_count": null,
   "id": "7c8c6f9c",
   "metadata": {},
   "outputs": [],
   "source": [
    "firstname = input(\"Please enter your first name: \") \n",
    "lastname = input(\"Please enter your last name: \") \n",
    "print(\"Your name is:\")\n",
    "print(firstname + \" \" + lastname)"
   ]
  },
  {
   "cell_type": "code",
   "execution_count": null,
   "id": "9c96fe15",
   "metadata": {},
   "outputs": [],
   "source": [
    "firstname = input(\"Please enter your first name: \") \n",
    "lastname = input(\"Please enter your last name: \") \n",
    "print(\"Your name is:\")\n",
    "print(firstname + \" \" + lastname)"
   ]
  },
  {
   "cell_type": "code",
   "execution_count": null,
   "id": "0fe8b28c",
   "metadata": {},
   "outputs": [],
   "source": [
    "# Add a new line of code that displays the text in quotation marks \n",
    "# to an output block without repeating the text in quotation marks.\n",
    "output = \"I love python\"\n",
    "print(output)"
   ]
  },
  {
   "cell_type": "code",
   "execution_count": null,
   "id": "e179a9bf",
   "metadata": {},
   "outputs": [],
   "source": [
    "# your code below this line\n",
    "# Display only the text Python is fun! to an output block # without deleting any of the existing code\n",
    "print(\"Python is fun!\")\n",
    "print(\"Python is also easy!\")"
   ]
  },
  {
   "cell_type": "code",
   "execution_count": null,
   "id": "458f2ce8",
   "metadata": {},
   "outputs": [],
   "source": [
    "\n",
    "# Display the text in quotation marks to an output block\n",
    "# without moving any of the existing code to a different line print(\"Python is fun!\") print(\"Python is also easy.\")\n",
    "# Display the text in quotation marks to an output block\n",
    "# without moving any of the existing code to a different line print\n",
    "(\"Python is fun!\")\n",
    "# Change each variable name to an appropriate name for Python. # Do not use the same variable name more than one time.\n",
    "1-name = \"Rebecca\" # first name\n",
    "&_name = \"Roberts\" # last name\n",
    "# After changing the variable names, update the code below # to print out each name.\n",
    "print(1-name)\n",
    "print(&_name)"
   ]
  },
  {
   "cell_type": "code",
   "execution_count": null,
   "id": "3847c57a",
   "metadata": {},
   "outputs": [],
   "source": [
    "# display the text in quotation marks to an output block \n",
    "print(\"Python is fun!\")"
   ]
  },
  {
   "cell_type": "code",
   "execution_count": null,
   "id": "814122c7",
   "metadata": {},
   "outputs": [],
   "source": [
    "# Display the text in quotation marks to an output block\n",
    "# without moving any of the existing code to a different line \n",
    "print(\"Python is fun!\"), print(\"Python is also easy.\")"
   ]
  },
  {
   "cell_type": "code",
   "execution_count": null,
   "id": "109d8a8d",
   "metadata": {},
   "outputs": [],
   "source": [
    "# Display the text in quotation marks to an output block\n",
    "# without moving any of the existing code to a different line print\n",
    "(\"Python is fun!\")"
   ]
  },
  {
   "cell_type": "code",
   "execution_count": null,
   "id": "6e90f707",
   "metadata": {},
   "outputs": [],
   "source": [
    "# Change each variable name to an appropriate name for Python. # Do not use the same variable name more than one time.\n",
    "name = \"Rebecca\" # first name\n",
    "__name = \"Roberts\" # last name"
   ]
  },
  {
   "cell_type": "code",
   "execution_count": null,
   "id": "f23b62c5",
   "metadata": {},
   "outputs": [],
   "source": [
    "#Fix the following code to create three valid variable names. Add print() statements to display the values associated with each variable and run the code to verify that there are no errors.\n",
    "_name=\"Alex\"\n",
    "__age = 35\n",
    "List_of_states = [\"Kentucky\", \"New Jersey\"]"
   ]
  },
  {
   "cell_type": "code",
   "execution_count": null,
   "id": "773ea7aa",
   "metadata": {},
   "outputs": [],
   "source": [
    "this_is_a_valid_variable_name_although_it_is_very_long = 5 \n",
    "thisIsASecondVariableNmeThatIsVeryLong = \"help\" \n",
    "print(thisisavalidvariablenamealthoughitislong) \n",
    "print(thisIsASecondVariableNameThatIsVeryLong)\n"
   ]
  },
  {
   "cell_type": "code",
   "execution_count": null,
   "id": "e9dcef93",
   "metadata": {},
   "outputs": [],
   "source": [
    "thisisavalidvariablenamealthoughitisverylong=5 \n",
    "thisIsASecondVariableNmeThatIsVeryLong = \"help\" \n",
    "print(thisisavalidvariablenamealthoughitisverylong) \n",
    "print(thisIsASecondVariableNmeThatIsVeryLong)\n"
   ]
  },
  {
   "cell_type": "code",
   "execution_count": 13,
   "id": "df004a45",
   "metadata": {},
   "outputs": [
    {
     "name": "stdout",
     "output_type": "stream",
     "text": [
      "What is your name of the State you were born? as\n",
      "What is the name of the state you live now? as\n",
      "as\n",
      "as\n"
     ]
    },
    {
     "data": {
      "text/plain": [
       "str"
      ]
     },
     "execution_count": 13,
     "metadata": {},
     "output_type": "execute_result"
    }
   ],
   "source": [
    "state = input(\"What is your name of the State you were born? \")\n",
    "city = input(\"What is the name of the state you live now? \")\n",
    "print(state)\n",
    "print(city)\n",
    "type(state)"
   ]
  },
  {
   "cell_type": "code",
   "execution_count": 17,
   "id": "6ae50b90",
   "metadata": {},
   "outputs": [
    {
     "name": "stdout",
     "output_type": "stream",
     "text": [
      "100\n",
      "10\n",
      "90\n",
      "110\n",
      "1000\n",
      "10.0\n",
      "10\n",
      "0\n",
      "100000000000000000000\n"
     ]
    }
   ],
   "source": [
    "a = 100\n",
    "b = 10\n",
    "c = a-b\n",
    "d = a + b\n",
    "e = a * b\n",
    "f = a / b\n",
    "g = a // b\n",
    "h = a % b\n",
    "i = a ** b\n",
    "\n",
    "\n",
    "\n",
    "print(a)\n",
    "print(b)\n",
    "print(c)\n",
    "print(d)\n",
    "print(e)\n",
    "print(f)\n",
    "print(g)\n",
    "print(h)\n",
    "print(i)"
   ]
  },
  {
   "cell_type": "code",
   "execution_count": 24,
   "id": "b73ad863",
   "metadata": {},
   "outputs": [
    {
     "name": "stdout",
     "output_type": "stream",
     "text": [
      "1445\n",
      "11877.0\n",
      "1200.0\n",
      "0.000210078125\n",
      "4000.000000000017\n"
     ]
    }
   ],
   "source": [
    "acctBal = 13445; \n",
    "locBal = 16000; \n",
    "savBal = 4000; \n",
    "savInterest = .025; \n",
    "locInterest = .098;\n",
    "months = 12;\n",
    "years = 8.5; \n",
    "numString = \"12345\"\n",
    "\n",
    "result1 = acctBal + savBal - locBal;\n",
    "print(result1)\n",
    "result2 = acctBal - locBal * locInterest;\n",
    "print(result2)\n",
    "result3 = savBal*months*savInterest; \n",
    "print(result3);\n",
    "result4 = acctBal/savBal/locBal; \n",
    "print(result4);\n",
    "result5 = savBal*1+savInterest/months**years; \n",
    "print(result5)"
   ]
  },
  {
   "cell_type": "code",
   "execution_count": 1,
   "id": "c3c420ae",
   "metadata": {},
   "outputs": [
    {
     "ename": "KeyboardInterrupt",
     "evalue": "Interrupted by user",
     "output_type": "error",
     "traceback": [
      "\u001b[0;31m---------------------------------------------------------------------------\u001b[0m",
      "\u001b[0;31mKeyboardInterrupt\u001b[0m                         Traceback (most recent call last)",
      "\u001b[0;32m/var/folders/q6/g7092d4n0qd1jz1vdnn2st200000gn/T/ipykernel_4739/2461104084.py\u001b[0m in \u001b[0;36m<module>\u001b[0;34m\u001b[0m\n\u001b[1;32m      1\u001b[0m \u001b[0msqft_per_acre\u001b[0m \u001b[0;34m=\u001b[0m \u001b[0;36m43560\u001b[0m\u001b[0;34m\u001b[0m\u001b[0;34m\u001b[0m\u001b[0m\n\u001b[1;32m      2\u001b[0m \u001b[0;34m\u001b[0m\u001b[0m\n\u001b[0;32m----> 3\u001b[0;31m \u001b[0mlength\u001b[0m \u001b[0;34m=\u001b[0m \u001b[0mfloat\u001b[0m\u001b[0;34m(\u001b[0m\u001b[0minput\u001b[0m\u001b[0;34m(\u001b[0m\u001b[0;34m\"Enter the length of the field in feet: \"\u001b[0m\u001b[0;34m)\u001b[0m\u001b[0;34m)\u001b[0m\u001b[0;34m\u001b[0m\u001b[0;34m\u001b[0m\u001b[0m\n\u001b[0m\u001b[1;32m      4\u001b[0m \u001b[0mwidth\u001b[0m \u001b[0;34m=\u001b[0m \u001b[0mfloat\u001b[0m\u001b[0;34m(\u001b[0m\u001b[0minput\u001b[0m\u001b[0;34m(\u001b[0m\u001b[0;34m\"Enter the width of the field in feet: \"\u001b[0m\u001b[0;34m)\u001b[0m\u001b[0;34m)\u001b[0m\u001b[0;34m\u001b[0m\u001b[0;34m\u001b[0m\u001b[0m\n\u001b[1;32m      5\u001b[0m \u001b[0;34m\u001b[0m\u001b[0m\n",
      "\u001b[0;32m~/opt/anaconda3/lib/python3.9/site-packages/ipykernel/kernelbase.py\u001b[0m in \u001b[0;36mraw_input\u001b[0;34m(self, prompt)\u001b[0m\n\u001b[1;32m   1175\u001b[0m                 \u001b[0;34m\"raw_input was called, but this frontend does not support input requests.\"\u001b[0m\u001b[0;34m\u001b[0m\u001b[0;34m\u001b[0m\u001b[0m\n\u001b[1;32m   1176\u001b[0m             )\n\u001b[0;32m-> 1177\u001b[0;31m         return self._input_request(\n\u001b[0m\u001b[1;32m   1178\u001b[0m             \u001b[0mstr\u001b[0m\u001b[0;34m(\u001b[0m\u001b[0mprompt\u001b[0m\u001b[0;34m)\u001b[0m\u001b[0;34m,\u001b[0m\u001b[0;34m\u001b[0m\u001b[0;34m\u001b[0m\u001b[0m\n\u001b[1;32m   1179\u001b[0m             \u001b[0mself\u001b[0m\u001b[0;34m.\u001b[0m\u001b[0m_parent_ident\u001b[0m\u001b[0;34m[\u001b[0m\u001b[0;34m\"shell\"\u001b[0m\u001b[0;34m]\u001b[0m\u001b[0;34m,\u001b[0m\u001b[0;34m\u001b[0m\u001b[0;34m\u001b[0m\u001b[0m\n",
      "\u001b[0;32m~/opt/anaconda3/lib/python3.9/site-packages/ipykernel/kernelbase.py\u001b[0m in \u001b[0;36m_input_request\u001b[0;34m(self, prompt, ident, parent, password)\u001b[0m\n\u001b[1;32m   1217\u001b[0m             \u001b[0;32mexcept\u001b[0m \u001b[0mKeyboardInterrupt\u001b[0m\u001b[0;34m:\u001b[0m\u001b[0;34m\u001b[0m\u001b[0;34m\u001b[0m\u001b[0m\n\u001b[1;32m   1218\u001b[0m                 \u001b[0;31m# re-raise KeyboardInterrupt, to truncate traceback\u001b[0m\u001b[0;34m\u001b[0m\u001b[0;34m\u001b[0m\u001b[0m\n\u001b[0;32m-> 1219\u001b[0;31m                 \u001b[0;32mraise\u001b[0m \u001b[0mKeyboardInterrupt\u001b[0m\u001b[0;34m(\u001b[0m\u001b[0;34m\"Interrupted by user\"\u001b[0m\u001b[0;34m)\u001b[0m \u001b[0;32mfrom\u001b[0m \u001b[0;32mNone\u001b[0m\u001b[0;34m\u001b[0m\u001b[0;34m\u001b[0m\u001b[0m\n\u001b[0m\u001b[1;32m   1220\u001b[0m             \u001b[0;32mexcept\u001b[0m \u001b[0mException\u001b[0m\u001b[0;34m:\u001b[0m\u001b[0;34m\u001b[0m\u001b[0;34m\u001b[0m\u001b[0m\n\u001b[1;32m   1221\u001b[0m                 \u001b[0mself\u001b[0m\u001b[0;34m.\u001b[0m\u001b[0mlog\u001b[0m\u001b[0;34m.\u001b[0m\u001b[0mwarning\u001b[0m\u001b[0;34m(\u001b[0m\u001b[0;34m\"Invalid Message:\"\u001b[0m\u001b[0;34m,\u001b[0m \u001b[0mexc_info\u001b[0m\u001b[0;34m=\u001b[0m\u001b[0;32mTrue\u001b[0m\u001b[0;34m)\u001b[0m\u001b[0;34m\u001b[0m\u001b[0;34m\u001b[0m\u001b[0m\n",
      "\u001b[0;31mKeyboardInterrupt\u001b[0m: Interrupted by user"
     ]
    }
   ],
   "source": [
    "#computing the area of a room\n",
    "length = float(input(\"Enter the length of the room: \"))\n",
    "width = float(input(\"Enter the width of the room: \"))\n",
    "\n",
    "area = length * width\n",
    "\n",
    "print(\"The area of the room is \", +area)"
   ]
  },
  {
   "cell_type": "code",
   "execution_count": 3,
   "id": "e32c326d",
   "metadata": {},
   "outputs": [
    {
     "ename": "KeyboardInterrupt",
     "evalue": "Interrupted by user",
     "output_type": "error",
     "traceback": [
      "\u001b[0;31m---------------------------------------------------------------------------\u001b[0m",
      "\u001b[0;31mKeyboardInterrupt\u001b[0m                         Traceback (most recent call last)",
      "\u001b[0;32m/var/folders/q6/g7092d4n0qd1jz1vdnn2st200000gn/T/ipykernel_3522/4055955828.py\u001b[0m in \u001b[0;36m<module>\u001b[0;34m\u001b[0m\n\u001b[1;32m      1\u001b[0m \u001b[0;31m#area of a field\u001b[0m\u001b[0;34m\u001b[0m\u001b[0;34m\u001b[0m\u001b[0m\n\u001b[0;32m----> 2\u001b[0;31m \u001b[0mlength\u001b[0m \u001b[0;34m=\u001b[0m \u001b[0mfloat\u001b[0m\u001b[0;34m(\u001b[0m\u001b[0minput\u001b[0m\u001b[0;34m(\u001b[0m\u001b[0;34m\"Enter the length of the field in feet: \"\u001b[0m\u001b[0;34m)\u001b[0m\u001b[0;34m)\u001b[0m\u001b[0;34m\u001b[0m\u001b[0;34m\u001b[0m\u001b[0m\n\u001b[0m\u001b[1;32m      3\u001b[0m \u001b[0mwidth\u001b[0m \u001b[0;34m=\u001b[0m \u001b[0mfloat\u001b[0m\u001b[0;34m(\u001b[0m\u001b[0minput\u001b[0m\u001b[0;34m(\u001b[0m\u001b[0;34m\"Enter the width of the field in feet: \"\u001b[0m\u001b[0;34m)\u001b[0m\u001b[0;34m)\u001b[0m\u001b[0;34m\u001b[0m\u001b[0;34m\u001b[0m\u001b[0m\n\u001b[1;32m      4\u001b[0m \u001b[0msqft_per_acre\u001b[0m \u001b[0;34m=\u001b[0m \u001b[0;36m43560\u001b[0m\u001b[0;34m\u001b[0m\u001b[0;34m\u001b[0m\u001b[0m\n\u001b[1;32m      5\u001b[0m \u001b[0macres\u001b[0m \u001b[0;34m=\u001b[0m \u001b[0;34m(\u001b[0m\u001b[0mlength\u001b[0m \u001b[0;34m*\u001b[0m \u001b[0mwidth\u001b[0m\u001b[0;34m)\u001b[0m\u001b[0;34m/\u001b[0m\u001b[0msqft_per_acre\u001b[0m\u001b[0;34m\u001b[0m\u001b[0;34m\u001b[0m\u001b[0m\n",
      "\u001b[0;32m~/opt/anaconda3/lib/python3.9/site-packages/ipykernel/kernelbase.py\u001b[0m in \u001b[0;36mraw_input\u001b[0;34m(self, prompt)\u001b[0m\n\u001b[1;32m   1175\u001b[0m                 \u001b[0;34m\"raw_input was called, but this frontend does not support input requests.\"\u001b[0m\u001b[0;34m\u001b[0m\u001b[0;34m\u001b[0m\u001b[0m\n\u001b[1;32m   1176\u001b[0m             )\n\u001b[0;32m-> 1177\u001b[0;31m         return self._input_request(\n\u001b[0m\u001b[1;32m   1178\u001b[0m             \u001b[0mstr\u001b[0m\u001b[0;34m(\u001b[0m\u001b[0mprompt\u001b[0m\u001b[0;34m)\u001b[0m\u001b[0;34m,\u001b[0m\u001b[0;34m\u001b[0m\u001b[0;34m\u001b[0m\u001b[0m\n\u001b[1;32m   1179\u001b[0m             \u001b[0mself\u001b[0m\u001b[0;34m.\u001b[0m\u001b[0m_parent_ident\u001b[0m\u001b[0;34m[\u001b[0m\u001b[0;34m\"shell\"\u001b[0m\u001b[0;34m]\u001b[0m\u001b[0;34m,\u001b[0m\u001b[0;34m\u001b[0m\u001b[0;34m\u001b[0m\u001b[0m\n",
      "\u001b[0;32m~/opt/anaconda3/lib/python3.9/site-packages/ipykernel/kernelbase.py\u001b[0m in \u001b[0;36m_input_request\u001b[0;34m(self, prompt, ident, parent, password)\u001b[0m\n\u001b[1;32m   1217\u001b[0m             \u001b[0;32mexcept\u001b[0m \u001b[0mKeyboardInterrupt\u001b[0m\u001b[0;34m:\u001b[0m\u001b[0;34m\u001b[0m\u001b[0;34m\u001b[0m\u001b[0m\n\u001b[1;32m   1218\u001b[0m                 \u001b[0;31m# re-raise KeyboardInterrupt, to truncate traceback\u001b[0m\u001b[0;34m\u001b[0m\u001b[0;34m\u001b[0m\u001b[0m\n\u001b[0;32m-> 1219\u001b[0;31m                 \u001b[0;32mraise\u001b[0m \u001b[0mKeyboardInterrupt\u001b[0m\u001b[0;34m(\u001b[0m\u001b[0;34m\"Interrupted by user\"\u001b[0m\u001b[0;34m)\u001b[0m \u001b[0;32mfrom\u001b[0m \u001b[0;32mNone\u001b[0m\u001b[0;34m\u001b[0m\u001b[0;34m\u001b[0m\u001b[0m\n\u001b[0m\u001b[1;32m   1220\u001b[0m             \u001b[0;32mexcept\u001b[0m \u001b[0mException\u001b[0m\u001b[0;34m:\u001b[0m\u001b[0;34m\u001b[0m\u001b[0;34m\u001b[0m\u001b[0m\n\u001b[1;32m   1221\u001b[0m                 \u001b[0mself\u001b[0m\u001b[0;34m.\u001b[0m\u001b[0mlog\u001b[0m\u001b[0;34m.\u001b[0m\u001b[0mwarning\u001b[0m\u001b[0;34m(\u001b[0m\u001b[0;34m\"Invalid Message:\"\u001b[0m\u001b[0;34m,\u001b[0m \u001b[0mexc_info\u001b[0m\u001b[0;34m=\u001b[0m\u001b[0;32mTrue\u001b[0m\u001b[0;34m)\u001b[0m\u001b[0;34m\u001b[0m\u001b[0;34m\u001b[0m\u001b[0m\n",
      "\u001b[0;31mKeyboardInterrupt\u001b[0m: Interrupted by user"
     ]
    }
   ],
   "source": [
    "#area of a field\n",
    "length = float(input(\"Enter the length of the field in feet: \"))\n",
    "width = float(input(\"Enter the width of the field in feet: \"))\n",
    "sqft_per_acre = 43560\n",
    "acres = (length * width)/sqft_per_acre\n",
    "print(\"The area of the field is : \", +acres)"
   ]
  },
  {
   "cell_type": "code",
   "execution_count": null,
   "id": "83c2751b",
   "metadata": {},
   "outputs": [],
   "source": [
    "#computing the refund amount for a collection of bottles\n",
    "\n",
    "less_deposit = 0.10\n",
    "more_deposit = 0.25\n",
    "\n",
    "less = int(input(\"How many containers 1 litre or less do you have: \"))\n",
    "more = int(input(\"How many containers more than 1 litre do you have: \"))\n",
    "\n",
    "total_refund = less_deposit * less + more_deposit * more\n",
    "print(\"Your total refund will be $%.2f.\" %total_refund)"
   ]
  },
  {
   "cell_type": "code",
   "execution_count": 6,
   "id": "7bec57c9",
   "metadata": {},
   "outputs": [
    {
     "name": "stdout",
     "output_type": "stream",
     "text": [
      "Enter the billing amount: 500\n",
      "615.0\n",
      "The tax is 25.00 and the tip is 90.00 , making the total 615.00\n"
     ]
    }
   ],
   "source": [
    "#compute the tax and tip for a restaurant meal\n",
    "\n",
    "\n",
    "\n",
    "tax_rate = .05\n",
    "tip_rate = .18\n",
    "\n",
    "cost = float(input(\"Enter the billing amount: \"))\n",
    "\n",
    "tax_amount = cost * tax_rate\n",
    "tip_amount = cost * tip_rate\n",
    "\n",
    "Final_amount = cost + tax_amount + tip_amount\n",
    "print(Final_amount)\n",
    "print(\"The tax is %.2f and the tip is %.2f , making the total %.2f\" %(tax_amount, tip_amount, Final_amount))\n"
   ]
  },
  {
   "cell_type": "code",
   "execution_count": 7,
   "id": "fc543582",
   "metadata": {},
   "outputs": [
    {
     "name": "stdout",
     "output_type": "stream",
     "text": [
      "Enter a positive integer: 10\n",
      "The sum of 10.00 positive integer is 55.00 \n"
     ]
    }
   ],
   "source": [
    "#compute the sum of first n positive integers\n",
    "\n",
    "n = int(input(\"Enter a positive integer: \"))\n",
    "sm = n * (n+1)/2\n",
    "print(\"The sum of %.2f positive integer is %.2f \" %(n, sm))"
   ]
  },
  {
   "cell_type": "code",
   "execution_count": 11,
   "id": "ae43d306",
   "metadata": {},
   "outputs": [
    {
     "name": "stdout",
     "output_type": "stream",
     "text": [
      "Enter the value of a : 5\n",
      "Enter the value of b : 4\n",
      "5  +  4  is  9\n",
      "5  -  4  is  1\n",
      "5  *  4  is  20\n",
      "5  /  4  is  1.25\n",
      "5  %  4  is  1\n"
     ]
    }
   ],
   "source": [
    "from math import log10\n",
    "\n",
    "\n",
    "a = int(input(\"Enter the value of a : \"))\n",
    "b = int(input(\"Enter the value of b : \"))\n",
    "\n",
    "print(a,\" + \",b, \" is \", a+b)\n",
    "print(a,\" - \",b, \" is \", a-b)\n",
    "print(a,\" * \",b, \" is \", a*b)\n",
    "print(a,\" / \",b, \" is \", a/b)\n",
    "print(a,\" % \",b, \" is \", a%b)"
   ]
  },
  {
   "cell_type": "code",
   "execution_count": 18,
   "id": "d9793d5a",
   "metadata": {},
   "outputs": [
    {
     "name": "stdout",
     "output_type": "stream",
     "text": [
      "Enter the number of cents : 500\n",
      "  2 toonies\n",
      "  1 loonies\n",
      "  25 quarters\n",
      "  0 nickels\n",
      "  0 pennies\n"
     ]
    }
   ],
   "source": [
    "cents_per_toonie = 200\n",
    "cents_per_loonie = 100\n",
    "cents_per_quarter = 25\n",
    "cents_per_dime = 10\n",
    "cents_per_nickel = 5\n",
    "\n",
    "cents = int(input(\"Enter the number of cents : \"))\n",
    "\n",
    "print(\" \", cents //cents_per_toonie, \"toonies\")\n",
    "cents = cents % cents_per_toonie\n",
    "\n",
    "\n",
    "print(\" \", cents //cents_per_loonie, \"loonies\")\n",
    "cents = cents % cents_per_loonie\n",
    "\n",
    "\n",
    "print(\" \", cents_per_quarter, \"quarters\")\n",
    "cents = cents % cents_per_quarter\n",
    "\n",
    "print(\" \", cents //cents_per_dime, \"nickels\")\n",
    "cents = cents % cents_per_nickel\n",
    "\n",
    "print(\" \", cents, \"pennies\")"
   ]
  },
  {
   "cell_type": "code",
   "execution_count": 29,
   "id": "39a982b8",
   "metadata": {},
   "outputs": [
    {
     "name": "stdout",
     "output_type": "stream",
     "text": [
      "Enter your height: \n",
      "Enter the number of feet: 5\n",
      "Enter the number of inches 4\n",
      "Your height is  162.56 cm\n"
     ]
    }
   ],
   "source": [
    "#convert a height in feet and inches to centimeters\n",
    "in_per_ft = 12\n",
    "cm_per_in = 2.54\n",
    "\n",
    "print(\"Enter your height: \")\n",
    "feet = int(input(\"Enter the number of feet: \"))\n",
    "inches = int(input(\"Enter the number of inches \"))\n",
    "cm = (feet * in_per_ft + inches) * cm_per_in\n",
    "print(\"Your height is \" ,cm , \"cm\")\n",
    "\n",
    "\n",
    "#centimeter = inch * 2.54\n",
    "#print(centimeter, \" centimeter for \", inch , \" inch\")"
   ]
  },
  {
   "cell_type": "code",
   "execution_count": 3,
   "id": "51e4096d",
   "metadata": {},
   "outputs": [
    {
     "name": "stdout",
     "output_type": "stream",
     "text": [
      "Enter the amount of water in milliliters: 234\n",
      "Enter the temperature increase (degrees Celsius): 33\n",
      "32324.292\n",
      "That will require 32324 Joules of energy.\n",
      "That much energy will cost 798904.57 cents. \n"
     ]
    }
   ],
   "source": [
    "#compute the amount of energy needed to heat a volume of water, and the cost of doing so\n",
    "\n",
    "#define constants for the specific heat capacity of water and the price of electricity\n",
    "\n",
    "water_heat_capacity = 4.186\n",
    "electricity_price = 8.9\n",
    "j_to_kwh = 2.777\n",
    "\n",
    "#read the volume from the user\n",
    "volume = float(input(\"Enter the amount of water in milliliters: \"))\n",
    "d_temp = float(input(\"Enter the temperature increase (degrees Celsius): \"))\n",
    "\n",
    "#compute the energy in Joules\n",
    "q = volume * d_temp * water_heat_capacity\n",
    "print(q)\n",
    "\n",
    "#Display the result in joules\n",
    "print(\"That will require %d Joules of energy.\" %q)\n",
    "\n",
    "\n",
    "#compute the cost\n",
    "kwh = q * j_to_kwh\n",
    "cost = kwh * electricity_price\n",
    "\n",
    "#display the cost\n",
    "print(\"That much energy will cost %.2f cents. \" %cost)"
   ]
  },
  {
   "cell_type": "code",
   "execution_count": 5,
   "id": "2f7e1335",
   "metadata": {},
   "outputs": [
    {
     "name": "stdout",
     "output_type": "stream",
     "text": [
      "Enter the length of each side of a polygon: 4\n",
      "Enter the number of sides: 4\n",
      "The area of the polygon is  16.000000000000004\n"
     ]
    }
   ],
   "source": [
    "#compute the area of a regular polygon\n",
    "from math import tan, pi\n",
    "\n",
    "#read input from the user\n",
    "s = float(input(\"Enter the length of each side of a polygon: \"))\n",
    "n = int(input(\"Enter the number of sides: \"))\n",
    "\n",
    "area = (n * s **2)/(4 * tan(pi/n))\n",
    "\n",
    "#display the result\n",
    "print(\"The area of the polygon is \", area)"
   ]
  },
  {
   "cell_type": "code",
   "execution_count": 28,
   "id": "9d820d40",
   "metadata": {},
   "outputs": [
    {
     "name": "stdout",
     "output_type": "stream",
     "text": [
      "Enter the number of seconds: 45000\n",
      "0.5208333333333334\n",
      "45000\n",
      "12.5\n",
      "1800\n",
      "30.0\n",
      "0\n",
      "The equivalent duration is  0:12:30:00. \n"
     ]
    }
   ],
   "source": [
    "#units of time(again)\n",
    "#convert a number of seconds to days, hours, minutes and seconds\n",
    " \n",
    "seconds_per_day = 86400\n",
    "seconds_per_hour = 3600\n",
    "seconds_per_minute = 60\n",
    "\n",
    "#read input from user\n",
    "seconds = int(input(\"Enter the number of seconds: \"))\n",
    "\n",
    "#compute the days, hours, minutes and seconds\n",
    "days = seconds / seconds_per_day\n",
    "print(days)\n",
    "seconds = seconds % seconds_per_day\n",
    "print(seconds)\n",
    "\n",
    "hours = seconds/seconds_per_hour\n",
    "print(hours)\n",
    "seconds = seconds % seconds_per_hour\n",
    "print(seconds)\n",
    "\n",
    "\n",
    "minutes = seconds / seconds_per_minute\n",
    "print(minutes)\n",
    "seconds = seconds % seconds_per_minute\n",
    "print(seconds)\n",
    "\n",
    "\n",
    "print(\"The equivalent duration is \", \"%d:%02d:%02d:%02d. \" %(days, hours, minutes, seconds))"
   ]
  },
  {
   "cell_type": "code",
   "execution_count": 7,
   "id": "23faf309",
   "metadata": {},
   "outputs": [
    {
     "name": "stdout",
     "output_type": "stream",
     "text": [
      "12.833333333333334\n",
      "3000\n"
     ]
    }
   ],
   "source": [
    "print(46200/3600)\n",
    "print(46200%3600)"
   ]
  },
  {
   "cell_type": "code",
   "execution_count": 22,
   "id": "1cd981e9",
   "metadata": {},
   "outputs": [
    {
     "name": "stdout",
     "output_type": "stream",
     "text": [
      "50.0\n"
     ]
    }
   ],
   "source": [
    "print(3000/60)"
   ]
  },
  {
   "cell_type": "code",
   "execution_count": 6,
   "id": "21cefea8",
   "metadata": {},
   "outputs": [
    {
     "name": "stdout",
     "output_type": "stream",
     "text": [
      "Enter the number of day old loaves: 10\n",
      "Regular price: 6.98\n",
      "Discounted amount is : 4.19\n"
     ]
    }
   ],
   "source": [
    "#compute the price of a day old bread order\n",
    "\n",
    "bread_price = 3.49\n",
    "discount_rate = 0.60\n",
    "\n",
    "#read the number of loaves from the user\n",
    "num_loaves = int(input(\"Enter the number of day old loaves: \"))\n",
    "def amount_after_discount(num_loaves):\n",
    "    #compute the discount and total price\n",
    "    regular_price = num_loaves * bread_price\n",
    "    discount = regular_price * discount_rate\n",
    "    total = regular_price - discount\n",
    "    return total\n",
    "\n",
    "amount_after_discount(num_loaves)\n",
    "print(\"Regular price: %.2f\" %regular_price, )\n",
    "print(\"Discounted amount is : %.2f\" %discount)\n",
    "#print(\"Total : %.2f\" %total)"
   ]
  },
  {
   "cell_type": "code",
   "execution_count": null,
   "id": "130ea762",
   "metadata": {},
   "outputs": [],
   "source": [
    "#compute the wind chill index for a given air temperature and wnd speed\n",
    "\n",
    "WC_OFFSET = 13.12\n",
    "WC_FACTOR1 = 0.6215\n",
    "WC_FACTOR2 = -11.37\n",
    "WC_FACTOR3 = 0.3965\n",
    "WC_EXPONENT = 0.16\n",
    "\n",
    "#read the air temperature and wind speed from the user\n",
    "temp = float(input(\"Enter the air temperature (degrees Celsius): \"))\n",
    "speed = float(input(\"Enter the wind speed (kilometers per hour): \"))\n",
    "\n",
    "#compute the wind chill index\n",
    "\n",
    "wci = WC_OFFSET + WC_FACTOR1 * temp + WC_FACTOR2 * speed ** WC_EXPONENT  + WC_FACTOR3 * temp ** WC_EXPONENT\n",
    "\n",
    "#display the result rounded to the closest integer\n",
    "print(\"The wind chill index is \", round(wci))"
   ]
  }
 ],
 "metadata": {
  "kernelspec": {
   "display_name": "Python 3 (ipykernel)",
   "language": "python",
   "name": "python3"
  },
  "language_info": {
   "codemirror_mode": {
    "name": "ipython",
    "version": 3
   },
   "file_extension": ".py",
   "mimetype": "text/x-python",
   "name": "python",
   "nbconvert_exporter": "python",
   "pygments_lexer": "ipython3",
   "version": "3.9.13"
  }
 },
 "nbformat": 4,
 "nbformat_minor": 5
}
