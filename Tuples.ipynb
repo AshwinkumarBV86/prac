{
 "cells": [
  {
   "cell_type": "code",
   "execution_count": 1,
   "id": "5573c7e3",
   "metadata": {},
   "outputs": [
    {
     "name": "stdout",
     "output_type": "stream",
     "text": [
      "('element1', 'element2', 'element3')\n"
     ]
    }
   ],
   "source": [
    "thisTuple = (\"element1\", \"element2\", \"element3\")\n",
    "print(thisTuple)"
   ]
  },
  {
   "cell_type": "code",
   "execution_count": 3,
   "id": "a6656e7b",
   "metadata": {},
   "outputs": [
    {
     "name": "stdout",
     "output_type": "stream",
     "text": [
      "('Maria', 'Smith', 31, '123 Main street', '000-00-0000')\n",
      "<class 'tuple'>\n"
     ]
    }
   ],
   "source": [
    "#tuples containing both strings and numbers\n",
    "info = (\"Maria\",\"Smith\",31,\"123 Main street\",\"000-00-0000\")\n",
    "print(info)\n",
    "print(type(info))"
   ]
  },
  {
   "cell_type": "code",
   "execution_count": 4,
   "id": "0a58d93f",
   "metadata": {},
   "outputs": [
    {
     "name": "stdout",
     "output_type": "stream",
     "text": [
      "(18, 120)\n",
      "<class 'tuple'>\n"
     ]
    }
   ],
   "source": [
    "age_range = (18,120)\n",
    "#tuples containing only numbers\n",
    "print(age_range)\n",
    "print(type(age_range))\n"
   ]
  },
  {
   "cell_type": "code",
   "execution_count": 7,
   "id": "2cb28e77",
   "metadata": {},
   "outputs": [
    {
     "name": "stdout",
     "output_type": "stream",
     "text": [
      "('John', 'Smith', 1005162, 34455.45)\n",
      "<class 'tuple'>\n",
      "4\n"
     ]
    }
   ],
   "source": [
    "customer = (\"John\", \"Smith\", 1005162, 34455.45)\n",
    "print(customer)\n",
    "print(type(customer))\n",
    "print(len(customer))"
   ]
  },
  {
   "cell_type": "code",
   "execution_count": 12,
   "id": "26f077fc",
   "metadata": {},
   "outputs": [
    {
     "name": "stdout",
     "output_type": "stream",
     "text": [
      "8\n",
      "Your password meets the requirements and the length is  8\n"
     ]
    }
   ],
   "source": [
    "password = ('p','a','s','s','w','o','r','d')\n",
    "print(len(password))\n",
    "if len(password) >= 8:\n",
    "    print(\"Your password meets the requirements and the length is \", len(password))\n",
    "else:\n",
    "    print(\"Your password length does not meet the requirements.\")"
   ]
  },
  {
   "cell_type": "code",
   "execution_count": 21,
   "id": "bc67f34f",
   "metadata": {},
   "outputs": [
    {
     "name": "stdout",
     "output_type": "stream",
     "text": [
      "('Maria', 'Smith', 31, '123 Main Street', '000-00-0000')\n",
      "5\n",
      "Maria\n",
      "000-00-0000\n",
      "000-00-0000\n",
      "Smith\n",
      "(31, '123 Main Street', '000-00-0000')\n"
     ]
    }
   ],
   "source": [
    "info = (\"Maria\", \"Smith\", 31, \"123 Main Street\", \"000-00-0000\")\n",
    "print(info)\n",
    "print(len(info))\n",
    "print(info[0])\n",
    "print(info[4])\n",
    "print(info[-1])\n",
    "print(info[-4])\n",
    "print(info[-3:])"
   ]
  },
  {
   "cell_type": "code",
   "execution_count": 25,
   "id": "260c5dab",
   "metadata": {},
   "outputs": [
    {
     "name": "stdout",
     "output_type": "stream",
     "text": [
      "('Jonathan', 'Vance')\n",
      "('Merrillville', 'IN', '46410')\n"
     ]
    }
   ],
   "source": [
    "info = (\"Jonathan\", \"Vance\", \"679 Birchpond Street\",\"Merrillville\", \"IN\", \"46410\")\n",
    "name = info[0:2]\n",
    "name1 = info[3:6]\n",
    "print(name)\n",
    "print(name1)"
   ]
  },
  {
   "cell_type": "code",
   "execution_count": 29,
   "id": "fbb864b6",
   "metadata": {},
   "outputs": [
    {
     "name": "stdout",
     "output_type": "stream",
     "text": [
      "The name is:\n",
      "('Jonathan', 'Vance')\n",
      "The address is:\n",
      "('679 Birchpond Street', 'Merrillville', 'IN', '46410')\n"
     ]
    }
   ],
   "source": [
    "info = (\"Jonathan\", \"Vance\", \"679 Birchpond Street\", \"Merrillville\", \"IN\", \"46410\")\n",
    "name = info[0:2]\n",
    "print(\"The name is:\") \n",
    "print(name)\n",
    "\n",
    "address = info[2:] \n",
    "print(\"The address is:\") \n",
    "print(address)"
   ]
  },
  {
   "cell_type": "code",
   "execution_count": 31,
   "id": "bf38e09e",
   "metadata": {},
   "outputs": [
    {
     "name": "stdout",
     "output_type": "stream",
     "text": [
      "('Haythem', 'Mike')\n",
      "('Jesse', 'Layla')\n",
      "('Haythem', 'Mike', 'Jesse', 'Layla')\n",
      "('Haythem', 'Mike', 'Jesse', 'Layla')\n"
     ]
    }
   ],
   "source": [
    "tuple_of_names_1= (\"Haythem\",\"Mike\",) \n",
    "print(tuple_of_names_1)\n",
    "tuple_of_names_2= (\"Jesse\",\"Layla\",) \n",
    "print(tuple_of_names_2)\n",
    "print(tuple_of_names_1 + tuple_of_names_2)\n",
    "names = tuple_of_names_1 + tuple_of_names_2\n",
    "print(names)"
   ]
  },
  {
   "cell_type": "code",
   "execution_count": 32,
   "id": "ea172046",
   "metadata": {},
   "outputs": [
    {
     "name": "stdout",
     "output_type": "stream",
     "text": [
      "('Layla', 'Bernstein', '123 Main Street, Leola, AR, 19987', '474-887-9483', 'LBernstein@email.com')\n"
     ]
    }
   ],
   "source": [
    "name=(\"Layla\",\"Bernstein\",)\n",
    "address=(\"123 Main Street, Leola, AR, 19987\",) \n",
    "contact=(\"474-887-9483\",\"LBernstein@email.com\",)\n",
    "customer_info = name + address + contact\n",
    "print(customer_info)"
   ]
  },
  {
   "cell_type": "code",
   "execution_count": 33,
   "id": "b6537e5a",
   "metadata": {},
   "outputs": [
    {
     "name": "stdout",
     "output_type": "stream",
     "text": [
      "Yes, the search term is in tuple of names\n"
     ]
    }
   ],
   "source": [
    "#create a tuple\n",
    "tuple_of_names = (\"name\", \"Jennifer\",\"Mike\",\"Pete\",\"Alex\",\"Mike\")\n",
    "search_term = \"Mike\"\n",
    "if search_term in tuple_of_names:\n",
    "    print(\"Yes, the search term is in tuple of names\")\n",
    "else:\n",
    "    print(\"Try another name\")"
   ]
  },
  {
   "cell_type": "code",
   "execution_count": 35,
   "id": "ac535cd3",
   "metadata": {},
   "outputs": [
    {
     "name": "stdout",
     "output_type": "stream",
     "text": [
      "Enter the name: Ashwin\n",
      "Try another name\n"
     ]
    }
   ],
   "source": [
    "#create a tuple\n",
    "tuple_of_names = (\"name\", \"Jennifer\",\"Mike\",\"Pete\",\"Alex\",\"Mike\")\n",
    "search_term = input(\"Enter the name: \")\n",
    "if search_term in tuple_of_names:\n",
    "    print(\"Yes, the search term is in tuple of names\")\n",
    "else:\n",
    "    print(\"Try another name\")"
   ]
  },
  {
   "cell_type": "code",
   "execution_count": 41,
   "id": "2ca5ce81",
   "metadata": {},
   "outputs": [
    {
     "name": "stdout",
     "output_type": "stream",
     "text": [
      "Enter the name: Pete\n",
      "We found Pete\n",
      "We found Pete\n"
     ]
    }
   ],
   "source": [
    "#create a tuple\n",
    "tuple_of_names = (\"name\", \"Jennifer\",\"Mike\",\"Pete\",\"Alex\",\"Mike\", \"Pete\")\n",
    "search_term = input(\"Enter the name: \")\n",
    "for name in tuple_of_names:\n",
    "    if name == search_term:\n",
    "        print(\"We found \" +name)"
   ]
  },
  {
   "cell_type": "code",
   "execution_count": null,
   "id": "0ab7eed2",
   "metadata": {},
   "outputs": [],
   "source": []
  }
 ],
 "metadata": {
  "kernelspec": {
   "display_name": "Python 3 (ipykernel)",
   "language": "python",
   "name": "python3"
  },
  "language_info": {
   "codemirror_mode": {
    "name": "ipython",
    "version": 3
   },
   "file_extension": ".py",
   "mimetype": "text/x-python",
   "name": "python",
   "nbconvert_exporter": "python",
   "pygments_lexer": "ipython3",
   "version": "3.9.13"
  }
 },
 "nbformat": 4,
 "nbformat_minor": 5
}
