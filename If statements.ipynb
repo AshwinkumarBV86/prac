{
 "cells": [
  {
   "cell_type": "code",
   "execution_count": 1,
   "id": "2a97c2d0",
   "metadata": {},
   "outputs": [],
   "source": [
    "password = \"admIn\"\n",
    "condition = (password == \"admin\")"
   ]
  },
  {
   "cell_type": "code",
   "execution_count": 2,
   "id": "3afdf3c3",
   "metadata": {},
   "outputs": [
    {
     "name": "stdout",
     "output_type": "stream",
     "text": [
      "password incorrect\n"
     ]
    }
   ],
   "source": [
    "#if condition is equal to True, which means the password is correct\n",
    "if condition:\n",
    "    print(\"password correct\")\n",
    "if condition == False:\n",
    "    print(\"password incorrect\")"
   ]
  },
  {
   "cell_type": "code",
   "execution_count": 5,
   "id": "7af207e5",
   "metadata": {},
   "outputs": [
    {
     "name": "stdout",
     "output_type": "stream",
     "text": [
      "The person is underage\n"
     ]
    }
   ],
   "source": [
    "age = 15\n",
    "condition = (age >=16)\n",
    "if condition:\n",
    "    print(\"The person is above the driving age\")\n",
    "else:\n",
    "    print(\"The person is underage\")"
   ]
  },
  {
   "cell_type": "code",
   "execution_count": 6,
   "id": "42ec334c",
   "metadata": {},
   "outputs": [
    {
     "name": "stdout",
     "output_type": "stream",
     "text": [
      "please try again\n"
     ]
    }
   ],
   "source": [
    "correct_username = \"admin\"\n",
    "guessed_username = \"Admin\"\n",
    "\n",
    "if correct_username == guessed_username:\n",
    "    print(\"You have entered the correct username.\")\n",
    "else:\n",
    "    print(\"please try again\")"
   ]
  },
  {
   "cell_type": "code",
   "execution_count": 6,
   "id": "f3ab5842",
   "metadata": {},
   "outputs": [
    {
     "name": "stdout",
     "output_type": "stream",
     "text": [
      "Enter the correct user name: admin\n",
      "please try again\n"
     ]
    }
   ],
   "source": [
    "def password(correct, guessed):\n",
    "    if correct == guessed:\n",
    "        print(\"You have entered the correct username.\")\n",
    "    else:\n",
    "        print(\"please try again\")\n",
    "correct_username = \"Admin\"\n",
    "guessed_username = input(\"Enter the correct user name: \")\n",
    "p = password(correct_username, guessed_username )"
   ]
  },
  {
   "cell_type": "code",
   "execution_count": 15,
   "id": "55ab5e8e",
   "metadata": {},
   "outputs": [
    {
     "name": "stdout",
     "output_type": "stream",
     "text": [
      "Please enter the color which might be in the list (red, green, orange)GREEN\n",
      "The color is not in the list\n"
     ]
    }
   ],
   "source": [
    "color = input(\"Please enter the color which might be in the list (red, green, orange)\")\n",
    "if color.lower() == \"red\":\n",
    "    print(\"The color is red\")\n",
    "elif color.lower() == \"green\":\n",
    "    print(\"The color is green\")\n",
    "elif color.lower() == \"orange\":\n",
    "    print(\"The color is orange\")\n",
    "else:\n",
    "    print(\"The color is not in the list\")"
   ]
  },
  {
   "cell_type": "code",
   "execution_count": 17,
   "id": "812f6d49",
   "metadata": {},
   "outputs": [
    {
     "name": "stdout",
     "output_type": "stream",
     "text": [
      "Please enter the color which might be in the list (red, green, orange)ORANGE\n",
      "The color is orange\n"
     ]
    }
   ],
   "source": [
    "color = input(\"Please enter the color which might be in the list (red, green, orange)\")\n",
    "if color.capitalize() == \"Red\":\n",
    "    print(\"The color is red\")\n",
    "elif color.capitalize() == \"Green\":\n",
    "    print(\"The color is green\")\n",
    "elif color.capitalize() == \"Orange\":\n",
    "    print(\"The color is orange\")\n",
    "else:\n",
    "    print(\"The color is not in the list\")"
   ]
  },
  {
   "cell_type": "code",
   "execution_count": 24,
   "id": "87a15891",
   "metadata": {},
   "outputs": [
    {
     "name": "stdout",
     "output_type": "stream",
     "text": [
      "Please enter your credit score: 900\n",
      "Please enter a valid credit score\n"
     ]
    }
   ],
   "source": [
    "credit_score = int(input(\"Please enter your credit score: \"))\n",
    "if credit_score <= 450:\n",
    "    print(\"Your credit score is very low\")\n",
    "elif credit_score >450 and credit_score <= 650:\n",
    "    print(\"This credit score is low\")\n",
    "elif credit_score > 650 and credit_score <= 800:\n",
    "    print(\"This credit score is good\")\n",
    "elif credit_score > 800 and credit_score < 850:\n",
    "    print(\"This credit score is excellent\")\n",
    "else:\n",
    "    print(\"Please enter a valid credit score\")"
   ]
  },
  {
   "cell_type": "code",
   "execution_count": 1,
   "id": "46e2efd0",
   "metadata": {},
   "outputs": [
    {
     "name": "stdout",
     "output_type": "stream",
     "text": [
      "Please enter your credit score: 458\n",
      "This credit score is low\n"
     ]
    }
   ],
   "source": [
    "\n",
    "credit_score = int(input(\"Please enter your credit score: \"))\n",
    "if credit_score <= 450:\n",
    "    print(\"Your credit score is very low\")\n",
    "elif credit_score >450 and credit_score <= 650:\n",
    "    print(\"This credit score is low\")\n",
    "elif credit_score > 650 and credit_score <= 800:\n",
    "    print(\"This credit score is good\")\n",
    "elif credit_score > 800 and credit_score < 850:\n",
    "    print(\"This credit score is excellent\")\n",
    "else:\n",
    "    print(\"Please enter a valid credit score\")"
   ]
  },
  {
   "cell_type": "code",
   "execution_count": 26,
   "id": "58ccd223",
   "metadata": {},
   "outputs": [
    {
     "name": "stdout",
     "output_type": "stream",
     "text": [
      "Please enter a single letterL\n",
      "The user entered an uppercase letter\n"
     ]
    }
   ],
   "source": [
    "letter = input(\"Please enter a single letter\")\n",
    "if letter.isupper():\n",
    "    print(\"The user entered an uppercase letter\")\n",
    "else:\n",
    "    print(\"The user entered a lowercase letter\")"
   ]
  },
  {
   "cell_type": "code",
   "execution_count": 28,
   "id": "86bce2cc",
   "metadata": {},
   "outputs": [
    {
     "name": "stdout",
     "output_type": "stream",
     "text": [
      "Enter the length of the room: 9.4\n",
      "Enter the width of the room: 4.5\n",
      "The area of the room is  42.300000000000004\n"
     ]
    }
   ],
   "source": [
    "#computing the area of a room\n",
    "length = float(input(\"Enter the length of the room: \"))\n",
    "width = float(input(\"Enter the width of the room: \"))\n",
    "\n",
    "area = length * width\n",
    "\n",
    "print(\"The area of the room is \", +area)"
   ]
  },
  {
   "cell_type": "code",
   "execution_count": 29,
   "id": "95bc08a7",
   "metadata": {},
   "outputs": [
    {
     "name": "stdout",
     "output_type": "stream",
     "text": [
      "Enter the length of the field in feet: 8884\n",
      "Enter the width of the field in feet: 8484\n",
      "The area of the field is :  1730.2997245179063\n"
     ]
    }
   ],
   "source": [
    "#area of a field\n",
    "length = float(input(\"Enter the length of the field in feet: \"))\n",
    "width = float(input(\"Enter the width of the field in feet: \"))\n",
    "sqft_per_acre = 43560\n",
    "acres = (length * width)/sqft_per_acre\n",
    "print(\"The area of the field is : \", +acres)\n"
   ]
  },
  {
   "cell_type": "code",
   "execution_count": 32,
   "id": "b74134e2",
   "metadata": {},
   "outputs": [
    {
     "name": "stdout",
     "output_type": "stream",
     "text": [
      "How many containers 1 litre or less do you have: 1\n",
      "How many containers more than 1 litre do you have: 1\n",
      "Your total refund will be $0.35.\n"
     ]
    }
   ],
   "source": [
    "#computing the refund amount for a collection of bottles\n",
    "\n",
    "less_deposit = 0.10\n",
    "more_deposit = 0.25\n",
    "\n",
    "less = int(input(\"How many containers 1 litre or less do you have: \"))\n",
    "more = int(input(\"How many containers more than 1 litre do you have: \"))\n",
    "\n",
    "total_refund = less_deposit * less + more_deposit * more\n",
    "print(\"Your total refund will be $%.2f.\" %total_refund)"
   ]
  },
  {
   "cell_type": "code",
   "execution_count": 40,
   "id": "239d9001",
   "metadata": {},
   "outputs": [
    {
     "name": "stdout",
     "output_type": "stream",
     "text": [
      "Enter the billing amount: 100\n",
      "123.0\n",
      "The tax is 5.00 and the tip is 18.00 , making the total 123.00\n"
     ]
    }
   ],
   "source": [
    "#compute the tax and tip for a restaurant meal\n",
    "\n",
    "\n",
    "\n",
    "tax_rate = .05\n",
    "tip_rate = .18\n",
    "\n",
    "cost = float(input(\"Enter the billing amount: \"))\n",
    "\n",
    "tax_amount = cost * tax_rate\n",
    "tip_amount = cost * tip_rate\n",
    "\n",
    "Final_amount = cost + tax_amount + tip_amount\n",
    "print(Final_amount)\n",
    "print(\"The tax is %.2f and the tip is %.2f , making the total %.2f\" %(tax_amount, tip_amount, Final_amount))\n",
    "\n"
   ]
  },
  {
   "cell_type": "code",
   "execution_count": 23,
   "id": "ed9532e6",
   "metadata": {},
   "outputs": [
    {
     "name": "stdout",
     "output_type": "stream",
     "text": [
      "Please enter a color [red, green, yellow, blue, pink]: orange\n",
      "The color is neither green or red or yellow or pink or blue\n"
     ]
    }
   ],
   "source": [
    "color = input(\"Please enter a color [red, green, yellow, blue, pink]: \")\n",
    "if color == 'red':\n",
    "    print(\"The color is red\")\n",
    "else:\n",
    "    if color == 'green':\n",
    "        print(\"The color is green\")\n",
    "    else:\n",
    "        if color == 'yellow':\n",
    "            print(\"The color is yellow\")\n",
    "        else:\n",
    "            if color == 'blue':\n",
    "                print(\"The color is blue\")\n",
    "            else:\n",
    "                if color == 'pink':\n",
    "                    print(\"The color is pink\")\n",
    "                else:\n",
    "                    print(\"The color is neither green or red or yellow or pink or blue\")"
   ]
  },
  {
   "cell_type": "code",
   "execution_count": 28,
   "id": "695699eb",
   "metadata": {},
   "outputs": [
    {
     "name": "stdout",
     "output_type": "stream",
     "text": [
      "Please enter a color [red, green, yellow, blue, pink]: red\n",
      "The color is red\n"
     ]
    }
   ],
   "source": [
    "color = input(\"Please enter a color [red, green, yellow, blue, pink]: \")\n",
    "if color == 'red':\n",
    "    print(\"The color is red\")\n",
    "if color == 'green':\n",
    "    print(\"The color is green\")\n",
    "if color == 'yellow':\n",
    "    print(\"The color is yellow\")\n",
    "if color == 'blue':\n",
    "    print(\"The color is blue\")\n",
    "if color == 'pink':\n",
    "    print(\"The color is pink\")\n",
    "#else:\n",
    "   # print(\"The color is neither green or red or yellow or pink or blue\")"
   ]
  },
  {
   "cell_type": "code",
   "execution_count": 34,
   "id": "7639a2af",
   "metadata": {},
   "outputs": [
    {
     "name": "stdout",
     "output_type": "stream",
     "text": [
      "Please enter a color [red, green, yellow, blue, pink]: red\n",
      "The color is red\n"
     ]
    }
   ],
   "source": [
    "color = input(\"Please enter a color [red, green, yellow, blue, pink]: \")\n",
    "if color == 'red':\n",
    "    print(\"The color is red\")\n",
    "elif color == 'green':\n",
    "    print(\"The color is green\")\n",
    "elif color == 'yellow':\n",
    "    print(\"The color is yellow\")\n",
    "elif color == 'blue':\n",
    "    print(\"The color is blue\")\n",
    "elif color == 'pink':\n",
    "    print(\"The color is pink\")\n",
    "else:\n",
    "    print(\"The color is neither green or red or yellow or pink or blue\")"
   ]
  },
  {
   "cell_type": "code",
   "execution_count": 36,
   "id": "24b0ba7f",
   "metadata": {},
   "outputs": [
    {
     "name": "stdout",
     "output_type": "stream",
     "text": [
      "The person is allowed to drive\n"
     ]
    }
   ],
   "source": [
    "#embedding conditions\n",
    "age = 21\n",
    "if age >= 16:\n",
    "    print(\"The person is allowed to drive\")\n",
    "else:\n",
    "    print(\"This person is not allowed to drive\")\n",
    "    "
   ]
  },
  {
   "cell_type": "code",
   "execution_count": 37,
   "id": "39820743",
   "metadata": {},
   "outputs": [
    {
     "name": "stdout",
     "output_type": "stream",
     "text": [
      "Please enter a single letter: j\n",
      "The user entered a lowercase letter\n"
     ]
    }
   ],
   "source": [
    "letter = input(\"Please enter a single letter: \")\n",
    "if letter.isupper():\n",
    "    print(\"The user entered an uppercase letter\")\n",
    "else:\n",
    "    print(\"The user entered a lowercase letter\")"
   ]
  },
  {
   "cell_type": "code",
   "execution_count": 40,
   "id": "14efeb0e",
   "metadata": {},
   "outputs": [
    {
     "name": "stdout",
     "output_type": "stream",
     "text": [
      "Please enter a word: GANESH\n",
      "The user has entered all the letters not in lowercase\n"
     ]
    }
   ],
   "source": [
    "letter = input(\"Please enter a word: \")\n",
    "if letter.islower():\n",
    "    print(\"The user has entered all the letters in lowercase.\")\n",
    "else:\n",
    "    print(\"The user has entered all the letters not in lowercase\")"
   ]
  },
  {
   "cell_type": "code",
   "execution_count": 53,
   "id": "424a4e18",
   "metadata": {},
   "outputs": [
    {
     "name": "stdout",
     "output_type": "stream",
     "text": [
      "Enter an integer: 1\n",
      "Its odd number\n"
     ]
    }
   ],
   "source": [
    "#even or odd\n",
    "\n",
    "#read the integer from the user\n",
    "num = int(input(\"Enter an integer: \"))\n",
    "\n",
    "#determine whether it is even or odd by using the modulus operator\n",
    "if num%2 == 1:\n",
    "    print(\"Its odd number\")\n",
    "else:\n",
    "    print(\"its even number\")"
   ]
  },
  {
   "cell_type": "code",
   "execution_count": 59,
   "id": "081c366f",
   "metadata": {},
   "outputs": [
    {
     "name": "stdout",
     "output_type": "stream",
     "text": [
      "Enter a letter of the alphabet: Y\n",
      "Sometimes its a vowel and sometimes its a consonant\n"
     ]
    }
   ],
   "source": [
    "#determine a letter from the user\n",
    "#read a letter from the user\n",
    "\n",
    "letter = input(\"Enter a letter of the alphabet: \")\n",
    "\n",
    "#classify the letter and report the result\n",
    "if letter.lower() == 'a'or letter.lower() == 'e' or letter.lower() == 'i' or letter.lower() == 'o' or letter.lower() == 'u':\n",
    "    print(\"Its a vowel\")\n",
    "elif letter.lower() == 'y':\n",
    "    print(\"Sometimes its a vowel and sometimes its a consonant\")\n",
    "else:\n",
    "    print(\"its a consonant\")"
   ]
  },
  {
   "cell_type": "code",
   "execution_count": 63,
   "id": "d88b70c5",
   "metadata": {},
   "outputs": [
    {
     "name": "stdout",
     "output_type": "stream",
     "text": [
      "Enter the number of sides: 5\n",
      "That's a  pentagon\n"
     ]
    }
   ],
   "source": [
    "#REPORT the name of shape from its number of sides\n",
    "#read the number of sides from the user\n",
    "\n",
    "nsides = int(input(\"Enter the number of sides: \"))\n",
    "name = \"\"\n",
    "if nsides == 3:\n",
    "    name = \"triangle\"\n",
    "elif nsides == 4:\n",
    "    name = \"quadrilateral\"\n",
    "elif nsides == 5:\n",
    "    name = \"pentagon\"\n",
    "elif nsides == 6:\n",
    "    name = \"hexagon\"\n",
    "elif nsides == 7 :\n",
    "    name = \"heptagon\"\n",
    "elif nsides == 8:\n",
    "    name = \"octagon\"\n",
    "elif nsides == 9:\n",
    "    name = \"nonagon\"\n",
    "elif nsides == 10:\n",
    "    name = \"decagon\"\n",
    "    \n",
    "#display an error message or the name of the polygon\n",
    "if name == \"\":\n",
    "    print(\"That number of sides is not supported by the program\")\n",
    "else:\n",
    "    print(\"That's a \", name)\n"
   ]
  },
  {
   "cell_type": "code",
   "execution_count": 73,
   "id": "77d2f857",
   "metadata": {},
   "outputs": [
    {
     "name": "stdout",
     "output_type": "stream",
     "text": [
      "Enter the month: FEBruary\n",
      "FEBruary\n",
      "february  has 28 days\n"
     ]
    }
   ],
   "source": [
    "#display the number of days in a month\n",
    "\n",
    "month = input(\"Enter the month: \")\n",
    "print(month)\n",
    "\n",
    "if month.lower() == 'january' or month.lower() == 'march' or month.lower() == 'may' or \\\n",
    "month.lower() == 'july' or month.lower() == 'august' or month.lower() == 'october' or month.lower() == 'december':\n",
    "    print(month, \" has 31 days\")\n",
    "elif month.lower() =='april' or month.lower() == 'june' or month.lower() == 'september' or month.lower() == 'november':\n",
    "    print(month, \" has 30 days\")\n",
    "elif month.lower() == 'february':\n",
    "    print(month.lower(), \" has 28 days\")"
   ]
  },
  {
   "cell_type": "code",
   "execution_count": 82,
   "id": "a01998dd",
   "metadata": {},
   "outputs": [
    {
     "name": "stdout",
     "output_type": "stream",
     "text": [
      "Enter the length of the side 1: 3\n",
      "Enter the length of the side 2: 4\n",
      "Enter the length of the side 3: 5\n",
      "That's a  Scalene\n"
     ]
    }
   ],
   "source": [
    "#determine the name of a triangle from the lengths of its sides\n",
    "\n",
    "#read the side lengths from the user\n",
    "side1 = float(input(\"Enter the length of the side 1: \"))\n",
    "side2 = float(input(\"Enter the length of the side 2: \"))\n",
    "side3 = float(input(\"Enter the length of the side 3: \"))\n",
    "name = \"\"\n",
    "if side1 == side2 and side2 == side3:\n",
    "    name = 'Equilateral'\n",
    "elif side1 == side2 or side2 == side3 or side3 ==side1:\n",
    "    name = 'Isoceles'\n",
    "else:\n",
    "    name = \"Scalene\"\n",
    "#display triangles name\n",
    "print(\"That's a \", name)"
   ]
  },
  {
   "cell_type": "code",
   "execution_count": 100,
   "id": "bfea4f1b",
   "metadata": {},
   "outputs": [
    {
     "name": "stdout",
     "output_type": "stream",
     "text": [
      "Enter the two character note name, such as C4: D4\n",
      "D 4\n",
      "293.66\n",
      "The frequency is  293.66\n"
     ]
    }
   ],
   "source": [
    "#convert the name of a note to its frequency\n",
    "\n",
    "C4_FREQ = 261.63\n",
    "D4_FREQ = 293.66\n",
    "E4_FREQ = 329.63\n",
    "F4_FREQ = 349.23\n",
    "G4_FREQ = 392.00\n",
    "A4_FREQ = 440.00\n",
    "B4_FREQ = 493.88\n",
    "\n",
    "#READ THE NOTE NAME FROM THE USER\n",
    "name = input(\"Enter the two character note name, such as C4: \")\n",
    "note = name[0]\n",
    "octave = int(name[1])\n",
    "print(note, octave)\n",
    "\n",
    "#get the frequency of the note, assuming it is in the fourth octave\n",
    "if note == \"C\":\n",
    "    freq = C4_FREQ\n",
    "    print(freq)\n",
    "elif note == \"D\":\n",
    "    freq = D4_FREQ\n",
    "    print(freq)\n",
    "elif note ==\"E\":\n",
    "    freq = E4_FREQ\n",
    "    print(freq)\n",
    "elif note == \"F\":\n",
    "    freq = F4_FREQ\n",
    "    print(freq)\n",
    "elif note ==\"G\":\n",
    "    freq = G4_FREQ\n",
    "    print(freq)\n",
    "elif note == \"A\":\n",
    "    freq = A4_FREQ\n",
    "    print(freq)\n",
    "elif note == \"B\":\n",
    "    freq = B4_FREQ\n",
    "    print(freq)\n",
    "    \n",
    "#NOW ADJUST the frequeny to bring it into the correct octave\n",
    "freq = freq/2 ** (4-octave)\n",
    "print(\"The frequency is \",freq)\n"
   ]
  },
  {
   "cell_type": "code",
   "execution_count": 125,
   "id": "018329e4",
   "metadata": {},
   "outputs": [
    {
     "name": "stdout",
     "output_type": "stream",
     "text": [
      "Enter the name of the month: March\n",
      "Enter the day number: 24\n",
      "March 24\n",
      "Spring\n"
     ]
    }
   ],
   "source": [
    "#Determine and display the season associated with a date\n",
    "#read the date from the user\n",
    "\n",
    "month = input(\"Enter the name of the month: \")\n",
    "day = int(input(\"Enter the day number: \"))\n",
    "\n",
    "print(month, day)\n",
    "#determine the season\n",
    "if month.lower() == \"january\" or month.lower() == \"february\":\n",
    "    season = \"Winter\"\n",
    "elif month.lower() == \"march\":\n",
    "    if day < 20:\n",
    "        season = \"Winter\"\n",
    "    else:\n",
    "        season = \"Spring\"\n",
    "elif month.lower() == \"april\" or month.lower() == \"may\":\n",
    "    season = \"Spring\"\n",
    "elif month.lower() == \"june\":\n",
    "    if day < 21:\n",
    "        season = \"Spring\"\n",
    "    else:\n",
    "        season = \"Summer\"\n",
    "elif month.lower() == \"july\" or month.lower() == \"august\":\n",
    "    season = \"Summer\"\n",
    "elif month.lower() == \"september\":\n",
    "    if day < 22:\n",
    "        season = \"Summer\"\n",
    "    else:\n",
    "        season = \"Fall\"\n",
    "elif month.lower() == \"october\" or month.lower() == \"november\":\n",
    "    season = \"Fall\"\n",
    "elif month.lower() == \"december\":\n",
    "    if day < 21:\n",
    "        season = \"Fall\"\n",
    "    else:\n",
    "        season = \"Winter\"\n",
    "print(season)"
   ]
  },
  {
   "cell_type": "code",
   "execution_count": 31,
   "id": "548b4db4",
   "metadata": {},
   "outputs": [
    {
     "name": "stdout",
     "output_type": "stream",
     "text": [
      "Enter a year: 2017\n",
      "2017  is the year of Rooster. \n"
     ]
    }
   ],
   "source": [
    "#determine the animal associated with a year according to chinese zodiac\n",
    "#read a year from the user\n",
    "year = int(input(\"Enter a year: \"))\n",
    " \n",
    "#determine the animal associated with that year\n",
    "if year % 12 == 8:\n",
    "    animal = \"Dragon\"\n",
    "elif year % 12 == 9:\n",
    "    animal = \"Snake\"\n",
    "elif year % 12 == 10 :\n",
    "    animal = \"Horse\"\n",
    "    \n",
    "elif year % 12 == 11 :\n",
    "    animal = \"Sheep\"\n",
    "elif year % 12 == 0 :\n",
    "    animal = \"Monkey\"\n",
    "elif year % 12 == 1 :\n",
    "    animal = \"Rooster\"\n",
    "elif year % 12 == 2 :\n",
    "    animal = \"Dog\"\n",
    "elif year % 12 == 3 :\n",
    "    animal = \"Pig\"\n",
    "elif year % 12 == 4 :\n",
    "    animal = \"Rat\"\n",
    "elif year % 12 == 5 :\n",
    "    animal = \"Ox\"\n",
    "elif year % 12 == 6 :\n",
    "    animal = \"Tiger\"\n",
    "elif year % 12 == 7 :\n",
    "    animal = \"Hare\"\n",
    "\n",
    "print( \"%d  is the year of %s. \" %(year, animal))"
   ]
  },
  {
   "cell_type": "code",
   "execution_count": 35,
   "id": "535926e5",
   "metadata": {},
   "outputs": [
    {
     "name": "stdout",
     "output_type": "stream",
     "text": [
      "Enter a letter grade: F\n",
      "F\n",
      "That wasn't a valid number of grade points.\n"
     ]
    }
   ],
   "source": [
    "#convert from a letter grade to a number of grade points\n",
    "A = 4.0\n",
    "A_MINUS = 3.7\n",
    "B_PLUS = 3.3\n",
    "B = 3.0\n",
    "B_MINUS = 2.7\n",
    "C_PLUS = 2.3\n",
    "C = 2.0\n",
    "C_MINUS = 1.7\n",
    "D_PLUS = 1.3\n",
    "D = 1.0\n",
    "F = 0\n",
    "INVALID = -1\n",
    "\n",
    "\n",
    "\n",
    "#READ THE LETTER GRADE FROM THE USER\n",
    "letter = input(\"Enter a letter grade: \")\n",
    "letter = letter.upper()\n",
    "print(letter)\n",
    "\n",
    "#convert from a letter grade to a number of grade points using -1 grade points as a sentinel\n",
    "\n",
    "if letter == \"A+\" or letter == \"A\":\n",
    "    gp = \"A\"\n",
    "elif letter == \"A-\":\n",
    "    gp = \"A_MINUS\"\n",
    "elif letter == \"B+\":\n",
    "    gp = \"B_PLUS\"\n",
    "elif letter == \"B-\":\n",
    "    gp = \"B_MINUS\"\n",
    "elif letter == \"C+\":\n",
    "    gp = \"C_PLUS\"\n",
    "elif letter == \"C\":\n",
    "    gp = \"C\"\n",
    "elif letter == \"C-\":\n",
    "    gp = \"C_MINUS\"\n",
    "elif letter == \"D+\":\n",
    "    gp = \"D_PLUS\"\n",
    "elif letter == \"D\":\n",
    "    gp = \"D\"\n",
    "elif letter == \"F\":\n",
    "    gp = INVALID\n",
    "#DISPLAY THE OUTPUT\n",
    "if gp == INVALID:\n",
    "    print(\"That wasn't a valid number of grade points.\")\n",
    "else:\n",
    "    print(\"That's a \", gp, \" grade points\")"
   ]
  },
  {
   "cell_type": "code",
   "execution_count": 45,
   "id": "3bc5f42c",
   "metadata": {},
   "outputs": [
    {
     "name": "stdout",
     "output_type": "stream",
     "text": [
      "Please enter the rating: 0.4\n",
      "Acceptable\n",
      "Based on that rating, the performance is Acceptable. \n",
      "960.0\n"
     ]
    }
   ],
   "source": [
    "#report whether an employees performance is unacceptable, acceptable or meritorious based on the rating entered by the user\n",
    "\n",
    "raise_factor = 2400.00\n",
    "unacceptable = 0\n",
    "acceptable = 0.4\n",
    "meritorious = 0.6\n",
    "\n",
    "#read the rating from the user\n",
    "rating = float(input(\"Please enter the rating: \"))\n",
    "\n",
    "#classify the performance\n",
    "if rating == unacceptable:\n",
    "    performance = \"Unacceptable\"\n",
    "elif rating == acceptable:\n",
    "    performance = \"Acceptable\"\n",
    "elif rating >= meritorious:\n",
    "    performance = \"meritorious\"\n",
    "else:\n",
    "    performance == \"\"\n",
    "print(performance)\n",
    "\n",
    "#report the result\n",
    "if performance == \"\":\n",
    "    print(\"That wasn't a valid rating\")\n",
    "else:\n",
    "    print(\"Based on that rating, the performance is %s. \"% performance)\n",
    "    print(rating * raise_factor)"
   ]
  },
  {
   "cell_type": "code",
   "execution_count": 47,
   "id": "3a9ccca3",
   "metadata": {},
   "outputs": [
    {
     "ename": "KeyboardInterrupt",
     "evalue": "Interrupted by user",
     "output_type": "error",
     "traceback": [
      "\u001b[0;31m---------------------------------------------------------------------------\u001b[0m",
      "\u001b[0;31mKeyboardInterrupt\u001b[0m                         Traceback (most recent call last)",
      "\u001b[0;32m/var/folders/q6/g7092d4n0qd1jz1vdnn2st200000gn/T/ipykernel_80940/1502439849.py\u001b[0m in \u001b[0;36m<module>\u001b[0;34m\u001b[0m\n\u001b[1;32m      1\u001b[0m \u001b[0;31m#determine whether or not a year is a leap year\u001b[0m\u001b[0;34m\u001b[0m\u001b[0;34m\u001b[0m\u001b[0m\n\u001b[1;32m      2\u001b[0m \u001b[0;31m#read the year from the user\u001b[0m\u001b[0;34m\u001b[0m\u001b[0;34m\u001b[0m\u001b[0m\n\u001b[0;32m----> 3\u001b[0;31m \u001b[0myear\u001b[0m \u001b[0;34m=\u001b[0m \u001b[0mint\u001b[0m\u001b[0;34m(\u001b[0m\u001b[0minput\u001b[0m\u001b[0;34m(\u001b[0m\u001b[0;34m\"Enter a year: \"\u001b[0m\u001b[0;34m)\u001b[0m\u001b[0;34m)\u001b[0m\u001b[0;34m\u001b[0m\u001b[0;34m\u001b[0m\u001b[0m\n\u001b[0m\u001b[1;32m      4\u001b[0m \u001b[0;34m\u001b[0m\u001b[0m\n\u001b[1;32m      5\u001b[0m \u001b[0;31m#Determine if it is a leap year\u001b[0m\u001b[0;34m\u001b[0m\u001b[0;34m\u001b[0m\u001b[0m\n",
      "\u001b[0;32m~/opt/anaconda3/lib/python3.9/site-packages/ipykernel/kernelbase.py\u001b[0m in \u001b[0;36mraw_input\u001b[0;34m(self, prompt)\u001b[0m\n\u001b[1;32m   1175\u001b[0m                 \u001b[0;34m\"raw_input was called, but this frontend does not support input requests.\"\u001b[0m\u001b[0;34m\u001b[0m\u001b[0;34m\u001b[0m\u001b[0m\n\u001b[1;32m   1176\u001b[0m             )\n\u001b[0;32m-> 1177\u001b[0;31m         return self._input_request(\n\u001b[0m\u001b[1;32m   1178\u001b[0m             \u001b[0mstr\u001b[0m\u001b[0;34m(\u001b[0m\u001b[0mprompt\u001b[0m\u001b[0;34m)\u001b[0m\u001b[0;34m,\u001b[0m\u001b[0;34m\u001b[0m\u001b[0;34m\u001b[0m\u001b[0m\n\u001b[1;32m   1179\u001b[0m             \u001b[0mself\u001b[0m\u001b[0;34m.\u001b[0m\u001b[0m_parent_ident\u001b[0m\u001b[0;34m[\u001b[0m\u001b[0;34m\"shell\"\u001b[0m\u001b[0;34m]\u001b[0m\u001b[0;34m,\u001b[0m\u001b[0;34m\u001b[0m\u001b[0;34m\u001b[0m\u001b[0m\n",
      "\u001b[0;32m~/opt/anaconda3/lib/python3.9/site-packages/ipykernel/kernelbase.py\u001b[0m in \u001b[0;36m_input_request\u001b[0;34m(self, prompt, ident, parent, password)\u001b[0m\n\u001b[1;32m   1217\u001b[0m             \u001b[0;32mexcept\u001b[0m \u001b[0mKeyboardInterrupt\u001b[0m\u001b[0;34m:\u001b[0m\u001b[0;34m\u001b[0m\u001b[0;34m\u001b[0m\u001b[0m\n\u001b[1;32m   1218\u001b[0m                 \u001b[0;31m# re-raise KeyboardInterrupt, to truncate traceback\u001b[0m\u001b[0;34m\u001b[0m\u001b[0;34m\u001b[0m\u001b[0m\n\u001b[0;32m-> 1219\u001b[0;31m                 \u001b[0;32mraise\u001b[0m \u001b[0mKeyboardInterrupt\u001b[0m\u001b[0;34m(\u001b[0m\u001b[0;34m\"Interrupted by user\"\u001b[0m\u001b[0;34m)\u001b[0m \u001b[0;32mfrom\u001b[0m \u001b[0;32mNone\u001b[0m\u001b[0;34m\u001b[0m\u001b[0;34m\u001b[0m\u001b[0m\n\u001b[0m\u001b[1;32m   1220\u001b[0m             \u001b[0;32mexcept\u001b[0m \u001b[0mException\u001b[0m\u001b[0;34m:\u001b[0m\u001b[0;34m\u001b[0m\u001b[0;34m\u001b[0m\u001b[0m\n\u001b[1;32m   1221\u001b[0m                 \u001b[0mself\u001b[0m\u001b[0;34m.\u001b[0m\u001b[0mlog\u001b[0m\u001b[0;34m.\u001b[0m\u001b[0mwarning\u001b[0m\u001b[0;34m(\u001b[0m\u001b[0;34m\"Invalid Message:\"\u001b[0m\u001b[0;34m,\u001b[0m \u001b[0mexc_info\u001b[0m\u001b[0;34m=\u001b[0m\u001b[0;32mTrue\u001b[0m\u001b[0;34m)\u001b[0m\u001b[0;34m\u001b[0m\u001b[0;34m\u001b[0m\u001b[0m\n",
      "\u001b[0;31mKeyboardInterrupt\u001b[0m: Interrupted by user"
     ]
    }
   ],
   "source": [
    "#determine whether or not a year is a leap year\n",
    "#read the year from the user\n",
    "year = int(input(\"Enter a year: \"))\n",
    "\n",
    "#Determine if it is a leap year\n",
    "if year % 400 == 0:\n",
    "    isLeapYear = True\n",
    "elif year % 100 == 0:\n",
    "    isLeapYear = False\n",
    "elif year % 4 == 0:\n",
    "    isLeapYear = True\n",
    "else:\n",
    "    isLeapYear = False\n",
    "    \n",
    "if isLeapYear:\n",
    "    print(year, \" is a leap year\")\n",
    "else:\n",
    "    print(year, \" is not a leap year\")"
   ]
  },
  {
   "cell_type": "code",
   "execution_count": 88,
   "id": "f4842b91",
   "metadata": {
    "scrolled": true
   },
   "outputs": [
    {
     "name": "stdout",
     "output_type": "stream",
     "text": [
      "Enter the license plate:URU576\n",
      "The six digit plate is a valid old number: \n"
     ]
    }
   ],
   "source": [
    "#Determine whether or not a license plate is valid\n",
    "#3 LETTERS followed by 3 numbers\n",
    "#4 numbers followed by 3 numbers\n",
    "\n",
    "plate = input(\"Enter the license plate:\")\n",
    "\n",
    "#check the status of th eplate and display it. \n",
    "\n",
    "if len(plate) == 6 and \\\n",
    "plate[0]>= \"A\" and plate[0] <= \"Z\" and \\\n",
    "plate[1]>= \"A\" and plate[1] <= \"Z\" and \\\n",
    "plate[2]>= \"A\" and plate[2] <= \"Z\" and \\\n",
    "plate[3]>= \"0\" and plate[3] <= \"9\" and \\\n",
    "plate[4]>= \"0\" and plate[4] <= \"9\" and \\\n",
    "plate[5]>= \"0\" and plate[5] <= \"9\":\n",
    "    print(\"The six digit plate is a valid old number: \")\n",
    "elif len(plate) == 7 and \\\n",
    "plate[0] >= \"0\" and plate[0] < \"9\" and \\\n",
    "plate[1]>= \"0\" and plate[1] <= \"9\" and \\\n",
    "plate[2]>= \"0\" and plate[2] <= \"9\" and \\\n",
    "plate[3]>= \"0\" and plate[3] <= \"9\" and \\\n",
    "plate[4]>= \"A\" and plate[4] <= \"Z\" and \\\n",
    "plate[5]>= \"A\" and plate[5] <= \"Z\"and \\\n",
    "plate[6]>= \"A\" and plate[6] <= \"Z\":\n",
    "    print(\"The seven digit number is a valid new number\")\n",
    "else:\n",
    "    print(\"Enter a valid number\")\n"
   ]
  },
  {
   "cell_type": "code",
   "execution_count": 79,
   "id": "fa774c28",
   "metadata": {},
   "outputs": [
    {
     "ename": "TypeError",
     "evalue": "'>' not supported between instances of 'str' and 'int'",
     "output_type": "error",
     "traceback": [
      "\u001b[0;31m---------------------------------------------------------------------------\u001b[0m",
      "\u001b[0;31mTypeError\u001b[0m                                 Traceback (most recent call last)",
      "\u001b[0;32m/var/folders/q6/g7092d4n0qd1jz1vdnn2st200000gn/T/ipykernel_80940/2244254173.py\u001b[0m in \u001b[0;36m<module>\u001b[0;34m\u001b[0m\n\u001b[1;32m      1\u001b[0m \u001b[0;32mimport\u001b[0m \u001b[0msys\u001b[0m\u001b[0;34m\u001b[0m\u001b[0;34m\u001b[0m\u001b[0m\n\u001b[1;32m      2\u001b[0m \u001b[0mhours\u001b[0m \u001b[0;34m=\u001b[0m \u001b[0;34m\"534252464424\"\u001b[0m\u001b[0;34m\u001b[0m\u001b[0;34m\u001b[0m\u001b[0m\n\u001b[0;32m----> 3\u001b[0;31m \u001b[0;32mif\u001b[0m \u001b[0mhours\u001b[0m\u001b[0;34m[\u001b[0m\u001b[0;36m0\u001b[0m\u001b[0;34m]\u001b[0m \u001b[0;34m>\u001b[0m \u001b[0;36m4\u001b[0m\u001b[0;34m:\u001b[0m\u001b[0;34m\u001b[0m\u001b[0;34m\u001b[0m\u001b[0m\n\u001b[0m\u001b[1;32m      4\u001b[0m     \u001b[0mprint\u001b[0m\u001b[0;34m(\u001b[0m\u001b[0;34m\"Entered hours are lesser than condition\"\u001b[0m\u001b[0;34m)\u001b[0m\u001b[0;34m\u001b[0m\u001b[0;34m\u001b[0m\u001b[0m\n\u001b[1;32m      5\u001b[0m \u001b[0;32melse\u001b[0m\u001b[0;34m:\u001b[0m\u001b[0;34m\u001b[0m\u001b[0;34m\u001b[0m\u001b[0m\n",
      "\u001b[0;31mTypeError\u001b[0m: '>' not supported between instances of 'str' and 'int'"
     ]
    }
   ],
   "source": [
    "import sys\n",
    "hours = \"534252464424\"\n",
    "if hours[0] > 4:\n",
    "    print(\"Entered hours are lesser than condition\")\n",
    "else:\n",
    "    print(\"No\")"
   ]
  },
  {
   "cell_type": "code",
   "execution_count": 71,
   "id": "388b3b66",
   "metadata": {},
   "outputs": [
    {
     "ename": "TypeError",
     "evalue": "'>' not supported between instances of 'str' and 'int'",
     "output_type": "error",
     "traceback": [
      "\u001b[0;31m---------------------------------------------------------------------------\u001b[0m",
      "\u001b[0;31mTypeError\u001b[0m                                 Traceback (most recent call last)",
      "\u001b[0;32m/var/folders/q6/g7092d4n0qd1jz1vdnn2st200000gn/T/ipykernel_80940/1699009474.py\u001b[0m in \u001b[0;36m<module>\u001b[0;34m\u001b[0m\n\u001b[0;32m----> 1\u001b[0;31m \u001b[0;34m\"14\"\u001b[0m \u001b[0;34m>\u001b[0m \u001b[0;36m14\u001b[0m\u001b[0;34m\u001b[0m\u001b[0;34m\u001b[0m\u001b[0m\n\u001b[0m",
      "\u001b[0;31mTypeError\u001b[0m: '>' not supported between instances of 'str' and 'int'"
     ]
    }
   ],
   "source": [
    "\"14\" > 14"
   ]
  },
  {
   "cell_type": "code",
   "execution_count": null,
   "id": "fe839d6f",
   "metadata": {},
   "outputs": [],
   "source": []
  }
 ],
 "metadata": {
  "kernelspec": {
   "display_name": "Python 3 (ipykernel)",
   "language": "python",
   "name": "python3"
  },
  "language_info": {
   "codemirror_mode": {
    "name": "ipython",
    "version": 3
   },
   "file_extension": ".py",
   "mimetype": "text/x-python",
   "name": "python",
   "nbconvert_exporter": "python",
   "pygments_lexer": "ipython3",
   "version": "3.9.13"
  }
 },
 "nbformat": 4,
 "nbformat_minor": 5
}
