{
 "cells": [
  {
   "cell_type": "code",
   "execution_count": null,
   "id": "7d0ad040",
   "metadata": {},
   "outputs": [],
   "source": [
    "#Functions are block of code\n",
    "#user defined function\n",
    "#build it function\n",
    "#redundancy checking\n",
    "#docstrings\n",
    "#parameters\n",
    "#arguments\n"
   ]
  },
  {
   "cell_type": "code",
   "execution_count": null,
   "id": "b86f3c69",
   "metadata": {},
   "outputs": [],
   "source": [
    "#example of positional argument\n",
    "def add(num1, num2):\n",
    "    return num1 + num2\n",
    "    \n",
    "sum = add(10, 20)\n",
    "sum2 = add(8,9)\n",
    "print(sum)\n",
    "print(sum2)"
   ]
  },
  {
   "cell_type": "code",
   "execution_count": null,
   "id": "e270d087",
   "metadata": {},
   "outputs": [],
   "source": [
    "#compute the area of a room\n",
    "length = float(input(\"Enter the length of the room in feet: \"))\n",
    "width = float(input(\"Enter the width of the room in feet: \"))\n",
    "\n",
    "def area(length, width):\n",
    "    area = length * width\n",
    "    print(area, ' in square feet')\n",
    "    return area\n",
    "area(length,width)"
   ]
  },
  {
   "cell_type": "code",
   "execution_count": null,
   "id": "de60ce9a",
   "metadata": {},
   "outputs": [],
   "source": [
    "#compute the area of a field and reporting the result in acres\n",
    "\n",
    "length = float(input(\"Enter the length of the room in feet: \"))\n",
    "width = float(input(\"Enter the width of the room in feet: \"))\n",
    "\n",
    "def area(length, width):\n",
    "    sqft_per_acre = 43560\n",
    "    area = (length * width)/sqft_per_acre\n",
    "    return area\n",
    "area(length,width)"
   ]
  },
  {
   "cell_type": "code",
   "execution_count": null,
   "id": "4be970a6",
   "metadata": {},
   "outputs": [],
   "source": [
    "#example 2 of positional argument\n",
    "def maths(a, b):\n",
    "    add = a + b\n",
    "    sub = a - b\n",
    "    return add, sub\n",
    "\n",
    "a, s = maths(5, 6)\n",
    "print(a)\n",
    "print(s)\n",
    "print(\"-------\")\n"
   ]
  },
  {
   "cell_type": "code",
   "execution_count": null,
   "id": "6c4aa004",
   "metadata": {},
   "outputs": [],
   "source": [
    "def maths(a, b):\n",
    "    add = a + b\n",
    "    sub = a - b\n",
    "    return add, sub\n",
    "x = float(input(\"Enter the first number of the operation: \"))\n",
    "y = float(input(\"Enter the second number of the operation: \"))\n",
    "a, s = maths(x, y)\n",
    "print(a)\n",
    "print(s)\n",
    "print(\"-------\")"
   ]
  },
  {
   "cell_type": "code",
   "execution_count": null,
   "id": "64cc94ed",
   "metadata": {},
   "outputs": [],
   "source": [
    "def printo():\n",
    "    print(\"Hello World\")\n",
    "printo()"
   ]
  },
  {
   "cell_type": "code",
   "execution_count": null,
   "id": "cfc9655c",
   "metadata": {},
   "outputs": [],
   "source": [
    "threshold = 6\n",
    "numbers = [1,5,5,7, 10,1]\n",
    "\n",
    "def find_greater(numbers, threshold):\n",
    "        for num in numbers:\n",
    "            if num > threshold:\n",
    "                print(num)\n",
    "                \n",
    "import numpy as np                \n",
    "x = 50\n",
    "y = np.arange(1, 100)\n",
    "result = find_greater(y, x)\n",
    "print(result)\n"
   ]
  },
  {
   "cell_type": "code",
   "execution_count": null,
   "id": "cd2349bf",
   "metadata": {},
   "outputs": [],
   "source": [
    "#create a function to find numbers divisible by a factor\n",
    "def find_div(transactions, factor):\n",
    "    for num in transactions:\n",
    "        if (num % factor == 0):\n",
    "            print(num)\n",
    "    \n",
    "#find_div([3,6,9,12,15], 3)\n",
    "transactions = [1,5,5,7,10,1,9,12]\n",
    "print(\"Factor of 3: \")\n",
    "find_div(transactions, 3)"
   ]
  },
  {
   "cell_type": "code",
   "execution_count": null,
   "id": "e86eae1f",
   "metadata": {},
   "outputs": [],
   "source": [
    "#function to check a transaction limit\n",
    "\n",
    "def transaction_limit_check(amount):\n",
    "    if amount > 1000:\n",
    "        print(\"The transaction is above the limit. Please enter valid amount\")\n",
    "    else:\n",
    "        print(\"The transaction is within the limit\")\n",
    "amt =  float(input(\"Enter the transaction about you want to withdraw: \")) \n",
    "transaction_limit_check(amt)"
   ]
  },
  {
   "cell_type": "code",
   "execution_count": null,
   "id": "a49290da",
   "metadata": {},
   "outputs": [],
   "source": [
    "def display(message1, message2 = \" Hello World!\"):\n",
    "    print(str(message1) + str(message2))\n",
    "name = \"Jon Snow\"\n",
    "display(name)"
   ]
  },
  {
   "cell_type": "code",
   "execution_count": null,
   "id": "fba58a0c",
   "metadata": {},
   "outputs": [],
   "source": [
    "# this will throw an error because the parameter with the default \n",
    "# value precedes the parameter that does not have a default value\n",
    "def display2(message1 = \"Hello World\", message2):\n",
    "    print(str(message1) + str(message2))"
   ]
  },
  {
   "cell_type": "code",
   "execution_count": null,
   "id": "32e6569b",
   "metadata": {},
   "outputs": [],
   "source": [
    "def names(first_name, last_name):\n",
    "    print(first_name, last_name)\n",
    "fname =  input(\"Enter your first name: \")\n",
    "lname = input(\"Enter your last name\")\n",
    "\n",
    "names(fname, lname)\n"
   ]
  },
  {
   "cell_type": "code",
   "execution_count": null,
   "id": "df2258d2",
   "metadata": {},
   "outputs": [],
   "source": [
    "def names(first_name, last_name):\n",
    "    return first_name, last_name\n",
    "fname =  input(\"Enter your first name: \")\n",
    "lname = input(\"Enter your last name\")\n",
    "\n",
    "f, n = names(fname, lname)\n",
    "print(f)\n",
    "print(n)"
   ]
  },
  {
   "cell_type": "code",
   "execution_count": null,
   "id": "589af095",
   "metadata": {},
   "outputs": [],
   "source": [
    "def update(x):\n",
    "    print(id(x))\n",
    "    print('++++')\n",
    "    x = 8\n",
    "    print(id(x))\n",
    "    print('x', x)\n",
    "    \n",
    "a = 10\n",
    "print(id(a))\n",
    "print('---')\n",
    "update(a)\n",
    "print(id(a))\n",
    "print('a',a)"
   ]
  },
  {
   "cell_type": "code",
   "execution_count": null,
   "id": "0ce131dd",
   "metadata": {},
   "outputs": [],
   "source": [
    "def per(name, age):\n",
    "    print(\"name: \", name)\n",
    "    print(\"age\", age)\n",
    "per(age = 37, name = \"Ashwin\")"
   ]
  },
  {
   "cell_type": "code",
   "execution_count": null,
   "id": "557e767e",
   "metadata": {},
   "outputs": [],
   "source": [
    "#positional argument must not follow keyword argument (error)\n",
    "def per(name, age):\n",
    "    print(\"name: \", name)\n",
    "    print(\"age\", age)\n",
    "per(age = 37, name = \"Ashwin\", \"Bangalore\")"
   ]
  },
  {
   "cell_type": "code",
   "execution_count": null,
   "id": "ec042503",
   "metadata": {},
   "outputs": [],
   "source": [
    "#positional argument from previous example is modified to keyword argument and hence there will be no error\n",
    "def per(name, age, city):\n",
    "    print(\"name: \", name)\n",
    "    print(\"age\", age)\n",
    "    print(\"City\", city)\n",
    "per(age = 37, name = \"Ashwin\", city = \"Bangalore\")"
   ]
  },
  {
   "cell_type": "code",
   "execution_count": null,
   "id": "26416c06",
   "metadata": {},
   "outputs": [],
   "source": [
    "#here positional argument  comes first and hence there will be no error\n",
    "def per(name, age, city):\n",
    "    print(\"name: \", name)\n",
    "    print(\"age\", age)\n",
    "    print(\"City\", city)\n",
    "per(\"Ramaswamy arunachalam\", age = 39, city = \"Kundapur\")"
   ]
  },
  {
   "cell_type": "code",
   "execution_count": null,
   "id": "2e290f56",
   "metadata": {},
   "outputs": [],
   "source": [
    "def default_arg(name, age = 33):\n",
    "    print(name)\n",
    "    print(age)\n",
    "default_arg(\"Ashwin kumar\")"
   ]
  },
  {
   "cell_type": "code",
   "execution_count": null,
   "id": "9c9e3955",
   "metadata": {},
   "outputs": [],
   "source": [
    "def default_arg(name, age = 33):\n",
    "    print(name)\n",
    "    print(age)\n",
    "default_arg(\"Ashwin kumar\")"
   ]
  },
  {
   "cell_type": "code",
   "execution_count": null,
   "id": "b7f63367",
   "metadata": {},
   "outputs": [],
   "source": [
    "#variable length argument\n",
    "def sum(a, b):\n",
    "    c = a + b\n",
    "    print(c)\n",
    "sum(5,6)"
   ]
  },
  {
   "cell_type": "code",
   "execution_count": null,
   "id": "d644857d",
   "metadata": {},
   "outputs": [],
   "source": [
    "#variable length argument\n",
    "def sum(a, *b):\n",
    "    c = a\n",
    "    for i in b:\n",
    "        c = c + i\n",
    "    print(c)\n",
    "        \n",
    "sum(5,6)"
   ]
  },
  {
   "cell_type": "code",
   "execution_count": null,
   "id": "73f4dd6b",
   "metadata": {},
   "outputs": [],
   "source": [
    "#variable length argument\n",
    "def sum(a, *b):\n",
    "    c = a\n",
    "    for i in b:\n",
    "        c = c + i\n",
    "    print(c)\n",
    "        \n",
    "sum(1,2,3,4,5)"
   ]
  },
  {
   "cell_type": "code",
   "execution_count": null,
   "id": "8bc9c690",
   "metadata": {},
   "outputs": [],
   "source": [
    "def display_customer_input(*argv):\n",
    "    for arg in argv:\n",
    "        print(arg)\n",
    "customer1 = [\"Jon\", \"Doe\", \"Programmer\", \"80000\"]\n",
    "customer2 = [\"Jon\", \"Crow\", \"Scientist\", \"70000\"]\n",
    "customer3 = [\"Charles\", \"Painter\"]\n",
    "display_customer_input(customer1)\n",
    "display_customer_input(customer2)\n",
    "display_customer_input(customer3)\n"
   ]
  },
  {
   "cell_type": "code",
   "execution_count": null,
   "id": "9a7a377e",
   "metadata": {},
   "outputs": [],
   "source": [
    "def per(name, **data):\n",
    "    print('name', name)\n",
    "    \n",
    "    for i, j in data.items():\n",
    "        print(i,',', j)\n",
    "        \n",
    "per(\"kumar\", age = 22, city = 'bangalore', code =9071)"
   ]
  },
  {
   "cell_type": "code",
   "execution_count": null,
   "id": "5efdd994",
   "metadata": {},
   "outputs": [],
   "source": [
    "def computeSum(*numbers):\n",
    "    total = 0\n",
    "    for i in numbers:\n",
    "        total = total + i\n",
    "    return total\n",
    "\n",
    "numbers = [20,20,20,20]\n",
    "summation = computeSum(*numbers)\n",
    "summation"
   ]
  },
  {
   "cell_type": "code",
   "execution_count": null,
   "id": "9351bdef",
   "metadata": {},
   "outputs": [],
   "source": [
    "#keyword arguments\n",
    "def my_family(mom, dad, wife):\n",
    "    print(\"My dad's name is \", dad)\n",
    "    print(\"My mom's name is \", mom)\n",
    "    print(\"My wife's name is \", wife)\n",
    "my_family(mom = \"xxx\", dad = \"yyy\", wife = 'zzz')"
   ]
  },
  {
   "cell_type": "code",
   "execution_count": null,
   "id": "2e523876",
   "metadata": {},
   "outputs": [],
   "source": [
    "#arbitrary arguments\n",
    "def my_function(**family):\n",
    "    print(\"Her last name is \" + family[\"lname\"])\n",
    "my_function(fname = \"Tom\", lname =\"Robert\")"
   ]
  },
  {
   "cell_type": "code",
   "execution_count": null,
   "id": "dee6d44c",
   "metadata": {},
   "outputs": [],
   "source": [
    "def display(**kwargs):\n",
    "    for i, j in kwargs.items():\n",
    "        print(i + ':' +j)\n",
    "        print('--')\n",
    "        print(kwargs.keys())\n",
    "\n",
    "\n",
    "\n",
    "display(first_name = 'Robert', last_name = 'Johnson') \n",
    "print(\"----\")\n",
    "#display(first_name = 'Mary', age = \"32\", location = \"Dallas\")\n"
   ]
  },
  {
   "cell_type": "code",
   "execution_count": null,
   "id": "b0ea8ee9",
   "metadata": {},
   "outputs": [],
   "source": [
    "#compute the median of three values\n",
    "list = []\n",
    "num = 1\n",
    "def median(a, b, c):\n",
    "        while num < 5 :\n",
    "            numbers = float(input(\"Enter the 3 numbers:\"))\n",
    "            list.append(numbers)\n",
    "            num += 1\n",
    "        print(list)\n",
    "median(2,4,6)"
   ]
  },
  {
   "cell_type": "code",
   "execution_count": null,
   "id": "7227d58b",
   "metadata": {},
   "outputs": [],
   "source": [
    "list = []\n",
    "i = 1\n",
    "\n",
    "while i < 4:\n",
    "    numbers = int(input(\"Please input a number: \"))\n",
    "    list.append(numbers)\n",
    "    i += 1\n",
    "print(list)"
   ]
  },
  {
   "cell_type": "code",
   "execution_count": null,
   "id": "8cc22034",
   "metadata": {},
   "outputs": [],
   "source": [
    "#Determine whether or not a string entered by the user is an integer\n",
    "\n",
    "s = \"    asdhh3.  3 4. \"\n",
    "#remove whitespace from the beginning and the end of the string\n",
    "s = s.strip()\n",
    "s.isdigit()"
   ]
  },
  {
   "cell_type": "code",
   "execution_count": null,
   "id": "c5a862b1",
   "metadata": {},
   "outputs": [],
   "source": [
    "def isInteger(s):\n",
    "    if (s[0]== \"+\"or s[0] == \"-\") and s[1:].isdigit():\n",
    "        return True\n",
    "    if s.isdigit():\n",
    "        return True\n",
    "    else:\n",
    "        return False\n",
    "def main():\n",
    "    s = input(\"Enter a string: \")\n",
    "    if isInteger(s):\n",
    "        print(\"That string represents an integer.\")\n",
    "    else:\n",
    "        print(\"That string does not represent an integer.\")\n",
    "#only call the main function when this fils has not been imported\n",
    "if __name__ == \"__main__\":\n",
    "    main()"
   ]
  },
  {
   "cell_type": "code",
   "execution_count": null,
   "id": "5a70bbe4",
   "metadata": {},
   "outputs": [],
   "source": [
    "#Avoiding Duplicates\n",
    "\n",
    "#read a collection of words entered by the user. Display each word entered by the user only once, \n",
    "#in the same order that the words were entered\n",
    "words = []\n",
    "word = input(\"Enter a word (blank line to quit): \")\n",
    "while word != \"\":\n",
    "    #only add the word to the list if it is not already present in the list\n",
    "    if word not in words:\n",
    "        words.append(word)\n",
    "        \n",
    "    #read the next word from the user\n",
    "    word = input(\"Enter a word (blank line to quit): \")\n",
    "print(words)    \n",
    "\n",
    "\n",
    "for word in words:\n",
    "    print(word)\n",
    "    \n",
    "    "
   ]
  },
  {
   "cell_type": "code",
   "execution_count": null,
   "id": "21eeb66c",
   "metadata": {},
   "outputs": [],
   "source": [
    "words = []\n",
    "i = 1\n",
    "word = input(\"Enter a word (blank line to quit): \")\n",
    "while i < 10:\n",
    "    words.append(word)\n",
    "    word = input(\"Enter a word (blank line to quit): \")\n",
    "    i = i+1\n",
    "print(words)"
   ]
  },
  {
   "cell_type": "code",
   "execution_count": null,
   "id": "7771087f",
   "metadata": {},
   "outputs": [],
   "source": [
    "words = []\n",
    "i = 1\n",
    "word = input(\"Enter a word (blank line to quit): \")\n",
    "while i < 10:\n",
    "    words.append(word)\n",
    "    i = i+1\n",
    "    word = input(\"Enter a word (blank line to quit): \")\n",
    "    \n",
    "for word in words:\n",
    "    print(words)"
   ]
  },
  {
   "cell_type": "code",
   "execution_count": null,
   "id": "6379ad80",
   "metadata": {
    "scrolled": true
   },
   "outputs": [],
   "source": [
    "words = []\n",
    "word = input(\"Enter the word: \")\n",
    "while word != \"\":\n",
    "    word = word.strip()\n",
    "    word = word.capitalize()\n",
    "    if word not in words:\n",
    "        \n",
    "        words.append(word)\n",
    "    word = input(\"Enter the word: \")\n",
    "#display the unique word from the user\n",
    "for word in words:\n",
    "    print(word)\n",
    "        "
   ]
  },
  {
   "cell_type": "code",
   "execution_count": null,
   "id": "468e950c",
   "metadata": {},
   "outputs": [],
   "source": [
    "words = []\n",
    "word = input(\"Enter the word: \")\n",
    "while word != \"\":\n",
    "    word = word.strip()\n",
    "    word = word.capitalize()\n",
    "    if word not in words:\n",
    "        words.append(word)\n",
    "    word = input(\"Enter the word: \")\n",
    "for word in words:\n",
    "    print(word)"
   ]
  },
  {
   "cell_type": "code",
   "execution_count": null,
   "id": "f656405b",
   "metadata": {},
   "outputs": [],
   "source": [
    "#read a collection of"
   ]
  },
  {
   "cell_type": "code",
   "execution_count": null,
   "id": "fe002f2b",
   "metadata": {},
   "outputs": [],
   "source": []
  },
  {
   "cell_type": "code",
   "execution_count": null,
   "id": "0ed14016",
   "metadata": {},
   "outputs": [],
   "source": []
  },
  {
   "cell_type": "code",
   "execution_count": null,
   "id": "5e9fd557",
   "metadata": {},
   "outputs": [],
   "source": []
  }
 ],
 "metadata": {
  "kernelspec": {
   "display_name": "Python 3 (ipykernel)",
   "language": "python",
   "name": "python3"
  },
  "language_info": {
   "codemirror_mode": {
    "name": "ipython",
    "version": 3
   },
   "file_extension": ".py",
   "mimetype": "text/x-python",
   "name": "python",
   "nbconvert_exporter": "python",
   "pygments_lexer": "ipython3",
   "version": "3.9.13"
  }
 },
 "nbformat": 4,
 "nbformat_minor": 5
}
