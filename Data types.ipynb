{
 "cells": [
  {
   "cell_type": "code",
   "execution_count": 1,
   "id": "dade6cfd",
   "metadata": {},
   "outputs": [],
   "source": [
    "#intergers are numbers that include 0, positive whole numbers and negative whole numbers\n",
    "#floats are any real number in math consisting of a whole number, a decimal point and a fractional part\n"
   ]
  },
  {
   "cell_type": "code",
   "execution_count": 2,
   "id": "0b0ab662",
   "metadata": {},
   "outputs": [],
   "source": [
    "#variables are areas within memory used to store information. \n",
    "#we declare a variable or assign a variable and reference it later\n",
    "#"
   ]
  },
  {
   "cell_type": "code",
   "execution_count": 4,
   "id": "fd08b471",
   "metadata": {},
   "outputs": [
    {
     "name": "stdout",
     "output_type": "stream",
     "text": [
      "33\n",
      "<class 'int'>\n",
      "0.06\n",
      "<class 'float'>\n",
      "(1+3.4j)\n",
      "<class 'complex'>\n"
     ]
    }
   ],
   "source": [
    "age = 33 # integer\n",
    "tax_rate = 0.06 # float type\n",
    "coordinates = 1+3.4j # complex type z : a+b*j\n",
    "print(age)\n",
    "print(type(age))\n",
    "print(tax_rate)\n",
    "print(type(tax_rate))\n",
    "print(coordinates)\n",
    "print(type(coordinates))"
   ]
  },
  {
   "cell_type": "code",
   "execution_count": 5,
   "id": "684bbf1e",
   "metadata": {},
   "outputs": [],
   "source": [
    "#important to define in any application, since the calculations and programming can depend on the data properly. "
   ]
  },
  {
   "cell_type": "code",
   "execution_count": 7,
   "id": "a1961258",
   "metadata": {},
   "outputs": [
    {
     "name": "stdout",
     "output_type": "stream",
     "text": [
      "13445\n",
      "0\n",
      "12\n",
      "(1+52.4j)\n"
     ]
    }
   ],
   "source": [
    "acctBal=13445; \n",
    "savInterest=.025; \n",
    "months=12; \n",
    "alphanum=1+52.4j; \n",
    "print(acctBal); \n",
    "print(int(savInterest)); \n",
    "print(months); \n",
    "print(alphanum);"
   ]
  },
  {
   "cell_type": "code",
   "execution_count": 14,
   "id": "29ad6b6d",
   "metadata": {},
   "outputs": [
    {
     "name": "stdout",
     "output_type": "stream",
     "text": [
      "13445 <class 'int'>\n",
      "0.025 <class 'float'>\n",
      "12 <class 'int'>\n",
      "(1+52.4j) <class 'complex'>\n",
      "12345 <class 'str'>\n"
     ]
    }
   ],
   "source": [
    "acctBal = 13445\n",
    "savInterest = .025\n",
    "months = 12\n",
    "alphanum = 1+52.4j\n",
    "numString = \"12345\"\n",
    "print(acctBal, type(acctBal))\n",
    "print(savInterest, type(savInterest))\n",
    "print(months, type(months))\n",
    "print(alphanum, type(alphanum))\n",
    "print(numString, type(numString))"
   ]
  },
  {
   "cell_type": "code",
   "execution_count": 17,
   "id": "a4dc1f2f",
   "metadata": {},
   "outputs": [
    {
     "name": "stdout",
     "output_type": "stream",
     "text": [
      "50\n",
      "6\n",
      "56\n",
      "44\n",
      "300\n",
      "8.333333333333334\n",
      "8\n",
      "2\n",
      "15625000000\n"
     ]
    }
   ],
   "source": [
    "#Expressions provide an easy way to perform operations on data values \n",
    "a = 50 \n",
    "b= 6\n",
    "c = a + b\n",
    "d = a - b\n",
    "e = a * b\n",
    "f = a / b\n",
    "g = a // b\n",
    "h = a % b\n",
    "i = a ** b\n",
    "print(a)\n",
    "print(b)\n",
    "print(c)\n",
    "print(d)\n",
    "print(e)\n",
    "print(f)\n",
    "print(g)\n",
    "print(h)\n",
    "print(i)"
   ]
  },
  {
   "cell_type": "code",
   "execution_count": 18,
   "id": "7fe87c6f",
   "metadata": {},
   "outputs": [],
   "source": [
    "acctBal = 13445; \n",
    "locBal = 16000; \n",
    "savBal = 4000; \n",
    "savInterest = .025; \n",
    "locInterest = .098;\n",
    "months = 12;\n",
    "years = 8.5; \n",
    "numString = \"12345\"\n"
   ]
  },
  {
   "cell_type": "code",
   "execution_count": 20,
   "id": "f7112ce7",
   "metadata": {},
   "outputs": [
    {
     "name": "stdout",
     "output_type": "stream",
     "text": [
      "1445\n",
      "11877.0\n",
      "1200.0\n",
      "0.000210078125\n",
      "4000.000000000017\n"
     ]
    }
   ],
   "source": [
    "result1 = acctBal+savBal-locBal;\n",
    "print(result1);\n",
    "result2 = acctBal-locBal*locInterest; \n",
    "print(result2);\n",
    "result3 = savBal*months*savInterest; \n",
    "print(result3);\n",
    "result4 = acctBal/savBal/locBal; \n",
    "print(result4);\n",
    "result5 = savBal*1+savInterest/months**years; \n",
    "print(result5)"
   ]
  },
  {
   "cell_type": "code",
   "execution_count": 21,
   "id": "3d05fbdc",
   "metadata": {},
   "outputs": [],
   "source": [
    "import math"
   ]
  },
  {
   "cell_type": "code",
   "execution_count": 27,
   "id": "1e1a8521",
   "metadata": {},
   "outputs": [
    {
     "name": "stdout",
     "output_type": "stream",
     "text": [
      "6.1\n",
      "6\n",
      "6\n",
      "7\n",
      "3.141592653589793\n"
     ]
    }
   ],
   "source": [
    "a = 6.1\n",
    "print(a)\n",
    "b = math.trunc(a)\n",
    "print(b)\n",
    "c = math.floor(a)\n",
    "print(c)\n",
    "d = math.ceil(a)\n",
    "print(d)\n",
    "e = math.pi\n",
    "print(e)"
   ]
  },
  {
   "cell_type": "code",
   "execution_count": 29,
   "id": "abd3fbc3",
   "metadata": {},
   "outputs": [
    {
     "name": "stdout",
     "output_type": "stream",
     "text": [
      "Enter the year you were born: 1986\n",
      "Enter the current year: 2023\n",
      "Your age is:\n",
      "37\n"
     ]
    }
   ],
   "source": [
    "year_born = input(\"Enter the year you were born: \") \n",
    "current_year = input(\"Enter the current year: \")\n",
    "# convert the strings into integers \n",
    "born_int = int(year_born) \n",
    "current_int = int(current_year)\n",
    "age = current_int - born_int\n",
    "print(\"Your age is:\") \n",
    "print(age)\n"
   ]
  },
  {
   "cell_type": "code",
   "execution_count": 30,
   "id": "81ab4576",
   "metadata": {},
   "outputs": [
    {
     "name": "stdout",
     "output_type": "stream",
     "text": [
      "Enter the monthly debt payments: 2800\n",
      "Enter the gross monthly income: 10000\n",
      "0.28\n"
     ]
    }
   ],
   "source": [
    "monthlyDebt = input(\"Enter the monthly debt payments: \"); \n",
    "grossIncome = input(\"Enter the gross monthly income: \");\n",
    "\n",
    "debtInt = int(monthlyDebt)\n",
    "incInt = int(grossIncome)\n",
    "diRatio = debtInt/incInt\n",
    "print(diRatio)"
   ]
  },
  {
   "cell_type": "code",
   "execution_count": 33,
   "id": "8b699de4",
   "metadata": {},
   "outputs": [
    {
     "name": "stdout",
     "output_type": "stream",
     "text": [
      "Please enter an account balance: 1000\n",
      "Please enter an interest rate: .05\n",
      "Please enter a period of time in years: 10\n",
      "500.0\n",
      "1500.0\n"
     ]
    }
   ],
   "source": [
    "acctBal = int(input(\"Please enter an account balance: \")); \n",
    "intRate = float(input(\"Please enter an interest rate: \"));\n",
    "time = int(input(\"Please enter a period of time in years: \"))\n",
    "def Balance(acctBal, intRate, time):\n",
    "    result = acctBal * intRate * time\n",
    "    finalBal = result + acctBal\n",
    "    return finalBal\n"
   ]
  },
  {
   "cell_type": "code",
   "execution_count": 35,
   "id": "f01eaad1",
   "metadata": {},
   "outputs": [
    {
     "name": "stdout",
     "output_type": "stream",
     "text": [
      "True\n",
      "<class 'bool'>\n",
      "False\n",
      "<class 'bool'>\n"
     ]
    }
   ],
   "source": [
    "bool1 = True\n",
    "bool2 = False\n",
    "print(bool1)\n",
    "print(type(bool1))\n",
    "print(bool2)\n",
    "print(type(bool2))"
   ]
  },
  {
   "cell_type": "code",
   "execution_count": 38,
   "id": "40ddac12",
   "metadata": {},
   "outputs": [
    {
     "name": "stdout",
     "output_type": "stream",
     "text": [
      "False\n",
      "True\n"
     ]
    }
   ],
   "source": [
    "a = 0\n",
    "b = 1\n",
    "print(bool(a))\n",
    "print(bool(b))"
   ]
  },
  {
   "cell_type": "code",
   "execution_count": 39,
   "id": "5282792a",
   "metadata": {},
   "outputs": [
    {
     "name": "stdout",
     "output_type": "stream",
     "text": [
      "0 : False\n"
     ]
    }
   ],
   "source": [
    "test = 0 \n",
    "print(test,':',bool(test))"
   ]
  },
  {
   "cell_type": "code",
   "execution_count": 40,
   "id": "a9cff9a4",
   "metadata": {},
   "outputs": [
    {
     "name": "stdout",
     "output_type": "stream",
     "text": [
      "[1] : True\n"
     ]
    }
   ],
   "source": [
    "test = [1] \n",
    "print(test,':',bool(test))"
   ]
  },
  {
   "cell_type": "code",
   "execution_count": 41,
   "id": "88978585",
   "metadata": {},
   "outputs": [
    {
     "name": "stdout",
     "output_type": "stream",
     "text": [
      "[] : False\n"
     ]
    }
   ],
   "source": [
    "test = [] \n",
    "print(test,':',bool(test))"
   ]
  },
  {
   "cell_type": "code",
   "execution_count": 42,
   "id": "d68ea7c1",
   "metadata": {},
   "outputs": [
    {
     "name": "stdout",
     "output_type": "stream",
     "text": [
      "1.1 : True\n"
     ]
    }
   ],
   "source": [
    "test = 1.1 \n",
    "print(test,':',bool(test))"
   ]
  },
  {
   "cell_type": "code",
   "execution_count": 43,
   "id": "b412a3bf",
   "metadata": {},
   "outputs": [
    {
     "name": "stdout",
     "output_type": "stream",
     "text": [
      "1 : True\n"
     ]
    }
   ],
   "source": [
    "test = \"1\" \n",
    "print(test,':',bool(test))"
   ]
  },
  {
   "cell_type": "code",
   "execution_count": 44,
   "id": "a71d2f2e",
   "metadata": {},
   "outputs": [
    {
     "name": "stdout",
     "output_type": "stream",
     "text": [
      "False : False\n"
     ]
    }
   ],
   "source": [
    "test = False \n",
    "print(test,':',bool(test))"
   ]
  },
  {
   "cell_type": "code",
   "execution_count": 45,
   "id": "e869516b",
   "metadata": {},
   "outputs": [
    {
     "name": "stdout",
     "output_type": "stream",
     "text": [
      "True : True\n"
     ]
    }
   ],
   "source": [
    "test = True \n",
    "print(test,':',bool(test))"
   ]
  },
  {
   "cell_type": "code",
   "execution_count": 46,
   "id": "f325a6da",
   "metadata": {},
   "outputs": [
    {
     "name": "stdout",
     "output_type": "stream",
     "text": [
      "Easy string : True\n"
     ]
    }
   ],
   "source": [
    "test = 'Easy string' \n",
    "print(test,':',bool(test))"
   ]
  },
  {
   "cell_type": "code",
   "execution_count": 48,
   "id": "ecbbe781",
   "metadata": {},
   "outputs": [
    {
     "name": "stdout",
     "output_type": "stream",
     "text": [
      " : False\n"
     ]
    }
   ],
   "source": [
    "test = \"\" \n",
    "print(test,':',bool(test))"
   ]
  },
  {
   "cell_type": "code",
   "execution_count": 50,
   "id": "d2bc238e",
   "metadata": {},
   "outputs": [
    {
     "name": "stdout",
     "output_type": "stream",
     "text": [
      " : False\n"
     ]
    }
   ],
   "source": [
    "test = '' \n",
    "print(test,':',bool(test))"
   ]
  },
  {
   "cell_type": "code",
   "execution_count": 51,
   "id": "efd05f04",
   "metadata": {},
   "outputs": [
    {
     "name": "stdout",
     "output_type": "stream",
     "text": [
      "True\n"
     ]
    }
   ],
   "source": [
    "a = True\n",
    "print(a)"
   ]
  },
  {
   "cell_type": "code",
   "execution_count": 52,
   "id": "5765c2f6",
   "metadata": {},
   "outputs": [
    {
     "name": "stdout",
     "output_type": "stream",
     "text": [
      "False\n"
     ]
    }
   ],
   "source": [
    "b = False\n",
    "print(b)"
   ]
  },
  {
   "cell_type": "code",
   "execution_count": 53,
   "id": "d5b70fa5",
   "metadata": {},
   "outputs": [
    {
     "name": "stdout",
     "output_type": "stream",
     "text": [
      "False\n"
     ]
    }
   ],
   "source": [
    "c = not a\n",
    "print(c)"
   ]
  },
  {
   "cell_type": "code",
   "execution_count": 54,
   "id": "293887a1",
   "metadata": {},
   "outputs": [
    {
     "name": "stdout",
     "output_type": "stream",
     "text": [
      "True\n"
     ]
    }
   ],
   "source": [
    "d = a or b\n",
    "print(d)"
   ]
  },
  {
   "cell_type": "code",
   "execution_count": 55,
   "id": "5325b8f0",
   "metadata": {},
   "outputs": [
    {
     "name": "stdout",
     "output_type": "stream",
     "text": [
      "False\n"
     ]
    }
   ],
   "source": [
    "e = a and b\n",
    "print(e)"
   ]
  },
  {
   "cell_type": "code",
   "execution_count": 57,
   "id": "71b75176",
   "metadata": {},
   "outputs": [
    {
     "name": "stdout",
     "output_type": "stream",
     "text": [
      "What is the output of the following operation (True and True)? False\n",
      "True\n"
     ]
    }
   ],
   "source": [
    "a = input(\"What is the output of the following operation (True and True)? \")\n",
    "aTest = True and True\n",
    "print(aTest)"
   ]
  },
  {
   "cell_type": "code",
   "execution_count": 67,
   "id": "7b362678",
   "metadata": {},
   "outputs": [
    {
     "name": "stdout",
     "output_type": "stream",
     "text": [
      "True\n",
      "True\n",
      "False\n",
      "False\n",
      "True\n",
      "False\n",
      "False\n",
      "True\n",
      "True\n"
     ]
    }
   ],
   "source": [
    "a= 6\n",
    "b= 5\n",
    "print(a > b)\n",
    "print(b < a)\n",
    "print(b > a)\n",
    "print(a < b)\n",
    "print(a >= b)\n",
    "print(a == b)\n",
    "print(a is b)\n",
    "print(a is not b)\n",
    "print(a != b)"
   ]
  },
  {
   "cell_type": "code",
   "execution_count": null,
   "id": "48eba8d9",
   "metadata": {},
   "outputs": [],
   "source": []
  }
 ],
 "metadata": {
  "kernelspec": {
   "display_name": "Python 3 (ipykernel)",
   "language": "python",
   "name": "python3"
  },
  "language_info": {
   "codemirror_mode": {
    "name": "ipython",
    "version": 3
   },
   "file_extension": ".py",
   "mimetype": "text/x-python",
   "name": "python",
   "nbconvert_exporter": "python",
   "pygments_lexer": "ipython3",
   "version": "3.9.13"
  }
 },
 "nbformat": 4,
 "nbformat_minor": 5
}
