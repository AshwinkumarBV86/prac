{
 "cells": [
  {
   "cell_type": "code",
   "execution_count": 3,
   "id": "b858aa4b",
   "metadata": {},
   "outputs": [
    {
     "name": "stdout",
     "output_type": "stream",
     "text": [
      "1\n",
      "2\n",
      "3\n",
      "4\n",
      "5\n",
      "6\n",
      "7\n",
      "8\n",
      "9\n"
     ]
    }
   ],
   "source": [
    "i = 1\n",
    "while i < 10:\n",
    "    print(i)\n",
    "    i += 1"
   ]
  },
  {
   "cell_type": "code",
   "execution_count": 3,
   "id": "1bc7c82a",
   "metadata": {},
   "outputs": [
    {
     "name": "stdout",
     "output_type": "stream",
     "text": [
      "1\n",
      "2\n",
      "3\n"
     ]
    }
   ],
   "source": [
    "i = 1\n",
    "while i < 6:\n",
    "    print(i)\n",
    "    if i == 3:\n",
    "        break\n",
    "    i += 1"
   ]
  },
  {
   "cell_type": "code",
   "execution_count": 4,
   "id": "fddf9d66",
   "metadata": {},
   "outputs": [
    {
     "name": "stdout",
     "output_type": "stream",
     "text": [
      "1\n",
      "2\n",
      "4\n",
      "5\n",
      "6\n"
     ]
    }
   ],
   "source": [
    "i = 0\n",
    "while i < 6:\n",
    "    i += 1\n",
    "    if i == 3:\n",
    "        continue\n",
    "    print(i)"
   ]
  },
  {
   "cell_type": "code",
   "execution_count": 6,
   "id": "fae09a72",
   "metadata": {},
   "outputs": [
    {
     "name": "stdout",
     "output_type": "stream",
     "text": [
      "1\n",
      "2\n",
      "3\n",
      "4\n",
      "5\n",
      "I is no longer less than 6\n"
     ]
    }
   ],
   "source": [
    "i = 1\n",
    "while i < 6:\n",
    "    print(i)\n",
    "    i += 1\n",
    "else:\n",
    "    print(\"I is no longer less than 6\")"
   ]
  },
  {
   "cell_type": "code",
   "execution_count": 7,
   "id": "75870c38",
   "metadata": {},
   "outputs": [
    {
     "name": "stdout",
     "output_type": "stream",
     "text": [
      "1\n",
      "2\n",
      "3\n",
      "4\n",
      "5\n"
     ]
    }
   ],
   "source": [
    "#A while loop evaluates the condition\n",
    "#If the condition evaluates to True, the code inside the while loop is executed.\n",
    "#condition is evaluated again.\n",
    "#This process continues until the condition is False.\n",
    "#When condition evaluates to False, the loop stops.\n",
    "\n",
    "i = 1 \n",
    "n = 5\n",
    "while i <= n:\n",
    "    print(i)\n",
    "    i = i + 1"
   ]
  },
  {
   "cell_type": "code",
   "execution_count": null,
   "id": "47ad4815",
   "metadata": {},
   "outputs": [],
   "source": [
    "#calculate sum of numbers\n",
    "total = 0\n",
    "\n",
    "number = int(input(\"Enter a number: \"))\n",
    "\n",
    "while number < 10:\n",
    "    print(number)\n",
    "    number += 1"
   ]
  },
  {
   "cell_type": "markdown",
   "id": "01327f22",
   "metadata": {},
   "source": [
    "### "
   ]
  },
  {
   "cell_type": "markdown",
   "id": "d32894a9",
   "metadata": {},
   "source": [
    "A particular zoo determines the price of admission based on the age of the guest. Guests 2 years of age and less are admitted without charge. Children between 3 and 12 years of age cost $14.00. Seniors aged 65 years and over cost $18.00. Admission\n",
    "for all other guests is $23.00.\n",
    "Create a program that begins by reading the ages of all of the guests in a group\n",
    "from the user, with one age entered on each line. The user will enter a blank line to indicate that there are no more guests in the group. Then your program should display the admission cost for the group with an appropriate message. The cost should be displayed using two decimal places.\n",
    "\n"
   ]
  },
  {
   "cell_type": "code",
   "execution_count": 34,
   "id": "8794d51f",
   "metadata": {},
   "outputs": [
    {
     "name": "stdout",
     "output_type": "stream",
     "text": [
      "Enter the age of the guest: 4\n",
      "Enter the age of the guest (blank to finish):6\n",
      "Enter the age of the guest (blank to finish):\n",
      "$ 28.0\n"
     ]
    }
   ],
   "source": [
    "BABY_PRICE = 0.00\n",
    "CHILD_PRICE = 14.00\n",
    "ADULT_PRICE = 23.00\n",
    "SENIOR_PRICE = 18.00\n",
    "\n",
    "#AGE\n",
    "BABY_LIMIT = 2\n",
    "CHILD_LIMIT = 12\n",
    "ADULT_LIMIT = 64\n",
    "\n",
    "total = 0\n",
    "age = input(\"Enter the age of the guest: \")\n",
    "\n",
    "while age != \"\":\n",
    "    age = int(age)\n",
    "    if age <=  BABY_LIMIT:\n",
    "        total = total + BABY_PRICE\n",
    "    elif age <= CHILD_LIMIT:\n",
    "        total = total + CHILD_PRICE\n",
    "    elif age <= ADULT_LIMIT:\n",
    "        total = total + \n",
    "    else:\n",
    "        print(\"senior limit\")\n",
    "        \n",
    "    age = input(\"Enter the age of the guest (blank to finish):\")\n",
    "    \n",
    "    \n",
    "print(\"$\",total)   \n",
    "#\n",
    " #   if age <= 2:\n",
    "  #  charge = 0\n",
    "#elif age > 2 and age < 12:\n",
    " #   charge = 14\n",
    "#elif age > 65:\n",
    " #   charge = 18\n",
    "#else:\n",
    " #   23\n",
    "    "
   ]
  },
  {
   "cell_type": "code",
   "execution_count": 6,
   "id": "7b452665",
   "metadata": {},
   "outputs": [
    {
     "name": "stdout",
     "output_type": "stream",
     "text": [
      "Enter the numbers: 88\n",
      "Enter the numbers: 334\n",
      "Enter the numbers: 11\n",
      "Enter the numbers: -200\n",
      "Enter the numbers: -12\n",
      "Enter the numbers: 0\n",
      "Enter the numbers: 0\n",
      "Enter the numbers: 34\n",
      "Enter the numbers: -1\n",
      "Enter the numbers: -2\n",
      "Enter the numbers: \n",
      "Negative:  -200\n",
      "Negative:  -12\n",
      "Negative:  -1\n",
      "Negative:  -2\n",
      "positive:  88\n",
      "positive:  334\n",
      "positive:  11\n",
      "positive:  34\n",
      "zero:  0\n",
      "zero:  0\n"
     ]
    }
   ],
   "source": [
    " #read a collection of integers from the user.\n",
    "#Display all of the negative numbers followed by all of the zeros, followed by all of positive numbers\n",
    "\n",
    "negative = []\n",
    "positive = []\n",
    "zero = []\n",
    "number = input(\"Enter the numbers: \" )\n",
    "while number != \"\":\n",
    "    if number[0] == '-':\n",
    "        negative.append(number)\n",
    "    elif number == '0':\n",
    "        zero.append(number)\n",
    "    else:\n",
    "        positive.append(number)\n",
    "    number = input(\"Enter the numbers: \" )\n",
    "for number in negative:\n",
    "    print(\"Negative: \", number)\n",
    "for number in positive:\n",
    "    print(\"positive: \", number)\n",
    "for number in zero:\n",
    "    print(\"zero: \" , number)\n",
    "    \n",
    "    "
   ]
  },
  {
   "cell_type": "code",
   "execution_count": 12,
   "id": "7fab7e01",
   "metadata": {},
   "outputs": [
    {
     "name": "stdout",
     "output_type": "stream",
     "text": [
      "Enter the numbers: 22\n",
      "Enter the numbers: 12\n",
      "Enter the numbers: -99\n",
      "Enter the numbers: -12\n",
      "Enter the numbers: 0\n",
      "Enter the numbers: 0\n",
      "Enter the numbers: 29\n",
      "Enter the numbers: 0\n",
      "Enter the numbers: \n",
      "Negative:  -99\n",
      "Negative:  -12\n",
      "*****\n",
      "positive:  22\n",
      "positive:  12\n",
      "positive:  29\n",
      "*****\n",
      "zero:  0\n",
      "zero:  0\n",
      "zero:  0\n"
     ]
    }
   ],
   "source": [
    " #read a collection of integers from the user.\n",
    "#Display all of the negative numbers followed by all of the zeros, followed by all of positive numbers\n",
    "\n",
    "negative = []\n",
    "positive = []\n",
    "zero = []\n",
    "number = input(\"Enter the numbers: \" )\n",
    "\n",
    "while number != \"\":\n",
    "    number = int(number)\n",
    "    if number < 0:\n",
    "        negative.append(number)\n",
    "    elif number > 0:\n",
    "        positive.append(number)\n",
    "    else:\n",
    "        zero.append(number)\n",
    "    number = input(\"Enter the numbers: \" )\n",
    "for number in negative:\n",
    "    print(\"Negative: \", number)\n",
    "print(\"*****\")\n",
    "for number in positive:\n",
    "    print(\"positive: \", number)\n",
    "print(\"*****\")\n",
    "for number in zero:\n",
    "    print(\"zero: \" , number)"
   ]
  },
  {
   "cell_type": "code",
   "execution_count": 1,
   "id": "74d51a3a",
   "metadata": {},
   "outputs": [
    {
     "name": "stdout",
     "output_type": "stream",
     "text": [
      "Enter a word: ashwin\n",
      "Enter a word: kumar\n",
      "Enter a word: bangalore\n",
      "Enter a word: ashwin\n",
      "Enter a word: kumar\n",
      "Enter a word: bangalore\n",
      "Enter a word: hey mere\n",
      "Enter a word: dkruiue\n",
      "Enter a word: ajeuue\n",
      "Enter a word: \n",
      "ashwin\n",
      "kumar\n",
      "bangalore\n",
      "hey mere\n",
      "dkruiue\n",
      "ajeuue\n"
     ]
    }
   ],
   "source": [
    "words = []\n",
    "word = input(\"Enter a word: \")\n",
    "\n",
    "while word != \"\":\n",
    "    if word not in words:\n",
    "        words.append(word)\n",
    "    word = input(\"Enter a word: \")\n",
    "for i in words:\n",
    "    print(i)"
   ]
  },
  {
   "cell_type": "code",
   "execution_count": 25,
   "id": "be4a4e49",
   "metadata": {},
   "outputs": [
    {
     "data": {
      "text/plain": [
       "'2,5 and 3'"
      ]
     },
     "execution_count": 25,
     "metadata": {},
     "output_type": "execute_result"
    }
   ],
   "source": [
    "#formatting a list\n",
    "def formatList(items):\n",
    "    if len(items) == 0:\n",
    "        return \"<empty>\"\n",
    "    if len(items) == 1:\n",
    "        return str(items[0])\n",
    "\n",
    "    result = ''\n",
    "    for i in range(0, len(items) - 2):\n",
    "        result = result + str(items[i]) + \",\"\n",
    "        result = result + str(items[len(items) - 2]) +  \" and \" \n",
    "        result = result + str(items[len(items)-1])\n",
    "        return result\n",
    "        \n",
    "\n",
    "    \n",
    "formatList([2,3,4,5,3])"
   ]
  },
  {
   "cell_type": "code",
   "execution_count": 31,
   "id": "2090e630",
   "metadata": {},
   "outputs": [
    {
     "name": "stdout",
     "output_type": "stream",
     "text": [
      "0,.1,.2,.3,.4,.5,.6,.7,."
     ]
    }
   ],
   "source": [
    "for i in range(0, 10-2):\n",
    "    print(i, end=',.')"
   ]
  },
  {
   "cell_type": "code",
   "execution_count": 30,
   "id": "b6ae64b5",
   "metadata": {},
   "outputs": [
    {
     "name": "stdout",
     "output_type": "stream",
     "text": [
      "0,1,2,3,4,"
     ]
    }
   ],
   "source": [
    "for i in range(5):\n",
    "    print(i, end=\",\")"
   ]
  },
  {
   "cell_type": "code",
   "execution_count": 28,
   "id": "6fae2561",
   "metadata": {},
   "outputs": [
    {
     "name": "stdout",
     "output_type": "stream",
     "text": [
      "-1,0,1,2,3,4,"
     ]
    }
   ],
   "source": [
    "for i in range(-1, 5):\n",
    "    print(i, end=',')"
   ]
  },
  {
   "cell_type": "code",
   "execution_count": 36,
   "id": "f179f5e2",
   "metadata": {},
   "outputs": [
    {
     "name": "stdout",
     "output_type": "stream",
     "text": [
      "0\n",
      "1\n",
      "2\n",
      "3\n",
      "4\n",
      "5\n"
     ]
    }
   ],
   "source": [
    "list = [1,3,5,4,6,4]\n",
    "length = len(list)\n",
    "#print(length)\n",
    "for i in range(length):\n",
    "    print(i)"
   ]
  },
  {
   "cell_type": "code",
   "execution_count": 40,
   "id": "2cbd0c58",
   "metadata": {},
   "outputs": [
    {
     "name": "stdout",
     "output_type": "stream",
     "text": [
      "1\n",
      "3\n",
      "5\n",
      "4\n",
      "6\n",
      "4\n"
     ]
    }
   ],
   "source": [
    "for i in range(length):\n",
    "    print(list[i])"
   ]
  },
  {
   "cell_type": "code",
   "execution_count": 43,
   "id": "2545f1b8",
   "metadata": {},
   "outputs": [
    {
     "name": "stdout",
     "output_type": "stream",
     "text": [
      "1\n",
      "3\n",
      "5\n",
      "7\n",
      "9\n"
     ]
    }
   ],
   "source": [
    "list = [1, 3, 5, 7, 9]\n",
    "length = len(list)\n",
    "i = 0\n",
    "while i < length:\n",
    "    print(list[i])\n",
    "    i+=1\n",
    "    "
   ]
  },
  {
   "cell_type": "code",
   "execution_count": null,
   "id": "5ef6bda9",
   "metadata": {},
   "outputs": [],
   "source": []
  }
 ],
 "metadata": {
  "kernelspec": {
   "display_name": "Python 3 (ipykernel)",
   "language": "python",
   "name": "python3"
  },
  "language_info": {
   "codemirror_mode": {
    "name": "ipython",
    "version": 3
   },
   "file_extension": ".py",
   "mimetype": "text/x-python",
   "name": "python",
   "nbconvert_exporter": "python",
   "pygments_lexer": "ipython3",
   "version": "3.9.13"
  }
 },
 "nbformat": 4,
 "nbformat_minor": 5
}
