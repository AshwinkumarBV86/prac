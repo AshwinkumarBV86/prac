{
 "cells": [
  {
   "cell_type": "code",
   "execution_count": 2,
   "id": "b32f76f3",
   "metadata": {},
   "outputs": [],
   "source": [
    "import numpy as np\n",
    "import pandas as pd\n"
   ]
  },
  {
   "cell_type": "code",
   "execution_count": 3,
   "id": "16999653",
   "metadata": {},
   "outputs": [],
   "source": [
    "# Set some pandas options\n",
    "pd.set_option('display.notebook_repr_html', False)\n",
    "pd.set_option('display.max_columns', 10)\n",
    "pd.set_option('display.max_rows', 10)\n"
   ]
  },
  {
   "cell_type": "code",
   "execution_count": 9,
   "id": "44baf519",
   "metadata": {},
   "outputs": [
    {
     "data": {
      "text/plain": [
       "    0   1\n",
       "0  10  11\n",
       "1  20  21"
      ]
     },
     "execution_count": 9,
     "metadata": {},
     "output_type": "execute_result"
    }
   ],
   "source": [
    "#each row is array forms a row in Dataframe object\n",
    "pd.DataFrame(np.array([[10,11],[20,21]]))"
   ]
  },
  {
   "cell_type": "code",
   "execution_count": 18,
   "id": "56647cc2",
   "metadata": {},
   "outputs": [
    {
     "data": {
      "text/plain": [
       "0    10\n",
       "1    11\n",
       "2    12\n",
       "3    13\n",
       "4    14\n",
       "dtype: int64"
      ]
     },
     "execution_count": 18,
     "metadata": {},
     "output_type": "execute_result"
    }
   ],
   "source": [
    "#create a dataframe fo a list of series objects\n",
    "pd.Series(np.arange(10, 15))\n"
   ]
  },
  {
   "cell_type": "code",
   "execution_count": 17,
   "id": "83ee2d93",
   "metadata": {},
   "outputs": [
    {
     "data": {
      "text/plain": [
       "0    20\n",
       "1    21\n",
       "2    22\n",
       "3    23\n",
       "4    24\n",
       "dtype: int64"
      ]
     },
     "execution_count": 17,
     "metadata": {},
     "output_type": "execute_result"
    }
   ],
   "source": [
    "pd.Series(np.arange(20,25))"
   ]
  },
  {
   "cell_type": "code",
   "execution_count": 20,
   "id": "35f64224",
   "metadata": {},
   "outputs": [
    {
     "data": {
      "text/plain": [
       "    0   1   2   3   4\n",
       "0  10  11  12  13  14\n",
       "1  20  21  22  23  24"
      ]
     },
     "execution_count": 20,
     "metadata": {},
     "output_type": "execute_result"
    }
   ],
   "source": [
    "#join 2 series to create a dataframe\n",
    "df1 = pd.DataFrame([pd.Series(np.arange(10, 15)), pd.Series(np.arange(20,25))])\n",
    "df1"
   ]
  },
  {
   "cell_type": "code",
   "execution_count": 22,
   "id": "8f8a8075",
   "metadata": {},
   "outputs": [
    {
     "data": {
      "text/plain": [
       "(2, 5)"
      ]
     },
     "execution_count": 22,
     "metadata": {},
     "output_type": "execute_result"
    }
   ],
   "source": [
    "#dataframe is always 2 dimensional\n",
    "df1.shape"
   ]
  },
  {
   "cell_type": "code",
   "execution_count": 26,
   "id": "9c4ab90e",
   "metadata": {},
   "outputs": [
    {
     "data": {
      "text/plain": [
       "    a   b\n",
       "0  10  20\n",
       "1  20  30"
      ]
     },
     "execution_count": 26,
     "metadata": {},
     "output_type": "execute_result"
    }
   ],
   "source": [
    "#column names can be specified at the time of creating the dataframe by using columns parameter\n",
    "df = pd.DataFrame(np.array([[10,20], [20,30]]) , columns=['a','b'])\n",
    "df"
   ]
  },
  {
   "cell_type": "code",
   "execution_count": 29,
   "id": "479b958d",
   "metadata": {},
   "outputs": [
    {
     "data": {
      "text/plain": [
       "Index(['a', 'b'], dtype='object')"
      ]
     },
     "execution_count": 29,
     "metadata": {},
     "output_type": "execute_result"
    }
   ],
   "source": [
    "#The names of the columns of a DataFrame can be accessed with its .columns property\n",
    "df.columns"
   ]
  },
  {
   "cell_type": "code",
   "execution_count": 30,
   "id": "c5847b71",
   "metadata": {},
   "outputs": [
    {
     "data": {
      "text/plain": [
       "'a,b'"
      ]
     },
     "execution_count": 30,
     "metadata": {},
     "output_type": "execute_result"
    }
   ],
   "source": [
    "# retrieve just the names of the columns by position\n",
    "\"{0},{1}\".format(df.columns[0], df.columns[1])"
   ]
  },
  {
   "cell_type": "code",
   "execution_count": 35,
   "id": "b7330714",
   "metadata": {},
   "outputs": [
    {
     "data": {
      "text/plain": [
       "   c1  c2\n",
       "0  10  20\n",
       "1  20  30"
      ]
     },
     "execution_count": 35,
     "metadata": {},
     "output_type": "execute_result"
    }
   ],
   "source": [
    "#rename the columns\n",
    "df.columns = [\"c1\", \"c2\"]\n",
    "df"
   ]
  },
  {
   "cell_type": "code",
   "execution_count": 41,
   "id": "3aadac8e",
   "metadata": {},
   "outputs": [
    {
     "data": {
      "text/plain": [
       "   a  b\n",
       "x  0  1\n",
       "y  2  3"
      ]
     },
     "execution_count": 41,
     "metadata": {},
     "output_type": "execute_result"
    }
   ],
   "source": [
    "df = pd.DataFrame(np.array([[0,1], [2,3]]), columns = ['a', 'b'], index = ['x', 'y'])\n",
    "df"
   ]
  },
  {
   "cell_type": "code",
   "execution_count": 42,
   "id": "a02a938c",
   "metadata": {},
   "outputs": [
    {
     "data": {
      "text/plain": [
       "Index(['x', 'y'], dtype='object')"
      ]
     },
     "execution_count": 42,
     "metadata": {},
     "output_type": "execute_result"
    }
   ],
   "source": [
    "df.index\n"
   ]
  },
  {
   "cell_type": "code",
   "execution_count": 51,
   "id": "8910b86c",
   "metadata": {},
   "outputs": [
    {
     "name": "stdout",
     "output_type": "stream",
     "text": [
      "0    1\n",
      "1    2\n",
      "2    3\n",
      "3    4\n",
      "4    5\n",
      "dtype: int64\n",
      "0     6\n",
      "1     7\n",
      "2     8\n",
      "3     9\n",
      "4    10\n",
      "dtype: int64\n"
     ]
    },
    {
     "data": {
      "text/plain": [
       "    c1\n",
       "c2  s2"
      ]
     },
     "execution_count": 51,
     "metadata": {},
     "output_type": "execute_result"
    }
   ],
   "source": [
    "#create a dataframe with two series objects and a dictionary\n",
    "s1 = pd.Series(np.arange(1,6,1))\n",
    "print(s1)\n",
    "s2 = pd.Series(np.arange(6,11,1))\n",
    "print(s2)\n"
   ]
  },
  {
   "cell_type": "code",
   "execution_count": 64,
   "id": "6a554236",
   "metadata": {},
   "outputs": [
    {
     "data": {
      "text/plain": [
       "   c1  c2\n",
       "0   1   6\n",
       "1   2   7\n",
       "2   3   8\n",
       "3   4   9\n",
       "4   5  10"
      ]
     },
     "execution_count": 64,
     "metadata": {},
     "output_type": "execute_result"
    }
   ],
   "source": [
    "pd.DataFrame({'c1': s1,'c2' : s2})\n"
   ]
  },
  {
   "cell_type": "code",
   "execution_count": 66,
   "id": "294fe63b",
   "metadata": {},
   "outputs": [
    {
     "data": {
      "text/plain": [
       "1    12\n",
       "2    13\n",
       "dtype: int64"
      ]
     },
     "execution_count": 66,
     "metadata": {},
     "output_type": "execute_result"
    }
   ],
   "source": [
    "#A DataFrame also performs automatic alignment of the data for each Series passed in by a dictionary\n",
    "s3 = pd.Series(np.arange(12,14) , index = [1,2])\n",
    "s3"
   ]
  },
  {
   "cell_type": "code",
   "execution_count": 69,
   "id": "51a6bf88",
   "metadata": {},
   "outputs": [
    {
     "data": {
      "text/plain": [
       "   c1  c2    c3\n",
       "0   1   6   NaN\n",
       "1   2   7  12.0\n",
       "2   3   8  13.0\n",
       "3   4   9   NaN\n",
       "4   5  10   NaN"
      ]
     },
     "execution_count": 69,
     "metadata": {},
     "output_type": "execute_result"
    }
   ],
   "source": [
    "df = pd.DataFrame({\"c1\": s1 , \"c2\": s2 , \"c3\" : s3})\n",
    "df"
   ]
  },
  {
   "cell_type": "code",
   "execution_count": 70,
   "id": "084fbcea",
   "metadata": {},
   "outputs": [
    {
     "name": "stdout",
     "output_type": "stream",
     "text": [
      "﻿Symbol,Name,Sector,Price,Dividend Yield,Price/Earnings,Earnings/Share,Book Value,52 week low,52 week high,Market Cap,EBITDA,Price/Sales,Price/Book,SEC Filings\r",
      "\r\n",
      "MMM,3M Co.,Industrials,141.14,2.12,20.33,6.9,26.668,107.15,143.37,92.345,8.121,2.95,5.26,http://www.sec.gov/cgi-bin/browse-edgar?action=getcompany&CIK=MMM\r",
      "\r\n",
      "ABT,Abbott Laboratories,Health Care,39.6,1.82,25.93,1.529,15.573,32.7,40.49,59.477,4.359,2.74,2.55,http://www.sec.gov/cgi-bin/browse-edgar?action=getcompany&CIK=ABT\r",
      "\r\n"
     ]
    }
   ],
   "source": [
    "!head -n 3 sp500.csv"
   ]
  },
  {
   "cell_type": "code",
   "execution_count": 80,
   "id": "d65cdcf1",
   "metadata": {},
   "outputs": [],
   "source": [
    "#read in the data and print the first five rows\n",
    "#use the Symbol column as the index, and\n",
    "# only read in columns in positions 0, 2, 3, 7\n",
    "sp500 = pd.read_csv(\"sp500.csv\", index_col = \"Symbol\", usecols = [0,2,3,7])\n"
   ]
  },
  {
   "cell_type": "code",
   "execution_count": 183,
   "id": "2e46d418",
   "metadata": {},
   "outputs": [
    {
     "data": {
      "text/plain": [
       "                        Sector   Price  Book Value\n",
       "Symbol                                            \n",
       "MMM                Industrials  141.14      26.668\n",
       "ABT                Health Care   39.60      15.573\n",
       "ABBV               Health Care   53.95       2.954\n",
       "ACN     Information Technology   79.79       8.326\n",
       "ACE                 Financials  102.91      86.897\n",
       "...                        ...     ...         ...\n",
       "AES                  Utilities   13.61       5.781\n",
       "AET                Health Care   76.39      40.021\n",
       "AFL                 Financials   61.31      34.527\n",
       "A                  Health Care   56.18      16.928\n",
       "GAS                  Utilities   52.98      32.462\n",
       "\n",
       "[12 rows x 3 columns]"
      ]
     },
     "execution_count": 183,
     "metadata": {},
     "output_type": "execute_result"
    }
   ],
   "source": [
    "# peek at the first 5 rows of the data using .head()\n",
    "sp500.head(12)"
   ]
  },
  {
   "cell_type": "code",
   "execution_count": 88,
   "id": "3de2c270",
   "metadata": {},
   "outputs": [
    {
     "data": {
      "text/plain": [
       "                        Sector   Price  Book Value\n",
       "Symbol                                            \n",
       "YHOO    Information Technology   35.02      12.768\n",
       "YUM     Consumer Discretionary   74.77       5.147\n",
       "ZMH                Health Care  101.84      37.181\n",
       "ZION                Financials   28.43      30.191\n",
       "ZTS                Health Care   30.53       2.150"
      ]
     },
     "execution_count": 88,
     "metadata": {},
     "output_type": "execute_result"
    }
   ],
   "source": [
    "# peek at the last 5 rows of the data using .tail()\n",
    "sp500.tail()"
   ]
  },
  {
   "cell_type": "code",
   "execution_count": 89,
   "id": "77b7d67d",
   "metadata": {},
   "outputs": [
    {
     "data": {
      "text/plain": [
       "500"
      ]
     },
     "execution_count": 89,
     "metadata": {},
     "output_type": "execute_result"
    }
   ],
   "source": [
    "# how many rows of data?\n",
    "len(sp500)"
   ]
  },
  {
   "cell_type": "code",
   "execution_count": 92,
   "id": "2ea58106",
   "metadata": {},
   "outputs": [
    {
     "data": {
      "text/plain": [
       "Index(['MMM', 'ABT', 'ABBV', 'ACN', 'ACE', 'ACT', 'ADBE', 'AES', 'AET', 'AFL',\n",
       "       ...\n",
       "       'XEL', 'XRX', 'XLNX', 'XL', 'XYL', 'YHOO', 'YUM', 'ZMH', 'ZION', 'ZTS'],\n",
       "      dtype='object', name='Symbol', length=500)"
      ]
     },
     "execution_count": 92,
     "metadata": {},
     "output_type": "execute_result"
    }
   ],
   "source": [
    "#examine the index\n",
    "sp500.index"
   ]
  },
  {
   "cell_type": "code",
   "execution_count": 93,
   "id": "c22d6dd4",
   "metadata": {},
   "outputs": [
    {
     "data": {
      "text/plain": [
       "Index(['Sector', 'Price', 'Book Value'], dtype='object')"
      ]
     },
     "execution_count": 93,
     "metadata": {},
     "output_type": "execute_result"
    }
   ],
   "source": [
    "# get the columns\n",
    "sp500.columns"
   ]
  },
  {
   "cell_type": "code",
   "execution_count": 97,
   "id": "70c99012",
   "metadata": {},
   "outputs": [
    {
     "data": {
      "text/plain": [
       "         Date   MSFT    AAPL\n",
       "0  2014-12-01  48.62  115.07\n",
       "1  2014-12-02  48.46  114.63\n",
       "2  2014-12-03  48.08  115.93\n",
       "3  2014-12-04  48.84  115.49\n",
       "4  2014-12-05  48.42  115.00"
      ]
     },
     "execution_count": 97,
     "metadata": {},
     "output_type": "execute_result"
    }
   ],
   "source": [
    "one_mon_hist = pd.read_csv(\"omh.csv\")\n",
    "one_mon_hist.head()"
   ]
  },
  {
   "cell_type": "code",
   "execution_count": 98,
   "id": "63264b9d",
   "metadata": {},
   "outputs": [
    {
     "name": "stdout",
     "output_type": "stream",
     "text": [
      "Date,MSFT,AAPL\r\n",
      "2014-12-01,48.62,115.07\r\n",
      "2014-12-02,48.46,114.63\r\n"
     ]
    }
   ],
   "source": [
    "# examine the first three rows\n",
    "!head -n 3 omh.csv"
   ]
  },
  {
   "cell_type": "code",
   "execution_count": 102,
   "id": "ff2e11b1",
   "metadata": {},
   "outputs": [
    {
     "data": {
      "text/plain": [
       "         Date   MSFT    AAPL\n",
       "0  2014-12-01  48.62  115.07\n",
       "1  2014-12-02  48.46  114.63\n",
       "2  2014-12-03  48.08  115.93"
      ]
     },
     "execution_count": 102,
     "metadata": {},
     "output_type": "execute_result"
    }
   ],
   "source": [
    "# examine the first three rows\n",
    "one_mon_hist[0:3]"
   ]
  },
  {
   "cell_type": "code",
   "execution_count": 121,
   "id": "c374f4ac",
   "metadata": {},
   "outputs": [
    {
     "data": {
      "text/plain": [
       "                        Sector   Price\n",
       "Symbol                                \n",
       "MMM                Industrials  141.14\n",
       "ABT                Health Care   39.60\n",
       "ABBV               Health Care   53.95\n",
       "ACN     Information Technology   79.79\n",
       "ACE                 Financials  102.91\n",
       "...                        ...     ...\n",
       "YHOO    Information Technology   35.02\n",
       "YUM     Consumer Discretionary   74.77\n",
       "ZMH                Health Care  101.84\n",
       "ZION                Financials   28.43\n",
       "ZTS                Health Care   30.53\n",
       "\n",
       "[500 rows x 2 columns]"
      ]
     },
     "execution_count": 121,
     "metadata": {},
     "output_type": "execute_result"
    }
   ],
   "source": [
    "sp500.loc[:,[\"Sector\",\"Price\"]]"
   ]
  },
  {
   "cell_type": "code",
   "execution_count": 148,
   "id": "51e2eb9b",
   "metadata": {},
   "outputs": [
    {
     "data": {
      "text/plain": [
       "         Price\n",
       "Symbol        \n",
       "MMM     141.14\n",
       "ABT      39.60\n",
       "ABBV     53.95\n",
       "ACN      79.79\n",
       "ACE     102.91"
      ]
     },
     "execution_count": 148,
     "metadata": {},
     "output_type": "execute_result"
    }
   ],
   "source": [
    "sp500.loc[:, [\"Price\"]].head()"
   ]
  },
  {
   "cell_type": "code",
   "execution_count": 149,
   "id": "8717b563",
   "metadata": {},
   "outputs": [
    {
     "data": {
      "text/plain": [
       "         Price\n",
       "Symbol        \n",
       "MMM     141.14\n",
       "ABT      39.60\n",
       "ABBV     53.95\n",
       "ACN      79.79\n",
       "ACE     102.91"
      ]
     },
     "execution_count": 149,
     "metadata": {},
     "output_type": "execute_result"
    }
   ],
   "source": [
    "sp500[[\"Price\"]].head()"
   ]
  },
  {
   "cell_type": "code",
   "execution_count": 151,
   "id": "a15fbcd2",
   "metadata": {},
   "outputs": [
    {
     "data": {
      "text/plain": [
       "pandas.core.series.Series"
      ]
     },
     "execution_count": 151,
     "metadata": {},
     "output_type": "execute_result"
    }
   ],
   "source": [
    "type(sp500[\"Price\"].head())"
   ]
  },
  {
   "cell_type": "code",
   "execution_count": 146,
   "id": "233407fd",
   "metadata": {},
   "outputs": [
    {
     "data": {
      "text/plain": [
       "                             1       2       3\n",
       "Symbol                                        \n",
       "MMM                Industrials  141.14  26.668\n",
       "ABT                Health Care   39.60  15.573\n",
       "ABBV               Health Care   53.95   2.954\n",
       "ACN     Information Technology   79.79   8.326\n",
       "ACE                 Financials  102.91  86.897\n",
       "...                        ...     ...     ...\n",
       "YHOO    Information Technology   35.02  12.768\n",
       "YUM     Consumer Discretionary   74.77   5.147\n",
       "ZMH                Health Care  101.84  37.181\n",
       "ZION                Financials   28.43  30.191\n",
       "ZTS                Health Care   30.53   2.150\n",
       "\n",
       "[500 rows x 3 columns]"
      ]
     },
     "execution_count": 146,
     "metadata": {},
     "output_type": "execute_result"
    }
   ],
   "source": [
    "# create a new DataFrame with integers as the column names\n",
    "df = sp500.copy()\n",
    "df.columns = [1,2,3]\n",
    "df"
   ]
  },
  {
   "cell_type": "code",
   "execution_count": 141,
   "id": "861c6d57",
   "metadata": {},
   "outputs": [
    {
     "data": {
      "text/plain": [
       "                             1       2       3\n",
       "Symbol                                        \n",
       "MMM                Industrials  141.14  26.668\n",
       "ABT                Health Care   39.60  15.573\n",
       "ABBV               Health Care   53.95   2.954\n",
       "ACN     Information Technology   79.79   8.326\n",
       "ACE                 Financials  102.91  86.897"
      ]
     },
     "execution_count": 141,
     "metadata": {},
     "output_type": "execute_result"
    }
   ],
   "source": [
    "df.head()"
   ]
  },
  {
   "cell_type": "code",
   "execution_count": 142,
   "id": "c85a9845",
   "metadata": {},
   "outputs": [
    {
     "data": {
      "text/plain": [
       "Symbol\n",
       "MMM                Industrials\n",
       "ABT                Health Care\n",
       "ABBV               Health Care\n",
       "ACN     Information Technology\n",
       "ACE                 Financials\n",
       "                 ...          \n",
       "YHOO    Information Technology\n",
       "YUM     Consumer Discretionary\n",
       "ZMH                Health Care\n",
       "ZION                Financials\n",
       "ZTS                Health Care\n",
       "Name: 1, Length: 500, dtype: object"
      ]
     },
     "execution_count": 142,
     "metadata": {},
     "output_type": "execute_result"
    }
   ],
   "source": [
    "df[1]"
   ]
  },
  {
   "cell_type": "code",
   "execution_count": 143,
   "id": "0f6ada1e",
   "metadata": {},
   "outputs": [
    {
     "data": {
      "text/plain": [
       "pandas.core.series.Series"
      ]
     },
     "execution_count": 143,
     "metadata": {},
     "output_type": "execute_result"
    }
   ],
   "source": [
    "type(df[1])"
   ]
  },
  {
   "cell_type": "code",
   "execution_count": 153,
   "id": "44c9c8ec",
   "metadata": {},
   "outputs": [
    {
     "data": {
      "text/plain": [
       "                       company   Price       X\n",
       "Symbol                                        \n",
       "MMM                Industrials  141.14  26.668\n",
       "ABT                Health Care   39.60  15.573\n",
       "ABBV               Health Care   53.95   2.954\n",
       "ACN     Information Technology   79.79   8.326\n",
       "ACE                 Financials  102.91  86.897\n",
       "...                        ...     ...     ...\n",
       "YHOO    Information Technology   35.02  12.768\n",
       "YUM     Consumer Discretionary   74.77   5.147\n",
       "ZMH                Health Care  101.84  37.181\n",
       "ZION                Financials   28.43  30.191\n",
       "ZTS                Health Care   30.53   2.150\n",
       "\n",
       "[500 rows x 3 columns]"
      ]
     },
     "execution_count": 153,
     "metadata": {},
     "output_type": "execute_result"
    }
   ],
   "source": [
    "df.columns = [\"company\",\"Price\",\"X\"]\n",
    "df"
   ]
  },
  {
   "cell_type": "code",
   "execution_count": 154,
   "id": "ed5f9e65",
   "metadata": {},
   "outputs": [
    {
     "data": {
      "text/plain": [
       "Symbol\n",
       "MMM                Industrials\n",
       "ABT                Health Care\n",
       "ABBV               Health Care\n",
       "ACN     Information Technology\n",
       "ACE                 Financials\n",
       "                 ...          \n",
       "YHOO    Information Technology\n",
       "YUM     Consumer Discretionary\n",
       "ZMH                Health Care\n",
       "ZION                Financials\n",
       "ZTS                Health Care\n",
       "Name: company, Length: 500, dtype: object"
      ]
     },
     "execution_count": 154,
     "metadata": {},
     "output_type": "execute_result"
    }
   ],
   "source": [
    "df[\"company\"]"
   ]
  },
  {
   "cell_type": "code",
   "execution_count": 155,
   "id": "dadf050a",
   "metadata": {},
   "outputs": [
    {
     "data": {
      "text/plain": [
       "pandas.core.series.Series"
      ]
     },
     "execution_count": 155,
     "metadata": {},
     "output_type": "execute_result"
    }
   ],
   "source": [
    "type(df[\"company\"])"
   ]
  },
  {
   "cell_type": "code",
   "execution_count": 163,
   "id": "3ef6de9e",
   "metadata": {},
   "outputs": [
    {
     "data": {
      "text/plain": [
       "Symbol\n",
       "MMM     141.14\n",
       "ABT      39.60\n",
       "ABBV     53.95\n",
       "ACN      79.79\n",
       "ACE     102.91\n",
       "         ...  \n",
       "YHOO     35.02\n",
       "YUM      74.77\n",
       "ZMH     101.84\n",
       "ZION     28.43\n",
       "ZTS      30.53\n",
       "Name: Price, Length: 500, dtype: float64"
      ]
     },
     "execution_count": 163,
     "metadata": {},
     "output_type": "execute_result"
    }
   ],
   "source": [
    "sp500.Price\n"
   ]
  },
  {
   "cell_type": "code",
   "execution_count": 164,
   "id": "5296e7b5",
   "metadata": {},
   "outputs": [
    {
     "data": {
      "text/plain": [
       "Symbol\n",
       "MMM     141.14\n",
       "ABT      39.60\n",
       "ABBV     53.95\n",
       "ACN      79.79\n",
       "ACE     102.91\n",
       "         ...  \n",
       "YHOO     35.02\n",
       "YUM      74.77\n",
       "ZMH     101.84\n",
       "ZION     28.43\n",
       "ZTS      30.53\n",
       "Name: Price, Length: 500, dtype: float64"
      ]
     },
     "execution_count": 164,
     "metadata": {},
     "output_type": "execute_result"
    }
   ],
   "source": [
    "# attribute access of the column by name\n",
    "sp500['Price']"
   ]
  },
  {
   "cell_type": "code",
   "execution_count": 166,
   "id": "6884f786",
   "metadata": {},
   "outputs": [
    {
     "data": {
      "text/plain": [
       "1"
      ]
     },
     "execution_count": 166,
     "metadata": {},
     "output_type": "execute_result"
    }
   ],
   "source": [
    "sp500.columns.get_loc('Price')"
   ]
  },
  {
   "cell_type": "code",
   "execution_count": 167,
   "id": "f7f21365",
   "metadata": {},
   "outputs": [
    {
     "data": {
      "text/plain": [
       "                        Sector   Price  Book Value\n",
       "Symbol                                            \n",
       "MMM                Industrials  141.14      26.668\n",
       "ABT                Health Care   39.60      15.573\n",
       "ABBV               Health Care   53.95       2.954\n",
       "ACN     Information Technology   79.79       8.326\n",
       "ACE                 Financials  102.91      86.897"
      ]
     },
     "execution_count": 167,
     "metadata": {},
     "output_type": "execute_result"
    }
   ],
   "source": [
    "# first five rows\n",
    "sp500[:5]"
   ]
  },
  {
   "cell_type": "code",
   "execution_count": 168,
   "id": "0cfac6cd",
   "metadata": {},
   "outputs": [
    {
     "data": {
      "text/plain": [
       "                        Sector  Price  Book Value\n",
       "Symbol                                           \n",
       "ABT                Health Care  39.60      15.573\n",
       "ABBV               Health Care  53.95       2.954\n",
       "ACN     Information Technology  79.79       8.326"
      ]
     },
     "execution_count": 168,
     "metadata": {},
     "output_type": "execute_result"
    }
   ],
   "source": [
    "sp500['ABT':'ACN']"
   ]
  },
  {
   "cell_type": "code",
   "execution_count": 170,
   "id": "07293bc5",
   "metadata": {},
   "outputs": [
    {
     "data": {
      "text/plain": [
       "Sector        Industrials\n",
       "Price              141.14\n",
       "Book Value         26.668\n",
       "Name: MMM, dtype: object"
      ]
     },
     "execution_count": 170,
     "metadata": {},
     "output_type": "execute_result"
    }
   ],
   "source": [
    "# get row with label MMM\n",
    "# returned as a Series\n",
    "sp500.loc['MMM']"
   ]
  },
  {
   "cell_type": "code",
   "execution_count": 172,
   "id": "3483c0b7",
   "metadata": {},
   "outputs": [
    {
     "data": {
      "text/plain": [
       "             Sector   Price  Book Value\n",
       "Symbol                                 \n",
       "MMM     Industrials  141.14      26.668\n",
       "ABT     Health Care   39.60      15.573"
      ]
     },
     "execution_count": 172,
     "metadata": {},
     "output_type": "execute_result"
    }
   ],
   "source": [
    "# rows with label MMM and MSFT\n",
    "   # this is a DataFrame result\n",
    "sp500.loc[['MMM','ABT']]"
   ]
  },
  {
   "cell_type": "code",
   "execution_count": 178,
   "id": "079fb3f5",
   "metadata": {},
   "outputs": [
    {
     "data": {
      "text/plain": [
       "             Sector   Price  Book Value\n",
       "Symbol                                 \n",
       "MMM     Industrials  141.14      26.668\n",
       "ABBV    Health Care   53.95       2.954"
      ]
     },
     "execution_count": 178,
     "metadata": {},
     "output_type": "execute_result"
    }
   ],
   "source": [
    "sp500.iloc[[0,2]]"
   ]
  },
  {
   "cell_type": "code",
   "execution_count": 184,
   "id": "0c79ac96",
   "metadata": {},
   "outputs": [
    {
     "data": {
      "text/plain": [
       "'0 10'"
      ]
     },
     "execution_count": 184,
     "metadata": {},
     "output_type": "execute_result"
    }
   ],
   "source": [
    "# get the location of MMM and A in the index\n",
    "i1 = sp500.index.get_loc('MMM')\n",
    "i2 = sp500.index.get_loc('A')\n",
    "\"{0} {1}\".format(i1, i2)"
   ]
  },
  {
   "cell_type": "code",
   "execution_count": 186,
   "id": "5e7c5380",
   "metadata": {},
   "outputs": [
    {
     "data": {
      "text/plain": [
       "             Sector   Price  Book Value\n",
       "Symbol                                 \n",
       "MMM     Industrials  141.14      26.668\n",
       "A       Health Care   56.18      16.928"
      ]
     },
     "execution_count": 186,
     "metadata": {},
     "output_type": "execute_result"
    }
   ],
   "source": [
    " # and get the rows\n",
    "sp500.iloc[[i1, i2]]"
   ]
  },
  {
   "cell_type": "code",
   "execution_count": null,
   "id": "ac304646",
   "metadata": {},
   "outputs": [],
   "source": []
  },
  {
   "cell_type": "code",
   "execution_count": 188,
   "id": "8910ec46",
   "metadata": {},
   "outputs": [
    {
     "data": {
      "text/plain": [
       "141.14"
      ]
     },
     "execution_count": 188,
     "metadata": {},
     "output_type": "execute_result"
    }
   ],
   "source": [
    "# by label in both the index and column\n",
    "sp500.at['MMM', 'Price']"
   ]
  },
  {
   "cell_type": "code",
   "execution_count": 189,
   "id": "20392a10",
   "metadata": {},
   "outputs": [
    {
     "data": {
      "text/plain": [
       "141.14"
      ]
     },
     "execution_count": 189,
     "metadata": {},
     "output_type": "execute_result"
    }
   ],
   "source": [
    "# by location.  Row 0, column 1\n",
    "sp500.iat[0,1]"
   ]
  },
  {
   "cell_type": "code",
   "execution_count": 190,
   "id": "383f7960",
   "metadata": {},
   "outputs": [
    {
     "data": {
      "text/plain": [
       "Symbol\n",
       "MMM     False\n",
       "ABT      True\n",
       "ABBV     True\n",
       "ACN      True\n",
       "ACE     False\n",
       "        ...  \n",
       "YHOO     True\n",
       "YUM      True\n",
       "ZMH     False\n",
       "ZION     True\n",
       "ZTS      True\n",
       "Name: Price, Length: 500, dtype: bool"
      ]
     },
     "execution_count": 190,
     "metadata": {},
     "output_type": "execute_result"
    }
   ],
   "source": [
    "# what rows have a price < 100?\n",
    "sp500.Price < 100"
   ]
  },
  {
   "cell_type": "code",
   "execution_count": 197,
   "id": "dd33ccd6",
   "metadata": {},
   "outputs": [
    {
     "data": {
      "text/plain": [
       "                        Sector  Price  Book Value\n",
       "Symbol                                           \n",
       "ABT                Health Care  39.60      15.573\n",
       "ABBV               Health Care  53.95       2.954\n",
       "ACN     Information Technology  79.79       8.326\n",
       "ADBE    Information Technology  64.30      13.262\n",
       "AES                  Utilities  13.61       5.781\n",
       "...                        ...    ...         ...\n",
       "XYL                Industrials  38.42      12.127\n",
       "YHOO    Information Technology  35.02      12.768\n",
       "YUM     Consumer Discretionary  74.77       5.147\n",
       "ZION                Financials  28.43      30.191\n",
       "ZTS                Health Care  30.53       2.150\n",
       "\n",
       "[407 rows x 3 columns]"
      ]
     },
     "execution_count": 197,
     "metadata": {},
     "output_type": "execute_result"
    }
   ],
   "source": [
    "# now get the rows with Price < 100\n",
    "sp500[sp500.Price < 100]"
   ]
  },
  {
   "cell_type": "code",
   "execution_count": 203,
   "id": "bcbcbc57",
   "metadata": {},
   "outputs": [
    {
     "data": {
      "text/plain": [
       "        Price\n",
       "Symbol       \n",
       "FTR      5.81\n",
       "HCBK     9.80\n",
       "HBAN     9.10\n",
       "SLM      8.82\n",
       "WIN      9.38"
      ]
     },
     "execution_count": 203,
     "metadata": {},
     "output_type": "execute_result"
    }
   ],
   "source": [
    "# get only the Price where Price is < 10 and > 0\n",
    "r = sp500[(sp500.Price > 0) & (sp500.Price < 10)][['Price']]"
   ]
  },
  {
   "cell_type": "code",
   "execution_count": 204,
   "id": "67786847",
   "metadata": {},
   "outputs": [
    {
     "data": {
      "text/plain": [
       "Symbol\n",
       "FTR     5.81\n",
       "HCBK    9.80\n",
       "HBAN    9.10\n",
       "SLM     8.82\n",
       "WIN     9.38\n",
       "Name: Price, dtype: float64"
      ]
     },
     "execution_count": 204,
     "metadata": {},
     "output_type": "execute_result"
    }
   ],
   "source": [
    "# get only the Price where Price is < 10 and > 0\n",
    "sp500[(sp500.Price > 0) & (sp500.Price < 10)].Price"
   ]
  },
  {
   "cell_type": "code",
   "execution_count": 210,
   "id": "b5755756",
   "metadata": {},
   "outputs": [
    {
     "name": "stdout",
     "output_type": "stream",
     "text": [
      "             Sector   Price  BookValue\n",
      "Symbol                                \n",
      "MMM     Industrials  141.14     26.668\n",
      "ABT     Health Care   39.60     15.573\n"
     ]
    }
   ],
   "source": [
    "# rename the Book Value column to not have a space\n",
    "   # this returns a copy with the column renamed\n",
    "df = sp500.rename(columns = {'Book Value': 'BookValue'})\n",
    "df.head(2)\n",
    "#or\n",
    "print(df[0:2])"
   ]
  },
  {
   "cell_type": "code",
   "execution_count": 208,
   "id": "1a2acc9e",
   "metadata": {},
   "outputs": [
    {
     "data": {
      "text/plain": [
       "Index(['Sector', 'Price', 'Book Value'], dtype='object')"
      ]
     },
     "execution_count": 208,
     "metadata": {},
     "output_type": "execute_result"
    }
   ],
   "source": [
    "# verify the columns in the original did not change\n",
    "sp500.columns"
   ]
  },
  {
   "cell_type": "code",
   "execution_count": 211,
   "id": "f6bbb91d",
   "metadata": {},
   "outputs": [
    {
     "data": {
      "text/plain": [
       "Index(['Sector', 'Price', 'BookValue'], dtype='object')"
      ]
     },
     "execution_count": 211,
     "metadata": {},
     "output_type": "execute_result"
    }
   ],
   "source": [
    "#this changes the column in-place\n",
    "sp500.rename(columns = {'Book Value':'BookValue'}, inplace = True)\n",
    "sp500.columns"
   ]
  },
  {
   "cell_type": "code",
   "execution_count": 213,
   "id": "ed651279",
   "metadata": {},
   "outputs": [
    {
     "data": {
      "text/plain": [
       "Symbol\n",
       "MMM     26.668\n",
       "ABT     15.573\n",
       "ABBV     2.954\n",
       "ACN      8.326\n",
       "ACE     86.897\n",
       "Name: BookValue, dtype: float64"
      ]
     },
     "execution_count": 213,
     "metadata": {},
     "output_type": "execute_result"
    }
   ],
   "source": [
    " # and now we can use .BookValue\n",
    "sp500.BookValue[:5]"
   ]
  },
  {
   "cell_type": "code",
   "execution_count": 215,
   "id": "bdc7de15",
   "metadata": {},
   "outputs": [
    {
     "data": {
      "text/plain": [
       "Symbol\n",
       "MMM     26.668\n",
       "ABT     15.573\n",
       "ABBV     2.954\n",
       "ACN      8.326\n",
       "ACE     86.897\n",
       "Name: BookValue, dtype: float64"
      ]
     },
     "execution_count": 215,
     "metadata": {},
     "output_type": "execute_result"
    }
   ],
   "source": [
    "sp500.iloc[0:5].BookValue"
   ]
  },
  {
   "cell_type": "code",
   "execution_count": 226,
   "id": "5f52ac43",
   "metadata": {},
   "outputs": [
    {
     "data": {
      "text/plain": [
       "             Sector   Price  BookValue  TwicePrice\n",
       "Symbol                                            \n",
       "MMM     Industrials  141.14     26.668      282.28\n",
       "ABT     Health Care   39.60     15.573       79.20"
      ]
     },
     "execution_count": 226,
     "metadata": {},
     "output_type": "execute_result"
    }
   ],
   "source": [
    " # make a copy\n",
    "copy = sp500.copy()\n",
    "copy\n",
    "#add a new column to the copy\n",
    "copy['TwicePrice'] = copy[\"Price\"] * 2\n",
    "# OR copy['TwicePrice'] = sp500.Price * 2\n",
    "copy[0:2]"
   ]
  },
  {
   "cell_type": "code",
   "execution_count": 221,
   "id": "8dde9714",
   "metadata": {},
   "outputs": [
    {
     "data": {
      "text/plain": [
       "Symbol\n",
       "MMM     282.28\n",
       "ABT      79.20\n",
       "ABBV    107.90\n",
       "ACN     159.58\n",
       "ACE     205.82\n",
       "         ...  \n",
       "YHOO     70.04\n",
       "YUM     149.54\n",
       "ZMH     203.68\n",
       "ZION     56.86\n",
       "ZTS      61.06\n",
       "Name: Price, Length: 500, dtype: float64"
      ]
     },
     "execution_count": 221,
     "metadata": {},
     "output_type": "execute_result"
    }
   ],
   "source": [
    "copy[\"Price\"] * 2"
   ]
  },
  {
   "cell_type": "code",
   "execution_count": 230,
   "id": "352eb8b6",
   "metadata": {},
   "outputs": [
    {
     "data": {
      "text/plain": [
       "             Sector  TwicePrice   Price  BookValue\n",
       "Symbol                                            \n",
       "MMM     Industrials      282.28  141.14     26.668\n",
       "ABT     Health Care       79.20   39.60     15.573"
      ]
     },
     "execution_count": 230,
     "metadata": {},
     "output_type": "execute_result"
    }
   ],
   "source": [
    "copy = sp500.copy()\n",
    "#insert sp500.Price * 2 as the second column in the dataframe\n",
    "copy.insert(1, 'TwicePrice', sp500.Price * 2)\n",
    "copy[0:2]"
   ]
  },
  {
   "cell_type": "code",
   "execution_count": 234,
   "id": "a9666eb0",
   "metadata": {},
   "outputs": [
    {
     "data": {
      "text/plain": [
       "<bound method NDFrame.copy of Symbol\n",
       "MMM     141.14\n",
       "ABT      39.60\n",
       "ABBV     53.95\n",
       "Name: Price, dtype: float64>"
      ]
     },
     "execution_count": 234,
     "metadata": {},
     "output_type": "execute_result"
    }
   ],
   "source": [
    "# extract the first four rows and just the Price column\n",
    "rcopy = sp500[0:3]['Price'].copy\n",
    "rcopy"
   ]
  },
  {
   "cell_type": "code",
   "execution_count": 5,
   "id": "15088bd0",
   "metadata": {},
   "outputs": [
    {
     "data": {
      "text/html": [
       "<div>\n",
       "<style scoped>\n",
       "    .dataframe tbody tr th:only-of-type {\n",
       "        vertical-align: middle;\n",
       "    }\n",
       "\n",
       "    .dataframe tbody tr th {\n",
       "        vertical-align: top;\n",
       "    }\n",
       "\n",
       "    .dataframe thead th {\n",
       "        text-align: right;\n",
       "    }\n",
       "</style>\n",
       "<table border=\"1\" class=\"dataframe\">\n",
       "  <thead>\n",
       "    <tr style=\"text-align: right;\">\n",
       "      <th></th>\n",
       "      <th>A</th>\n",
       "      <th>B</th>\n",
       "      <th>C</th>\n",
       "      <th>D</th>\n",
       "    </tr>\n",
       "  </thead>\n",
       "  <tbody>\n",
       "    <tr>\n",
       "      <th>0</th>\n",
       "      <td>0.469112</td>\n",
       "      <td>-0.282863</td>\n",
       "      <td>-1.509059</td>\n",
       "      <td>-1.135632</td>\n",
       "    </tr>\n",
       "    <tr>\n",
       "      <th>1</th>\n",
       "      <td>1.212112</td>\n",
       "      <td>-0.173215</td>\n",
       "      <td>0.119209</td>\n",
       "      <td>-1.044236</td>\n",
       "    </tr>\n",
       "    <tr>\n",
       "      <th>2</th>\n",
       "      <td>-0.861849</td>\n",
       "      <td>-2.104569</td>\n",
       "      <td>-0.494929</td>\n",
       "      <td>1.071804</td>\n",
       "    </tr>\n",
       "    <tr>\n",
       "      <th>3</th>\n",
       "      <td>0.721555</td>\n",
       "      <td>-0.706771</td>\n",
       "      <td>-1.039575</td>\n",
       "      <td>0.271860</td>\n",
       "    </tr>\n",
       "    <tr>\n",
       "      <th>4</th>\n",
       "      <td>-0.424972</td>\n",
       "      <td>0.567020</td>\n",
       "      <td>0.276232</td>\n",
       "      <td>-1.087401</td>\n",
       "    </tr>\n",
       "  </tbody>\n",
       "</table>\n",
       "</div>"
      ],
      "text/plain": [
       "          A         B         C         D\n",
       "0  0.469112 -0.282863 -1.509059 -1.135632\n",
       "1  1.212112 -0.173215  0.119209 -1.044236\n",
       "2 -0.861849 -2.104569 -0.494929  1.071804\n",
       "3  0.721555 -0.706771 -1.039575  0.271860\n",
       "4 -0.424972  0.567020  0.276232 -1.087401"
      ]
     },
     "execution_count": 5,
     "metadata": {},
     "output_type": "execute_result"
    }
   ],
   "source": [
    "import numpy as np\n",
    "import pandas as pd\n",
    "np.random.seed(123456)\n",
    "df = pd.DataFrame(np.random.randn(5,4), columns=['A','B','C','D'])\n",
    "df"
   ]
  },
  {
   "cell_type": "code",
   "execution_count": 6,
   "id": "646e65e2",
   "metadata": {},
   "outputs": [
    {
     "data": {
      "text/html": [
       "<div>\n",
       "<style scoped>\n",
       "    .dataframe tbody tr th:only-of-type {\n",
       "        vertical-align: middle;\n",
       "    }\n",
       "\n",
       "    .dataframe tbody tr th {\n",
       "        vertical-align: top;\n",
       "    }\n",
       "\n",
       "    .dataframe thead th {\n",
       "        text-align: right;\n",
       "    }\n",
       "</style>\n",
       "<table border=\"1\" class=\"dataframe\">\n",
       "  <thead>\n",
       "    <tr style=\"text-align: right;\">\n",
       "      <th></th>\n",
       "      <th>A</th>\n",
       "      <th>B</th>\n",
       "      <th>C</th>\n",
       "      <th>D</th>\n",
       "    </tr>\n",
       "  </thead>\n",
       "  <tbody>\n",
       "    <tr>\n",
       "      <th>0</th>\n",
       "      <td>0.938225</td>\n",
       "      <td>-0.565727</td>\n",
       "      <td>-3.018117</td>\n",
       "      <td>-2.271265</td>\n",
       "    </tr>\n",
       "    <tr>\n",
       "      <th>1</th>\n",
       "      <td>2.424224</td>\n",
       "      <td>-0.346429</td>\n",
       "      <td>0.238417</td>\n",
       "      <td>-2.088472</td>\n",
       "    </tr>\n",
       "    <tr>\n",
       "      <th>2</th>\n",
       "      <td>-1.723698</td>\n",
       "      <td>-4.209138</td>\n",
       "      <td>-0.989859</td>\n",
       "      <td>2.143608</td>\n",
       "    </tr>\n",
       "    <tr>\n",
       "      <th>3</th>\n",
       "      <td>1.443110</td>\n",
       "      <td>-1.413542</td>\n",
       "      <td>-2.079150</td>\n",
       "      <td>0.543720</td>\n",
       "    </tr>\n",
       "    <tr>\n",
       "      <th>4</th>\n",
       "      <td>-0.849945</td>\n",
       "      <td>1.134041</td>\n",
       "      <td>0.552464</td>\n",
       "      <td>-2.174801</td>\n",
       "    </tr>\n",
       "  </tbody>\n",
       "</table>\n",
       "</div>"
      ],
      "text/plain": [
       "          A         B         C         D\n",
       "0  0.938225 -0.565727 -3.018117 -2.271265\n",
       "1  2.424224 -0.346429  0.238417 -2.088472\n",
       "2 -1.723698 -4.209138 -0.989859  2.143608\n",
       "3  1.443110 -1.413542 -2.079150  0.543720\n",
       "4 -0.849945  1.134041  0.552464 -2.174801"
      ]
     },
     "execution_count": 6,
     "metadata": {},
     "output_type": "execute_result"
    }
   ],
   "source": [
    "df * 2"
   ]
  },
  {
   "cell_type": "code",
   "execution_count": 7,
   "id": "44b4a72d",
   "metadata": {},
   "outputs": [
    {
     "data": {
      "text/html": [
       "<div>\n",
       "<style scoped>\n",
       "    .dataframe tbody tr th:only-of-type {\n",
       "        vertical-align: middle;\n",
       "    }\n",
       "\n",
       "    .dataframe tbody tr th {\n",
       "        vertical-align: top;\n",
       "    }\n",
       "\n",
       "    .dataframe thead th {\n",
       "        text-align: right;\n",
       "    }\n",
       "</style>\n",
       "<table border=\"1\" class=\"dataframe\">\n",
       "  <thead>\n",
       "    <tr style=\"text-align: right;\">\n",
       "      <th></th>\n",
       "      <th>A</th>\n",
       "      <th>B</th>\n",
       "      <th>C</th>\n",
       "      <th>D</th>\n",
       "    </tr>\n",
       "  </thead>\n",
       "  <tbody>\n",
       "    <tr>\n",
       "      <th>0</th>\n",
       "      <td>0.000000</td>\n",
       "      <td>0.000000</td>\n",
       "      <td>0.000000</td>\n",
       "      <td>0.000000</td>\n",
       "    </tr>\n",
       "    <tr>\n",
       "      <th>1</th>\n",
       "      <td>0.743000</td>\n",
       "      <td>0.109649</td>\n",
       "      <td>1.628267</td>\n",
       "      <td>0.091396</td>\n",
       "    </tr>\n",
       "    <tr>\n",
       "      <th>2</th>\n",
       "      <td>-1.330961</td>\n",
       "      <td>-1.821706</td>\n",
       "      <td>1.014129</td>\n",
       "      <td>2.207436</td>\n",
       "    </tr>\n",
       "    <tr>\n",
       "      <th>3</th>\n",
       "      <td>0.252443</td>\n",
       "      <td>-0.423908</td>\n",
       "      <td>0.469484</td>\n",
       "      <td>1.407492</td>\n",
       "    </tr>\n",
       "    <tr>\n",
       "      <th>4</th>\n",
       "      <td>-0.894085</td>\n",
       "      <td>0.849884</td>\n",
       "      <td>1.785291</td>\n",
       "      <td>0.048232</td>\n",
       "    </tr>\n",
       "  </tbody>\n",
       "</table>\n",
       "</div>"
      ],
      "text/plain": [
       "          A         B         C         D\n",
       "0  0.000000  0.000000  0.000000  0.000000\n",
       "1  0.743000  0.109649  1.628267  0.091396\n",
       "2 -1.330961 -1.821706  1.014129  2.207436\n",
       "3  0.252443 -0.423908  0.469484  1.407492\n",
       "4 -0.894085  0.849884  1.785291  0.048232"
      ]
     },
     "execution_count": 7,
     "metadata": {},
     "output_type": "execute_result"
    }
   ],
   "source": [
    "df - df.iloc[0]"
   ]
  },
  {
   "cell_type": "code",
   "execution_count": 14,
   "id": "877099e2",
   "metadata": {},
   "outputs": [
    {
     "data": {
      "text/html": [
       "<div>\n",
       "<style scoped>\n",
       "    .dataframe tbody tr th:only-of-type {\n",
       "        vertical-align: middle;\n",
       "    }\n",
       "\n",
       "    .dataframe tbody tr th {\n",
       "        vertical-align: top;\n",
       "    }\n",
       "\n",
       "    .dataframe thead th {\n",
       "        text-align: right;\n",
       "    }\n",
       "</style>\n",
       "<table border=\"1\" class=\"dataframe\">\n",
       "  <thead>\n",
       "    <tr style=\"text-align: right;\">\n",
       "      <th></th>\n",
       "      <th>A</th>\n",
       "      <th>B</th>\n",
       "      <th>C</th>\n",
       "      <th>D</th>\n",
       "    </tr>\n",
       "  </thead>\n",
       "  <tbody>\n",
       "    <tr>\n",
       "      <th>0</th>\n",
       "      <td>0.469112</td>\n",
       "      <td>-0.282863</td>\n",
       "      <td>-1.509059</td>\n",
       "      <td>-1.135632</td>\n",
       "    </tr>\n",
       "    <tr>\n",
       "      <th>1</th>\n",
       "      <td>1.212112</td>\n",
       "      <td>-0.173215</td>\n",
       "      <td>0.119209</td>\n",
       "      <td>-1.044236</td>\n",
       "    </tr>\n",
       "    <tr>\n",
       "      <th>2</th>\n",
       "      <td>-0.861849</td>\n",
       "      <td>-2.104569</td>\n",
       "      <td>-0.494929</td>\n",
       "      <td>1.071804</td>\n",
       "    </tr>\n",
       "    <tr>\n",
       "      <th>3</th>\n",
       "      <td>0.721555</td>\n",
       "      <td>-0.706771</td>\n",
       "      <td>-1.039575</td>\n",
       "      <td>0.271860</td>\n",
       "    </tr>\n",
       "    <tr>\n",
       "      <th>4</th>\n",
       "      <td>-0.424972</td>\n",
       "      <td>0.567020</td>\n",
       "      <td>0.276232</td>\n",
       "      <td>-1.087401</td>\n",
       "    </tr>\n",
       "  </tbody>\n",
       "</table>\n",
       "</div>"
      ],
      "text/plain": [
       "          A         B         C         D\n",
       "0  0.469112 -0.282863 -1.509059 -1.135632\n",
       "1  1.212112 -0.173215  0.119209 -1.044236\n",
       "2 -0.861849 -2.104569 -0.494929  1.071804\n",
       "3  0.721555 -0.706771 -1.039575  0.271860\n",
       "4 -0.424972  0.567020  0.276232 -1.087401"
      ]
     },
     "execution_count": 14,
     "metadata": {},
     "output_type": "execute_result"
    }
   ],
   "source": [
    "np.random.seed(123456)\n",
    "df = pd.DataFrame(np.random.randn(5,4), columns=['A','B','C','D'])\n",
    "df\n"
   ]
  },
  {
   "cell_type": "code",
   "execution_count": 15,
   "id": "c816d2c1",
   "metadata": {},
   "outputs": [
    {
     "data": {
      "text/html": [
       "<div>\n",
       "<style scoped>\n",
       "    .dataframe tbody tr th:only-of-type {\n",
       "        vertical-align: middle;\n",
       "    }\n",
       "\n",
       "    .dataframe tbody tr th {\n",
       "        vertical-align: top;\n",
       "    }\n",
       "\n",
       "    .dataframe thead th {\n",
       "        text-align: right;\n",
       "    }\n",
       "</style>\n",
       "<table border=\"1\" class=\"dataframe\">\n",
       "  <thead>\n",
       "    <tr style=\"text-align: right;\">\n",
       "      <th></th>\n",
       "      <th>B</th>\n",
       "      <th>C</th>\n",
       "    </tr>\n",
       "  </thead>\n",
       "  <tbody>\n",
       "    <tr>\n",
       "      <th>1</th>\n",
       "      <td>-0.173215</td>\n",
       "      <td>0.119209</td>\n",
       "    </tr>\n",
       "    <tr>\n",
       "      <th>2</th>\n",
       "      <td>-2.104569</td>\n",
       "      <td>-0.494929</td>\n",
       "    </tr>\n",
       "    <tr>\n",
       "      <th>3</th>\n",
       "      <td>-0.706771</td>\n",
       "      <td>-1.039575</td>\n",
       "    </tr>\n",
       "  </tbody>\n",
       "</table>\n",
       "</div>"
      ],
      "text/plain": [
       "          B         C\n",
       "1 -0.173215  0.119209\n",
       "2 -2.104569 -0.494929\n",
       "3 -0.706771 -1.039575"
      ]
     },
     "execution_count": 15,
     "metadata": {},
     "output_type": "execute_result"
    }
   ],
   "source": [
    "\n",
    "subframe = df[1:4][['B','C']]\n",
    "subframe"
   ]
  },
  {
   "cell_type": "code",
   "execution_count": 16,
   "id": "de8375a6",
   "metadata": {},
   "outputs": [
    {
     "data": {
      "text/html": [
       "<div>\n",
       "<style scoped>\n",
       "    .dataframe tbody tr th:only-of-type {\n",
       "        vertical-align: middle;\n",
       "    }\n",
       "\n",
       "    .dataframe tbody tr th {\n",
       "        vertical-align: top;\n",
       "    }\n",
       "\n",
       "    .dataframe thead th {\n",
       "        text-align: right;\n",
       "    }\n",
       "</style>\n",
       "<table border=\"1\" class=\"dataframe\">\n",
       "  <thead>\n",
       "    <tr style=\"text-align: right;\">\n",
       "      <th></th>\n",
       "      <th>A</th>\n",
       "      <th>B</th>\n",
       "      <th>C</th>\n",
       "      <th>D</th>\n",
       "    </tr>\n",
       "  </thead>\n",
       "  <tbody>\n",
       "    <tr>\n",
       "      <th>0</th>\n",
       "      <td>NaN</td>\n",
       "      <td>NaN</td>\n",
       "      <td>NaN</td>\n",
       "      <td>NaN</td>\n",
       "    </tr>\n",
       "    <tr>\n",
       "      <th>1</th>\n",
       "      <td>NaN</td>\n",
       "      <td>0.0</td>\n",
       "      <td>0.0</td>\n",
       "      <td>NaN</td>\n",
       "    </tr>\n",
       "    <tr>\n",
       "      <th>2</th>\n",
       "      <td>NaN</td>\n",
       "      <td>0.0</td>\n",
       "      <td>0.0</td>\n",
       "      <td>NaN</td>\n",
       "    </tr>\n",
       "    <tr>\n",
       "      <th>3</th>\n",
       "      <td>NaN</td>\n",
       "      <td>0.0</td>\n",
       "      <td>0.0</td>\n",
       "      <td>NaN</td>\n",
       "    </tr>\n",
       "    <tr>\n",
       "      <th>4</th>\n",
       "      <td>NaN</td>\n",
       "      <td>NaN</td>\n",
       "      <td>NaN</td>\n",
       "      <td>NaN</td>\n",
       "    </tr>\n",
       "  </tbody>\n",
       "</table>\n",
       "</div>"
      ],
      "text/plain": [
       "    A    B    C   D\n",
       "0 NaN  NaN  NaN NaN\n",
       "1 NaN  0.0  0.0 NaN\n",
       "2 NaN  0.0  0.0 NaN\n",
       "3 NaN  0.0  0.0 NaN\n",
       "4 NaN  NaN  NaN NaN"
      ]
     },
     "execution_count": 16,
     "metadata": {},
     "output_type": "execute_result"
    }
   ],
   "source": [
    "df - subframe"
   ]
  },
  {
   "cell_type": "code",
   "execution_count": 21,
   "id": "4443a18f",
   "metadata": {},
   "outputs": [
    {
     "data": {
      "text/plain": [
       "0    0.469112\n",
       "1    1.212112\n",
       "2   -0.861849\n",
       "3    0.721555\n",
       "4   -0.424972\n",
       "Name: A, dtype: float64"
      ]
     },
     "execution_count": 21,
     "metadata": {},
     "output_type": "execute_result"
    }
   ],
   "source": [
    "a_col = df['A']\n",
    "a_col"
   ]
  },
  {
   "cell_type": "code",
   "execution_count": 22,
   "id": "aa7e5f64",
   "metadata": {},
   "outputs": [
    {
     "data": {
      "text/html": [
       "<div>\n",
       "<style scoped>\n",
       "    .dataframe tbody tr th:only-of-type {\n",
       "        vertical-align: middle;\n",
       "    }\n",
       "\n",
       "    .dataframe tbody tr th {\n",
       "        vertical-align: top;\n",
       "    }\n",
       "\n",
       "    .dataframe thead th {\n",
       "        text-align: right;\n",
       "    }\n",
       "</style>\n",
       "<table border=\"1\" class=\"dataframe\">\n",
       "  <thead>\n",
       "    <tr style=\"text-align: right;\">\n",
       "      <th></th>\n",
       "      <th>A</th>\n",
       "      <th>B</th>\n",
       "      <th>C</th>\n",
       "      <th>D</th>\n",
       "    </tr>\n",
       "  </thead>\n",
       "  <tbody>\n",
       "    <tr>\n",
       "      <th>0</th>\n",
       "      <td>0.0</td>\n",
       "      <td>-0.751976</td>\n",
       "      <td>-1.978171</td>\n",
       "      <td>-1.604745</td>\n",
       "    </tr>\n",
       "    <tr>\n",
       "      <th>1</th>\n",
       "      <td>0.0</td>\n",
       "      <td>-1.385327</td>\n",
       "      <td>-1.092903</td>\n",
       "      <td>-2.256348</td>\n",
       "    </tr>\n",
       "    <tr>\n",
       "      <th>2</th>\n",
       "      <td>0.0</td>\n",
       "      <td>-1.242720</td>\n",
       "      <td>0.366920</td>\n",
       "      <td>1.933653</td>\n",
       "    </tr>\n",
       "    <tr>\n",
       "      <th>3</th>\n",
       "      <td>0.0</td>\n",
       "      <td>-1.428326</td>\n",
       "      <td>-1.761130</td>\n",
       "      <td>-0.449695</td>\n",
       "    </tr>\n",
       "    <tr>\n",
       "      <th>4</th>\n",
       "      <td>0.0</td>\n",
       "      <td>0.991993</td>\n",
       "      <td>0.701204</td>\n",
       "      <td>-0.662428</td>\n",
       "    </tr>\n",
       "  </tbody>\n",
       "</table>\n",
       "</div>"
      ],
      "text/plain": [
       "     A         B         C         D\n",
       "0  0.0 -0.751976 -1.978171 -1.604745\n",
       "1  0.0 -1.385327 -1.092903 -2.256348\n",
       "2  0.0 -1.242720  0.366920  1.933653\n",
       "3  0.0 -1.428326 -1.761130 -0.449695\n",
       "4  0.0  0.991993  0.701204 -0.662428"
      ]
     },
     "execution_count": 22,
     "metadata": {},
     "output_type": "execute_result"
    }
   ],
   "source": [
    "df.sub(a_col, axis=0)"
   ]
  },
  {
   "cell_type": "code",
   "execution_count": 28,
   "id": "acef2a29",
   "metadata": {},
   "outputs": [
    {
     "data": {
      "text/plain": [
       "a    1.624345\n",
       "b   -0.611756\n",
       "c   -0.528172\n",
       "d   -1.072969\n",
       "e    0.865408\n",
       "dtype: float64"
      ]
     },
     "execution_count": 28,
     "metadata": {},
     "output_type": "execute_result"
    }
   ],
   "source": [
    " np.random.seed(1)\n",
    "s = pd.Series(np.random.randn(5), index = ['a', 'b', 'c', 'd', 'e'])\n",
    "s"
   ]
  },
  {
   "cell_type": "code",
   "execution_count": 35,
   "id": "e96056a4",
   "metadata": {},
   "outputs": [
    {
     "name": "stdout",
     "output_type": "stream",
     "text": [
      "a    0.000000\n",
      "c   -0.528172\n",
      "e    0.865408\n",
      "g         NaN\n",
      "dtype: float64\n",
      "0.0\n"
     ]
    }
   ],
   "source": [
    "s2 = s.reindex(['a','c','e','g'])\n",
    "s2['a'] = 0\n",
    "print(s2)\n",
    "print(s2['a'])"
   ]
  },
  {
   "cell_type": "code",
   "execution_count": 42,
   "id": "ba2b105c",
   "metadata": {},
   "outputs": [
    {
     "data": {
      "text/plain": [
       "0   NaN\n",
       "1   NaN\n",
       "2   NaN\n",
       "0   NaN\n",
       "1   NaN\n",
       "2   NaN\n",
       "dtype: float64"
      ]
     },
     "execution_count": 42,
     "metadata": {},
     "output_type": "execute_result"
    }
   ],
   "source": [
    "s1 = pd.Series([0,1,2], index = [0,1,2])\n",
    "s2 = pd.Series([3,4,5], index = ['0','1','2'])\n",
    "s1 + s2"
   ]
  },
  {
   "cell_type": "code",
   "execution_count": 44,
   "id": "1e8346f3",
   "metadata": {},
   "outputs": [
    {
     "data": {
      "text/plain": [
       "0    3\n",
       "1    5\n",
       "2    7\n",
       "dtype: int64"
      ]
     },
     "execution_count": 44,
     "metadata": {},
     "output_type": "execute_result"
    }
   ],
   "source": [
    "s2.index = s2.index.values.astype(int)\n",
    "s1 + s2"
   ]
  },
  {
   "cell_type": "code",
   "execution_count": 46,
   "id": "14b73d8d",
   "metadata": {},
   "outputs": [
    {
     "data": {
      "text/plain": [
       "a    1.624345\n",
       "b   -0.611756\n",
       "c   -0.528172\n",
       "d   -1.072969\n",
       "e    0.865408\n",
       "dtype: float64"
      ]
     },
     "execution_count": 46,
     "metadata": {},
     "output_type": "execute_result"
    }
   ],
   "source": [
    "s2 = s.copy()\n",
    "s2\n"
   ]
  },
  {
   "cell_type": "code",
   "execution_count": 47,
   "id": "986f01e7",
   "metadata": {},
   "outputs": [
    {
     "data": {
      "text/plain": [
       "a    1.624345\n",
       "b   -0.611756\n",
       "c   -0.528172\n",
       "d   -1.072969\n",
       "e    0.865408\n",
       "dtype: float64"
      ]
     },
     "execution_count": 47,
     "metadata": {},
     "output_type": "execute_result"
    }
   ],
   "source": [
    "s2.reindex(['a','f'], fill_value=0)\n",
    "s2"
   ]
  },
  {
   "cell_type": "code",
   "execution_count": 48,
   "id": "74a82380",
   "metadata": {},
   "outputs": [
    {
     "data": {
      "text/plain": [
       "0      red\n",
       "3    green\n",
       "5     blue\n",
       "dtype: object"
      ]
     },
     "execution_count": 48,
     "metadata": {},
     "output_type": "execute_result"
    }
   ],
   "source": [
    "s3= pd.Series(['red', 'green', 'blue'], index=[0,3,5])\n",
    "s3"
   ]
  },
  {
   "cell_type": "code",
   "execution_count": 49,
   "id": "b401b481",
   "metadata": {},
   "outputs": [
    {
     "data": {
      "text/plain": [
       "0      red\n",
       "1      red\n",
       "2      red\n",
       "3    green\n",
       "4    green\n",
       "5     blue\n",
       "6     blue\n",
       "dtype: object"
      ]
     },
     "execution_count": 49,
     "metadata": {},
     "output_type": "execute_result"
    }
   ],
   "source": [
    "s3.reindex(np.arange(0,7), method='ffill')"
   ]
  },
  {
   "cell_type": "code",
   "execution_count": 3,
   "id": "85c0c087",
   "metadata": {},
   "outputs": [],
   "source": []
  },
  {
   "cell_type": "code",
   "execution_count": null,
   "id": "be9d2229",
   "metadata": {},
   "outputs": [],
   "source": []
  }
 ],
 "metadata": {
  "kernelspec": {
   "display_name": "Python 3 (ipykernel)",
   "language": "python",
   "name": "python3"
  },
  "language_info": {
   "codemirror_mode": {
    "name": "ipython",
    "version": 3
   },
   "file_extension": ".py",
   "mimetype": "text/x-python",
   "name": "python",
   "nbconvert_exporter": "python",
   "pygments_lexer": "ipython3",
   "version": "3.9.13"
  }
 },
 "nbformat": 4,
 "nbformat_minor": 5
}
