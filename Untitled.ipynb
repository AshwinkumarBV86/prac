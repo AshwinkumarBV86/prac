{
 "cells": [
  {
   "cell_type": "code",
   "execution_count": 1,
   "id": "bfc9b865",
   "metadata": {},
   "outputs": [],
   "source": [
    "#strings\n"
   ]
  },
  {
   "cell_type": "code",
   "execution_count": 5,
   "id": "45687acf",
   "metadata": {},
   "outputs": [
    {
     "name": "stdout",
     "output_type": "stream",
     "text": [
      "Hello, World!\n",
      "13\n",
      "Replaced value\n",
      "14\n"
     ]
    }
   ],
   "source": [
    "message = \"Hello, World!\"\n",
    "print(message)\n",
    "print(len(message))\n",
    "message = \"Replaced value\"\n",
    "print(message)\n",
    "print(len(message))"
   ]
  },
  {
   "cell_type": "code",
   "execution_count": 12,
   "id": "7dbf78b1",
   "metadata": {},
   "outputs": [
    {
     "name": "stdout",
     "output_type": "stream",
     "text": [
      "Enter your first name: Ashwin\n",
      "Enter your last name: kumar\n",
      "Ashwin\n",
      "6\n",
      "kumar\n",
      "5\n",
      "Ashwin kumar\n",
      "Ashwin kumar\n",
      "11\n"
     ]
    },
    {
     "ename": "NameError",
     "evalue": "name 'strip' is not defined",
     "output_type": "error",
     "traceback": [
      "\u001b[0;31m---------------------------------------------------------------------------\u001b[0m",
      "\u001b[0;31mNameError\u001b[0m                                 Traceback (most recent call last)",
      "\u001b[0;32m/var/folders/q6/g7092d4n0qd1jz1vdnn2st200000gn/T/ipykernel_4658/615661453.py\u001b[0m in \u001b[0;36m<module>\u001b[0;34m\u001b[0m\n\u001b[1;32m      8\u001b[0m \u001b[0mprint\u001b[0m\u001b[0;34m(\u001b[0m\u001b[0mfirstname\u001b[0m \u001b[0;34m+\u001b[0m \u001b[0;34m\" \"\u001b[0m\u001b[0;34m+\u001b[0m\u001b[0mlastname\u001b[0m\u001b[0;34m)\u001b[0m\u001b[0;34m\u001b[0m\u001b[0;34m\u001b[0m\u001b[0m\n\u001b[1;32m      9\u001b[0m \u001b[0mprint\u001b[0m\u001b[0;34m(\u001b[0m\u001b[0mlen\u001b[0m\u001b[0;34m(\u001b[0m\u001b[0mfirstname\u001b[0m\u001b[0;34m)\u001b[0m \u001b[0;34m+\u001b[0m \u001b[0mlen\u001b[0m\u001b[0;34m(\u001b[0m\u001b[0mlastname\u001b[0m\u001b[0;34m)\u001b[0m\u001b[0;34m)\u001b[0m\u001b[0;34m\u001b[0m\u001b[0;34m\u001b[0m\u001b[0m\n\u001b[0;32m---> 10\u001b[0;31m \u001b[0mprint\u001b[0m\u001b[0;34m(\u001b[0m\u001b[0mlen\u001b[0m\u001b[0;34m(\u001b[0m\u001b[0mstrip\u001b[0m\u001b[0;34m(\u001b[0m\u001b[0mfirstname\u001b[0m\u001b[0;34m,\u001b[0m \u001b[0mlastname\u001b[0m\u001b[0;34m)\u001b[0m\u001b[0;34m)\u001b[0m\u001b[0;34m)\u001b[0m\u001b[0;34m\u001b[0m\u001b[0;34m\u001b[0m\u001b[0m\n\u001b[0m",
      "\u001b[0;31mNameError\u001b[0m: name 'strip' is not defined"
     ]
    }
   ],
   "source": [
    "firstname = input(\"Enter your first name: \")\n",
    "lastname = input(\"Enter your last name: \")\n",
    "print(firstname)\n",
    "print(len(firstname))\n",
    "print(lastname)\n",
    "print(len(lastname))\n",
    "print(firstname, lastname)\n",
    "print(firstname + \" \"+lastname)\n",
    "print(len(firstname) + len(lastname))\n",
    "\n"
   ]
  },
  {
   "cell_type": "code",
   "execution_count": 16,
   "id": "0caaefe2",
   "metadata": {},
   "outputs": [
    {
     "name": "stdout",
     "output_type": "stream",
     "text": [
      "Enter your first name: Ashwin\n",
      "Enter your last name: kumar\n",
      "Ashwin kumar\n",
      "12\n",
      "['Ashwin', 'kumar']\n"
     ]
    },
    {
     "data": {
      "text/plain": [
       "2"
      ]
     },
     "execution_count": 16,
     "metadata": {},
     "output_type": "execute_result"
    }
   ],
   "source": [
    "firstname = input(\"Enter your first name: \")\n",
    "lastname = input(\"Enter your last name: \")\n",
    "full_name = firstname + \" \"+lastname\n",
    "print(full_name)\n",
    "print(len(full_name))\n",
    "splittedname = full_name.split()\n",
    "print(splittedname)\n",
    "len(splittedname)"
   ]
  },
  {
   "cell_type": "code",
   "execution_count": 17,
   "id": "25836700",
   "metadata": {},
   "outputs": [
    {
     "name": "stdout",
     "output_type": "stream",
     "text": [
      "Enter your first name: ashwin kumar bangalore vyramudi\n",
      "ashwin kumar bangalore vyramudi\n",
      "31\n",
      "['ashwin', 'kumar', 'bangalore', 'vyramudi']\n",
      "4\n"
     ]
    }
   ],
   "source": [
    "firstname = input(\"Enter your first name: \")\n",
    "print(firstname)\n",
    "print(len(firstname))\n",
    "splitted = firstname.split()\n",
    "print(splitted)\n",
    "print(len(splitted))"
   ]
  },
  {
   "cell_type": "code",
   "execution_count": 27,
   "id": "aa105cc4",
   "metadata": {},
   "outputs": [
    {
     "name": "stdout",
     "output_type": "stream",
     "text": [
      "ASHWIN KUMAR BANGALORE VYRAMUDI\n",
      "R\n",
      "B\n",
      "A\n",
      "V\n",
      "Y\n"
     ]
    }
   ],
   "source": [
    "name = \"ASHWIN KUMAR BANGALORE VYRAMUDI\"\n",
    "print(name)\n",
    "char20 = name[20]\n",
    "print(char20)\n",
    "char13 = name[13]\n",
    "print(char13)\n",
    "char10 = name[10]\n",
    "print(char10)\n",
    "char23 = name[23]\n",
    "print(char23)\n",
    "char24 = name[24]\n",
    "print(char24)"
   ]
  },
  {
   "cell_type": "code",
   "execution_count": 29,
   "id": "808d3ce4",
   "metadata": {},
   "outputs": [],
   "source": [
    "fname_1 = \"john\" \n",
    "fname_2 = \"john\" \n",
    "fname_3 = \"John\""
   ]
  },
  {
   "cell_type": "code",
   "execution_count": 38,
   "id": "6bc72efc",
   "metadata": {},
   "outputs": [
    {
     "name": "stdout",
     "output_type": "stream",
     "text": [
      "john == john\n",
      "True\n",
      "False\n"
     ]
    }
   ],
   "source": [
    "print(fname_1, \"==\", fname_2)\n",
    "print(fname_1 == fname_2)\n",
    "print(fname_1 != fname_2)"
   ]
  },
  {
   "cell_type": "code",
   "execution_count": 37,
   "id": "705264f3",
   "metadata": {},
   "outputs": [
    {
     "name": "stdout",
     "output_type": "stream",
     "text": [
      "False\n",
      "True\n"
     ]
    }
   ],
   "source": [
    "print(fname_2 == fname_3)\n",
    "print(fname_2 != fname_3)"
   ]
  },
  {
   "cell_type": "code",
   "execution_count": 36,
   "id": "f44d503d",
   "metadata": {},
   "outputs": [
    {
     "name": "stdout",
     "output_type": "stream",
     "text": [
      "False\n",
      "True\n"
     ]
    }
   ],
   "source": [
    "print(fname_1 == fname_3)\n",
    "print(fname_1 != fname_3)"
   ]
  },
  {
   "cell_type": "code",
   "execution_count": 10,
   "id": "fdea9dbf",
   "metadata": {},
   "outputs": [
    {
     "name": "stdout",
     "output_type": "stream",
     "text": [
      "Besant Tech Tech Tech Tech \n",
      "Besant Tech Tech Tech Tech \n",
      "Besant Tech Tech Tech Tech \n",
      "Besant Tech Tech Tech Tech \n",
      "Besant Tech Tech Tech Tech \n"
     ]
    }
   ],
   "source": [
    "i = 0\n",
    "var = \"Tech \"\n",
    "while i < 5:\n",
    "    print(\"Besant \" + (var)*4)\n",
    "    i += 1\n",
    "\n",
    "   \n"
   ]
  },
  {
   "cell_type": "code",
   "execution_count": 21,
   "id": "54838c06",
   "metadata": {},
   "outputs": [
    {
     "name": "stdout",
     "output_type": "stream",
     "text": [
      "Besant Tech Tech Tech Tech \n",
      "Besant Tech Tech Tech Tech \n",
      "Besant Tech Tech Tech Tech \n",
      "Besant Tech Tech Tech Tech \n",
      "Besant Tech Tech Tech Tech \n"
     ]
    }
   ],
   "source": [
    "i = 1\n",
    "while i <= 5:\n",
    "    print(\"Besant\", end=\" \")\n",
    "    i += 1\n",
    "    j = 1\n",
    "    while j <= 4:\n",
    "        print(\"Tech\", end = \" \")\n",
    "        j = j + 1\n",
    "    print()\n",
    "    "
   ]
  },
  {
   "cell_type": "code",
   "execution_count": null,
   "id": "4421a16f",
   "metadata": {},
   "outputs": [],
   "source": []
  }
 ],
 "metadata": {
  "kernelspec": {
   "display_name": "Python 3 (ipykernel)",
   "language": "python",
   "name": "python3"
  },
  "language_info": {
   "codemirror_mode": {
    "name": "ipython",
    "version": 3
   },
   "file_extension": ".py",
   "mimetype": "text/x-python",
   "name": "python",
   "nbconvert_exporter": "python",
   "pygments_lexer": "ipython3",
   "version": "3.9.13"
  }
 },
 "nbformat": 4,
 "nbformat_minor": 5
}
