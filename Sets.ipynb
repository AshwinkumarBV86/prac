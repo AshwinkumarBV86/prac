{
 "cells": [
  {
   "cell_type": "code",
   "execution_count": 1,
   "id": "21be776e",
   "metadata": {},
   "outputs": [
    {
     "name": "stdout",
     "output_type": "stream",
     "text": [
      "{'Loans', 'Dividents', 'Savings', 'Checkings'}\n",
      "<class 'set'>\n"
     ]
    }
   ],
   "source": [
    "banking = {\"Checkings\", \"Savings\",\"Loans\",\"Dividents\"}\n",
    "print(banking)\n",
    "print(type(banking))"
   ]
  },
  {
   "cell_type": "code",
   "execution_count": 4,
   "id": "28a5c303",
   "metadata": {},
   "outputs": [
    {
     "name": "stdout",
     "output_type": "stream",
     "text": [
      "Mark\n",
      "Robert\n",
      "Nancy\n"
     ]
    }
   ],
   "source": [
    "namesset = {\"Robert\", \"Mark\", \"Nancy\"}\n",
    "for name in names:\n",
    "    print(name)"
   ]
  },
  {
   "cell_type": "code",
   "execution_count": 6,
   "id": "a4b8111f",
   "metadata": {},
   "outputs": [
    {
     "name": "stdout",
     "output_type": "stream",
     "text": [
      "{'Khushi', 'Mark', 'Sahil', 'Nancy', 'Robert'}\n",
      "<class 'set'>\n"
     ]
    }
   ],
   "source": [
    "namesset.add(\"Sahil\")\n",
    "namesset.add(\"Khushi\")\n",
    "print(namesset)\n",
    "print(type(namesset))"
   ]
  },
  {
   "cell_type": "code",
   "execution_count": 8,
   "id": "4efeeb07",
   "metadata": {},
   "outputs": [
    {
     "name": "stdout",
     "output_type": "stream",
     "text": [
      "set()\n",
      "{'Bonds', 'Insurance', 'Mutual Funds', 'Stocks'}\n"
     ]
    }
   ],
   "source": [
    "emptyset = set()\n",
    "print(emptyset)\n",
    "emptyset.add(\"Mutual Funds\")\n",
    "emptyset.add(\"Insurance\")\n",
    "emptyset.add(\"Stocks\")\n",
    "emptyset.add(\"Bonds\")\n",
    "print(emptyset)"
   ]
  },
  {
   "cell_type": "code",
   "execution_count": 11,
   "id": "439684c3",
   "metadata": {},
   "outputs": [],
   "source": [
    "emptyset.add(\"Mutual Funds\")"
   ]
  },
  {
   "cell_type": "code",
   "execution_count": 12,
   "id": "5e884783",
   "metadata": {},
   "outputs": [
    {
     "name": "stdout",
     "output_type": "stream",
     "text": [
      "{'Bonds', 'Insurance', 'Mutual Funds', 'Stocks'}\n"
     ]
    }
   ],
   "source": [
    "print(emptyset)"
   ]
  },
  {
   "cell_type": "code",
   "execution_count": 13,
   "id": "5a046414",
   "metadata": {},
   "outputs": [
    {
     "name": "stdout",
     "output_type": "stream",
     "text": [
      "['Trystan', 'Clarence', 'Nancy', 'Trystan', 'Clarence', 'Jenny', 'Trystan']\n",
      "<class 'list'>\n"
     ]
    }
   ],
   "source": [
    "names = [\"Trystan\", \"Clarence\", \"Nancy\", \"Trystan\", \"Clarence\", \"Jenny\", \"Trystan\"] \n",
    "print(names)\n",
    "print(type(names))"
   ]
  },
  {
   "cell_type": "code",
   "execution_count": 14,
   "id": "b4a16089",
   "metadata": {},
   "outputs": [
    {
     "name": "stdout",
     "output_type": "stream",
     "text": [
      "{'Jenny', 'Nancy', 'Clarence', 'Trystan'}\n",
      "<class 'set'>\n"
     ]
    }
   ],
   "source": [
    "names_set = set(names)\n",
    "print(names_set)\n",
    "print(type(names_set))"
   ]
  },
  {
   "cell_type": "code",
   "execution_count": 17,
   "id": "33afbdd3",
   "metadata": {},
   "outputs": [
    {
     "data": {
      "text/plain": [
       "{'Clarence', 'Jenny', 'Nancy', 'Trushal', 'Trystan'}"
      ]
     },
     "execution_count": 17,
     "metadata": {},
     "output_type": "execute_result"
    }
   ],
   "source": [
    "names_set.add(\"Trushal\")\n",
    "names_set"
   ]
  },
  {
   "cell_type": "markdown",
   "id": "6292d001",
   "metadata": {},
   "source": []
  },
  {
   "cell_type": "code",
   "execution_count": 19,
   "id": "89e2d451",
   "metadata": {},
   "outputs": [
    {
     "data": {
      "text/plain": [
       "{'Clarence', 'Jenny', 'Nancy', 'Trushal', 'Trystan'}"
      ]
     },
     "execution_count": 19,
     "metadata": {},
     "output_type": "execute_result"
    }
   ],
   "source": [
    "names_set"
   ]
  },
  {
   "cell_type": "code",
   "execution_count": 20,
   "id": "0ea1a6ab",
   "metadata": {},
   "outputs": [
    {
     "name": "stdout",
     "output_type": "stream",
     "text": [
      "{'Jenny', 'Clarence', 'Nancy', 'Trushal', 'Trystan'}\n"
     ]
    }
   ],
   "source": [
    "duplicate_set = {'Clarence', 'Jenny', 'Nancy', 'Trushal', 'Trystan', 'Clarence', 'Jenny', 'Nancy', 'Trushal', 'Trystan'}\n",
    "print(duplicate_set)"
   ]
  },
  {
   "cell_type": "code",
   "execution_count": 21,
   "id": "4ea14a94",
   "metadata": {},
   "outputs": [
    {
     "name": "stdout",
     "output_type": "stream",
     "text": [
      "True\n"
     ]
    }
   ],
   "source": [
    "print(\"Jenny\" in duplicate_set)"
   ]
  },
  {
   "cell_type": "code",
   "execution_count": 22,
   "id": "5fe73a21",
   "metadata": {},
   "outputs": [
    {
     "name": "stdout",
     "output_type": "stream",
     "text": [
      "True\n"
     ]
    }
   ],
   "source": [
    "print(\"Clarence\" in duplicate_set)"
   ]
  },
  {
   "cell_type": "code",
   "execution_count": 23,
   "id": "dbe4862f",
   "metadata": {},
   "outputs": [
    {
     "name": "stdout",
     "output_type": "stream",
     "text": [
      "False\n"
     ]
    }
   ],
   "source": [
    "print(\"Ashwin\" in duplicate_set)"
   ]
  },
  {
   "cell_type": "code",
   "execution_count": null,
   "id": "6f909198",
   "metadata": {},
   "outputs": [],
   "source": []
  }
 ],
 "metadata": {
  "kernelspec": {
   "display_name": "Python 3 (ipykernel)",
   "language": "python",
   "name": "python3"
  },
  "language_info": {
   "codemirror_mode": {
    "name": "ipython",
    "version": 3
   },
   "file_extension": ".py",
   "mimetype": "text/x-python",
   "name": "python",
   "nbconvert_exporter": "python",
   "pygments_lexer": "ipython3",
   "version": "3.9.13"
  }
 },
 "nbformat": 4,
 "nbformat_minor": 5
}
